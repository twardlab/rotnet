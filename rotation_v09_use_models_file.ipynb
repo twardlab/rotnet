{
 "cells": [
  {
   "cell_type": "markdown",
   "id": "3dd81cc7",
   "metadata": {},
   "source": [
    "# v01\n",
    "\n",
    "Here we look at appropriate parameterizations that can be computed quickly.  I'll start with just 3x3 kernels, and and my 3x3 blocks.\n",
    "\n",
    "\n",
    "There are only 3 unique distances.  So this is 3 parameters for scalars.  2 parameters each for vectors.  And 5 parameters for matrix.  This is 12 parameters.\n",
    "\n",
    "I will need to make sure this is batched appropriately so it can be computed quickly."
   ]
  },
  {
   "cell_type": "markdown",
   "id": "4fce353d",
   "metadata": {},
   "source": [
    "Actually because rotations commute in 2D, there are more degrees of freedom.\n",
    "\n",
    "3 for scalar\n",
    "\n",
    "4 each for distances\n",
    "\n",
    "3 for identity, and 2*4 for outer product.\n",
    "\n",
    "Total of 22 out of a total 36.  So this is half."
   ]
  },
  {
   "cell_type": "markdown",
   "id": "5eedbdcd",
   "metadata": {},
   "source": [
    "# v02\n",
    "In v02 I'm just getting rid of some debugging stuf from v01\n"
   ]
  },
  {
   "cell_type": "markdown",
   "id": "b1627c40",
   "metadata": {},
   "source": [
    "# v03\n",
    "\n",
    "In v03 I'm making my network deeper, to be about 250k like resnet"
   ]
  },
  {
   "cell_type": "markdown",
   "id": "0af36a7d",
   "metadata": {},
   "source": [
    "# v04\n",
    "In v04 I use batch norm. no cutout. use real resnet architecture"
   ]
  },
  {
   "cell_type": "markdown",
   "id": "aa8ce99f",
   "metadata": {},
   "source": [
    "# v05\n",
    "\n",
    "Add rotationally invariant norm and bias.\n",
    "\n",
    "I added a rotationally invariant nonlinearity too.\n",
    "\n",
    "I have added the rotationally invariant scale and bias to the bn layer.\n",
    "\n",
    "I did not make bias rotationally invariant in the conv layer, but I never use this bias currently because it is always followed by batchnomrm.\n",
    "\n",
    "TODO: a layer that goes from scalar fields to vector fields explicitly.\n",
    "\n",
    "\n",
    "\n",
    "Note i set normalize to mean 0.5, std 0.5 like medmnist did.\n",
    "\n",
    "note they use default 100 epochs, and reduce stepsize by 0.1 at .50 and .75.  They use adam and an initial learning rate of 1e-3.\n",
    "\n",
    "\n",
    "For comparison, they used AUC from SKL.  And the averaged it over each label (i.e. one versus all).\n",
    "\n",
    "For accuracy, they use skl accuracy_score, not balanced.\n",
    "\n",
    "They also use batch size of 128.\n",
    "\n",
    "Also, they use the \"best model\" on the validation set for testing.  This is the one with the best auc.\n",
    "\n",
    "Another thing, in the medmnist paper they use 4 scales, with 2 repeats per scale."
   ]
  },
  {
   "cell_type": "markdown",
   "id": "fc596d70",
   "metadata": {},
   "source": [
    "I think I will likely need more epochs of training."
   ]
  },
  {
   "cell_type": "markdown",
   "id": "d22e1278",
   "metadata": {},
   "source": [
    "# v06\n",
    "\n",
    "Here I will use four layers with two copies in resnet\n",
    "\n",
    "In v05 and v06 I fixed my sigmoid rot"
   ]
  },
  {
   "cell_type": "markdown",
   "id": "3b2c6c9e",
   "metadata": {},
   "source": [
    "# v07\n"
   ]
  },
  {
   "cell_type": "markdown",
   "id": "f4ef400f",
   "metadata": {},
   "source": [
    "# v08\n",
    "\n",
    "figured out why it was not rotationally invariant.\n",
    "\n",
    "Need to do averaging when size is even, and skipping when size is odd."
   ]
  },
  {
   "cell_type": "code",
   "execution_count": 1,
   "id": "ab75492b",
   "metadata": {},
   "outputs": [],
   "source": [
    "import torch, torchvision\n",
    "from torch.utils.data import DataLoader\n",
    "\n",
    "import numpy as np\n",
    "\n",
    "import matplotlib.pyplot as plt\n",
    "%matplotlib widget\n",
    "# use widget in vscode\n",
    "\n",
    "plt.set_loglevel('critical')\n",
    "\n",
    "from sklearn.metrics import roc_auc_score\n",
    "\n",
    "from importlib import reload\n",
    "import models"
   ]
  },
  {
   "cell_type": "code",
   "execution_count": 2,
   "id": "9913ef49",
   "metadata": {},
   "outputs": [
    {
     "name": "stdout",
     "output_type": "stream",
     "text": [
      "torch.Size([3, 12, 8, 7])\n"
     ]
    },
    {
     "data": {
      "text/plain": [
       "tensor([[[[-1.5053, -1.6714, -1.5220,  ..., -1.5035, -1.5862, -1.4509],\n",
       "          [-1.6202, -1.8018, -1.9620,  ..., -1.6833, -1.4717, -1.7245],\n",
       "          [-1.7488, -2.2513, -2.0259,  ..., -1.7701, -1.8518, -1.4579],\n",
       "          ...,\n",
       "          [-1.9049, -2.0212, -1.8092,  ..., -1.4277, -1.8445, -1.7607],\n",
       "          [-1.6923, -1.8483, -1.8355,  ..., -1.9678, -1.7696, -1.5750],\n",
       "          [-1.4440, -1.7143, -1.5610,  ..., -1.4023, -1.6562, -1.4020]],\n",
       "\n",
       "         [[-1.0010, -0.7362, -0.6410,  ..., -0.7590, -0.9013, -0.9735],\n",
       "          [-1.2317, -0.9924, -0.5522,  ..., -1.1194, -1.1228, -0.7073],\n",
       "          [-1.4427, -0.6052, -0.8124,  ..., -0.5326, -1.1068, -1.0966],\n",
       "          ...,\n",
       "          [-1.3480, -1.3333, -0.7513,  ..., -0.9378, -0.8621, -0.7790],\n",
       "          [-1.2395, -1.0770, -1.1056,  ..., -0.7567, -1.1147, -0.8358],\n",
       "          [-1.2761, -1.1638, -1.1373,  ..., -0.9743, -0.8769, -0.7740]],\n",
       "\n",
       "         [[-1.1174, -0.9708, -1.2731,  ..., -1.3751, -0.7448, -1.4577],\n",
       "          [-0.9640, -1.4471, -1.1361,  ..., -1.3465, -1.3151, -1.2272],\n",
       "          [-1.0171, -1.3740, -1.2805,  ..., -1.1230, -1.3379, -1.2365],\n",
       "          ...,\n",
       "          [-1.3400, -1.3627, -0.9773,  ..., -1.1054, -0.9243, -1.3245],\n",
       "          [-1.1291, -1.3433, -1.2538,  ..., -1.3150, -1.2249, -1.1816],\n",
       "          [-1.5262, -1.4480, -1.6343,  ..., -1.7583, -1.4217, -1.5350]],\n",
       "\n",
       "         [[ 0.6002,  0.8822,  0.6693,  ...,  0.6781,  0.6698,  0.7517],\n",
       "          [ 0.8593,  0.8306,  0.7757,  ...,  0.7506,  0.6375,  0.7387],\n",
       "          [ 0.7727,  0.8523,  0.9374,  ...,  0.8574,  0.5644,  0.7530],\n",
       "          ...,\n",
       "          [ 0.8133,  0.8490,  0.8363,  ...,  0.7830,  0.5359,  0.7344],\n",
       "          [ 0.8329,  0.7426,  0.8248,  ...,  0.6898,  0.7865,  0.7231],\n",
       "          [ 0.6942,  0.8308,  0.7639,  ...,  0.8289,  0.6666,  0.7088]],\n",
       "\n",
       "         [[-1.6084, -1.2039, -1.0475,  ..., -1.1593, -0.9467, -1.0655],\n",
       "          [-1.4036, -1.3433, -0.9141,  ..., -0.8841, -0.8036, -0.1387],\n",
       "          [-1.4066, -0.7321, -0.7451,  ..., -0.7337, -0.9034, -0.5772],\n",
       "          ...,\n",
       "          [-1.1615, -0.8385, -0.7043,  ..., -0.7823, -0.7450, -0.3346],\n",
       "          [-1.0981, -0.7422, -0.7768,  ..., -0.5901, -0.5998, -0.3255],\n",
       "          [-0.7978, -0.4136, -0.5721,  ..., -0.6650, -0.5619, -0.4776]],\n",
       "\n",
       "         [[-0.4610,  0.0651,  0.3733,  ..., -0.2322,  0.2091,  0.1064],\n",
       "          [-0.6285, -0.3484,  0.4288,  ...,  0.2538, -0.5225, -0.0758],\n",
       "          [-0.8758, -0.2640,  0.0826,  ...,  0.0860, -0.4409,  0.1522],\n",
       "          ...,\n",
       "          [-0.6452, -0.0177, -0.1094,  ...,  0.3347, -0.5019, -0.0497],\n",
       "          [-0.7854, -0.2606, -0.3391,  ...,  0.0841, -0.1984, -0.0473],\n",
       "          [-0.8016, -0.3972, -0.7238,  ..., -0.5024, -0.7897, -0.5220]]],\n",
       "\n",
       "\n",
       "        [[[-1.4886, -1.7331, -1.5215,  ..., -1.5981, -1.6373, -1.3620],\n",
       "          [-1.7056, -1.7142, -1.7802,  ..., -1.8321, -1.9706, -1.6641],\n",
       "          [-1.6158, -1.9168, -1.6530,  ..., -1.7705, -1.8149, -1.5495],\n",
       "          ...,\n",
       "          [-1.6822, -1.8381, -1.8543,  ..., -1.7046, -1.7548, -1.5626],\n",
       "          [-1.8037, -1.7541, -1.7536,  ..., -1.9563, -1.9196, -1.8560],\n",
       "          [-1.4519, -1.7457, -1.6615,  ..., -1.8671, -1.8340, -1.4654]],\n",
       "\n",
       "         [[-1.0129, -0.8828, -0.9032,  ..., -0.7429, -1.0633, -0.9187],\n",
       "          [-1.5101, -0.9359, -0.6721,  ..., -1.0008, -1.3037, -0.6631],\n",
       "          [-1.3097, -1.1853, -1.1362,  ..., -0.9302, -0.7673, -0.7162],\n",
       "          ...,\n",
       "          [-1.1207, -0.8890, -1.1172,  ..., -0.6767, -1.0741, -0.7896],\n",
       "          [-1.3456, -1.0646, -1.1889,  ..., -0.6542, -1.1973, -0.7233],\n",
       "          [-1.3025, -1.1089, -1.1998,  ..., -1.1142, -1.1430, -0.8236]],\n",
       "\n",
       "         [[-1.1178, -0.8964, -1.1572,  ..., -1.0312, -1.1168, -1.2920],\n",
       "          [-1.3754, -1.3129, -1.3205,  ..., -1.5713, -1.1338, -1.6428],\n",
       "          [-1.0988, -1.6493, -1.4288,  ..., -1.0901, -1.4652, -1.1815],\n",
       "          ...,\n",
       "          [-0.8336, -1.1855, -1.1483,  ..., -1.4259, -1.4134, -1.8168],\n",
       "          [-0.9585, -1.4774, -1.1388,  ..., -1.4221, -1.1785, -1.5419],\n",
       "          [-1.4665, -1.7406, -1.5298,  ..., -1.7658, -1.5300, -1.4376]],\n",
       "\n",
       "         [[ 0.5943,  0.7992,  0.8256,  ...,  0.6581,  0.9450,  0.6553],\n",
       "          [ 0.8514,  0.7761,  0.5924,  ...,  0.8043,  0.7079,  0.8327],\n",
       "          [ 0.6896,  0.9588,  0.7523,  ...,  0.9213,  0.7585,  0.8684],\n",
       "          ...,\n",
       "          [ 0.7833,  0.7320,  0.4367,  ...,  0.4338,  0.6478,  0.9001],\n",
       "          [ 0.6718,  0.8343,  0.7287,  ...,  0.7804,  0.8387,  0.5901],\n",
       "          [ 0.7259,  0.8640,  0.4570,  ...,  0.7037,  0.6088,  0.9224]],\n",
       "\n",
       "         [[-1.3454, -1.0817, -1.0111,  ..., -1.2984, -1.3033, -0.9828],\n",
       "          [-1.6170, -0.7689, -0.6431,  ..., -1.0698, -0.9088, -0.5624],\n",
       "          [-1.2939, -1.1763, -0.7254,  ..., -0.6579, -0.5252, -0.1662],\n",
       "          ...,\n",
       "          [-1.1579, -0.5075, -0.8226,  ..., -1.0709, -1.3134, -0.5117],\n",
       "          [-1.2652, -1.0062, -0.6966,  ..., -1.1992, -1.0782, -0.6243],\n",
       "          [-0.8556, -0.5090, -0.4228,  ..., -0.3059, -0.1743, -0.2846]],\n",
       "\n",
       "         [[-0.2717,  0.2677,  0.0780,  ...,  0.1101,  0.2016,  0.3979],\n",
       "          [-0.7399, -0.0717, -0.3047,  ..., -0.2159,  0.1950,  0.0942],\n",
       "          [-0.5220, -0.2113,  0.0905,  ..., -0.5146, -0.1729,  0.1576],\n",
       "          ...,\n",
       "          [-0.5326, -0.3444,  0.1251,  ..., -0.3149, -0.2796, -0.0765],\n",
       "          [-0.6291, -0.0156,  0.0420,  ..., -0.2941, -0.0329,  0.2287],\n",
       "          [-0.8138, -0.4569, -0.6254,  ..., -0.9916, -0.5864, -0.0432]]],\n",
       "\n",
       "\n",
       "        [[[-1.5799, -1.8518, -1.7402,  ..., -1.6727, -1.5761, -1.6349],\n",
       "          [-1.7573, -1.9998, -2.1791,  ..., -1.9659, -1.8885, -1.7973],\n",
       "          [-1.6306, -1.9889, -1.8152,  ..., -2.0432, -1.8574, -1.7812],\n",
       "          ...,\n",
       "          [-1.6458, -1.8448, -1.5954,  ..., -1.9332, -1.9471, -1.8506],\n",
       "          [-1.7969, -1.8464, -2.1072,  ..., -2.0117, -1.8520, -1.9791],\n",
       "          [-1.6062, -1.8103, -1.6462,  ..., -1.6061, -1.8678, -1.5457]],\n",
       "\n",
       "         [[-1.1366, -1.0660, -0.7102,  ..., -0.9170, -0.6565, -0.6697],\n",
       "          [-1.2818, -1.1417, -0.7022,  ..., -0.9208, -1.2174, -0.8614],\n",
       "          [-1.3837, -1.3291, -0.9269,  ..., -1.2596, -0.9967, -0.6486],\n",
       "          ...,\n",
       "          [-0.9841, -1.2218, -0.9515,  ..., -0.8998, -1.2116, -0.7364],\n",
       "          [-1.1624, -0.9837, -0.9481,  ..., -1.2666, -1.1736, -0.5040],\n",
       "          [-1.3411, -1.2807, -1.0754,  ..., -0.9885, -0.9578, -0.9190]],\n",
       "\n",
       "         [[-0.9978, -1.0513, -1.2374,  ..., -0.9781, -1.1231, -0.9855],\n",
       "          [-1.1820, -1.5307, -1.0443,  ..., -1.1423, -1.1349, -1.6288],\n",
       "          [-1.1454, -1.2954, -1.3419,  ..., -1.4298, -1.2603, -1.7529],\n",
       "          ...,\n",
       "          [-1.0424, -1.3665, -1.1029,  ..., -1.3698, -1.4303, -1.3582],\n",
       "          [-1.1632, -1.1419, -1.0510,  ..., -1.2014, -1.4623, -1.4612],\n",
       "          [-1.6190, -1.8169, -1.5041,  ..., -1.3709, -1.5883, -1.6401]],\n",
       "\n",
       "         [[ 0.6611,  1.0106,  0.7794,  ...,  0.9015,  0.6811,  0.7265],\n",
       "          [ 0.9341,  0.6802,  0.8252,  ...,  0.5916,  0.9322,  0.6619],\n",
       "          [ 0.7169,  0.8535,  0.8055,  ...,  0.8760,  0.6369,  0.9584],\n",
       "          ...,\n",
       "          [ 0.7456,  0.6028,  0.8524,  ...,  0.8862,  0.8852,  0.7024],\n",
       "          [ 0.7834,  0.9542,  0.6859,  ...,  0.6342,  0.6519,  0.9562],\n",
       "          [ 0.7966,  0.6368,  0.8848,  ...,  0.7177,  0.8986,  0.6656]],\n",
       "\n",
       "         [[-1.6279, -1.4146, -1.3898,  ..., -1.1735, -1.1489, -0.8726],\n",
       "          [-1.2050, -0.9446, -0.8231,  ..., -0.7700, -1.1345, -0.7125],\n",
       "          [-1.0239, -0.5226, -0.2026,  ..., -0.9377, -0.7316, -0.1977],\n",
       "          ...,\n",
       "          [-1.5916, -1.3222, -0.8780,  ..., -0.7734, -0.8167, -0.5260],\n",
       "          [-1.0902, -0.6921, -0.7448,  ..., -0.8719, -1.2436, -0.1901],\n",
       "          [-0.7675, -0.3477, -0.3477,  ..., -0.4902, -0.3486, -0.2579]],\n",
       "\n",
       "         [[-0.3005,  0.3083,  0.3164,  ...,  0.2822,  0.0598,  0.3683],\n",
       "          [-0.8197, -0.5402,  0.0554,  ..., -0.3057, -0.2012,  0.3376],\n",
       "          [-0.9556, -0.4079, -0.3545,  ..., -0.3505, -0.3553, -0.1795],\n",
       "          ...,\n",
       "          [-0.4198,  0.3141, -0.2151,  ..., -0.2929, -0.4411,  0.5390],\n",
       "          [-0.4250,  0.0285, -0.2966,  ..., -0.1527, -0.5738,  0.0869],\n",
       "          [-0.9023, -0.5977, -0.6778,  ..., -0.6317, -0.9049, -0.2518]]]],\n",
       "       grad_fn=<ConvolutionBackward0>)"
      ]
     },
     "execution_count": 2,
     "metadata": {},
     "output_type": "execute_result"
    }
   ],
   "source": [
    "reload(models)\n",
    "tv = models.ToVector()\n",
    "x = torch.rand(3,4,8,7)\n",
    "out = tv(x)\n",
    "print(out.shape)\n",
    "m = models.Conv2DRot3x3(12,6)\n",
    "m(tv(x))\n",
    "# this will print out the shape of c\n",
    "#c = models.Conv2DRot(x.shape[1]*3,6,1)\n",
    "#c(tv(x))"
   ]
  },
  {
   "cell_type": "code",
   "execution_count": 3,
   "id": "8afcb53e",
   "metadata": {},
   "outputs": [
    {
     "name": "stdout",
     "output_type": "stream",
     "text": [
      "torch.Size([3, 4, 8, 7])\n",
      "torch.Size([3, 12, 8, 7])\n",
      "418\n",
      "1806\n"
     ]
    }
   ],
   "source": [
    "reload(models)\n",
    "tv = models.ToVector()\n",
    "x = torch.rand(3,4,8,7)\n",
    "print(x.shape)\n",
    "x = tv(x)\n",
    "print(x.shape)\n",
    "ksize = 5\n",
    "m = models.Conv2DRot(x.shape[-3],6,ksize)\n",
    "m(x)\n",
    "\n",
    "\n",
    "print(models.count_parameters(m))\n",
    "print(models.count_parameters(torch.nn.Conv2d(12,6,ksize)))\n"
   ]
  },
  {
   "cell_type": "code",
   "execution_count": 4,
   "id": "c92f019a",
   "metadata": {},
   "outputs": [
    {
     "data": {
      "text/plain": [
       "4"
      ]
     },
     "execution_count": 4,
     "metadata": {},
     "output_type": "execute_result"
    }
   ],
   "source": [
    "x.ndim"
   ]
  },
  {
   "cell_type": "code",
   "execution_count": 5,
   "id": "2aab568e",
   "metadata": {},
   "outputs": [
    {
     "data": {
      "text/plain": [
       "418"
      ]
     },
     "execution_count": 5,
     "metadata": {},
     "output_type": "execute_result"
    }
   ],
   "source": [
    "count = 0\n",
    "for p in m.parameters():\n",
    "    count += p.numel()\n",
    "count"
   ]
  },
  {
   "cell_type": "code",
   "execution_count": 6,
   "id": "13f7705b",
   "metadata": {},
   "outputs": [],
   "source": [
    "def cutout(I,val=0.5):\n",
    "    rows = np.random.randint(0,I.shape[-2],(2,))    \n",
    "    rows.sort()\n",
    "    cols = np.random.randint(0,I.shape[-1],(2,))    \n",
    "    cols.sort()\n",
    "    I[...,rows[0]:rows[1],cols[0]:cols[1]] = val\n",
    "    return I"
   ]
  },
  {
   "cell_type": "code",
   "execution_count": 7,
   "id": "accb40e7",
   "metadata": {},
   "outputs": [],
   "source": [
    "normalize = torchvision.transforms.Normalize(mean=[0.485, 0.456, 0.406],\n",
    "                                     std=[0.229, 0.224, 0.225])\n"
   ]
  },
  {
   "cell_type": "code",
   "execution_count": 8,
   "id": "d3d612a7",
   "metadata": {},
   "outputs": [
    {
     "name": "stdout",
     "output_type": "stream",
     "text": [
      "Files already downloaded and verified\n"
     ]
    }
   ],
   "source": [
    "my_dataset = torchvision.datasets.CIFAR10(    \n",
    "    '/home/dtward/data',\n",
    "    train=True,\n",
    "    download=True,\n",
    "    transform=torchvision.transforms.Compose([torchvision.transforms.RandomHorizontalFlip(),\n",
    "                                              torchvision.transforms.RandomCrop(32,padding=4,padding_mode='edge'),\n",
    "                                              torchvision.transforms.ToTensor(),                                              \n",
    "                                             # torchvision.transforms.Lambda(cutout)\n",
    "                                              normalize,\n",
    "                                             ]\n",
    "                                            )\n",
    ")\n",
    "my_loader = DataLoader(my_dataset, batch_size=64, num_workers=8, shuffle=True)"
   ]
  },
  {
   "cell_type": "code",
   "execution_count": 9,
   "id": "9317ec0c",
   "metadata": {},
   "outputs": [
    {
     "name": "stdout",
     "output_type": "stream",
     "text": [
      "Files already downloaded and verified\n"
     ]
    }
   ],
   "source": [
    "my_dataset_test = torchvision.datasets.CIFAR10(    \n",
    "    '/home/dtward/data',\n",
    "    train=False,\n",
    "    download=True,\n",
    "    transform=torchvision.transforms.Compose([\n",
    "                                              torchvision.transforms.ToTensor(),\n",
    "                                              normalize,\n",
    "                                              ])\n",
    ")\n",
    "my_loader_test = DataLoader(my_dataset_test, batch_size=64, num_workers=8, shuffle=True)"
   ]
  },
  {
   "cell_type": "code",
   "execution_count": 10,
   "id": "9e6a29f6",
   "metadata": {},
   "outputs": [],
   "source": [
    "from medmnist import DermaMNIST"
   ]
  },
  {
   "cell_type": "code",
   "execution_count": 11,
   "id": "4d5f86f3",
   "metadata": {},
   "outputs": [],
   "source": [
    "normalize = torchvision.transforms.Normalize(mean=0.5,\n",
    "                                     std=0.5)\n",
    "# 0.5, 0.5 is used in medmnist code"
   ]
  },
  {
   "cell_type": "code",
   "execution_count": 12,
   "id": "1e040fd8",
   "metadata": {},
   "outputs": [],
   "source": [
    "from medmnist import DermaMNIST as Dataset\n",
    "#from medmnist import BloodMNIST as Dataset\n",
    "#from medmnist import PathMNIST as Dataset\n",
    "#from medmnist import TissueMNIST as Dataset # really big\n",
    "#from medmnist import BreastMNIST as Dataset # much smaller"
   ]
  },
  {
   "cell_type": "code",
   "execution_count": 13,
   "id": "0b393116",
   "metadata": {},
   "outputs": [
    {
     "name": "stdout",
     "output_type": "stream",
     "text": [
      "Using downloaded and verified file: /home/dtward/.medmnist/dermamnist.npz\n"
     ]
    }
   ],
   "source": [
    "my_dataset = Dataset(     \n",
    "    download=True,\n",
    "    split='train',    \n",
    "    transform=torchvision.transforms.Compose([torchvision.transforms.ToTensor(),   \n",
    "                                              normalize\n",
    "                                             ]\n",
    "                                            )\n",
    ")\n",
    "my_loader = DataLoader(my_dataset, batch_size=128, num_workers=8, shuffle=True)"
   ]
  },
  {
   "cell_type": "code",
   "execution_count": 14,
   "id": "327e3599",
   "metadata": {},
   "outputs": [],
   "source": [
    "my_dataset_val = Dataset(        \n",
    "    split='val',    \n",
    "    transform=torchvision.transforms.Compose([torchvision.transforms.ToTensor(),\n",
    "                                              normalize,\n",
    "                                             ]\n",
    "                                            )\n",
    ")\n",
    "my_loader_val = DataLoader(my_dataset_val, batch_size=128, num_workers=8, shuffle=True)"
   ]
  },
  {
   "cell_type": "code",
   "execution_count": 15,
   "id": "f0223c27",
   "metadata": {},
   "outputs": [
    {
     "name": "stdout",
     "output_type": "stream",
     "text": [
      "7\n"
     ]
    }
   ],
   "source": [
    "my_dataset_test = Dataset(        \n",
    "    split='test',    \n",
    "    transform=torchvision.transforms.Compose([torchvision.transforms.ToTensor(),\n",
    "                                              normalize,\n",
    "                                             ]\n",
    "                                            )\n",
    ")\n",
    "my_loader_test = DataLoader(my_dataset_test, batch_size=128, num_workers=8, shuffle=True)\n",
    "labels = set()\n",
    "for x,l in my_loader_test:\n",
    "    labels_i = {li.squeeze().item() for li in l}\n",
    "    labels = labels.union(labels_i)\n",
    "n_labels = len(labels)    \n",
    "print(n_labels)"
   ]
  },
  {
   "cell_type": "code",
   "execution_count": 16,
   "id": "94315188",
   "metadata": {},
   "outputs": [],
   "source": [
    "\n",
    "import importlib\n",
    "import models\n",
    "importlib.reload(models)\n",
    "\n",
    "from models import Conv2DRot, ExtractScalar"
   ]
  },
  {
   "cell_type": "code",
   "execution_count": 17,
   "id": "af8ba082",
   "metadata": {},
   "outputs": [
    {
     "name": "stdout",
     "output_type": "stream",
     "text": [
      "tensor(3.5763e-07)\n"
     ]
    }
   ],
   "source": [
    "# now for scalars b we need only 1 number per block, and the others need to be 0\n",
    "x = torch.randn(1,3,28,28)\n",
    "z = torch.zeros(1,1,28,28)\n",
    "x = torch.stack((x[:,0],z[:,0],z[:,0],x[:,1],z[:,0],z[:,0],x[:,2],z[:,0],z[:,0]),-3)\n",
    "c = torch.nn.Sequential(Conv2DRot(9,9,3,bias=False),ExtractScalar())\n",
    "for p in c.parameters():\n",
    "    p.requires_grad = False\n",
    "# only extract the scalars\n",
    "out = c(x)\n",
    "\n",
    "out2 = c(x.rot90(1,dims=(-1,-2))).rot90(-1,dims=(-1,-2))\n",
    "\n",
    "# okay these are the same to floating point accuracy\n",
    "\n",
    "print(torch.max(torch.abs(out - out2)))"
   ]
  },
  {
   "cell_type": "code",
   "execution_count": 18,
   "id": "eabb814b",
   "metadata": {},
   "outputs": [
    {
     "name": "stdout",
     "output_type": "stream",
     "text": [
      "tensor(1.3113e-06)\n"
     ]
    },
    {
     "data": {
      "application/vnd.jupyter.widget-view+json": {
       "model_id": "16998ab8f81f4abc81de43d0f5a3e2d8",
       "version_major": 2,
       "version_minor": 0
      },
      "image/png": "[encoded data removed]",
      "text/plain": [
       "Canvas(toolbar=Toolbar(toolitems=[('Home', 'Reset original view', 'home', 'home'), ('Back', 'Back to previous …"
      ]
     },
     "metadata": {},
     "output_type": "display_data"
    },
    {
     "data": {
      "application/vnd.jupyter.widget-view+json": {
       "model_id": "50d8c4ee281543209cae62ae709cf821",
       "version_major": 2,
       "version_minor": 0
      },
      "image/png": "[encoded data removed]",
      "text/plain": [
       "Canvas(toolbar=Toolbar(toolitems=[('Home', 'Reset original view', 'home', 'home'), ('Back', 'Back to previous …"
      ]
     },
     "metadata": {},
     "output_type": "display_data"
    }
   ],
   "source": [
    "# now for scalars b we need only 1 number per block, and the others need to be 0\n",
    "x = torch.randn(1,3,28,28)\n",
    "x = tv(x)\n",
    "c = torch.nn.Sequential(Conv2DRot(9,18,3,bias=False),Conv2DRot(18,9,3,bias=False),ExtractScalar())\n",
    "for p in c.parameters():\n",
    "    p.requires_grad = False\n",
    "# only extract the scalars\n",
    "out = c(x)\n",
    "\n",
    "out2 = c(x.rot90(1,dims=(-1,-2))).rot90(-1,dims=(-1,-2))\n",
    "\n",
    "# again the same to floating point accuracy (e-7-e-9)\n",
    "# only when bias is false\n",
    "\n",
    "fig,ax = plt.subplots()\n",
    "ax.imshow(out[0].permute(1,2,0)*0.5+0.5)\n",
    "fig,ax = plt.subplots()\n",
    "ax.imshow(out2[0].permute(1,2,0)*0.5+0.5)\n",
    "\n",
    "print(torch.max(torch.abs(out-out2)))"
   ]
  },
  {
   "cell_type": "code",
   "execution_count": 19,
   "id": "6a15428a",
   "metadata": {},
   "outputs": [],
   "source": [
    "# we need to check that the output is a rotated version of the input\n",
    "# and we need to check that if our network uses the scalar part, the output is invariant"
   ]
  },
  {
   "cell_type": "code",
   "execution_count": 20,
   "id": "0f41e4e9",
   "metadata": {},
   "outputs": [],
   "source": [
    "import importlib\n",
    "import models\n",
    "importlib.reload(models)\n",
    "from models import BatchNormRot"
   ]
  },
  {
   "cell_type": "code",
   "execution_count": 21,
   "id": "e62cf140",
   "metadata": {},
   "outputs": [
    {
     "name": "stdout",
     "output_type": "stream",
     "text": [
      "tensor(2.1458e-06)\n"
     ]
    },
    {
     "data": {
      "application/vnd.jupyter.widget-view+json": {
       "model_id": "71aec1b23b074cadb4e72d561f1768d8",
       "version_major": 2,
       "version_minor": 0
      },
      "image/png": "[encoded data removed]",
      "text/plain": [
       "Canvas(toolbar=Toolbar(toolitems=[('Home', 'Reset original view', 'home', 'home'), ('Back', 'Back to previous …"
      ]
     },
     "metadata": {},
     "output_type": "display_data"
    },
    {
     "data": {
      "application/vnd.jupyter.widget-view+json": {
       "model_id": "1bb0249a11f1408e86bc3e76dc10eba4",
       "version_major": 2,
       "version_minor": 0
      },
      "image/png": "[encoded data removed]",
      "text/plain": [
       "Canvas(toolbar=Toolbar(toolitems=[('Home', 'Reset original view', 'home', 'home'), ('Back', 'Back to previous …"
      ]
     },
     "metadata": {},
     "output_type": "display_data"
    }
   ],
   "source": [
    "# check that the batchnorm preserves rotational invariance\n",
    "kernel_size = 3\n",
    "x = torch.randn(1,3,28,28)\n",
    "z = torch.zeros(1,1,28,28)\n",
    "x = torch.stack((x[:,0],z[:,0],z[:,0],x[:,1],z[:,0],z[:,0],x[:,2],z[:,0],z[:,0]),-3)\n",
    "c = torch.nn.Sequential(Conv2DRot(9,18,kernel_size,bias=False),BatchNormRot(18),Conv2DRot(18,9,kernel_size,bias=False),ExtractScalar())\n",
    "for p in c.parameters():\n",
    "    p.requires_grad = False\n",
    "# only extract the scalars\n",
    "out = c(x)\n",
    "out2 = c(x.rot90(1,dims=(-1,-2))).rot90(-1,dims=(-1,-2))\n",
    "\n",
    "x = torch.randn(1,3,28,28)\n",
    "z = torch.zeros(1,1,28,28)\n",
    "x = torch.stack((x[:,0],z[:,0],z[:,0],x[:,1],z[:,0],z[:,0],x[:,2],z[:,0],z[:,0]),-3)\n",
    "\n",
    "\n",
    "out = c(x)\n",
    "out2 = c(x.rot90(1,dims=(-1,-2))).rot90(-1,dims=(-1,-2))\n",
    "\n",
    "x = torch.randn(1,3,28,28)\n",
    "z = torch.zeros(1,1,28,28)\n",
    "x = torch.stack((x[:,0],z[:,0],z[:,0],x[:,1],z[:,0],z[:,0],x[:,2],z[:,0],z[:,0]),-3)\n",
    "\n",
    "\n",
    "out = c(x)\n",
    "out2 = c(x.rot90(1,dims=(-1,-2))).rot90(-1,dims=(-1,-2))\n",
    "\n",
    "x = torch.randn(1,3,28,28)\n",
    "z = torch.zeros(1,1,28,28)\n",
    "x = torch.stack((x[:,0],z[:,0],z[:,0],x[:,1],z[:,0],z[:,0],x[:,2],z[:,0],z[:,0]),-3)\n",
    "\n",
    "\n",
    "out = c(x)\n",
    "out2 = c(x.rot90(1,dims=(-1,-2))).rot90(-1,dims=(-1,-2))\n",
    "\n",
    "c.eval()\n",
    "out = c(x)\n",
    "out2 = c(x.rot90(1,dims=(-1,-2))).rot90(-1,dims=(-1,-2))\n",
    "\n",
    "# again the same to floating point accuracy (e-7-e-9)\n",
    "# only when bias is false\n",
    "\n",
    "fig,ax = plt.subplots()\n",
    "ax.imshow(out[0].permute(1,2,0)*0.5+0.5)\n",
    "fig,ax = plt.subplots()\n",
    "ax.imshow(out2[0].permute(1,2,0)*0.5+0.5)\n",
    "\n",
    "print(torch.max(torch.abs(out-out2)))"
   ]
  },
  {
   "cell_type": "code",
   "execution_count": null,
   "id": "f70d18ec",
   "metadata": {},
   "outputs": [],
   "source": []
  },
  {
   "cell_type": "code",
   "execution_count": 22,
   "id": "8a3b38ce",
   "metadata": {},
   "outputs": [],
   "source": [
    "import importlib\n",
    "import models\n",
    "importlib.reload(models)\n",
    "from models import SigmoidRot, ZeroZero"
   ]
  },
  {
   "cell_type": "code",
   "execution_count": 23,
   "id": "863acdb1",
   "metadata": {},
   "outputs": [
    {
     "name": "stdout",
     "output_type": "stream",
     "text": [
      "tensor(2.6822e-07)\n"
     ]
    },
    {
     "data": {
      "application/vnd.jupyter.widget-view+json": {
       "model_id": "c0eb0cbfe68b475b83f1304de538ce37",
       "version_major": 2,
       "version_minor": 0
      },
      "image/png": "[encoded data removed]",
      "text/plain": [
       "Canvas(toolbar=Toolbar(toolitems=[('Home', 'Reset original view', 'home', 'home'), ('Back', 'Back to previous …"
      ]
     },
     "metadata": {},
     "output_type": "display_data"
    },
    {
     "data": {
      "application/vnd.jupyter.widget-view+json": {
       "model_id": "df8b01ac3cc14bbab2feaf2a749a40fa",
       "version_major": 2,
       "version_minor": 0
      },
      "image/png": "[encoded data removed]",
      "text/plain": [
       "Canvas(toolbar=Toolbar(toolitems=[('Home', 'Reset original view', 'home', 'home'), ('Back', 'Back to previous …"
      ]
     },
     "metadata": {},
     "output_type": "display_data"
    }
   ],
   "source": [
    "# check rotational invariance\n",
    "kernel_size = 3\n",
    "x = torch.randn(1,3,28,28)\n",
    "z = torch.zeros(1,1,28,28)\n",
    "x = torch.stack((x[:,0],z[:,0],z[:,0],x[:,1],z[:,0],z[:,0],x[:,2],z[:,0],z[:,0]),-3)\n",
    "\n",
    "c = torch.nn.Sequential(Conv2DRot(9,18,kernel_size,bias=False),BatchNormRot(18),SigmoidRot(),Conv2DRot(18,9,kernel_size,bias=False),ExtractScalar())\n",
    "for p in c.parameters():\n",
    "    p.requires_grad = False\n",
    "\n",
    "    \n",
    "    \n",
    "c.eval()\n",
    "out = c(x)\n",
    "out2 = c(x.rot90(1,dims=(-1,-2))).rot90(-1,dims=(-1,-2))\n",
    "\n",
    "# again the same to floating point accuracy (e-7-e-9)\n",
    "# only when bias is false\n",
    "\n",
    "fig,ax = plt.subplots()\n",
    "ax.imshow(out[0].permute(1,2,0)*0.5+0.5)\n",
    "fig,ax = plt.subplots()\n",
    "ax.imshow(out2[0].permute(1,2,0)*0.5+0.5)\n",
    "\n",
    "print(torch.max(torch.abs(out-out2)))    \n",
    "    "
   ]
  },
  {
   "cell_type": "code",
   "execution_count": 24,
   "id": "de37e36b",
   "metadata": {},
   "outputs": [],
   "source": [
    "from IPython import display\n"
   ]
  },
  {
   "cell_type": "code",
   "execution_count": 25,
   "id": "6da5cfaa",
   "metadata": {},
   "outputs": [
    {
     "data": {
      "image/png": "[encoded data removed]",
      "text/plain": [
       "<Figure size 640x480 with 1 Axes>"
      ]
     },
     "metadata": {},
     "output_type": "display_data"
    },
    {
     "data": {
      "application/vnd.jupyter.widget-view+json": {
       "model_id": "378d39634a794f41b5e1ea9842771cfd",
       "version_major": 2,
       "version_minor": 0
      },
      "image/png": "[encoded data removed]",
      "text/plain": [
       "Canvas(toolbar=Toolbar(toolitems=[('Home', 'Reset original view', 'home', 'home'), ('Back', 'Back to previous …"
      ]
     },
     "metadata": {},
     "output_type": "display_data"
    }
   ],
   "source": [
    "from IPython.display import clear_output, display\n",
    "%matplotlib widget\n",
    "fig,ax = plt.subplots()\n",
    "for it in range(10):\n",
    "    #clear_output(wait=True)    \n",
    "    ax.cla()\n",
    "    ax.imshow(np.random.rand(12,13,3))\n",
    "    ax.set_title(it)\n",
    "    #fig.canvas.draw()\n",
    "    #plt.show()\n",
    "    clear_output(wait=True)\n",
    "    display(fig)"
   ]
  },
  {
   "cell_type": "code",
   "execution_count": null,
   "id": "9c84910a",
   "metadata": {},
   "outputs": [],
   "source": []
  },
  {
   "cell_type": "code",
   "execution_count": 26,
   "id": "95fde8a6",
   "metadata": {},
   "outputs": [
    {
     "name": "stdout",
     "output_type": "stream",
     "text": [
      "tensor(1.1921e-07)\n"
     ]
    }
   ],
   "source": [
    "# check rotational invariance\n",
    "kernel_size = 3\n",
    "c = torch.nn.Sequential(Conv2DRot(9,18,kernel_size,bias=False),BatchNormRot(18),SigmoidRot(),Conv2DRot(18,9,kernel_size, bias=False),ExtractScalar(),torch.nn.AvgPool2d(28),ZeroZero(),torch.nn.Linear(3,10))\n",
    "for p in c.parameters():\n",
    "    p.requires_grad = False\n",
    "\n",
    "c[1].a += torch.randn_like(c[1].a)   \n",
    "c[1].b += torch.randn_like(c[1].b)   \n",
    "for i in range(10):\n",
    "    x = torch.randn(1,3,28,28)\n",
    "    z = torch.zeros(1,1,28,28)\n",
    "    x = torch.stack((x[:,0],z[:,0],z[:,0],x[:,1],z[:,0],z[:,0],x[:,2],z[:,0],z[:,0]),-3)\n",
    "\n",
    "    if i == 9:\n",
    "        c.eval()\n",
    "    out = c(x)\n",
    "    out2 = c(x.rot90(1,dims=(-1,-2)))\n",
    "\n",
    "    \n",
    "\n",
    "# again the same to floating point accuracy (e-7-e-9)\n",
    "# only when bias is false\n",
    "\n",
    "\n",
    "print(torch.max(torch.abs(out-out2)))    \n",
    "    "
   ]
  },
  {
   "cell_type": "code",
   "execution_count": 27,
   "id": "0b7ddfc5",
   "metadata": {},
   "outputs": [
    {
     "name": "stdout",
     "output_type": "stream",
     "text": [
      "tensor(8.9407e-08)\n"
     ]
    }
   ],
   "source": [
    "# check rotational invariance\n",
    "kernel_size = 3\n",
    "c = torch.nn.Sequential(Conv2DRot(9,18,kernel_size,bias=False),\n",
    "                        BatchNormRot(18),\n",
    "                        SigmoidRot(),\n",
    "                        Conv2DRot(18,36,kernel_size,bias=False),\n",
    "                        BatchNormRot(36),\n",
    "                        SigmoidRot(),\n",
    "                        Conv2DRot(36,18,kernel_size, bias=False),\n",
    "                        BatchNormRot(18),\n",
    "                        SigmoidRot(),\n",
    "                        Conv2DRot(18,9,kernel_size,bias=False),\n",
    "                        ExtractScalar(),\n",
    "                        torch.nn.AvgPool2d(28),\n",
    "                        ZeroZero(),\n",
    "                        torch.nn.Linear(3,10))\n",
    "for p in c.parameters():\n",
    "    p.requires_grad = False\n",
    "\n",
    "c[1].a += torch.randn_like(c[1].a)   \n",
    "c[1].b += torch.randn_like(c[1].b)   \n",
    "c[4].a += torch.randn_like(c[4].a)   \n",
    "c[4].b += torch.randn_like(c[4].b)   \n",
    "c[7].a += torch.randn_like(c[7].a)   \n",
    "c[7].b += torch.randn_like(c[7].b)   \n",
    "for i in range(10):\n",
    "    x = torch.randn(1,3,28,28)\n",
    "    z = torch.zeros(1,1,28,28)\n",
    "    x = torch.stack((x[:,0],z[:,0],z[:,0],x[:,1],z[:,0],z[:,0],x[:,2],z[:,0],z[:,0]),-3)\n",
    "\n",
    "    if i == 9:\n",
    "        c.eval()\n",
    "    out = c(x)\n",
    "    out2 = c(x.rot90(1,dims=(-1,-2)))\n",
    "\n",
    "    \n",
    "\n",
    "# again the same to floating point accuracy (e-7-e-9)\n",
    "# only when bias is false\n",
    "\n",
    "\n",
    "print(torch.max(torch.abs(out-out2)))    \n",
    "    "
   ]
  },
  {
   "cell_type": "code",
   "execution_count": 28,
   "id": "0c25b4ad",
   "metadata": {},
   "outputs": [
    {
     "name": "stdout",
     "output_type": "stream",
     "text": [
      "tensor(0.0322)\n"
     ]
    }
   ],
   "source": [
    "# check rotational invariance\n",
    "# this time with stride\n",
    "# it seems the strided convolutions kind of break the rotational invariance\n",
    "\n",
    "c = torch.nn.Sequential(Conv2DRot(9,18,kernel_size,bias=False),\n",
    "                        BatchNormRot(18),\n",
    "                        SigmoidRot(),\n",
    "                        Conv2DRot(18,36,kernel_size,stride=2,bias=False),\n",
    "                        BatchNormRot(36),\n",
    "                        SigmoidRot(),\n",
    "                        Conv2DRot(36,18,kernel_size,stride=2,bias=False),\n",
    "                        BatchNormRot(18),\n",
    "                        SigmoidRot(),\n",
    "                        Conv2DRot(18,9,kernel_size,bias=False),\n",
    "                        ExtractScalar(),\n",
    "                        torch.nn.AvgPool2d(7),\n",
    "                        ZeroZero(),\n",
    "                        torch.nn.Linear(3,10))\n",
    "for p in c.parameters():\n",
    "    p.requires_grad = False\n",
    "\n",
    "c[1].a += torch.randn_like(c[1].a)   \n",
    "c[1].b += torch.randn_like(c[1].b)   \n",
    "c[4].a += torch.randn_like(c[4].a)   \n",
    "c[4].b += torch.randn_like(c[4].b)   \n",
    "c[7].a += torch.randn_like(c[7].a)   \n",
    "c[7].b += torch.randn_like(c[7].b)   \n",
    "for i in range(10):\n",
    "    x = torch.randn(1,3,28,28)\n",
    "    z = torch.zeros(1,1,28,28)\n",
    "    x = torch.stack((x[:,0],z[:,0],z[:,0],x[:,1],z[:,0],z[:,0],x[:,2],z[:,0],z[:,0]),-3)\n",
    "\n",
    "    if i == 9:\n",
    "        c.eval()\n",
    "    out = c(x)\n",
    "    out2 = c(x.rot90(1,dims=(-1,-2)))\n",
    "\n",
    "    \n",
    "\n",
    "# again the same to floating point accuracy (e-7-e-9)\n",
    "# only when bias is false\n",
    "\n",
    "\n",
    "print(torch.max(torch.abs(out-out2)))    \n",
    "    "
   ]
  },
  {
   "cell_type": "code",
   "execution_count": 29,
   "id": "331f5c66",
   "metadata": {},
   "outputs": [],
   "source": [
    "importlib.reload(models)\n",
    "from models import Down2Rot"
   ]
  },
  {
   "cell_type": "code",
   "execution_count": 30,
   "id": "ba8ad1c8",
   "metadata": {},
   "outputs": [
    {
     "name": "stdout",
     "output_type": "stream",
     "text": [
      "tensor(5.9605e-08)\n"
     ]
    }
   ],
   "source": [
    "# check rotational invariance\n",
    "# this time with stride\n",
    "# it seems the strided convolutions kind of break the rotational invariance\n",
    "kernel_size = 3\n",
    "c = torch.nn.Sequential(Conv2DRot(9,18,kernel_size,bias=False),\n",
    "                        BatchNormRot(18),\n",
    "                        SigmoidRot(),\n",
    "                        Conv2DRot(18,36,kernel_size,bias=False),\n",
    "                        Down2Rot(),\n",
    "                        BatchNormRot(36),\n",
    "                        SigmoidRot(),\n",
    "                        Conv2DRot(36,18,kernel_size,bias=False),\n",
    "                        Down2Rot(),\n",
    "                        BatchNormRot(18),\n",
    "                        SigmoidRot(),\n",
    "                        Conv2DRot(18,9,kernel_size,bias=False),\n",
    "                        ExtractScalar(),\n",
    "                        torch.nn.AvgPool2d(7),\n",
    "                        ZeroZero(),\n",
    "                        torch.nn.Linear(3,10))\n",
    "for p in c.parameters():\n",
    "    p.requires_grad = False\n",
    "\n",
    "c[1].a += torch.randn_like(c[1].a)   \n",
    "c[1].b += torch.randn_like(c[1].b)   \n",
    "c[5].a += torch.randn_like(c[5].a)   \n",
    "c[5].b += torch.randn_like(c[5].b)   \n",
    "c[9].a += torch.randn_like(c[9].a)   \n",
    "c[9].b += torch.randn_like(c[9].b)   \n",
    "for i in range(10):\n",
    "    x = torch.randn(1,3,28,28)\n",
    "    z = torch.zeros(1,1,28,28)\n",
    "    x = torch.stack((x[:,0],z[:,0],z[:,0],x[:,1],z[:,0],z[:,0],x[:,2],z[:,0],z[:,0]),-3)\n",
    "\n",
    "    if i == 9:\n",
    "        c.eval()\n",
    "    out = c(x)\n",
    "    out2 = c(x.rot90(1,dims=(-1,-2)))\n",
    "\n",
    "    \n",
    "\n",
    "# again the same to floating point accuracy (e-7-e-9)\n",
    "# only when bias is false\n",
    "\n",
    "\n",
    "print(torch.max(torch.abs(out-out2)))    \n",
    "    "
   ]
  },
  {
   "cell_type": "code",
   "execution_count": 31,
   "id": "a9c96939",
   "metadata": {},
   "outputs": [
    {
     "name": "stdout",
     "output_type": "stream",
     "text": [
      "tensor(1.4901e-08)\n"
     ]
    }
   ],
   "source": [
    "# check rotational invariance\n",
    "# this time with stride\n",
    "# it seems the strided convolutions kind of break the rotational invariance\n",
    "\n",
    "c = torch.nn.Sequential(Conv2DRot(9,18,kernel_size,bias=False),\n",
    "                        BatchNormRot(18),\n",
    "                        SigmoidRot(),\n",
    "                        Conv2DRot(18,36,kernel_size,bias=False),\n",
    "                        torch.nn.AvgPool2d(2),\n",
    "                        BatchNormRot(36),\n",
    "                        SigmoidRot(),\n",
    "                        Conv2DRot(36,18,kernel_size,bias=False),\n",
    "                        Down2Rot(),\n",
    "                        BatchNormRot(18),\n",
    "                        SigmoidRot(),\n",
    "                        Conv2DRot(18,9,kernel_size,bias=False),\n",
    "                        ExtractScalar(),\n",
    "                        torch.nn.AvgPool2d(7),\n",
    "                        ZeroZero(),\n",
    "                        torch.nn.Linear(3,10))\n",
    "for p in c.parameters():\n",
    "    p.requires_grad = False\n",
    "\n",
    "c[1].a += torch.randn_like(c[1].a)   \n",
    "c[1].b += torch.randn_like(c[1].b)   \n",
    "c[5].a += torch.randn_like(c[5].a)   \n",
    "c[5].b += torch.randn_like(c[5].b)   \n",
    "c[9].a += torch.randn_like(c[9].a)   \n",
    "c[9].b += torch.randn_like(c[9].b)   \n",
    "for i in range(10):\n",
    "    x = torch.randn(1,3,28,28)\n",
    "    z = torch.zeros(1,1,28,28)\n",
    "    x = torch.stack((x[:,0],z[:,0],z[:,0],x[:,1],z[:,0],z[:,0],x[:,2],z[:,0],z[:,0]),-3)\n",
    "\n",
    "    if i == 9:\n",
    "        c.eval()\n",
    "    out = c(x)\n",
    "    out2 = c(x.rot90(1,dims=(-1,-2)))\n",
    "\n",
    "    \n",
    "\n",
    "# again the same to floating point accuracy (e-7-e-9)\n",
    "# only when bias is false\n",
    "\n",
    "\n",
    "print(torch.max(torch.abs(out-out2)))    \n",
    "    "
   ]
  },
  {
   "cell_type": "code",
   "execution_count": 32,
   "id": "ee308865",
   "metadata": {},
   "outputs": [],
   "source": [
    "# note it seems the downsampling breaks the rotational invariance\n",
    "# i.e. if the last pixel gets left off\n",
    "# the last pixel will depend on the rotation\n",
    "# so if the size is even, we will want to average\n",
    "# if the size is odd, we will want to skip"
   ]
  },
  {
   "cell_type": "code",
   "execution_count": 33,
   "id": "b3e65a95",
   "metadata": {},
   "outputs": [],
   "source": [
    "# what do I want to do?\n",
    "# check the magnitude\n",
    "# if it is less than k multiply the vector by 0\n",
    "# if it is greater than k, multiply by 1?\n",
    "# no that's not quite right\n",
    "# that's kind o like relu\n",
    "# if it's less than 0 multiply by0\n",
    "# if it's greater than 0, multiply by 1\n",
    "# the differences is the relu leads to a continuous function\n",
    "# but this doesn't, or does it?"
   ]
  },
  {
   "cell_type": "code",
   "execution_count": 34,
   "id": "b16a070f",
   "metadata": {},
   "outputs": [
    {
     "data": {
      "text/plain": [
       "0.4727"
      ]
     },
     "execution_count": 34,
     "metadata": {},
     "output_type": "execute_result"
    }
   ],
   "source": [
    "# test\n",
    "np.mean( np.sum(np.random.randn(10000,2)**2,-1)  > 1.5)"
   ]
  },
  {
   "cell_type": "code",
   "execution_count": 35,
   "id": "7c1bf6bf",
   "metadata": {},
   "outputs": [
    {
     "data": {
      "text/plain": [
       "0.5557"
      ]
     },
     "execution_count": 35,
     "metadata": {},
     "output_type": "execute_result"
    }
   ],
   "source": [
    "np.mean( np.sum(np.random.randn(10000,2)**2,-1)**0.5  > 1.1)"
   ]
  },
  {
   "cell_type": "code",
   "execution_count": 36,
   "id": "ad98e5f9",
   "metadata": {
    "scrolled": true
   },
   "outputs": [
    {
     "data": {
      "text/plain": [
       "1.4142135623730951"
      ]
     },
     "execution_count": 36,
     "metadata": {},
     "output_type": "execute_result"
    }
   ],
   "source": [
    "np.sqrt(2)"
   ]
  },
  {
   "cell_type": "markdown",
   "id": "83d101ee",
   "metadata": {},
   "source": [
    "A 1x1 convolution is just multiply by a matrix\n",
    "J(x) = AI(x)\n",
    "\n",
    "If I is a scalar then it's trivially true\n",
    "\n",
    "If I is a vector then\n",
    "A RI(R^{-1}x)\n",
    "\n",
    "A has to commute with R, that means it needs to be proportional to identity, or in 2D be any rotation."
   ]
  },
  {
   "cell_type": "code",
   "execution_count": 37,
   "id": "88288890",
   "metadata": {},
   "outputs": [],
   "source": [
    "device = 'cuda:0'"
   ]
  },
  {
   "cell_type": "code",
   "execution_count": 38,
   "id": "31786e31",
   "metadata": {
    "scrolled": false
   },
   "outputs": [],
   "source": [
    "\n",
    "from models import train_and_eval"
   ]
  },
  {
   "cell_type": "code",
   "execution_count": 39,
   "id": "edff6553",
   "metadata": {},
   "outputs": [
    {
     "name": "stdout",
     "output_type": "stream",
     "text": [
      "11033148\n"
     ]
    },
    {
     "ename": "KeyboardInterrupt",
     "evalue": "",
     "output_type": "error",
     "traceback": [
      "\u001b[0;31m---------------------------------------------------------------------------\u001b[0m",
      "\u001b[0;31mKeyboardInterrupt\u001b[0m                         Traceback (most recent call last)",
      "\u001b[0;32m/tmp/ipykernel_2446988/709489723.py\u001b[0m in \u001b[0;36m<module>\u001b[0;34m\u001b[0m\n\u001b[1;32m      6\u001b[0m \u001b[0;31m# 126 gives 11 million parameters, the resnet below is only 10 million, so we could do a bit less\u001b[0m\u001b[0;34m\u001b[0m\u001b[0;34m\u001b[0m\u001b[0;34m\u001b[0m\u001b[0m\n\u001b[1;32m      7\u001b[0m \u001b[0mprint\u001b[0m\u001b[0;34m(\u001b[0m\u001b[0mmodels\u001b[0m\u001b[0;34m.\u001b[0m\u001b[0mcount_parameters\u001b[0m\u001b[0;34m(\u001b[0m\u001b[0mnet\u001b[0m\u001b[0;34m)\u001b[0m\u001b[0;34m)\u001b[0m\u001b[0;34m\u001b[0m\u001b[0;34m\u001b[0m\u001b[0m\n\u001b[0;32m----> 8\u001b[0;31m \u001b[0mout\u001b[0m \u001b[0;34m=\u001b[0m \u001b[0mtrain_and_eval\u001b[0m\u001b[0;34m(\u001b[0m\u001b[0mnet\u001b[0m\u001b[0;34m,\u001b[0m\u001b[0mmy_loader\u001b[0m\u001b[0;34m,\u001b[0m \u001b[0mmy_loader_val\u001b[0m\u001b[0;34m,\u001b[0m \u001b[0mmy_loader_test\u001b[0m\u001b[0;34m,\u001b[0m \u001b[0mdevice\u001b[0m\u001b[0;34m=\u001b[0m\u001b[0mdevice\u001b[0m\u001b[0;34m,\u001b[0m\u001b[0;34m)\u001b[0m\u001b[0;34m\u001b[0m\u001b[0;34m\u001b[0m\u001b[0m\n\u001b[0m\u001b[1;32m      9\u001b[0m \u001b[0mauc_val\u001b[0m \u001b[0;34m=\u001b[0m \u001b[0mout\u001b[0m\u001b[0;34m[\u001b[0m\u001b[0;34m'auc_val'\u001b[0m\u001b[0;34m]\u001b[0m\u001b[0;34m\u001b[0m\u001b[0;34m\u001b[0m\u001b[0m\n\u001b[1;32m     10\u001b[0m \u001b[0mauc_test\u001b[0m \u001b[0;34m=\u001b[0m \u001b[0mout\u001b[0m\u001b[0;34m[\u001b[0m\u001b[0;34m'auc_test'\u001b[0m\u001b[0;34m]\u001b[0m\u001b[0;34m\u001b[0m\u001b[0;34m\u001b[0m\u001b[0m\n",
      "\u001b[0;32m~/Documents/UCLA/exponential_network/exp_2023/exp2024/models.py\u001b[0m in \u001b[0;36mtrain_and_eval\u001b[0;34m(net, my_loader, my_loader_val, my_loader_test, device, nepochs, lr)\u001b[0m\n\u001b[1;32m   1299\u001b[0m \u001b[0;34m\u001b[0m\u001b[0m\n\u001b[1;32m   1300\u001b[0m             \u001b[0mE\u001b[0m \u001b[0;34m=\u001b[0m \u001b[0mloss\u001b[0m\u001b[0;34m(\u001b[0m\u001b[0mlhat\u001b[0m\u001b[0;34m,\u001b[0m\u001b[0ml\u001b[0m\u001b[0;34m)\u001b[0m\u001b[0;34m\u001b[0m\u001b[0;34m\u001b[0m\u001b[0m\n\u001b[0;32m-> 1301\u001b[0;31m             \u001b[0mE\u001b[0m\u001b[0;34m.\u001b[0m\u001b[0mbackward\u001b[0m\u001b[0;34m(\u001b[0m\u001b[0;34m)\u001b[0m\u001b[0;34m\u001b[0m\u001b[0;34m\u001b[0m\u001b[0m\n\u001b[0m\u001b[1;32m   1302\u001b[0m             \u001b[0moptimizer\u001b[0m\u001b[0;34m.\u001b[0m\u001b[0mstep\u001b[0m\u001b[0;34m(\u001b[0m\u001b[0;34m)\u001b[0m\u001b[0;34m\u001b[0m\u001b[0;34m\u001b[0m\u001b[0m\n\u001b[1;32m   1303\u001b[0m \u001b[0;34m\u001b[0m\u001b[0m\n",
      "\u001b[0;32m~/.local/intelpython3/lib/python3.7/site-packages/torch/_tensor.py\u001b[0m in \u001b[0;36mbackward\u001b[0;34m(self, gradient, retain_graph, create_graph, inputs)\u001b[0m\n\u001b[1;32m    487\u001b[0m             )\n\u001b[1;32m    488\u001b[0m         torch.autograd.backward(\n\u001b[0;32m--> 489\u001b[0;31m             \u001b[0mself\u001b[0m\u001b[0;34m,\u001b[0m \u001b[0mgradient\u001b[0m\u001b[0;34m,\u001b[0m \u001b[0mretain_graph\u001b[0m\u001b[0;34m,\u001b[0m \u001b[0mcreate_graph\u001b[0m\u001b[0;34m,\u001b[0m \u001b[0minputs\u001b[0m\u001b[0;34m=\u001b[0m\u001b[0minputs\u001b[0m\u001b[0;34m\u001b[0m\u001b[0;34m\u001b[0m\u001b[0m\n\u001b[0m\u001b[1;32m    490\u001b[0m         )\n\u001b[1;32m    491\u001b[0m \u001b[0;34m\u001b[0m\u001b[0m\n",
      "\u001b[0;32m~/.local/intelpython3/lib/python3.7/site-packages/torch/autograd/__init__.py\u001b[0m in \u001b[0;36mbackward\u001b[0;34m(tensors, grad_tensors, retain_graph, create_graph, grad_variables, inputs)\u001b[0m\n\u001b[1;32m    197\u001b[0m     Variable._execution_engine.run_backward(  # Calls into the C++ engine to run the backward pass\n\u001b[1;32m    198\u001b[0m         \u001b[0mtensors\u001b[0m\u001b[0;34m,\u001b[0m \u001b[0mgrad_tensors_\u001b[0m\u001b[0;34m,\u001b[0m \u001b[0mretain_graph\u001b[0m\u001b[0;34m,\u001b[0m \u001b[0mcreate_graph\u001b[0m\u001b[0;34m,\u001b[0m \u001b[0minputs\u001b[0m\u001b[0;34m,\u001b[0m\u001b[0;34m\u001b[0m\u001b[0;34m\u001b[0m\u001b[0m\n\u001b[0;32m--> 199\u001b[0;31m         allow_unreachable=True, accumulate_grad=True)  # Calls into the C++ engine to run the backward pass\n\u001b[0m\u001b[1;32m    200\u001b[0m \u001b[0;34m\u001b[0m\u001b[0m\n\u001b[1;32m    201\u001b[0m def grad(\n",
      "\u001b[0;31mKeyboardInterrupt\u001b[0m: "
     ]
    },
    {
     "data": {
      "application/vnd.jupyter.widget-view+json": {
       "model_id": "bbe42cbcaff7436990d763c74472d886",
       "version_major": 2,
       "version_minor": 0
      },
      "image/png": "[encoded data removed]",
      "text/plain": [
       "Canvas(toolbar=Toolbar(toolitems=[('Home', 'Reset original view', 'home', 'home'), ('Back', 'Back to previous …"
      ]
     },
     "metadata": {},
     "output_type": "display_data"
    }
   ],
   "source": [
    "# 18 layers was used in the medmnist\n",
    "# with 126 it does best, but its a bit more parameters than the resnet below\n",
    "# I could try 123\n",
    "reload(models)\n",
    "net = models.RotNet18(n0=123,n1=n_labels)\n",
    "# 126 gives 11 million parameters, the resnet below is only 10 million, so we could do a bit less\n",
    "print(models.count_parameters(net))\n",
    "out = train_and_eval(net,my_loader, my_loader_val, my_loader_test, device=device,)\n",
    "auc_val = out['auc_val']\n",
    "auc_test = out['auc_test']\n",
    "hard_auc_test = out['hard_auc_test']\n",
    "accuracy_test = out['accuracy_test']\n",
    "ind = auc_val.index(np.max(auc_val))\n",
    "print('best auc, hard auc, accuracy')\n",
    "print(auc_test[ind],hard_auc_test[ind], accuracy_test[ind])\n",
    "print('final auc, hard auc, accuracy')\n",
    "print(auc_test[-1],hard_auc_test[-1], accuracy_test[-1])"
   ]
  },
  {
   "cell_type": "code",
   "execution_count": null,
   "id": "107e8d05",
   "metadata": {},
   "outputs": [],
   "source": [
    "out['net'] = None\n",
    "import gc\n",
    "gc.collect()\n",
    "torch.cuda.empty_cache()"
   ]
  },
  {
   "cell_type": "code",
   "execution_count": null,
   "id": "25dd573e",
   "metadata": {},
   "outputs": [],
   "source": [
    "# 18 layers was used in the medmnist\n",
    "# with 126 it does best, but its a bit more parameters than the resnet below\n",
    "# I could try 123\n",
    "# or let's try 32 scalars and 32 vectors\n",
    "# this is way less parameters\n",
    "reload(models)\n",
    "net = models.RotNet18(n0=66,n1=n_labels)\n",
    "# 126 gives 11 million parameters, the resnet below is only 10 million, so we could do a bit less\n",
    "print(models.count_parameters(net))\n",
    "out = train_and_eval(net,my_loader, my_loader_val, my_loader_test, device=device,)\n",
    "auc_val = out['auc_val']\n",
    "auc_test = out['auc_test']\n",
    "hard_auc_test = out['hard_auc_test']\n",
    "accuracy_test = out['accuracy_test']\n",
    "ind = auc_val.index(np.max(auc_val))\n",
    "print('best auc, hard auc, accuracy')\n",
    "print(auc_test[ind],hard_auc_test[ind], accuracy_test[ind])\n",
    "print('final auc, hard auc, accuracy')\n",
    "print(auc_test[-1],hard_auc_test[-1], accuracy_test[-1])"
   ]
  },
  {
   "cell_type": "code",
   "execution_count": null,
   "id": "8ca7b925",
   "metadata": {},
   "outputs": [],
   "source": [
    "out['net'] = None\n",
    "import gc\n",
    "gc.collect()\n",
    "torch.cuda.empty_cache()"
   ]
  },
  {
   "cell_type": "code",
   "execution_count": null,
   "id": "fc402547",
   "metadata": {},
   "outputs": [],
   "source": [
    "reload(models)\n",
    "net = models.RotNet18(n1=n_labels)\n",
    "print(models.count_parameters(net))\n",
    "out = train_and_eval(net,my_loader, my_loader_val, my_loader_test, device=device)\n",
    "auc_val = out['auc_val']\n",
    "auc_test = out['auc_test']\n",
    "hard_auc_test = out['hard_auc_test']\n",
    "accuracy_test = out['accuracy_test']\n",
    "ind = auc_val.index(np.max(auc_val))\n",
    "print('best auc, hard auc, accuracy')\n",
    "print(auc_test[ind],hard_auc_test[ind], accuracy_test[ind])\n",
    "print('final auc, hard auc, accuracy')\n",
    "print(auc_test[-1],hard_auc_test[-1], accuracy_test[-1])"
   ]
  },
  {
   "cell_type": "code",
   "execution_count": null,
   "id": "93262269",
   "metadata": {},
   "outputs": [],
   "source": [
    "out['net'] = None\n",
    "import gc\n",
    "gc.collect()\n",
    "torch.cuda.empty_cache()"
   ]
  },
  {
   "cell_type": "code",
   "execution_count": 50,
   "id": "ec749a85",
   "metadata": {},
   "outputs": [
    {
     "data": {
      "image/png": "[encoded data removed]",
      "text/plain": [
       "<Figure size 640x480 with 4 Axes>"
      ]
     },
     "metadata": {},
     "output_type": "display_data"
    },
    {
     "name": "stdout",
     "output_type": "stream",
     "text": [
      "torch.Size([128, 3, 28, 28])\n",
      "torch.Size([128, 3, 28, 28])\n",
      "torch.Size([128, 9, 28, 28])\n",
      "torch.Size([128, 15, 28, 28])\n",
      "torch.Size([128, 3, 28, 28])\n",
      "torch.Size([128, 3, 28, 28])\n",
      "torch.Size([128, 9, 28, 28])\n",
      "torch.Size([128, 15, 28, 28])\n",
      "torch.Size([128, 3, 28, 28])\n",
      "torch.Size([128, 3, 28, 28])\n",
      "torch.Size([128, 9, 28, 28])\n",
      "torch.Size([128, 15, 28, 28])\n",
      "torch.Size([128, 3, 28, 28])\n",
      "torch.Size([128, 3, 28, 28])\n",
      "torch.Size([128, 9, 28, 28])\n",
      "torch.Size([128, 15, 28, 28])\n",
      "torch.Size([128, 3, 28, 28])\n",
      "torch.Size([128, 3, 28, 28])\n",
      "torch.Size([128, 9, 28, 28])\n",
      "torch.Size([128, 15, 28, 28])\n",
      "torch.Size([128, 3, 28, 28])\n",
      "torch.Size([128, 3, 28, 28])\n",
      "torch.Size([128, 9, 28, 28])\n",
      "torch.Size([128, 15, 28, 28])\n",
      "torch.Size([128, 3, 28, 28])\n",
      "torch.Size([128, 3, 28, 28])\n",
      "torch.Size([128, 9, 28, 28])\n",
      "torch.Size([128, 15, 28, 28])\n",
      "torch.Size([128, 3, 28, 28])\n",
      "torch.Size([128, 3, 28, 28])\n",
      "torch.Size([128, 9, 28, 28])\n",
      "torch.Size([128, 15, 28, 28])\n",
      "torch.Size([128, 3, 28, 28])\n",
      "torch.Size([128, 3, 28, 28])\n",
      "torch.Size([128, 9, 28, 28])\n",
      "torch.Size([128, 15, 28, 28])\n",
      "torch.Size([128, 3, 28, 28])\n",
      "torch.Size([128, 3, 28, 28])\n",
      "torch.Size([128, 9, 28, 28])\n",
      "torch.Size([128, 15, 28, 28])\n",
      "torch.Size([128, 3, 28, 28])\n",
      "torch.Size([128, 3, 28, 28])\n",
      "torch.Size([128, 9, 28, 28])\n",
      "torch.Size([128, 15, 28, 28])\n",
      "torch.Size([128, 3, 28, 28])\n",
      "torch.Size([128, 3, 28, 28])\n",
      "torch.Size([128, 9, 28, 28])\n",
      "torch.Size([128, 15, 28, 28])\n",
      "torch.Size([128, 3, 28, 28])\n",
      "torch.Size([128, 3, 28, 28])\n",
      "torch.Size([128, 9, 28, 28])\n",
      "torch.Size([128, 15, 28, 28])\n",
      "torch.Size([128, 3, 28, 28])\n",
      "torch.Size([128, 3, 28, 28])\n",
      "torch.Size([128, 9, 28, 28])\n",
      "torch.Size([128, 15, 28, 28])\n",
      "torch.Size([128, 3, 28, 28])\n",
      "torch.Size([128, 3, 28, 28])\n",
      "torch.Size([128, 9, 28, 28])\n",
      "torch.Size([128, 15, 28, 28])\n",
      "torch.Size([128, 3, 28, 28])\n",
      "torch.Size([128, 3, 28, 28])\n",
      "torch.Size([128, 9, 28, 28])\n",
      "torch.Size([128, 15, 28, 28])\n",
      "torch.Size([128, 3, 28, 28])\n",
      "torch.Size([128, 3, 28, 28])\n",
      "torch.Size([128, 9, 28, 28])\n",
      "torch.Size([128, 15, 28, 28])\n",
      "torch.Size([128, 3, 28, 28])\n",
      "torch.Size([128, 3, 28, 28])\n",
      "torch.Size([128, 9, 28, 28])\n",
      "torch.Size([128, 15, 28, 28])\n",
      "torch.Size([128, 3, 28, 28])\n",
      "torch.Size([128, 3, 28, 28])\n",
      "torch.Size([128, 9, 28, 28])\n",
      "torch.Size([128, 15, 28, 28])\n",
      "torch.Size([128, 3, 28, 28])\n",
      "torch.Size([128, 3, 28, 28])\n",
      "torch.Size([128, 9, 28, 28])\n",
      "torch.Size([128, 15, 28, 28])\n",
      "torch.Size([128, 3, 28, 28])\n",
      "torch.Size([128, 3, 28, 28])\n",
      "torch.Size([128, 9, 28, 28])\n",
      "torch.Size([128, 15, 28, 28])\n",
      "torch.Size([128, 3, 28, 28])\n",
      "torch.Size([128, 3, 28, 28])\n",
      "torch.Size([128, 9, 28, 28])\n",
      "torch.Size([128, 15, 28, 28])\n",
      "torch.Size([128, 3, 28, 28])\n",
      "torch.Size([128, 3, 28, 28])\n",
      "torch.Size([128, 9, 28, 28])\n",
      "torch.Size([128, 15, 28, 28])\n",
      "torch.Size([128, 3, 28, 28])\n",
      "torch.Size([128, 3, 28, 28])\n",
      "torch.Size([128, 9, 28, 28])\n",
      "torch.Size([128, 15, 28, 28])\n",
      "torch.Size([128, 3, 28, 28])\n",
      "torch.Size([128, 3, 28, 28])\n",
      "torch.Size([128, 9, 28, 28])\n",
      "torch.Size([128, 15, 28, 28])\n",
      "torch.Size([128, 3, 28, 28])\n",
      "torch.Size([128, 3, 28, 28])\n",
      "torch.Size([128, 9, 28, 28])\n",
      "torch.Size([128, 15, 28, 28])\n",
      "torch.Size([128, 3, 28, 28])\n",
      "torch.Size([128, 3, 28, 28])\n",
      "torch.Size([128, 9, 28, 28])\n",
      "torch.Size([128, 15, 28, 28])\n",
      "torch.Size([128, 3, 28, 28])\n",
      "torch.Size([128, 3, 28, 28])\n",
      "torch.Size([128, 9, 28, 28])\n",
      "torch.Size([128, 15, 28, 28])\n",
      "torch.Size([128, 3, 28, 28])\n",
      "torch.Size([128, 3, 28, 28])\n",
      "torch.Size([128, 9, 28, 28])\n",
      "torch.Size([128, 15, 28, 28])\n",
      "torch.Size([128, 3, 28, 28])\n",
      "torch.Size([128, 3, 28, 28])\n",
      "torch.Size([128, 9, 28, 28])\n",
      "torch.Size([128, 15, 28, 28])\n",
      "torch.Size([128, 3, 28, 28])\n",
      "torch.Size([128, 3, 28, 28])\n",
      "torch.Size([128, 9, 28, 28])\n",
      "torch.Size([128, 15, 28, 28])\n",
      "torch.Size([128, 3, 28, 28])\n",
      "torch.Size([128, 3, 28, 28])\n",
      "torch.Size([128, 9, 28, 28])\n",
      "torch.Size([128, 15, 28, 28])\n",
      "torch.Size([128, 3, 28, 28])\n",
      "torch.Size([128, 3, 28, 28])\n",
      "torch.Size([128, 9, 28, 28])\n",
      "torch.Size([128, 15, 28, 28])\n",
      "torch.Size([128, 3, 28, 28])\n",
      "torch.Size([128, 3, 28, 28])\n",
      "torch.Size([128, 9, 28, 28])\n",
      "torch.Size([128, 15, 28, 28])\n",
      "torch.Size([128, 3, 28, 28])\n",
      "torch.Size([128, 3, 28, 28])\n",
      "torch.Size([128, 9, 28, 28])\n",
      "torch.Size([128, 15, 28, 28])\n",
      "torch.Size([128, 3, 28, 28])\n",
      "torch.Size([128, 3, 28, 28])\n",
      "torch.Size([128, 9, 28, 28])\n",
      "torch.Size([128, 15, 28, 28])\n",
      "torch.Size([128, 3, 28, 28])\n",
      "torch.Size([128, 3, 28, 28])\n",
      "torch.Size([128, 9, 28, 28])\n",
      "torch.Size([128, 15, 28, 28])\n",
      "torch.Size([128, 3, 28, 28])\n",
      "torch.Size([128, 3, 28, 28])\n",
      "torch.Size([128, 9, 28, 28])\n",
      "torch.Size([128, 15, 28, 28])\n",
      "torch.Size([128, 3, 28, 28])\n",
      "torch.Size([128, 3, 28, 28])\n",
      "torch.Size([128, 9, 28, 28])\n",
      "torch.Size([128, 15, 28, 28])\n",
      "torch.Size([128, 3, 28, 28])\n",
      "torch.Size([128, 3, 28, 28])\n",
      "torch.Size([128, 9, 28, 28])\n",
      "torch.Size([128, 15, 28, 28])\n",
      "torch.Size([128, 3, 28, 28])\n",
      "torch.Size([128, 3, 28, 28])\n",
      "torch.Size([128, 9, 28, 28])\n",
      "torch.Size([128, 15, 28, 28])\n",
      "torch.Size([128, 3, 28, 28])\n",
      "torch.Size([128, 3, 28, 28])\n",
      "torch.Size([128, 9, 28, 28])\n",
      "torch.Size([128, 15, 28, 28])\n"
     ]
    },
    {
     "ename": "KeyboardInterrupt",
     "evalue": "",
     "output_type": "error",
     "traceback": [
      "\u001b[0;31m---------------------------------------------------------------------------\u001b[0m",
      "\u001b[0;31mKeyboardInterrupt\u001b[0m                         Traceback (most recent call last)",
      "\u001b[0;32m/tmp/ipykernel_2446988/3386834283.py\u001b[0m in \u001b[0;36m<module>\u001b[0;34m\u001b[0m\n\u001b[1;32m      3\u001b[0m \u001b[0mnet\u001b[0m \u001b[0;34m=\u001b[0m \u001b[0mmodels\u001b[0m\u001b[0;34m.\u001b[0m\u001b[0mRotNet20\u001b[0m\u001b[0;34m(\u001b[0m\u001b[0mn1\u001b[0m\u001b[0;34m=\u001b[0m\u001b[0mn_labels\u001b[0m\u001b[0;34m)\u001b[0m\u001b[0;34m\u001b[0m\u001b[0;34m\u001b[0m\u001b[0m\n\u001b[1;32m      4\u001b[0m \u001b[0mprint\u001b[0m\u001b[0;34m(\u001b[0m\u001b[0mmodels\u001b[0m\u001b[0;34m.\u001b[0m\u001b[0mcount_parameters\u001b[0m\u001b[0;34m(\u001b[0m\u001b[0mnet\u001b[0m\u001b[0;34m)\u001b[0m\u001b[0;34m)\u001b[0m\u001b[0;34m\u001b[0m\u001b[0;34m\u001b[0m\u001b[0m\n\u001b[0;32m----> 5\u001b[0;31m \u001b[0mout\u001b[0m \u001b[0;34m=\u001b[0m \u001b[0mtrain_and_eval\u001b[0m\u001b[0;34m(\u001b[0m\u001b[0mnet\u001b[0m\u001b[0;34m,\u001b[0m\u001b[0mmy_loader\u001b[0m\u001b[0;34m,\u001b[0m \u001b[0mmy_loader_val\u001b[0m\u001b[0;34m,\u001b[0m \u001b[0mmy_loader_test\u001b[0m\u001b[0;34m,\u001b[0m \u001b[0mdevice\u001b[0m\u001b[0;34m=\u001b[0m\u001b[0mdevice\u001b[0m\u001b[0;34m,\u001b[0m\u001b[0;34m)\u001b[0m\u001b[0;34m\u001b[0m\u001b[0;34m\u001b[0m\u001b[0m\n\u001b[0m\u001b[1;32m      6\u001b[0m \u001b[0mauc_val\u001b[0m \u001b[0;34m=\u001b[0m \u001b[0mout\u001b[0m\u001b[0;34m[\u001b[0m\u001b[0;34m'auc_val'\u001b[0m\u001b[0;34m]\u001b[0m\u001b[0;34m\u001b[0m\u001b[0;34m\u001b[0m\u001b[0m\n\u001b[1;32m      7\u001b[0m \u001b[0mauc_test\u001b[0m \u001b[0;34m=\u001b[0m \u001b[0mout\u001b[0m\u001b[0;34m[\u001b[0m\u001b[0;34m'auc_test'\u001b[0m\u001b[0;34m]\u001b[0m\u001b[0;34m\u001b[0m\u001b[0;34m\u001b[0m\u001b[0m\n",
      "\u001b[0;32m~/Documents/UCLA/exponential_network/exp_2023/exp2024/models.py\u001b[0m in \u001b[0;36mtrain_and_eval\u001b[0;34m(net, my_loader, my_loader_val, my_loader_test, device, nepochs, lr)\u001b[0m\n\u001b[1;32m   1296\u001b[0m     \u001b[0;32mfor\u001b[0m \u001b[0me\u001b[0m \u001b[0;32min\u001b[0m \u001b[0mrange\u001b[0m\u001b[0;34m(\u001b[0m\u001b[0mnepochs\u001b[0m\u001b[0;34m)\u001b[0m\u001b[0;34m:\u001b[0m\u001b[0;34m\u001b[0m\u001b[0;34m\u001b[0m\u001b[0m\n\u001b[1;32m   1297\u001b[0m         \u001b[0mcount\u001b[0m \u001b[0;34m=\u001b[0m \u001b[0;36m0\u001b[0m\u001b[0;34m\u001b[0m\u001b[0;34m\u001b[0m\u001b[0m\n\u001b[0;32m-> 1298\u001b[0;31m         \u001b[0mcorrect\u001b[0m \u001b[0;34m=\u001b[0m \u001b[0;36m0\u001b[0m\u001b[0;34m\u001b[0m\u001b[0;34m\u001b[0m\u001b[0m\n\u001b[0m\u001b[1;32m   1299\u001b[0m         \u001b[0mEsave_\u001b[0m \u001b[0;34m=\u001b[0m \u001b[0;34m[\u001b[0m\u001b[0;34m]\u001b[0m\u001b[0;34m\u001b[0m\u001b[0;34m\u001b[0m\u001b[0m\n\u001b[1;32m   1300\u001b[0m         \u001b[0mtruth\u001b[0m \u001b[0;34m=\u001b[0m \u001b[0;34m[\u001b[0m\u001b[0;34m]\u001b[0m\u001b[0;34m\u001b[0m\u001b[0;34m\u001b[0m\u001b[0m\n",
      "\u001b[0;32m~/.local/intelpython3/lib/python3.7/site-packages/torch/nn/modules/module.py\u001b[0m in \u001b[0;36m_call_impl\u001b[0;34m(self, *input, **kwargs)\u001b[0m\n\u001b[1;32m   1192\u001b[0m         if not (self._backward_hooks or self._forward_hooks or self._forward_pre_hooks or _global_backward_hooks\n\u001b[1;32m   1193\u001b[0m                 or _global_forward_hooks or _global_forward_pre_hooks):\n\u001b[0;32m-> 1194\u001b[0;31m             \u001b[0;32mreturn\u001b[0m \u001b[0mforward_call\u001b[0m\u001b[0;34m(\u001b[0m\u001b[0;34m*\u001b[0m\u001b[0minput\u001b[0m\u001b[0;34m,\u001b[0m \u001b[0;34m**\u001b[0m\u001b[0mkwargs\u001b[0m\u001b[0;34m)\u001b[0m\u001b[0;34m\u001b[0m\u001b[0;34m\u001b[0m\u001b[0m\n\u001b[0m\u001b[1;32m   1195\u001b[0m         \u001b[0;31m# Do not call functions when jit is used\u001b[0m\u001b[0;34m\u001b[0m\u001b[0;34m\u001b[0m\u001b[0;34m\u001b[0m\u001b[0m\n\u001b[1;32m   1196\u001b[0m         \u001b[0mfull_backward_hooks\u001b[0m\u001b[0;34m,\u001b[0m \u001b[0mnon_full_backward_hooks\u001b[0m \u001b[0;34m=\u001b[0m \u001b[0;34m[\u001b[0m\u001b[0;34m]\u001b[0m\u001b[0;34m,\u001b[0m \u001b[0;34m[\u001b[0m\u001b[0;34m]\u001b[0m\u001b[0;34m\u001b[0m\u001b[0;34m\u001b[0m\u001b[0m\n",
      "\u001b[0;32m~/Documents/UCLA/exponential_network/exp_2023/exp2024/models.py\u001b[0m in \u001b[0;36mforward\u001b[0;34m(self, x)\u001b[0m\n\u001b[1;32m   1046\u001b[0m \u001b[0;34m\u001b[0m\u001b[0m\n\u001b[1;32m   1047\u001b[0m         \u001b[0mx0\u001b[0m \u001b[0;34m=\u001b[0m \u001b[0mx\u001b[0m\u001b[0;34m.\u001b[0m\u001b[0mclone\u001b[0m\u001b[0;34m(\u001b[0m\u001b[0;34m)\u001b[0m\u001b[0;34m\u001b[0m\u001b[0;34m\u001b[0m\u001b[0m\n\u001b[0;32m-> 1048\u001b[0;31m         \u001b[0mx\u001b[0m \u001b[0;34m=\u001b[0m \u001b[0mself\u001b[0m\u001b[0;34m.\u001b[0m\u001b[0ms1__\u001b[0m\u001b[0;34m(\u001b[0m\u001b[0mself\u001b[0m\u001b[0;34m.\u001b[0m\u001b[0mb1__\u001b[0m\u001b[0;34m(\u001b[0m\u001b[0mself\u001b[0m\u001b[0;34m.\u001b[0m\u001b[0mc1__\u001b[0m\u001b[0;34m(\u001b[0m\u001b[0mx\u001b[0m\u001b[0;34m)\u001b[0m\u001b[0;34m)\u001b[0m\u001b[0;34m)\u001b[0m\u001b[0;34m\u001b[0m\u001b[0;34m\u001b[0m\u001b[0m\n\u001b[0m\u001b[1;32m   1049\u001b[0m         \u001b[0mx\u001b[0m \u001b[0;34m=\u001b[0m \u001b[0mself\u001b[0m\u001b[0;34m.\u001b[0m\u001b[0mb1a__\u001b[0m\u001b[0;34m(\u001b[0m\u001b[0mself\u001b[0m\u001b[0;34m.\u001b[0m\u001b[0mc1a__\u001b[0m\u001b[0;34m(\u001b[0m\u001b[0mx\u001b[0m\u001b[0;34m)\u001b[0m\u001b[0;34m)\u001b[0m\u001b[0;34m\u001b[0m\u001b[0;34m\u001b[0m\u001b[0m\n\u001b[1;32m   1050\u001b[0m         \u001b[0mx\u001b[0m \u001b[0;34m=\u001b[0m \u001b[0mx\u001b[0m \u001b[0;34m+\u001b[0m \u001b[0mx0\u001b[0m\u001b[0;34m\u001b[0m\u001b[0;34m\u001b[0m\u001b[0m\n",
      "\u001b[0;32m~/.local/intelpython3/lib/python3.7/site-packages/torch/nn/modules/module.py\u001b[0m in \u001b[0;36m_call_impl\u001b[0;34m(self, *input, **kwargs)\u001b[0m\n\u001b[1;32m   1192\u001b[0m         if not (self._backward_hooks or self._forward_hooks or self._forward_pre_hooks or _global_backward_hooks\n\u001b[1;32m   1193\u001b[0m                 or _global_forward_hooks or _global_forward_pre_hooks):\n\u001b[0;32m-> 1194\u001b[0;31m             \u001b[0;32mreturn\u001b[0m \u001b[0mforward_call\u001b[0m\u001b[0;34m(\u001b[0m\u001b[0;34m*\u001b[0m\u001b[0minput\u001b[0m\u001b[0;34m,\u001b[0m \u001b[0;34m**\u001b[0m\u001b[0mkwargs\u001b[0m\u001b[0;34m)\u001b[0m\u001b[0;34m\u001b[0m\u001b[0;34m\u001b[0m\u001b[0m\n\u001b[0m\u001b[1;32m   1195\u001b[0m         \u001b[0;31m# Do not call functions when jit is used\u001b[0m\u001b[0;34m\u001b[0m\u001b[0;34m\u001b[0m\u001b[0;34m\u001b[0m\u001b[0m\n\u001b[1;32m   1196\u001b[0m         \u001b[0mfull_backward_hooks\u001b[0m\u001b[0;34m,\u001b[0m \u001b[0mnon_full_backward_hooks\u001b[0m \u001b[0;34m=\u001b[0m \u001b[0;34m[\u001b[0m\u001b[0;34m]\u001b[0m\u001b[0;34m,\u001b[0m \u001b[0;34m[\u001b[0m\u001b[0;34m]\u001b[0m\u001b[0;34m\u001b[0m\u001b[0;34m\u001b[0m\u001b[0m\n",
      "\u001b[0;32m~/Documents/UCLA/exponential_network/exp_2023/exp2024/models.py\u001b[0m in \u001b[0;36mforward\u001b[0;34m(self, x)\u001b[0m\n\u001b[1;32m    334\u001b[0m                 \u001b[0mb11\u001b[0m \u001b[0;34m=\u001b[0m \u001b[0mself\u001b[0m\u001b[0;34m.\u001b[0m\u001b[0mb11\u001b[0m\u001b[0;34m[\u001b[0m\u001b[0;36m2\u001b[0m\u001b[0;34m,\u001b[0m\u001b[0;34m...\u001b[0m\u001b[0;34m,\u001b[0m\u001b[0;32mNone\u001b[0m\u001b[0;34m,\u001b[0m\u001b[0;32mNone\u001b[0m\u001b[0;34m]\u001b[0m\u001b[0;34m*\u001b[0m\u001b[0mself\u001b[0m\u001b[0;34m.\u001b[0m\u001b[0mR24\u001b[0m \u001b[0;34m+\u001b[0m \u001b[0mself\u001b[0m\u001b[0;34m.\u001b[0m\u001b[0mb11\u001b[0m\u001b[0;34m[\u001b[0m\u001b[0;36m3\u001b[0m\u001b[0;34m,\u001b[0m\u001b[0;34m...\u001b[0m\u001b[0;34m,\u001b[0m\u001b[0;32mNone\u001b[0m\u001b[0;34m,\u001b[0m\u001b[0;32mNone\u001b[0m\u001b[0;34m]\u001b[0m\u001b[0;34m*\u001b[0m\u001b[0mself\u001b[0m\u001b[0;34m.\u001b[0m\u001b[0mR25\u001b[0m \u001b[0;34m+\u001b[0m \u001b[0mself\u001b[0m\u001b[0;34m.\u001b[0m\u001b[0mb11\u001b[0m\u001b[0;34m[\u001b[0m\u001b[0;36m4\u001b[0m\u001b[0;34m,\u001b[0m\u001b[0;34m...\u001b[0m\u001b[0;34m,\u001b[0m\u001b[0;32mNone\u001b[0m\u001b[0;34m,\u001b[0m\u001b[0;32mNone\u001b[0m\u001b[0;34m]\u001b[0m\u001b[0;34m*\u001b[0m\u001b[0mself\u001b[0m\u001b[0;34m.\u001b[0m\u001b[0mR28\u001b[0m\u001b[0;34m\u001b[0m\u001b[0;34m\u001b[0m\u001b[0m\n\u001b[1;32m    335\u001b[0m             \u001b[0mb00\u001b[0m \u001b[0;34m=\u001b[0m \u001b[0mb00\u001b[0m \u001b[0;34m*\u001b[0m \u001b[0mself\u001b[0m\u001b[0;34m.\u001b[0m\u001b[0mXX\u001b[0m\u001b[0;34m\u001b[0m\u001b[0;34m\u001b[0m\u001b[0m\n\u001b[0;32m--> 336\u001b[0;31m             \u001b[0mb01\u001b[0m \u001b[0;34m=\u001b[0m \u001b[0mb01\u001b[0m \u001b[0;34m*\u001b[0m \u001b[0mself\u001b[0m\u001b[0;34m.\u001b[0m\u001b[0mXR90X\u001b[0m\u001b[0;34m\u001b[0m\u001b[0;34m\u001b[0m\u001b[0m\n\u001b[0m\u001b[1;32m    337\u001b[0m             \u001b[0mb10\u001b[0m \u001b[0;34m=\u001b[0m \u001b[0mb10\u001b[0m \u001b[0;34m*\u001b[0m \u001b[0mself\u001b[0m\u001b[0;34m.\u001b[0m\u001b[0mR90XX\u001b[0m\u001b[0;34m\u001b[0m\u001b[0;34m\u001b[0m\u001b[0m\n\u001b[1;32m    338\u001b[0m             \u001b[0mb11\u001b[0m \u001b[0;34m=\u001b[0m \u001b[0mb11\u001b[0m \u001b[0;34m*\u001b[0m \u001b[0mself\u001b[0m\u001b[0;34m.\u001b[0m\u001b[0mR90XR90X\u001b[0m\u001b[0;34m\u001b[0m\u001b[0;34m\u001b[0m\u001b[0m\n",
      "\u001b[0;31mKeyboardInterrupt\u001b[0m: "
     ]
    },
    {
     "data": {
      "application/vnd.jupyter.widget-view+json": {
       "model_id": "f2e49444574340c4a39f953e588d1eb3",
       "version_major": 2,
       "version_minor": 0
      },
      "image/png": "[encoded data removed]",
      "text/plain": [
       "Canvas(toolbar=Toolbar(toolitems=[('Home', 'Reset original view', 'home', 'home'), ('Back', 'Back to previous …"
      ]
     },
     "metadata": {},
     "output_type": "display_data"
    }
   ],
   "source": [
    "# 20 layers is from cifar\n",
    "reload(models)\n",
    "net = models.RotNet20(n1=n_labels)\n",
    "print(models.count_parameters(net))\n",
    "out = train_and_eval(net,my_loader, my_loader_val, my_loader_test, device=device,)\n",
    "auc_val = out['auc_val']\n",
    "auc_test = out['auc_test']\n",
    "hard_auc_test = out['hard_auc_test']\n",
    "accuracy_test = out['accuracy_test']\n",
    "ind = auc_val.index(np.max(auc_val))\n",
    "print('best auc, hard auc, accuracy')\n",
    "print(auc_test[ind],hard_auc_test[ind], accuracy_test[ind])\n",
    "print('final auc, hard auc, accuracy')\n",
    "print(auc_test[-1],hard_auc_test[-1], accuracy_test[-1])"
   ]
  },
  {
   "cell_type": "code",
   "execution_count": null,
   "id": "cbe2525f",
   "metadata": {},
   "outputs": [],
   "source": [
    "out['net'] = None\n",
    "import gc\n",
    "gc.collect()\n",
    "torch.cuda.empty_cache()"
   ]
  },
  {
   "cell_type": "code",
   "execution_count": null,
   "id": "ef6e2ac5",
   "metadata": {},
   "outputs": [],
   "source": [
    "# 20 layers is from cifar, but lets try 5x5\n",
    "reload(models)\n",
    "net = models.RotNet20(n1=n_labels,kernel_size=5)\n",
    "print(models.count_parameters(net))\n",
    "out = train_and_eval(net,my_loader, my_loader_val, my_loader_test, device=device,)\n",
    "auc_val = out['auc_val']\n",
    "auc_test = out['auc_test']\n",
    "hard_auc_test = out['hard_auc_test']\n",
    "accuracy_test = out['accuracy_test']\n",
    "ind = auc_val.index(np.max(auc_val))\n",
    "print('best auc, hard auc, accuracy')\n",
    "print(auc_test[ind],hard_auc_test[ind], accuracy_test[ind])\n",
    "print('final auc, hard auc, accuracy')\n",
    "print(auc_test[-1],hard_auc_test[-1], accuracy_test[-1])"
   ]
  },
  {
   "cell_type": "code",
   "execution_count": null,
   "id": "daa0e2ac",
   "metadata": {},
   "outputs": [],
   "source": []
  },
  {
   "cell_type": "code",
   "execution_count": null,
   "id": "8256a564",
   "metadata": {},
   "outputs": [],
   "source": [
    "# 20 layers is from cifar\n",
    "# extra channels so it matches parameters\n",
    "# below is about 400K\n",
    "net = models.RotNet20(n0=36,n1=n_labels)\n",
    "print(models.count_parameters(net))\n",
    "out = train_and_eval(net,my_loader, my_loader_val, my_loader_test, device=device,)\n",
    "auc_val = out['auc_val']\n",
    "auc_test = out['auc_test']\n",
    "hard_auc_test = out['hard_auc_test']\n",
    "accuracy_test = out['accuracy_test']\n",
    "ind = auc_val.index(np.max(auc_val))\n",
    "print('best auc, hard auc, accuracy')\n",
    "print(auc_test[ind],hard_auc_test[ind], accuracy_test[ind])\n",
    "print('final auc, hard auc, accuracy')\n",
    "print(auc_test[-1],hard_auc_test[-1], accuracy_test[-1])"
   ]
  },
  {
   "cell_type": "code",
   "execution_count": null,
   "id": "29e19f02",
   "metadata": {},
   "outputs": [],
   "source": [
    "out['net'] = None\n",
    "import gc\n",
    "gc.collect()\n",
    "torch.cuda.empty_cache()"
   ]
  },
  {
   "cell_type": "code",
   "execution_count": null,
   "id": "bc63b23f",
   "metadata": {},
   "outputs": [],
   "source": [
    "net = models.ResNet18(n1=n_labels)\n",
    "print(models.count_parameters(net))\n",
    "out = train_and_eval(net,my_loader, my_loader_val, my_loader_test, device=device,)\n",
    "auc_val = out['auc_val']\n",
    "auc_test = out['auc_test']\n",
    "hard_auc_test = out['hard_auc_test']\n",
    "accuracy_test = out['accuracy_test']\n",
    "ind = auc_val.index(np.max(auc_val))\n",
    "print('best auc, hard auc, accuracy')\n",
    "print(auc_test[ind],hard_auc_test[ind], accuracy_test[ind])\n",
    "print('final auc, hard auc, accuracy')\n",
    "print(auc_test[-1],hard_auc_test[-1], accuracy_test[-1])"
   ]
  },
  {
   "cell_type": "code",
   "execution_count": null,
   "id": "eb55da1c",
   "metadata": {},
   "outputs": [],
   "source": [
    "out['net'] = None\n",
    "import gc\n",
    "gc.collect()\n",
    "torch.cuda.empty_cache()"
   ]
  },
  {
   "cell_type": "code",
   "execution_count": null,
   "id": "9cc0da5c",
   "metadata": {},
   "outputs": [],
   "source": [
    "# this is the resnet from the resnet paper for cifar10\n",
    "net = models.ResNet20(n1=n_labels)\n",
    "print(models.count_parameters(net))\n",
    "out = train_and_eval(net,my_loader, my_loader_val, my_loader_test, device=device,)\n",
    "auc_val = out['auc_val']\n",
    "auc_test = out['auc_test']\n",
    "hard_auc_test = out['hard_auc_test']\n",
    "accuracy_test = out['accuracy_test']\n",
    "ind = auc_val.index(np.max(auc_val))\n",
    "print('best auc, hard auc, accuracy')\n",
    "print(auc_test[ind],hard_auc_test[ind], accuracy_test[ind])\n",
    "print('final auc, hard auc, accuracy')\n",
    "print(auc_test[-1],hard_auc_test[-1], accuracy_test[-1])"
   ]
  },
  {
   "cell_type": "code",
   "execution_count": null,
   "id": "b01e6644",
   "metadata": {},
   "outputs": [],
   "source": [
    "out['net'] = None\n",
    "import gc\n",
    "gc.collect()\n",
    "torch.cuda.empty_cache()"
   ]
  },
  {
   "cell_type": "code",
   "execution_count": null,
   "id": "e3d36b0d",
   "metadata": {},
   "outputs": [],
   "source": []
  }
 ],
 "metadata": {
  "kernelspec": {
   "display_name": "Python 3 (ipykernel)",
   "language": "python",
   "name": "python3"
  },
  "language_info": {
   "codemirror_mode": {
    "name": "ipython",
    "version": 3
   },
   "file_extension": ".py",
   "mimetype": "text/x-python",
   "name": "python",
   "nbconvert_exporter": "python",
   "pygments_lexer": "ipython3",
   "version": "3.7.7"
  }
 },
 "nbformat": 4,
 "nbformat_minor": 5
}
