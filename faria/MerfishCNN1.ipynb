{
 "cells": [
  {
   "cell_type": "code",
   "execution_count": null,
   "id": "389f3038-19e5-4fc0-b99b-8895ae01f540",
   "metadata": {},
   "outputs": [],
   "source": [
    "import os\n",
    "import sys\n",
    "\n",
    "path = os.getcwd()\n",
    "par_path = os.path.abspath(os.pardir)\n",
    "sys.path.append(par_path)\n",
    "\n",
    "from utils.data import ExtractROI, AtlasDataset\n",
    "from torch.utils.data import Dataset, DataLoader"
   ]
  },
  {
   "cell_type": "code",
   "execution_count": null,
   "id": "7fa31616-30db-4195-95e3-2f11d438de18",
   "metadata": {},
   "outputs": [],
   "source": [
    "train_dir = '/nafs/dtward/allen/rois/64x64_sample_rate_0_5_center/train/'\n",
    "# '/nafs/dtward/allen/rois/64x64_sample_rate_0_5_all/train/'\n",
    "# '/nafs/dtward/allen/rois/64x64_sample_rate_0_5_mode/train/'\n",
    "# '/nafs/dtward/allen/rois/64x64_sample_rate_0_5_center/train/'\n",
    "\n",
    "test_dir = '/nafs/dtward/allen/rois/64x64_sample_rate_0_5_center/test/'\n",
    "# '/nafs/dtward/allen/rois/64x64_sample_rate_0_5_all/test/'\n",
    "# '/nafs/dtward/allen/rois/64x64_sample_rate_0_5_all/test/'\n",
    "# '/nafs/dtward/allen/rois/64x64_sample_rate_0_5_center/test/'\n",
    "\n",
    "\n",
    "label_map_file = '/nafs/dtward/allen/rois/structures.csv' # can also be divisions.csv, organs.csv, structures.csv, substructures.csv, categories.csv\n",
    "\n",
    "train_dataset = AtlasDataset(data_dir=train_dir, label_map_file=label_map_file)\n",
    "test_dataset = AtlasDataset(data_dir=test_dir, label_map_file=label_map_file)\n",
    "\n",
    "bs = 16 # this is the batch size. Make it smaller if it takes too long to load a batch.\n",
    "train_loader = DataLoader(train_dataset, batch_size=bs, shuffle=True)\n",
    "test_loader = DataLoader(test_dataset, batch_size=bs, shuffle=True)"
   ]
  },
  {
   "cell_type": "code",
   "execution_count": null,
   "id": "e21959e8-6f74-407f-8369-e54c88bce322",
   "metadata": {},
   "outputs": [],
   "source": [
    "print(next(iter(train_dataset))[1])\n",
    "print(train_dataset.num_classes)"
   ]
  }
 ],
 "metadata": {
  "kernelspec": {
   "display_name": "Python 3 (ipykernel)",
   "language": "python",
   "name": "python3"
  },
  "language_info": {
   "codemirror_mode": {
    "name": "ipython",
    "version": 3
   },
   "file_extension": ".py",
   "mimetype": "text/x-python",
   "name": "python",
   "nbconvert_exporter": "python",
   "pygments_lexer": "ipython3",
   "version": "3.9.19"
  }
 },
 "nbformat": 4,
 "nbformat_minor": 5
}
