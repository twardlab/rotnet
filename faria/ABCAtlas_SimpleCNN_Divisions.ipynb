{
 "cells": [
  {
   "cell_type": "code",
   "execution_count": 36,
   "id": "389f3038-19e5-4fc0-b99b-8895ae01f540",
   "metadata": {},
   "outputs": [],
   "source": [
    "import os\n",
    "import sys\n",
    "import torch  # Ensure torch is imported\n",
    "import matplotlib.pyplot as plt\n",
    "import matplotlib\n",
    "import torch.nn as nn\n",
    "import torch.optim as optim\n",
    "import torch.nn.functional as F\n",
    "from torch.utils.data import DataLoader\n",
    "from sklearn.metrics import roc_auc_score\n",
    "import matplotlib.pyplot as plt\n",
    "from tqdm import tqdm\n",
    "from sklearn.metrics import accuracy_score, roc_auc_score\n",
    "%matplotlib inline\n",
    "import numpy as np\n",
    "from sklearn.metrics import confusion_matrix\n",
    "import seaborn as sns\n",
    "import matplotlib.pyplot as plt\n",
    "from collections import Counter\n",
    "\n",
    "\n",
    "path = os.getcwd()\n",
    "par_path = os.path.abspath(os.pardir)\n",
    "sys.path.append(par_path)\n",
    "\n",
    "from utils.data import ExtractROI, AtlasDataset\n",
    "from torch.utils.data import Dataset, DataLoader"
   ]
  },
  {
   "cell_type": "code",
   "execution_count": 37,
   "id": "7fa31616-30db-4195-95e3-2f11d438de18",
   "metadata": {},
   "outputs": [],
   "source": [
    "# if you are running this notebook from scratch, please extract the ROIs and paste the path you want to use\n",
    "# for train and test\n",
    "train_dir = '/nafs/dtward/allen/rois/64x64_sample_rate_0_5_center/train/'\n",
    "# '/nafs/dtward/allen/rois/64x64_sample_rate_0_5_all/train/'\n",
    "# '/nafs/dtward/allen/rois/64x64_sample_rate_0_5_mode/train/'\n",
    "# '/nafs/dtward/allen/rois/64x64_sample_rate_0_5_center/train/'\n",
    "\n",
    "test_dir = '/nafs/dtward/allen/rois/64x64_sample_rate_0_5_center/test/'\n",
    "# '/nafs/dtward/allen/rois/64x64_sample_rate_0_5_all/test/'\n",
    "# '/nafs/dtward/allen/rois/64x64_sample_rate_0_5_all/test/'\n",
    "# '/nafs/dtward/allen/rois/64x64_sample_rate_0_5_center/test/'\n",
    "\n",
    "# label_map_file converts from parcellation indices to indices \n",
    "# for classification (can be one of  divisions.csv, organs.csv, structures.csv, substructures.csv, categories.csv\n",
    "label_map_file = '/nafs/dtward/allen/rois/divisions.csv' \n",
    "\n",
    "train_dataset = AtlasDataset(data_dir=train_dir, label_map_file=label_map_file)\n",
    "test_dataset = AtlasDataset(data_dir=test_dir, label_map_file=label_map_file)\n",
    "\n",
    "bs = 16 # this is the batch size. Make it smaller if it takes too long to load a batch.\n",
    "train_loader = DataLoader(train_dataset, batch_size=bs, shuffle=True)\n",
    "test_loader = DataLoader(test_dataset, batch_size=bs, shuffle=True)"
   ]
  },
  {
   "cell_type": "code",
   "execution_count": 38,
   "id": "e21959e8-6f74-407f-8369-e54c88bce322",
   "metadata": {},
   "outputs": [
    {
     "name": "stdout",
     "output_type": "stream",
     "text": [
      "[13]\n",
      "26\n"
     ]
    }
   ],
   "source": [
    "print(next(iter(train_dataset))[1])\n",
    "print(train_dataset.num_classes)"
   ]
  },
  {
   "cell_type": "code",
   "execution_count": 39,
   "id": "d339fda1-4e66-4e7f-b336-166c7cc542d0",
   "metadata": {},
   "outputs": [],
   "source": [
    "# Get a batch of data from the data loader and associate it with the \n",
    "'''\n",
    "    Args:\n",
    "    data_iter\n",
    "        passed to the next() function\n",
    "\n",
    "    Returns:\n",
    "        the next batch of 'images' and 'labels'\n",
    "    '''\n",
    "data_iter = iter(train_loader)\n",
    "images, labels = next(data_iter)"
   ]
  },
  {
   "cell_type": "code",
   "execution_count": 40,
   "id": "ec6a930c-1e2c-4072-8a8e-a9c071ffe69c",
   "metadata": {},
   "outputs": [
    {
     "name": "stdout",
     "output_type": "stream",
     "text": [
      "torch.Size([16, 501, 64, 64])\n"
     ]
    }
   ],
   "source": [
    "# Print the shape of the images, this will help know the dimensions of the images and aid in the input for # of channels\n",
    "print(images.shape)"
   ]
  },
  {
   "cell_type": "code",
   "execution_count": 42,
   "id": "7df343a6-bf9a-45d4-abc0-4c044d6c0dcb",
   "metadata": {
    "scrolled": true
   },
   "outputs": [
    {
     "name": "stdout",
     "output_type": "stream",
     "text": [
      "Label map: {0: {'name': 'unassigned', 'index': 0}, 1: {'name': 'HY', 'index': 1}, 27: {'name': 'HY', 'index': 1}, 34: {'name': 'HY', 'index': 1}, 58: {'name': 'HY', 'index': 1}, 67: {'name': 'HY', 'index': 1}, 83: {'name': 'HY', 'index': 1}, 113: {'name': 'HY', 'index': 1}, 121: {'name': 'HY', 'index': 1}, 128: {'name': 'HY', 'index': 1}, 167: {'name': 'HY', 'index': 1}, 187: {'name': 'HY', 'index': 1}, 203: {'name': 'HY', 'index': 1}, 216: {'name': 'HY', 'index': 1}, 219: {'name': 'HY', 'index': 1}, 256: {'name': 'HY', 'index': 1}, 264: {'name': 'HY', 'index': 1}, 276: {'name': 'HY', 'index': 1}, 322: {'name': 'HY', 'index': 1}, 328: {'name': 'HY', 'index': 1}, 337: {'name': 'HY', 'index': 1}, 346: {'name': 'HY', 'index': 1}, 354: {'name': 'HY', 'index': 1}, 380: {'name': 'HY', 'index': 1}, 442: {'name': 'HY', 'index': 1}, 460: {'name': 'HY', 'index': 1}, 505: {'name': 'HY', 'index': 1}, 513: {'name': 'HY', 'index': 1}, 515: {'name': 'HY', 'index': 1}, 604: {'name': 'HY', 'index': 1}, 679: {'name': 'HY', 'index': 1}, 683: {'name': 'HY', 'index': 1}, 722: {'name': 'HY', 'index': 1}, 753: {'name': 'HY', 'index': 1}, 787: {'name': 'HY', 'index': 1}, 794: {'name': 'HY', 'index': 1}, 820: {'name': 'HY', 'index': 1}, 904: {'name': 'HY', 'index': 1}, 936: {'name': 'HY', 'index': 1}, 970: {'name': 'HY', 'index': 1}, 994: {'name': 'HY', 'index': 1}, 1086: {'name': 'HY', 'index': 1}, 1098: {'name': 'HY', 'index': 1}, 1113: {'name': 'HY', 'index': 1}, 1127: {'name': 'HY', 'index': 1}, 1306: {'name': 'HY', 'index': 1}, 1307: {'name': 'HY', 'index': 1}, 1313: {'name': 'HY', 'index': 1}, 1314: {'name': 'HY', 'index': 1}, 1315: {'name': 'HY', 'index': 1}, 1316: {'name': 'HY', 'index': 1}, 2: {'name': 'Isocortex', 'index': 2}, 8: {'name': 'Isocortex', 'index': 2}, 29: {'name': 'Isocortex', 'index': 2}, 32: {'name': 'Isocortex', 'index': 2}, 36: {'name': 'Isocortex', 'index': 2}, 63: {'name': 'Isocortex', 'index': 2}, 69: {'name': 'Isocortex', 'index': 2}, 79: {'name': 'Isocortex', 'index': 2}, 92: {'name': 'Isocortex', 'index': 2}, 108: {'name': 'Isocortex', 'index': 2}, 115: {'name': 'Isocortex', 'index': 2}, 116: {'name': 'Isocortex', 'index': 2}, 127: {'name': 'Isocortex', 'index': 2}, 143: {'name': 'Isocortex', 'index': 2}, 151: {'name': 'Isocortex', 'index': 2}, 158: {'name': 'Isocortex', 'index': 2}, 166: {'name': 'Isocortex', 'index': 2}, 173: {'name': 'Isocortex', 'index': 2}, 180: {'name': 'Isocortex', 'index': 2}, 194: {'name': 'Isocortex', 'index': 2}, 204: {'name': 'Isocortex', 'index': 2}, 226: {'name': 'Isocortex', 'index': 2}, 227: {'name': 'Isocortex', 'index': 2}, 236: {'name': 'Isocortex', 'index': 2}, 242: {'name': 'Isocortex', 'index': 2}, 244: {'name': 'Isocortex', 'index': 2}, 245: {'name': 'Isocortex', 'index': 2}, 250: {'name': 'Isocortex', 'index': 2}, 261: {'name': 'Isocortex', 'index': 2}, 265: {'name': 'Isocortex', 'index': 2}, 270: {'name': 'Isocortex', 'index': 2}, 272: {'name': 'Isocortex', 'index': 2}, 278: {'name': 'Isocortex', 'index': 2}, 279: {'name': 'Isocortex', 'index': 2}, 286: {'name': 'Isocortex', 'index': 2}, 294: {'name': 'Isocortex', 'index': 2}, 295: {'name': 'Isocortex', 'index': 2}, 304: {'name': 'Isocortex', 'index': 2}, 310: {'name': 'Isocortex', 'index': 2}, 318: {'name': 'Isocortex', 'index': 2}, 320: {'name': 'Isocortex', 'index': 2}, 325: {'name': 'Isocortex', 'index': 2}, 334: {'name': 'Isocortex', 'index': 2}, 345: {'name': 'Isocortex', 'index': 2}, 353: {'name': 'Isocortex', 'index': 2}, 358: {'name': 'Isocortex', 'index': 2}, 367: {'name': 'Isocortex', 'index': 2}, 383: {'name': 'Isocortex', 'index': 2}, 391: {'name': 'Isocortex', 'index': 2}, 402: {'name': 'Isocortex', 'index': 2}, 411: {'name': 'Isocortex', 'index': 2}, 417: {'name': 'Isocortex', 'index': 2}, 420: {'name': 'Isocortex', 'index': 2}, 423: {'name': 'Isocortex', 'index': 2}, 424: {'name': 'Isocortex', 'index': 2}, 430: {'name': 'Isocortex', 'index': 2}, 431: {'name': 'Isocortex', 'index': 2}, 432: {'name': 'Isocortex', 'index': 2}, 438: {'name': 'Isocortex', 'index': 2}, 440: {'name': 'Isocortex', 'index': 2}, 446: {'name': 'Isocortex', 'index': 2}, 451: {'name': 'Isocortex', 'index': 2}, 459: {'name': 'Isocortex', 'index': 2}, 468: {'name': 'Isocortex', 'index': 2}, 474: {'name': 'Isocortex', 'index': 2}, 478: {'name': 'Isocortex', 'index': 2}, 491: {'name': 'Isocortex', 'index': 2}, 500: {'name': 'Isocortex', 'index': 2}, 510: {'name': 'Isocortex', 'index': 2}, 517: {'name': 'Isocortex', 'index': 2}, 530: {'name': 'Isocortex', 'index': 2}, 532: {'name': 'Isocortex', 'index': 2}, 535: {'name': 'Isocortex', 'index': 2}, 546: {'name': 'Isocortex', 'index': 2}, 548: {'name': 'Isocortex', 'index': 2}, 555: {'name': 'Isocortex', 'index': 2}, 563: {'name': 'Isocortex', 'index': 2}, 567: {'name': 'Isocortex', 'index': 2}, 572: {'name': 'Isocortex', 'index': 2}, 578: {'name': 'Isocortex', 'index': 2}, 580: {'name': 'Isocortex', 'index': 2}, 583: {'name': 'Isocortex', 'index': 2}, 588: {'name': 'Isocortex', 'index': 2}, 590: {'name': 'Isocortex', 'index': 2}, 591: {'name': 'Isocortex', 'index': 2}, 598: {'name': 'Isocortex', 'index': 2}, 600: {'name': 'Isocortex', 'index': 2}, 603: {'name': 'Isocortex', 'index': 2}, 610: {'name': 'Isocortex', 'index': 2}, 612: {'name': 'Isocortex', 'index': 2}, 615: {'name': 'Isocortex', 'index': 2}, 620: {'name': 'Isocortex', 'index': 2}, 628: {'name': 'Isocortex', 'index': 2}, 633: {'name': 'Isocortex', 'index': 2}, 638: {'name': 'Isocortex', 'index': 2}, 639: {'name': 'Isocortex', 'index': 2}, 644: {'name': 'Isocortex', 'index': 2}, 646: {'name': 'Isocortex', 'index': 2}, 647: {'name': 'Isocortex', 'index': 2}, 652: {'name': 'Isocortex', 'index': 2}, 657: {'name': 'Isocortex', 'index': 2}, 660: {'name': 'Isocortex', 'index': 2}, 661: {'name': 'Isocortex', 'index': 2}, 665: {'name': 'Isocortex', 'index': 2}, 668: {'name': 'Isocortex', 'index': 2}, 670: {'name': 'Isocortex', 'index': 2}, 677: {'name': 'Isocortex', 'index': 2}, 682: {'name': 'Isocortex', 'index': 2}, 684: {'name': 'Isocortex', 'index': 2}, 686: {'name': 'Isocortex', 'index': 2}, 689: {'name': 'Isocortex', 'index': 2}, 692: {'name': 'Isocortex', 'index': 2}, 694: {'name': 'Isocortex', 'index': 2}, 697: {'name': 'Isocortex', 'index': 2}, 711: {'name': 'Isocortex', 'index': 2}, 719: {'name': 'Isocortex', 'index': 2}, 725: {'name': 'Isocortex', 'index': 2}, 740: {'name': 'Isocortex', 'index': 2}, 745: {'name': 'Isocortex', 'index': 2}, 749: {'name': 'Isocortex', 'index': 2}, 757: {'name': 'Isocortex', 'index': 2}, 762: {'name': 'Isocortex', 'index': 2}, 764: {'name': 'Isocortex', 'index': 2}, 768: {'name': 'Isocortex', 'index': 2}, 773: {'name': 'Isocortex', 'index': 2}, 776: {'name': 'Isocortex', 'index': 2}, 781: {'name': 'Isocortex', 'index': 2}, 790: {'name': 'Isocortex', 'index': 2}, 795: {'name': 'Isocortex', 'index': 2}, 796: {'name': 'Isocortex', 'index': 2}, 800: {'name': 'Isocortex', 'index': 2}, 806: {'name': 'Isocortex', 'index': 2}, 809: {'name': 'Isocortex', 'index': 2}, 811: {'name': 'Isocortex', 'index': 2}, 817: {'name': 'Isocortex', 'index': 2}, 821: {'name': 'Isocortex', 'index': 2}, 826: {'name': 'Isocortex', 'index': 2}, 828: {'name': 'Isocortex', 'index': 2}, 834: {'name': 'Isocortex', 'index': 2}, 837: {'name': 'Isocortex', 'index': 2}, 839: {'name': 'Isocortex', 'index': 2}, 844: {'name': 'Isocortex', 'index': 2}, 847: {'name': 'Isocortex', 'index': 2}, 852: {'name': 'Isocortex', 'index': 2}, 859: {'name': 'Isocortex', 'index': 2}, 863: {'name': 'Isocortex', 'index': 2}, 868: {'name': 'Isocortex', 'index': 2}, 872: {'name': 'Isocortex', 'index': 2}, 878: {'name': 'Isocortex', 'index': 2}, 879: {'name': 'Isocortex', 'index': 2}, 883: {'name': 'Isocortex', 'index': 2}, 887: {'name': 'Isocortex', 'index': 2}, 892: {'name': 'Isocortex', 'index': 2}, 895: {'name': 'Isocortex', 'index': 2}, 896: {'name': 'Isocortex', 'index': 2}, 900: {'name': 'Isocortex', 'index': 2}, 909: {'name': 'Isocortex', 'index': 2}, 917: {'name': 'Isocortex', 'index': 2}, 919: {'name': 'Isocortex', 'index': 2}, 925: {'name': 'Isocortex', 'index': 2}, 933: {'name': 'Isocortex', 'index': 2}, 935: {'name': 'Isocortex', 'index': 2}, 940: {'name': 'Isocortex', 'index': 2}, 944: {'name': 'Isocortex', 'index': 2}, 949: {'name': 'Isocortex', 'index': 2}, 952: {'name': 'Isocortex', 'index': 2}, 955: {'name': 'Isocortex', 'index': 2}, 959: {'name': 'Isocortex', 'index': 2}, 963: {'name': 'Isocortex', 'index': 2}, 964: {'name': 'Isocortex', 'index': 2}, 967: {'name': 'Isocortex', 'index': 2}, 971: {'name': 'Isocortex', 'index': 2}, 978: {'name': 'Isocortex', 'index': 2}, 980: {'name': 'Isocortex', 'index': 2}, 986: {'name': 'Isocortex', 'index': 2}, 995: {'name': 'Isocortex', 'index': 2}, 996: {'name': 'Isocortex', 'index': 2}, 1000: {'name': 'Isocortex', 'index': 2}, 1004: {'name': 'Isocortex', 'index': 2}, 1010: {'name': 'Isocortex', 'index': 2}, 1012: {'name': 'Isocortex', 'index': 2}, 1015: {'name': 'Isocortex', 'index': 2}, 1019: {'name': 'Isocortex', 'index': 2}, 1024: {'name': 'Isocortex', 'index': 2}, 1027: {'name': 'Isocortex', 'index': 2}, 1034: {'name': 'Isocortex', 'index': 2}, 1035: {'name': 'Isocortex', 'index': 2}, 1036: {'name': 'Isocortex', 'index': 2}, 1043: {'name': 'Isocortex', 'index': 2}, 1047: {'name': 'Isocortex', 'index': 2}, 1051: {'name': 'Isocortex', 'index': 2}, 1055: {'name': 'Isocortex', 'index': 2}, 1059: {'name': 'Isocortex', 'index': 2}, 1063: {'name': 'Isocortex', 'index': 2}, 1070: {'name': 'Isocortex', 'index': 2}, 1074: {'name': 'Isocortex', 'index': 2}, 1075: {'name': 'Isocortex', 'index': 2}, 1079: {'name': 'Isocortex', 'index': 2}, 1083: {'name': 'Isocortex', 'index': 2}, 1090: {'name': 'Isocortex', 'index': 2}, 1091: {'name': 'Isocortex', 'index': 2}, 1095: {'name': 'Isocortex', 'index': 2}, 1100: {'name': 'Isocortex', 'index': 2}, 1103: {'name': 'Isocortex', 'index': 2}, 1112: {'name': 'Isocortex', 'index': 2}, 1114: {'name': 'Isocortex', 'index': 2}, 1115: {'name': 'Isocortex', 'index': 2}, 1201: {'name': 'Isocortex', 'index': 2}, 1202: {'name': 'Isocortex', 'index': 2}, 1203: {'name': 'Isocortex', 'index': 2}, 1204: {'name': 'Isocortex', 'index': 2}, 1205: {'name': 'Isocortex', 'index': 2}, 1206: {'name': 'Isocortex', 'index': 2}, 1209: {'name': 'Isocortex', 'index': 2}, 1210: {'name': 'Isocortex', 'index': 2}, 1211: {'name': 'Isocortex', 'index': 2}, 1212: {'name': 'Isocortex', 'index': 2}, 1213: {'name': 'Isocortex', 'index': 2}, 1214: {'name': 'Isocortex', 'index': 2}, 1216: {'name': 'Isocortex', 'index': 2}, 1217: {'name': 'Isocortex', 'index': 2}, 1218: {'name': 'Isocortex', 'index': 2}, 1219: {'name': 'Isocortex', 'index': 2}, 1220: {'name': 'Isocortex', 'index': 2}, 1221: {'name': 'Isocortex', 'index': 2}, 1222: {'name': 'Isocortex', 'index': 2}, 1223: {'name': 'Isocortex', 'index': 2}, 1224: {'name': 'Isocortex', 'index': 2}, 1225: {'name': 'Isocortex', 'index': 2}, 1226: {'name': 'Isocortex', 'index': 2}, 1227: {'name': 'Isocortex', 'index': 2}, 1229: {'name': 'Isocortex', 'index': 2}, 1230: {'name': 'Isocortex', 'index': 2}, 1231: {'name': 'Isocortex', 'index': 2}, 1232: {'name': 'Isocortex', 'index': 2}, 1233: {'name': 'Isocortex', 'index': 2}, 1234: {'name': 'Isocortex', 'index': 2}, 1288: {'name': 'Isocortex', 'index': 2}, 1289: {'name': 'Isocortex', 'index': 2}, 1290: {'name': 'Isocortex', 'index': 2}, 1291: {'name': 'Isocortex', 'index': 2}, 5: {'name': 'lfbs', 'index': 3}, 183: {'name': 'lfbs', 'index': 3}, 191: {'name': 'lfbs', 'index': 3}, 569: {'name': 'lfbs', 'index': 3}, 774: {'name': 'lfbs', 'index': 3}, 914: {'name': 'lfbs', 'index': 3}, 946: {'name': 'lfbs', 'index': 3}, 954: {'name': 'lfbs', 'index': 3}, 961: {'name': 'lfbs', 'index': 3}, 976: {'name': 'lfbs', 'index': 3}, 1081: {'name': 'lfbs', 'index': 3}, 1097: {'name': 'lfbs', 'index': 3}, 1281: {'name': 'lfbs', 'index': 3}, 1282: {'name': 'lfbs', 'index': 3}, 1283: {'name': 'lfbs', 'index': 3}, 6: {'name': 'P', 'index': 4}, 100: {'name': 'P', 'index': 4}, 109: {'name': 'P', 'index': 4}, 117: {'name': 'P', 'index': 4}, 118: {'name': 'P', 'index': 4}, 141: {'name': 'P', 'index': 4}, 142: {'name': 'P', 'index': 4}, 157: {'name': 'P', 'index': 4}, 231: {'name': 'P', 'index': 4}, 271: {'name': 'P', 'index': 4}, 308: {'name': 'P', 'index': 4}, 340: {'name': 'P', 'index': 4}, 348: {'name': 'P', 'index': 4}, 524: {'name': 'P', 'index': 4}, 564: {'name': 'P', 'index': 4}, 594: {'name': 'P', 'index': 4}, 602: {'name': 'P', 'index': 4}, 611: {'name': 'P', 'index': 4}, 669: {'name': 'P', 'index': 4}, 761: {'name': 'P', 'index': 4}, 857: {'name': 'P', 'index': 4}, 870: {'name': 'P', 'index': 4}, 888: {'name': 'P', 'index': 4}, 921: {'name': 'P', 'index': 4}, 1082: {'name': 'P', 'index': 4}, 1296: {'name': 'P', 'index': 4}, 1297: {'name': 'P', 'index': 4}, 1298: {'name': 'P', 'index': 4}, 1299: {'name': 'P', 'index': 4}, 1312: {'name': 'P', 'index': 4}, 9: {'name': 'MB', 'index': 5}, 11: {'name': 'MB', 'index': 5}, 15: {'name': 'MB', 'index': 5}, 23: {'name': 'MB', 'index': 5}, 31: {'name': 'MB', 'index': 5}, 37: {'name': 'MB', 'index': 5}, 45: {'name': 'MB', 'index': 5}, 53: {'name': 'MB', 'index': 5}, 61: {'name': 'MB', 'index': 5}, 62: {'name': 'MB', 'index': 5}, 70: {'name': 'MB', 'index': 5}, 95: {'name': 'MB', 'index': 5}, 110: {'name': 'MB', 'index': 5}, 123: {'name': 'MB', 'index': 5}, 190: {'name': 'MB', 'index': 5}, 207: {'name': 'MB', 'index': 5}, 208: {'name': 'MB', 'index': 5}, 224: {'name': 'MB', 'index': 5}, 239: {'name': 'MB', 'index': 5}, 263: {'name': 'MB', 'index': 5}, 303: {'name': 'MB', 'index': 5}, 364: {'name': 'MB', 'index': 5}, 371: {'name': 'MB', 'index': 5}, 521: {'name': 'MB', 'index': 5}, 570: {'name': 'MB', 'index': 5}, 577: {'name': 'MB', 'index': 5}, 581: {'name': 'MB', 'index': 5}, 606: {'name': 'MB', 'index': 5}, 618: {'name': 'MB', 'index': 5}, 624: {'name': 'MB', 'index': 5}, 696: {'name': 'MB', 'index': 5}, 739: {'name': 'MB', 'index': 5}, 747: {'name': 'MB', 'index': 5}, 785: {'name': 'MB', 'index': 5}, 801: {'name': 'MB', 'index': 5}, 810: {'name': 'MB', 'index': 5}, 818: {'name': 'MB', 'index': 5}, 824: {'name': 'MB', 'index': 5}, 832: {'name': 'MB', 'index': 5}, 841: {'name': 'MB', 'index': 5}, 862: {'name': 'MB', 'index': 5}, 864: {'name': 'MB', 'index': 5}, 965: {'name': 'MB', 'index': 5}, 1041: {'name': 'MB', 'index': 5}, 1050: {'name': 'MB', 'index': 5}, 1293: {'name': 'MB', 'index': 5}, 1295: {'name': 'MB', 'index': 5}, 1311: {'name': 'MB', 'index': 5}, 1317: {'name': 'MB', 'index': 5}, 1318: {'name': 'MB', 'index': 5}, 1319: {'name': 'MB', 'index': 5}, 1320: {'name': 'MB', 'index': 5}, 1321: {'name': 'MB', 'index': 5}, 1322: {'name': 'MB', 'index': 5}, 1323: {'name': 'MB', 'index': 5}, 1324: {'name': 'MB', 'index': 5}, 1325: {'name': 'MB', 'index': 5}, 1326: {'name': 'MB', 'index': 5}, 1327: {'name': 'MB', 'index': 5}, 13: {'name': 'TH', 'index': 6}, 24: {'name': 'TH', 'index': 6}, 54: {'name': 'TH', 'index': 6}, 59: {'name': 'TH', 'index': 6}, 144: {'name': 'TH', 'index': 6}, 150: {'name': 'TH', 'index': 6}, 171: {'name': 'TH', 'index': 6}, 174: {'name': 'TH', 'index': 6}, 179: {'name': 'TH', 'index': 6}, 182: {'name': 'TH', 'index': 6}, 211: {'name': 'TH', 'index': 6}, 248: {'name': 'TH', 'index': 6}, 255: {'name': 'TH', 'index': 6}, 311: {'name': 'TH', 'index': 6}, 315: {'name': 'TH', 'index': 6}, 352: {'name': 'TH', 'index': 6}, 356: {'name': 'TH', 'index': 6}, 404: {'name': 'TH', 'index': 6}, 412: {'name': 'TH', 'index': 6}, 473: {'name': 'TH', 'index': 6}, 539: {'name': 'TH', 'index': 6}, 565: {'name': 'TH', 'index': 6}, 589: {'name': 'TH', 'index': 6}, 599: {'name': 'TH', 'index': 6}, 619: {'name': 'TH', 'index': 6}, 675: {'name': 'TH', 'index': 6}, 708: {'name': 'TH', 'index': 6}, 715: {'name': 'TH', 'index': 6}, 723: {'name': 'TH', 'index': 6}, 731: {'name': 'TH', 'index': 6}, 897: {'name': 'TH', 'index': 6}, 920: {'name': 'TH', 'index': 6}, 1009: {'name': 'TH', 'index': 6}, 1018: {'name': 'TH', 'index': 6}, 1033: {'name': 'TH', 'index': 6}, 1061: {'name': 'TH', 'index': 6}, 1066: {'name': 'TH', 'index': 6}, 1068: {'name': 'TH', 'index': 6}, 1077: {'name': 'TH', 'index': 6}, 1085: {'name': 'TH', 'index': 6}, 1093: {'name': 'TH', 'index': 6}, 1102: {'name': 'TH', 'index': 6}, 1108: {'name': 'TH', 'index': 6}, 1285: {'name': 'TH', 'index': 6}, 1286: {'name': 'TH', 'index': 6}, 1287: {'name': 'TH', 'index': 6}, 1300: {'name': 'TH', 'index': 6}, 1302: {'name': 'TH', 'index': 6}, 1303: {'name': 'TH', 'index': 6}, 1304: {'name': 'TH', 'index': 6}, 1305: {'name': 'TH', 'index': 6}, 17: {'name': 'HPF', 'index': 7}, 18: {'name': 'HPF', 'index': 7}, 25: {'name': 'HPF', 'index': 7}, 47: {'name': 'HPF', 'index': 7}, 134: {'name': 'HPF', 'index': 7}, 372: {'name': 'HPF', 'index': 7}, 381: {'name': 'HPF', 'index': 7}, 389: {'name': 'HPF', 'index': 7}, 397: {'name': 'HPF', 'index': 7}, 405: {'name': 'HPF', 'index': 7}, 421: {'name': 'HPF', 'index': 7}, 428: {'name': 'HPF', 'index': 7}, 436: {'name': 'HPF', 'index': 7}, 444: {'name': 'HPF', 'index': 7}, 453: {'name': 'HPF', 'index': 7}, 461: {'name': 'HPF', 'index': 7}, 469: {'name': 'HPF', 'index': 7}, 476: {'name': 'HPF', 'index': 7}, 485: {'name': 'HPF', 'index': 7}, 492: {'name': 'HPF', 'index': 7}, 494: {'name': 'HPF', 'index': 7}, 516: {'name': 'HPF', 'index': 7}, 533: {'name': 'HPF', 'index': 7}, 622: {'name': 'HPF', 'index': 7}, 654: {'name': 'HPF', 'index': 7}, 717: {'name': 'HPF', 'index': 7}, 733: {'name': 'HPF', 'index': 7}, 833: {'name': 'HPF', 'index': 7}, 972: {'name': 'HPF', 'index': 7}, 1026: {'name': 'HPF', 'index': 7}, 1073: {'name': 'HPF', 'index': 7}, 1078: {'name': 'HPF', 'index': 7}, 1109: {'name': 'HPF', 'index': 7}, 1159: {'name': 'HPF', 'index': 7}, 1160: {'name': 'HPF', 'index': 7}, 1270: {'name': 'HPF', 'index': 7}, 1279: {'name': 'HPF', 'index': 7}, 1308: {'name': 'HPF', 'index': 7}, 21: {'name': 'STR', 'index': 8}, 51: {'name': 'STR', 'index': 8}, 243: {'name': 'STR', 'index': 8}, 251: {'name': 'STR', 'index': 8}, 258: {'name': 'STR', 'index': 8}, 282: {'name': 'STR', 'index': 8}, 300: {'name': 'STR', 'index': 8}, 323: {'name': 'STR', 'index': 8}, 393: {'name': 'STR', 'index': 8}, 467: {'name': 'STR', 'index': 8}, 534: {'name': 'STR', 'index': 8}, 541: {'name': 'STR', 'index': 8}, 549: {'name': 'STR', 'index': 8}, 662: {'name': 'STR', 'index': 8}, 744: {'name': 'STR', 'index': 8}, 988: {'name': 'STR', 'index': 8}, 1094: {'name': 'STR', 'index': 8}, 49: {'name': 'mfbs', 'index': 9}, 291: {'name': 'mfbs', 'index': 9}, 339: {'name': 'mfbs', 'index': 9}, 418: {'name': 'mfbs', 'index': 9}, 426: {'name': 'mfbs', 'index': 9}, 433: {'name': 'mfbs', 'index': 9}, 439: {'name': 'mfbs', 'index': 9}, 456: {'name': 'mfbs', 'index': 9}, 520: {'name': 'mfbs', 'index': 9}, 585: {'name': 'mfbs', 'index': 9}, 593: {'name': 'mfbs', 'index': 9}, 601: {'name': 'mfbs', 'index': 9}, 663: {'name': 'mfbs', 'index': 9}, 671: {'name': 'mfbs', 'index': 9}, 680: {'name': 'mfbs', 'index': 9}, 743: {'name': 'mfbs', 'index': 9}, 792: {'name': 'mfbs', 'index': 9}, 874: {'name': 'mfbs', 'index': 9}, 898: {'name': 'mfbs', 'index': 9}, 930: {'name': 'mfbs', 'index': 9}, 1284: {'name': 'mfbs', 'index': 9}, 57: {'name': 'cm', 'index': 10}, 88: {'name': 'cm', 'index': 10}, 112: {'name': 'cm', 'index': 10}, 120: {'name': 'cm', 'index': 10}, 153: {'name': 'cm', 'index': 10}, 222: {'name': 'cm', 'index': 10}, 230: {'name': 'cm', 'index': 10}, 326: {'name': 'cm', 'index': 10}, 370: {'name': 'cm', 'index': 10}, 403: {'name': 'cm', 'index': 10}, 472: {'name': 'cm', 'index': 10}, 496: {'name': 'cm', 'index': 10}, 528: {'name': 'cm', 'index': 10}, 623: {'name': 'cm', 'index': 10}, 648: {'name': 'cm', 'index': 10}, 655: {'name': 'cm', 'index': 10}, 687: {'name': 'cm', 'index': 10}, 784: {'name': 'cm', 'index': 10}, 788: {'name': 'cm', 'index': 10}, 822: {'name': 'cm', 'index': 10}, 831: {'name': 'cm', 'index': 10}, 838: {'name': 'cm', 'index': 10}, 890: {'name': 'cm', 'index': 10}, 901: {'name': 'cm', 'index': 10}, 906: {'name': 'cm', 'index': 10}, 939: {'name': 'cm', 'index': 10}, 1005: {'name': 'cm', 'index': 10}, 1104: {'name': 'cm', 'index': 10}, 73: {'name': 'cbf', 'index': 11}, 316: {'name': 'cbf', 'index': 11}, 543: {'name': 'cbf', 'index': 11}, 718: {'name': 'cbf', 'index': 11}, 734: {'name': 'cbf', 'index': 11}, 802: {'name': 'cbf', 'index': 11}, 840: {'name': 'cbf', 'index': 11}, 856: {'name': 'cbf', 'index': 11}, 1110: {'name': 'cbf', 'index': 11}, 76: {'name': 'VL', 'index': 12}, 93: {'name': 'VL', 'index': 12}, 103: {'name': 'VL', 'index': 12}, 78: {'name': 'MY', 'index': 13}, 91: {'name': 'MY', 'index': 13}, 96: {'name': 'MY', 'index': 13}, 101: {'name': 'MY', 'index': 13}, 131: {'name': 'MY', 'index': 13}, 138: {'name': 'MY', 'index': 13}, 164: {'name': 'MY', 'index': 13}, 170: {'name': 'MY', 'index': 13}, 195: {'name': 'MY', 'index': 13}, 196: {'name': 'MY', 'index': 13}, 199: {'name': 'MY', 'index': 13}, 200: {'name': 'MY', 'index': 13}, 202: {'name': 'MY', 'index': 13}, 210: {'name': 'MY', 'index': 13}, 215: {'name': 'MY', 'index': 13}, 218: {'name': 'MY', 'index': 13}, 223: {'name': 'MY', 'index': 13}, 297: {'name': 'MY', 'index': 13}, 344: {'name': 'MY', 'index': 13}, 362: {'name': 'MY', 'index': 13}, 419: {'name': 'MY', 'index': 13}, 427: {'name': 'MY', 'index': 13}, 435: {'name': 'MY', 'index': 13}, 566: {'name': 'MY', 'index': 13}, 632: {'name': 'MY', 'index': 13}, 641: {'name': 'MY', 'index': 13}, 643: {'name': 'MY', 'index': 13}, 651: {'name': 'MY', 'index': 13}, 701: {'name': 'MY', 'index': 13}, 755: {'name': 'MY', 'index': 13}, 763: {'name': 'MY', 'index': 13}, 771: {'name': 'MY', 'index': 13}, 829: {'name': 'MY', 'index': 13}, 842: {'name': 'MY', 'index': 13}, 849: {'name': 'MY', 'index': 13}, 893: {'name': 'MY', 'index': 13}, 929: {'name': 'MY', 'index': 13}, 945: {'name': 'MY', 'index': 13}, 953: {'name': 'MY', 'index': 13}, 960: {'name': 'MY', 'index': 13}, 968: {'name': 'MY', 'index': 13}, 1028: {'name': 'MY', 'index': 13}, 1037: {'name': 'MY', 'index': 13}, 1058: {'name': 'MY', 'index': 13}, 1087: {'name': 'MY', 'index': 13}, 1096: {'name': 'MY', 'index': 13}, 1309: {'name': 'MY', 'index': 13}, 86: {'name': 'CB', 'index': 14}, 502: {'name': 'CB', 'index': 14}, 836: {'name': 'CB', 'index': 14}, 902: {'name': 'CB', 'index': 14}, 926: {'name': 'CB', 'index': 14}, 934: {'name': 'CB', 'index': 14}, 941: {'name': 'CB', 'index': 14}, 947: {'name': 'CB', 'index': 14}, 958: {'name': 'CB', 'index': 14}, 966: {'name': 'CB', 'index': 14}, 974: {'name': 'CB', 'index': 14}, 979: {'name': 'CB', 'index': 14}, 997: {'name': 'CB', 'index': 14}, 1014: {'name': 'CB', 'index': 14}, 1022: {'name': 'CB', 'index': 14}, 1030: {'name': 'CB', 'index': 14}, 1038: {'name': 'CB', 'index': 14}, 1045: {'name': 'CB', 'index': 14}, 1053: {'name': 'CB', 'index': 14}, 1080: {'name': 'CB', 'index': 14}, 1310: {'name': 'CB', 'index': 14}, 97: {'name': 'eps', 'index': 15}, 387: {'name': 'eps', 'index': 15}, 853: {'name': 'eps', 'index': 15}, 1032: {'name': 'eps', 'index': 15}, 1040: {'name': 'eps', 'index': 15}, 1049: {'name': 'eps', 'index': 15}, 124: {'name': 'V3', 'index': 16}, 126: {'name': 'CTXsp', 'index': 17}, 293: {'name': 'CTXsp', 'index': 17}, 301: {'name': 'CTXsp', 'index': 17}, 317: {'name': 'CTXsp', 'index': 17}, 324: {'name': 'CTXsp', 'index': 17}, 441: {'name': 'CTXsp', 'index': 17}, 573: {'name': 'CTXsp', 'index': 17}, 693: {'name': 'CTXsp', 'index': 17}, 770: {'name': 'CTXsp', 'index': 17}, 942: {'name': 'CTXsp', 'index': 17}, 956: {'name': 'CTXsp', 'index': 17}, 135: {'name': 'AQ', 'index': 18}, 140: {'name': 'V4', 'index': 19}, 148: {'name': 'V4', 'index': 19}, 154: {'name': 'OLF', 'index': 20}, 181: {'name': 'OLF', 'index': 20}, 189: {'name': 'OLF', 'index': 20}, 197: {'name': 'OLF', 'index': 20}, 213: {'name': 'OLF', 'index': 20}, 221: {'name': 'OLF', 'index': 20}, 229: {'name': 'OLF', 'index': 20}, 237: {'name': 'OLF', 'index': 20}, 253: {'name': 'OLF', 'index': 20}, 260: {'name': 'OLF', 'index': 20}, 497: {'name': 'OLF', 'index': 20}, 556: {'name': 'OLF', 'index': 20}, 587: {'name': 'OLF', 'index': 20}, 595: {'name': 'OLF', 'index': 20}, 629: {'name': 'OLF', 'index': 20}, 645: {'name': 'OLF', 'index': 20}, 653: {'name': 'OLF', 'index': 20}, 688: {'name': 'OLF', 'index': 20}, 778: {'name': 'OLF', 'index': 20}, 804: {'name': 'OLF', 'index': 20}, 951: {'name': 'OLF', 'index': 20}, 1120: {'name': 'OLF', 'index': 20}, 159: {'name': 'c', 'index': 21}, 277: {'name': 'PAL', 'index': 22}, 288: {'name': 'PAL', 'index': 22}, 332: {'name': 'PAL', 'index': 22}, 341: {'name': 'PAL', 'index': 22}, 554: {'name': 'PAL', 'index': 22}, 571: {'name': 'PAL', 'index': 22}, 586: {'name': 'PAL', 'index': 22}, 793: {'name': 'PAL', 'index': 22}, 1011: {'name': 'PAL', 'index': 22}, 1020: {'name': 'PAL', 'index': 22}, 987: {'name': 'brain-unassigned', 'index': 23}, 999: {'name': 'fiber tracts-unassigned', 'index': 24}, 1280: {'name': 'scwm', 'index': 25}}\n"
     ]
    }
   ],
   "source": [
    "#Access the label_map from the DataLoader, print out all of the items in the label_map\n",
    "label_map = test_loader.dataset.label_map\n",
    "print(\"Label map:\", label_map)"
   ]
  },
  {
   "cell_type": "code",
   "execution_count": 24,
   "id": "00c4d9f3-a77b-421c-bfce-4d4a4c87cac4",
   "metadata": {},
   "outputs": [
    {
     "name": "stdout",
     "output_type": "stream",
     "text": [
      "PAL\n",
      "unassigned\n",
      "P\n",
      "TH\n",
      "MY\n",
      "Isocortex\n",
      "lfbs\n",
      "V4\n",
      "brain-unassigned\n",
      "scwm\n",
      "CB\n",
      "fiber tracts-unassigned\n",
      "HPF\n",
      "CTXsp\n",
      "eps\n",
      "cbf\n",
      "VL\n",
      "HY\n",
      "c\n",
      "V3\n",
      "cm\n",
      "AQ\n",
      "mfbs\n",
      "OLF\n",
      "MB\n",
      "STR\n"
     ]
    }
   ],
   "source": [
    "#empty set to store unique names within the label_map\n",
    "unique_names = set()\n",
    "\n",
    "# Iterate over the labelmap and collect names\n",
    "''' \n",
    "    Args: \n",
    "    label_map.items(): iterating over the dictionary (label_map)\n",
    "    value.get('name'): retrieval of label's name from 'value' during each iteration\n",
    "\n",
    "    Return: getting the label index and the values within the dictionary and retrieves all the unique names within 'name'\n",
    "\n",
    "'''\n",
    "for key, value in label_map.items():\n",
    "    name = value.get('name')\n",
    "    if name:\n",
    "        unique_names.add(name)\n",
    "\n",
    "# Print all the unique names we have!\n",
    "for name in unique_names:\n",
    "    print(name)"
   ]
  },
  {
   "cell_type": "code",
   "execution_count": 25,
   "id": "0fe27a6a-94db-40d8-bc14-c0cf6ef8ecc8",
   "metadata": {},
   "outputs": [
    {
     "name": "stdout",
     "output_type": "stream",
     "text": [
      "Quantities of all unique 'index' values in the label_map:\n",
      "Index 0: 1 items\n",
      "Index 1: 50 items\n",
      "Index 2: 241 items\n",
      "Index 3: 15 items\n",
      "Index 4: 30 items\n",
      "Index 5: 59 items\n",
      "Index 6: 51 items\n",
      "Index 7: 38 items\n",
      "Index 8: 17 items\n",
      "Index 9: 21 items\n",
      "Index 10: 28 items\n",
      "Index 11: 9 items\n",
      "Index 12: 3 items\n",
      "Index 13: 47 items\n",
      "Index 14: 21 items\n",
      "Index 15: 6 items\n",
      "Index 16: 1 items\n",
      "Index 17: 11 items\n",
      "Index 18: 1 items\n",
      "Index 19: 2 items\n",
      "Index 20: 22 items\n",
      "Index 21: 1 items\n",
      "Index 22: 10 items\n",
      "Index 23: 1 items\n",
      "Index 24: 1 items\n",
      "Index 25: 1 items\n"
     ]
    }
   ],
   "source": [
    "\n",
    "# Extract all 'index' values from the label map\n",
    "'''\n",
    "    Args: \n",
    "    label_map.items(): retrieving value-pairs from label_map\n",
    "    Counter(index_list): \n",
    "\n",
    "    Return: shows the count of each unique 'index' found in the label_map\n",
    "'''\n",
    "index_list = [v['index'] for k, v in label_map.items()]\n",
    "\n",
    "# Count the occurrences of each unique 'index'\n",
    "index_counts = Counter(index_list)\n",
    "\n",
    "# Print out the quantities of all unique 'index' values\n",
    "print(\"Quantities of all unique 'index' values in the label_map:\")\n",
    "for index, count in index_counts.items():\n",
    "    print(f\"Index {index}: {count} items\")"
   ]
  },
  {
   "cell_type": "code",
   "execution_count": 26,
   "id": "6ef30334-0544-4e8e-b2af-0b369a5755aa",
   "metadata": {},
   "outputs": [
    {
     "name": "stdout",
     "output_type": "stream",
     "text": [
      "Indexes for 'brain-unassigned': [23]\n"
     ]
    }
   ],
   "source": [
    "def get_indexes_for_name(label_map, target_name):\n",
    "    '''\n",
    "    What does this function do?\n",
    "\n",
    "    Args:\n",
    "    arg1\n",
    "        description of arg\n",
    "        label_map_file is an arguemnt with a dictionary, and the parcellation index value is a key, value contains dictionary and the name\n",
    "\n",
    "    Returns:\n",
    "        something\n",
    "    '''\n",
    "    indexes = []\n",
    "    for key, value in label_map.items():\n",
    "        if value.get('name') == target_name:\n",
    "            indexes.append(value.get('index'))\n",
    "    return indexes\n",
    "\n",
    "# Retrieve index numbers for the name 'brain-unassigned'\n",
    "unassigned_indexes = get_indexes_for_name(label_map, 'brain-unassigned')\n",
    "\n",
    "# Print the result\n",
    "print(f\"Indexes for 'brain-unassigned': {unassigned_indexes}\")"
   ]
  },
  {
   "cell_type": "code",
   "execution_count": 27,
   "id": "76476641-8b56-46f4-bf29-51512b7afe5d",
   "metadata": {},
   "outputs": [],
   "source": [
    "class SimpleCNN(nn.Module):\n",
    "    def __init__(self, num_classes):\n",
    "        super(SimpleCNN, self).__init__()\n",
    "        self.conv1 = nn.Conv2d(in_channels=501, out_channels=32, kernel_size=3, padding=1, bias=True)\n",
    "        self.pool = nn.AvgPool2d(kernel_size=2, stride=2)\n",
    "        self.conv2 = nn.Conv2d(in_channels=32, out_channels=64, kernel_size=3, padding=1, bias=True)\n",
    "        self.conv3 = nn.Conv2d(in_channels=64, out_channels=128, kernel_size=3, padding=1, bias=True)\n",
    "        self.fc1 = nn.Linear(in_features=128*8*8, out_features=256, bias=True)\n",
    "        self.fc2 = nn.Linear(in_features=256, out_features=num_classes, bias=True)\n",
    "\n",
    "    def forward(self, x):\n",
    "        x = self.pool(torch.relu(self.conv1(x)))\n",
    "        x = self.pool(torch.relu(self.conv2(x)))\n",
    "        x = self.pool(torch.relu(self.conv3(x)))\n",
    "        x = x.view(-1, 128*8*8) # Flatten the tensor\n",
    "        x = torch.relu(self.fc1(x))\n",
    "        x = self.fc2(x)\n",
    "        return x"
   ]
  },
  {
   "cell_type": "code",
   "execution_count": 28,
   "id": "7628bb51-3218-4998-b5e2-ad627547407c",
   "metadata": {},
   "outputs": [],
   "source": [
    "# Extract label map from the train_loader\n",
    "label_map = train_loader.dataset.label_map\n",
    "num_classes = len(set(v['index'] for v in label_map.values()))\n",
    "\n",
    "# Initialize the model, criterion, and optimizer\n",
    "model = SimpleCNN(num_classes=num_classes)\n",
    "\n",
    "# Compute class weights based on label map for brain_unassigned\n",
    "weights = torch.ones(num_classes)\n",
    "for v in label_map.values():\n",
    "    if v['index'] in [23, 24]:\n",
    "        weights[v['index']] = 0\n",
    "\n",
    "criterion = nn.CrossEntropyLoss(weight=weights)\n",
    "optimizer = optim.Adam(model.parameters(), lr=0.001)"
   ]
  },
  {
   "cell_type": "code",
   "execution_count": 29,
   "id": "d4083b4a-5973-4ce8-850f-02fc5797fe39",
   "metadata": {},
   "outputs": [],
   "source": [
    "def evaluate_model(loader):\n",
    "    model.eval()\n",
    "    all_probs = []\n",
    "    all_labels = []\n",
    "    running_loss = 0.0\n",
    "    with torch.no_grad():\n",
    "        for data in tqdm(loader, desc='Evaluating', leave=False):\n",
    "            inputs, labels = data\n",
    "            labels = labels.long()\n",
    "            if labels.dim() > 1:\n",
    "                labels = labels.view(-1)\n",
    "\n",
    "            outputs = model(inputs)\n",
    "            loss = criterion(outputs, labels)\n",
    "            running_loss += loss.item()\n",
    "            probs = torch.softmax(outputs, dim=1)  # Apply softmax to outputs\n",
    "            all_probs.extend(probs.cpu().numpy())\n",
    "            all_labels.extend(labels.cpu().numpy())\n",
    "\n",
    "    # Debug: Print shapes and a few samples\n",
    "    print(f\"all_probs shape: {np.array(all_probs).shape}\")\n",
    "    print(f\"all_labels shape: {np.array(all_labels).shape}\")\n",
    "    print(\"Sample all_probs:\", all_probs[:5])\n",
    "    print(\"Sample all_labels:\", all_labels[:5])\n",
    "\n",
    "    accuracy = accuracy_score(all_labels, np.argmax(all_probs, axis=1))\n",
    "    \n",
    "    try:\n",
    "        # Compute ROC AUC score using one-vs-one (ovo) strategy\n",
    "        auc = roc_auc_score(all_labels, all_probs, multi_class='ovo', labels=torch.arange(num_classes).numpy())\n",
    "    except ValueError:\n",
    "        print(\"ValueError: AUC calculation failed. Returning 0.\")\n",
    "        auc = 0  # In case there is an error with AUC computation\n",
    "\n",
    "    return accuracy, auc, running_loss / len(loader)"
   ]
  },
  {
   "cell_type": "code",
   "execution_count": 30,
   "id": "67d0846c-06a6-4117-b755-26416f1ff3e3",
   "metadata": {},
   "outputs": [],
   "source": [
    "# Lists to store the metrics\n",
    "train_losses = []\n",
    "test_losses = []\n",
    "train_accuracies = []\n",
    "test_accuracies = []\n",
    "train_aucs = []\n",
    "test_aucs = []"
   ]
  },
  {
   "cell_type": "code",
   "execution_count": 31,
   "id": "9a0b4610-b95f-4823-a7da-aa33ca749409",
   "metadata": {
    "scrolled": true
   },
   "outputs": [
    {
     "name": "stderr",
     "output_type": "stream",
     "text": [
      "Epoch 1/10:   1%|          | 1/100 [00:00<00:26,  3.71it/s]"
     ]
    },
    {
     "name": "stdout",
     "output_type": "stream",
     "text": [
      "Input shape: torch.Size([16, 501, 64, 64]), Input type: torch.float32\n",
      "Labels shape: torch.Size([16]), Labels type: torch.int64\n",
      "Outputs shape: torch.Size([16, 26]), Outputs type: torch.float32\n"
     ]
    },
    {
     "name": "stderr",
     "output_type": "stream",
     "text": [
      "Epoch 1/10:   2%|▏         | 2/100 [00:00<00:28,  3.44it/s]"
     ]
    },
    {
     "name": "stdout",
     "output_type": "stream",
     "text": [
      "Input shape: torch.Size([16, 501, 64, 64]), Input type: torch.float32\n",
      "Labels shape: torch.Size([16]), Labels type: torch.int64\n",
      "Outputs shape: torch.Size([16, 26]), Outputs type: torch.float32\n"
     ]
    },
    {
     "name": "stderr",
     "output_type": "stream",
     "text": [
      "Epoch 1/10:   3%|▎         | 3/100 [00:00<00:26,  3.63it/s]"
     ]
    },
    {
     "name": "stdout",
     "output_type": "stream",
     "text": [
      "Input shape: torch.Size([16, 501, 64, 64]), Input type: torch.float32\n",
      "Labels shape: torch.Size([16]), Labels type: torch.int64\n",
      "Outputs shape: torch.Size([16, 26]), Outputs type: torch.float32\n"
     ]
    },
    {
     "name": "stderr",
     "output_type": "stream",
     "text": [
      "Epoch 1/10:   4%|▍         | 4/100 [00:01<00:25,  3.74it/s]"
     ]
    },
    {
     "name": "stdout",
     "output_type": "stream",
     "text": [
      "Input shape: torch.Size([16, 501, 64, 64]), Input type: torch.float32\n",
      "Labels shape: torch.Size([16]), Labels type: torch.int64\n",
      "Outputs shape: torch.Size([16, 26]), Outputs type: torch.float32\n"
     ]
    },
    {
     "name": "stderr",
     "output_type": "stream",
     "text": [
      "Epoch 1/10:   5%|▌         | 5/100 [00:01<00:23,  4.10it/s]"
     ]
    },
    {
     "name": "stdout",
     "output_type": "stream",
     "text": [
      "Input shape: torch.Size([16, 501, 64, 64]), Input type: torch.float32\n",
      "Labels shape: torch.Size([16]), Labels type: torch.int64\n",
      "Outputs shape: torch.Size([16, 26]), Outputs type: torch.float32\n"
     ]
    },
    {
     "name": "stderr",
     "output_type": "stream",
     "text": [
      "Epoch 1/10:   6%|▌         | 6/100 [00:01<00:21,  4.29it/s]"
     ]
    },
    {
     "name": "stdout",
     "output_type": "stream",
     "text": [
      "Input shape: torch.Size([16, 501, 64, 64]), Input type: torch.float32\n",
      "Labels shape: torch.Size([16]), Labels type: torch.int64\n",
      "Outputs shape: torch.Size([16, 26]), Outputs type: torch.float32\n"
     ]
    },
    {
     "name": "stderr",
     "output_type": "stream",
     "text": [
      "Epoch 1/10:   7%|▋         | 7/100 [00:01<00:20,  4.51it/s]"
     ]
    },
    {
     "name": "stdout",
     "output_type": "stream",
     "text": [
      "Input shape: torch.Size([16, 501, 64, 64]), Input type: torch.float32\n",
      "Labels shape: torch.Size([16]), Labels type: torch.int64\n",
      "Outputs shape: torch.Size([16, 26]), Outputs type: torch.float32\n",
      "Input shape: torch.Size([16, 501, 64, 64]), Input type: torch.float32\n",
      "Labels shape: torch.Size([16]), Labels type: torch.int64\n"
     ]
    },
    {
     "name": "stderr",
     "output_type": "stream",
     "text": [
      "Epoch 1/10:   8%|▊         | 8/100 [00:01<00:20,  4.43it/s]"
     ]
    },
    {
     "name": "stdout",
     "output_type": "stream",
     "text": [
      "Outputs shape: torch.Size([16, 26]), Outputs type: torch.float32\n",
      "Input shape: torch.Size([16, 501, 64, 64]), Input type: torch.float32\n",
      "Labels shape: torch.Size([16]), Labels type: torch.int64\n"
     ]
    },
    {
     "name": "stderr",
     "output_type": "stream",
     "text": [
      "Epoch 1/10:   9%|▉         | 9/100 [00:02<00:20,  4.51it/s]"
     ]
    },
    {
     "name": "stdout",
     "output_type": "stream",
     "text": [
      "Outputs shape: torch.Size([16, 26]), Outputs type: torch.float32\n"
     ]
    },
    {
     "name": "stderr",
     "output_type": "stream",
     "text": [
      "Epoch 1/10:  10%|█         | 10/100 [00:02<00:21,  4.23it/s]"
     ]
    },
    {
     "name": "stdout",
     "output_type": "stream",
     "text": [
      "Input shape: torch.Size([16, 501, 64, 64]), Input type: torch.float32\n",
      "Labels shape: torch.Size([16]), Labels type: torch.int64\n",
      "Outputs shape: torch.Size([16, 26]), Outputs type: torch.float32\n"
     ]
    },
    {
     "name": "stderr",
     "output_type": "stream",
     "text": [
      "Epoch 1/10:  11%|█         | 11/100 [00:02<00:20,  4.31it/s]"
     ]
    },
    {
     "name": "stdout",
     "output_type": "stream",
     "text": [
      "Input shape: torch.Size([16, 501, 64, 64]), Input type: torch.float32\n",
      "Labels shape: torch.Size([16]), Labels type: torch.int64\n",
      "Outputs shape: torch.Size([16, 26]), Outputs type: torch.float32\n"
     ]
    },
    {
     "name": "stderr",
     "output_type": "stream",
     "text": [
      "Epoch 1/10:  12%|█▏        | 12/100 [00:02<00:19,  4.44it/s]"
     ]
    },
    {
     "name": "stdout",
     "output_type": "stream",
     "text": [
      "Input shape: torch.Size([16, 501, 64, 64]), Input type: torch.float32\n",
      "Labels shape: torch.Size([16]), Labels type: torch.int64\n",
      "Outputs shape: torch.Size([16, 26]), Outputs type: torch.float32\n"
     ]
    },
    {
     "name": "stderr",
     "output_type": "stream",
     "text": [
      "Epoch 1/10:  13%|█▎        | 13/100 [00:03<00:19,  4.53it/s]"
     ]
    },
    {
     "name": "stdout",
     "output_type": "stream",
     "text": [
      "Input shape: torch.Size([16, 501, 64, 64]), Input type: torch.float32\n",
      "Labels shape: torch.Size([16]), Labels type: torch.int64\n",
      "Outputs shape: torch.Size([16, 26]), Outputs type: torch.float32\n"
     ]
    },
    {
     "name": "stderr",
     "output_type": "stream",
     "text": [
      "Epoch 1/10:  14%|█▍        | 14/100 [00:03<00:18,  4.58it/s]"
     ]
    },
    {
     "name": "stdout",
     "output_type": "stream",
     "text": [
      "Input shape: torch.Size([16, 501, 64, 64]), Input type: torch.float32\n",
      "Labels shape: torch.Size([16]), Labels type: torch.int64\n",
      "Outputs shape: torch.Size([16, 26]), Outputs type: torch.float32\n"
     ]
    },
    {
     "name": "stderr",
     "output_type": "stream",
     "text": [
      "Epoch 1/10:  15%|█▌        | 15/100 [00:03<00:18,  4.72it/s]"
     ]
    },
    {
     "name": "stdout",
     "output_type": "stream",
     "text": [
      "Input shape: torch.Size([16, 501, 64, 64]), Input type: torch.float32\n",
      "Labels shape: torch.Size([16]), Labels type: torch.int64\n",
      "Outputs shape: torch.Size([16, 26]), Outputs type: torch.float32\n",
      "Input shape: torch.Size([16, 501, 64, 64]), Input type: torch.float32\n",
      "Labels shape: torch.Size([16]), Labels type: torch.int64\n"
     ]
    },
    {
     "name": "stderr",
     "output_type": "stream",
     "text": [
      "Epoch 1/10:  16%|█▌        | 16/100 [00:03<00:17,  4.73it/s]"
     ]
    },
    {
     "name": "stdout",
     "output_type": "stream",
     "text": [
      "Outputs shape: torch.Size([16, 26]), Outputs type: torch.float32\n",
      "Input shape: torch.Size([16, 501, 64, 64]), Input type: torch.float32\n",
      "Labels shape: torch.Size([16]), Labels type: torch.int64\n"
     ]
    },
    {
     "name": "stderr",
     "output_type": "stream",
     "text": [
      "Epoch 1/10:  17%|█▋        | 17/100 [00:03<00:17,  4.80it/s]"
     ]
    },
    {
     "name": "stdout",
     "output_type": "stream",
     "text": [
      "Outputs shape: torch.Size([16, 26]), Outputs type: torch.float32\n",
      "Input shape: torch.Size([16, 501, 64, 64]), Input type: torch.float32\n",
      "Labels shape: torch.Size([16]), Labels type: torch.int64\n"
     ]
    },
    {
     "name": "stderr",
     "output_type": "stream",
     "text": [
      "Epoch 1/10:  18%|█▊        | 18/100 [00:04<00:17,  4.78it/s]"
     ]
    },
    {
     "name": "stdout",
     "output_type": "stream",
     "text": [
      "Outputs shape: torch.Size([16, 26]), Outputs type: torch.float32\n",
      "Input shape: torch.Size([16, 501, 64, 64]), Input type: torch.float32\n",
      "Labels shape: torch.Size([16]), Labels type: torch.int64\n"
     ]
    },
    {
     "name": "stderr",
     "output_type": "stream",
     "text": [
      "Epoch 1/10:  19%|█▉        | 19/100 [00:04<00:16,  4.79it/s]"
     ]
    },
    {
     "name": "stdout",
     "output_type": "stream",
     "text": [
      "Outputs shape: torch.Size([16, 26]), Outputs type: torch.float32\n",
      "Input shape: torch.Size([16, 501, 64, 64]), Input type: torch.float32\n",
      "Labels shape: torch.Size([16]), Labels type: torch.int64\n"
     ]
    },
    {
     "name": "stderr",
     "output_type": "stream",
     "text": [
      "Epoch 1/10:  20%|██        | 20/100 [00:04<00:17,  4.70it/s]"
     ]
    },
    {
     "name": "stdout",
     "output_type": "stream",
     "text": [
      "Outputs shape: torch.Size([16, 26]), Outputs type: torch.float32\n"
     ]
    },
    {
     "name": "stderr",
     "output_type": "stream",
     "text": [
      "Epoch 1/10:  21%|██        | 21/100 [00:04<00:17,  4.41it/s]"
     ]
    },
    {
     "name": "stdout",
     "output_type": "stream",
     "text": [
      "Input shape: torch.Size([16, 501, 64, 64]), Input type: torch.float32\n",
      "Labels shape: torch.Size([16]), Labels type: torch.int64\n",
      "Outputs shape: torch.Size([16, 26]), Outputs type: torch.float32\n"
     ]
    },
    {
     "name": "stderr",
     "output_type": "stream",
     "text": [
      "Epoch 1/10:  22%|██▏       | 22/100 [00:05<00:18,  4.26it/s]"
     ]
    },
    {
     "name": "stdout",
     "output_type": "stream",
     "text": [
      "Input shape: torch.Size([16, 501, 64, 64]), Input type: torch.float32\n",
      "Labels shape: torch.Size([16]), Labels type: torch.int64\n",
      "Outputs shape: torch.Size([16, 26]), Outputs type: torch.float32\n"
     ]
    },
    {
     "name": "stderr",
     "output_type": "stream",
     "text": [
      "Epoch 1/10:  23%|██▎       | 23/100 [00:05<00:17,  4.30it/s]"
     ]
    },
    {
     "name": "stdout",
     "output_type": "stream",
     "text": [
      "Input shape: torch.Size([16, 501, 64, 64]), Input type: torch.float32\n",
      "Labels shape: torch.Size([16]), Labels type: torch.int64\n",
      "Outputs shape: torch.Size([16, 26]), Outputs type: torch.float32\n"
     ]
    },
    {
     "name": "stderr",
     "output_type": "stream",
     "text": [
      "Epoch 1/10:  24%|██▍       | 24/100 [00:05<00:17,  4.39it/s]"
     ]
    },
    {
     "name": "stdout",
     "output_type": "stream",
     "text": [
      "Input shape: torch.Size([16, 501, 64, 64]), Input type: torch.float32\n",
      "Labels shape: torch.Size([16]), Labels type: torch.int64\n",
      "Outputs shape: torch.Size([16, 26]), Outputs type: torch.float32\n"
     ]
    },
    {
     "name": "stderr",
     "output_type": "stream",
     "text": [
      "Epoch 1/10:  25%|██▌       | 25/100 [00:05<00:16,  4.56it/s]"
     ]
    },
    {
     "name": "stdout",
     "output_type": "stream",
     "text": [
      "Input shape: torch.Size([16, 501, 64, 64]), Input type: torch.float32\n",
      "Labels shape: torch.Size([16]), Labels type: torch.int64\n",
      "Outputs shape: torch.Size([16, 26]), Outputs type: torch.float32\n"
     ]
    },
    {
     "name": "stderr",
     "output_type": "stream",
     "text": [
      "Epoch 1/10:  26%|██▌       | 26/100 [00:05<00:16,  4.49it/s]"
     ]
    },
    {
     "name": "stdout",
     "output_type": "stream",
     "text": [
      "Input shape: torch.Size([16, 501, 64, 64]), Input type: torch.float32\n",
      "Labels shape: torch.Size([16]), Labels type: torch.int64\n",
      "Outputs shape: torch.Size([16, 26]), Outputs type: torch.float32\n"
     ]
    },
    {
     "name": "stderr",
     "output_type": "stream",
     "text": [
      "Epoch 1/10:  27%|██▋       | 27/100 [00:06<00:16,  4.51it/s]"
     ]
    },
    {
     "name": "stdout",
     "output_type": "stream",
     "text": [
      "Input shape: torch.Size([16, 501, 64, 64]), Input type: torch.float32\n",
      "Labels shape: torch.Size([16]), Labels type: torch.int64\n",
      "Outputs shape: torch.Size([16, 26]), Outputs type: torch.float32\n"
     ]
    },
    {
     "name": "stderr",
     "output_type": "stream",
     "text": [
      "Epoch 1/10:  28%|██▊       | 28/100 [00:06<00:16,  4.41it/s]"
     ]
    },
    {
     "name": "stdout",
     "output_type": "stream",
     "text": [
      "Input shape: torch.Size([16, 501, 64, 64]), Input type: torch.float32\n",
      "Labels shape: torch.Size([16]), Labels type: torch.int64\n",
      "Outputs shape: torch.Size([16, 26]), Outputs type: torch.float32\n"
     ]
    },
    {
     "name": "stderr",
     "output_type": "stream",
     "text": [
      "Epoch 1/10:  29%|██▉       | 29/100 [00:06<00:16,  4.26it/s]"
     ]
    },
    {
     "name": "stdout",
     "output_type": "stream",
     "text": [
      "Input shape: torch.Size([16, 501, 64, 64]), Input type: torch.float32\n",
      "Labels shape: torch.Size([16]), Labels type: torch.int64\n",
      "Outputs shape: torch.Size([16, 26]), Outputs type: torch.float32\n"
     ]
    },
    {
     "name": "stderr",
     "output_type": "stream",
     "text": [
      "Epoch 1/10:  30%|███       | 30/100 [00:06<00:16,  4.23it/s]"
     ]
    },
    {
     "name": "stdout",
     "output_type": "stream",
     "text": [
      "Input shape: torch.Size([16, 501, 64, 64]), Input type: torch.float32\n",
      "Labels shape: torch.Size([16]), Labels type: torch.int64\n",
      "Outputs shape: torch.Size([16, 26]), Outputs type: torch.float32\n"
     ]
    },
    {
     "name": "stderr",
     "output_type": "stream",
     "text": [
      "Epoch 1/10:  31%|███       | 31/100 [00:07<00:15,  4.35it/s]"
     ]
    },
    {
     "name": "stdout",
     "output_type": "stream",
     "text": [
      "Input shape: torch.Size([16, 501, 64, 64]), Input type: torch.float32\n",
      "Labels shape: torch.Size([16]), Labels type: torch.int64\n",
      "Outputs shape: torch.Size([16, 26]), Outputs type: torch.float32\n"
     ]
    },
    {
     "name": "stderr",
     "output_type": "stream",
     "text": [
      "Epoch 1/10:  32%|███▏      | 32/100 [00:07<00:16,  4.25it/s]"
     ]
    },
    {
     "name": "stdout",
     "output_type": "stream",
     "text": [
      "Input shape: torch.Size([16, 501, 64, 64]), Input type: torch.float32\n",
      "Labels shape: torch.Size([16]), Labels type: torch.int64\n",
      "Outputs shape: torch.Size([16, 26]), Outputs type: torch.float32\n"
     ]
    },
    {
     "name": "stderr",
     "output_type": "stream",
     "text": [
      "Epoch 1/10:  33%|███▎      | 33/100 [00:07<00:15,  4.23it/s]"
     ]
    },
    {
     "name": "stdout",
     "output_type": "stream",
     "text": [
      "Input shape: torch.Size([16, 501, 64, 64]), Input type: torch.float32\n",
      "Labels shape: torch.Size([16]), Labels type: torch.int64\n",
      "Outputs shape: torch.Size([16, 26]), Outputs type: torch.float32\n"
     ]
    },
    {
     "name": "stderr",
     "output_type": "stream",
     "text": [
      "Epoch 1/10:  34%|███▍      | 34/100 [00:07<00:15,  4.14it/s]"
     ]
    },
    {
     "name": "stdout",
     "output_type": "stream",
     "text": [
      "Input shape: torch.Size([16, 501, 64, 64]), Input type: torch.float32\n",
      "Labels shape: torch.Size([16]), Labels type: torch.int64\n",
      "Outputs shape: torch.Size([16, 26]), Outputs type: torch.float32\n"
     ]
    },
    {
     "name": "stderr",
     "output_type": "stream",
     "text": [
      "Epoch 1/10:  35%|███▌      | 35/100 [00:08<00:15,  4.26it/s]"
     ]
    },
    {
     "name": "stdout",
     "output_type": "stream",
     "text": [
      "Input shape: torch.Size([16, 501, 64, 64]), Input type: torch.float32\n",
      "Labels shape: torch.Size([16]), Labels type: torch.int64\n",
      "Outputs shape: torch.Size([16, 26]), Outputs type: torch.float32\n"
     ]
    },
    {
     "name": "stderr",
     "output_type": "stream",
     "text": [
      "Epoch 1/10:  36%|███▌      | 36/100 [00:08<00:15,  4.26it/s]"
     ]
    },
    {
     "name": "stdout",
     "output_type": "stream",
     "text": [
      "Input shape: torch.Size([16, 501, 64, 64]), Input type: torch.float32\n",
      "Labels shape: torch.Size([16]), Labels type: torch.int64\n",
      "Outputs shape: torch.Size([16, 26]), Outputs type: torch.float32\n"
     ]
    },
    {
     "name": "stderr",
     "output_type": "stream",
     "text": [
      "Epoch 1/10:  37%|███▋      | 37/100 [00:08<00:14,  4.47it/s]"
     ]
    },
    {
     "name": "stdout",
     "output_type": "stream",
     "text": [
      "Input shape: torch.Size([16, 501, 64, 64]), Input type: torch.float32\n",
      "Labels shape: torch.Size([16]), Labels type: torch.int64\n",
      "Outputs shape: torch.Size([16, 26]), Outputs type: torch.float32\n"
     ]
    },
    {
     "name": "stderr",
     "output_type": "stream",
     "text": [
      "Epoch 1/10:  38%|███▊      | 38/100 [00:08<00:14,  4.28it/s]"
     ]
    },
    {
     "name": "stdout",
     "output_type": "stream",
     "text": [
      "Input shape: torch.Size([16, 501, 64, 64]), Input type: torch.float32\n",
      "Labels shape: torch.Size([16]), Labels type: torch.int64\n",
      "Outputs shape: torch.Size([16, 26]), Outputs type: torch.float32\n"
     ]
    },
    {
     "name": "stderr",
     "output_type": "stream",
     "text": [
      "Epoch 1/10:  39%|███▉      | 39/100 [00:08<00:13,  4.37it/s]"
     ]
    },
    {
     "name": "stdout",
     "output_type": "stream",
     "text": [
      "Input shape: torch.Size([16, 501, 64, 64]), Input type: torch.float32\n",
      "Labels shape: torch.Size([16]), Labels type: torch.int64\n",
      "Outputs shape: torch.Size([16, 26]), Outputs type: torch.float32\n"
     ]
    },
    {
     "name": "stderr",
     "output_type": "stream",
     "text": [
      "Epoch 1/10:  40%|████      | 40/100 [00:09<00:15,  3.92it/s]"
     ]
    },
    {
     "name": "stdout",
     "output_type": "stream",
     "text": [
      "Input shape: torch.Size([16, 501, 64, 64]), Input type: torch.float32\n",
      "Labels shape: torch.Size([16]), Labels type: torch.int64\n",
      "Outputs shape: torch.Size([16, 26]), Outputs type: torch.float32\n"
     ]
    },
    {
     "name": "stderr",
     "output_type": "stream",
     "text": [
      "Epoch 1/10:  41%|████      | 41/100 [00:09<00:14,  4.00it/s]"
     ]
    },
    {
     "name": "stdout",
     "output_type": "stream",
     "text": [
      "Input shape: torch.Size([16, 501, 64, 64]), Input type: torch.float32\n",
      "Labels shape: torch.Size([16]), Labels type: torch.int64\n",
      "Outputs shape: torch.Size([16, 26]), Outputs type: torch.float32\n"
     ]
    },
    {
     "name": "stderr",
     "output_type": "stream",
     "text": [
      "Epoch 1/10:  42%|████▏     | 42/100 [00:09<00:14,  4.04it/s]"
     ]
    },
    {
     "name": "stdout",
     "output_type": "stream",
     "text": [
      "Input shape: torch.Size([16, 501, 64, 64]), Input type: torch.float32\n",
      "Labels shape: torch.Size([16]), Labels type: torch.int64\n",
      "Outputs shape: torch.Size([16, 26]), Outputs type: torch.float32\n"
     ]
    },
    {
     "name": "stderr",
     "output_type": "stream",
     "text": [
      "Epoch 1/10:  43%|████▎     | 43/100 [00:09<00:13,  4.07it/s]"
     ]
    },
    {
     "name": "stdout",
     "output_type": "stream",
     "text": [
      "Input shape: torch.Size([16, 501, 64, 64]), Input type: torch.float32\n",
      "Labels shape: torch.Size([16]), Labels type: torch.int64\n",
      "Outputs shape: torch.Size([16, 26]), Outputs type: torch.float32\n"
     ]
    },
    {
     "name": "stderr",
     "output_type": "stream",
     "text": [
      "Epoch 1/10:  44%|████▍     | 44/100 [00:10<00:13,  4.18it/s]"
     ]
    },
    {
     "name": "stdout",
     "output_type": "stream",
     "text": [
      "Input shape: torch.Size([16, 501, 64, 64]), Input type: torch.float32\n",
      "Labels shape: torch.Size([16]), Labels type: torch.int64\n",
      "Outputs shape: torch.Size([16, 26]), Outputs type: torch.float32\n"
     ]
    },
    {
     "name": "stderr",
     "output_type": "stream",
     "text": [
      "Epoch 1/10:  45%|████▌     | 45/100 [00:10<00:12,  4.27it/s]"
     ]
    },
    {
     "name": "stdout",
     "output_type": "stream",
     "text": [
      "Input shape: torch.Size([16, 501, 64, 64]), Input type: torch.float32\n",
      "Labels shape: torch.Size([16]), Labels type: torch.int64\n",
      "Outputs shape: torch.Size([16, 26]), Outputs type: torch.float32\n"
     ]
    },
    {
     "name": "stderr",
     "output_type": "stream",
     "text": [
      "Epoch 1/10:  46%|████▌     | 46/100 [00:10<00:12,  4.20it/s]"
     ]
    },
    {
     "name": "stdout",
     "output_type": "stream",
     "text": [
      "Input shape: torch.Size([16, 501, 64, 64]), Input type: torch.float32\n",
      "Labels shape: torch.Size([16]), Labels type: torch.int64\n",
      "Outputs shape: torch.Size([16, 26]), Outputs type: torch.float32\n"
     ]
    },
    {
     "name": "stderr",
     "output_type": "stream",
     "text": [
      "Epoch 1/10:  47%|████▋     | 47/100 [00:10<00:12,  4.19it/s]"
     ]
    },
    {
     "name": "stdout",
     "output_type": "stream",
     "text": [
      "Input shape: torch.Size([16, 501, 64, 64]), Input type: torch.float32\n",
      "Labels shape: torch.Size([16]), Labels type: torch.int64\n",
      "Outputs shape: torch.Size([16, 26]), Outputs type: torch.float32\n"
     ]
    },
    {
     "name": "stderr",
     "output_type": "stream",
     "text": [
      "Epoch 1/10:  48%|████▊     | 48/100 [00:11<00:12,  4.18it/s]"
     ]
    },
    {
     "name": "stdout",
     "output_type": "stream",
     "text": [
      "Input shape: torch.Size([16, 501, 64, 64]), Input type: torch.float32\n",
      "Labels shape: torch.Size([16]), Labels type: torch.int64\n",
      "Outputs shape: torch.Size([16, 26]), Outputs type: torch.float32\n"
     ]
    },
    {
     "name": "stderr",
     "output_type": "stream",
     "text": [
      "Epoch 1/10:  49%|████▉     | 49/100 [00:11<00:12,  4.18it/s]"
     ]
    },
    {
     "name": "stdout",
     "output_type": "stream",
     "text": [
      "Input shape: torch.Size([16, 501, 64, 64]), Input type: torch.float32\n",
      "Labels shape: torch.Size([16]), Labels type: torch.int64\n",
      "Outputs shape: torch.Size([16, 26]), Outputs type: torch.float32\n"
     ]
    },
    {
     "name": "stderr",
     "output_type": "stream",
     "text": [
      "Epoch 1/10:  50%|█████     | 50/100 [00:11<00:11,  4.27it/s]"
     ]
    },
    {
     "name": "stdout",
     "output_type": "stream",
     "text": [
      "Input shape: torch.Size([16, 501, 64, 64]), Input type: torch.float32\n",
      "Labels shape: torch.Size([16]), Labels type: torch.int64\n",
      "Outputs shape: torch.Size([16, 26]), Outputs type: torch.float32\n"
     ]
    },
    {
     "name": "stderr",
     "output_type": "stream",
     "text": [
      "Epoch 1/10:  51%|█████     | 51/100 [00:11<00:11,  4.38it/s]"
     ]
    },
    {
     "name": "stdout",
     "output_type": "stream",
     "text": [
      "Input shape: torch.Size([16, 501, 64, 64]), Input type: torch.float32\n",
      "Labels shape: torch.Size([16]), Labels type: torch.int64\n",
      "Outputs shape: torch.Size([16, 26]), Outputs type: torch.float32\n"
     ]
    },
    {
     "name": "stderr",
     "output_type": "stream",
     "text": [
      "Epoch 1/10:  52%|█████▏    | 52/100 [00:12<00:11,  4.35it/s]"
     ]
    },
    {
     "name": "stdout",
     "output_type": "stream",
     "text": [
      "Input shape: torch.Size([16, 501, 64, 64]), Input type: torch.float32\n",
      "Labels shape: torch.Size([16]), Labels type: torch.int64\n",
      "Outputs shape: torch.Size([16, 26]), Outputs type: torch.float32\n"
     ]
    },
    {
     "name": "stderr",
     "output_type": "stream",
     "text": [
      "Epoch 1/10:  53%|█████▎    | 53/100 [00:12<00:10,  4.46it/s]"
     ]
    },
    {
     "name": "stdout",
     "output_type": "stream",
     "text": [
      "Input shape: torch.Size([16, 501, 64, 64]), Input type: torch.float32\n",
      "Labels shape: torch.Size([16]), Labels type: torch.int64\n",
      "Outputs shape: torch.Size([16, 26]), Outputs type: torch.float32\n"
     ]
    },
    {
     "name": "stderr",
     "output_type": "stream",
     "text": [
      "Epoch 1/10:  54%|█████▍    | 54/100 [00:12<00:10,  4.27it/s]"
     ]
    },
    {
     "name": "stdout",
     "output_type": "stream",
     "text": [
      "Input shape: torch.Size([16, 501, 64, 64]), Input type: torch.float32\n",
      "Labels shape: torch.Size([16]), Labels type: torch.int64\n",
      "Outputs shape: torch.Size([16, 26]), Outputs type: torch.float32\n"
     ]
    },
    {
     "name": "stderr",
     "output_type": "stream",
     "text": [
      "Epoch 1/10:  55%|█████▌    | 55/100 [00:12<00:10,  4.39it/s]"
     ]
    },
    {
     "name": "stdout",
     "output_type": "stream",
     "text": [
      "Input shape: torch.Size([16, 501, 64, 64]), Input type: torch.float32\n",
      "Labels shape: torch.Size([16]), Labels type: torch.int64\n",
      "Outputs shape: torch.Size([16, 26]), Outputs type: torch.float32\n"
     ]
    },
    {
     "name": "stderr",
     "output_type": "stream",
     "text": [
      "Epoch 1/10:  56%|█████▌    | 56/100 [00:12<00:10,  4.38it/s]"
     ]
    },
    {
     "name": "stdout",
     "output_type": "stream",
     "text": [
      "Input shape: torch.Size([16, 501, 64, 64]), Input type: torch.float32\n",
      "Labels shape: torch.Size([16]), Labels type: torch.int64\n",
      "Outputs shape: torch.Size([16, 26]), Outputs type: torch.float32\n"
     ]
    },
    {
     "name": "stderr",
     "output_type": "stream",
     "text": [
      "Epoch 1/10:  57%|█████▋    | 57/100 [00:13<00:09,  4.53it/s]"
     ]
    },
    {
     "name": "stdout",
     "output_type": "stream",
     "text": [
      "Input shape: torch.Size([16, 501, 64, 64]), Input type: torch.float32\n",
      "Labels shape: torch.Size([16]), Labels type: torch.int64\n",
      "Outputs shape: torch.Size([16, 26]), Outputs type: torch.float32\n"
     ]
    },
    {
     "name": "stderr",
     "output_type": "stream",
     "text": [
      "Epoch 1/10:  58%|█████▊    | 58/100 [00:13<00:09,  4.44it/s]"
     ]
    },
    {
     "name": "stdout",
     "output_type": "stream",
     "text": [
      "Input shape: torch.Size([16, 501, 64, 64]), Input type: torch.float32\n",
      "Labels shape: torch.Size([16]), Labels type: torch.int64\n",
      "Outputs shape: torch.Size([16, 26]), Outputs type: torch.float32\n"
     ]
    },
    {
     "name": "stderr",
     "output_type": "stream",
     "text": [
      "Epoch 1/10:  59%|█████▉    | 59/100 [00:13<00:09,  4.45it/s]"
     ]
    },
    {
     "name": "stdout",
     "output_type": "stream",
     "text": [
      "Input shape: torch.Size([16, 501, 64, 64]), Input type: torch.float32\n",
      "Labels shape: torch.Size([16]), Labels type: torch.int64\n",
      "Outputs shape: torch.Size([16, 26]), Outputs type: torch.float32\n"
     ]
    },
    {
     "name": "stderr",
     "output_type": "stream",
     "text": [
      "Epoch 1/10:  60%|██████    | 60/100 [00:13<00:08,  4.47it/s]"
     ]
    },
    {
     "name": "stdout",
     "output_type": "stream",
     "text": [
      "Input shape: torch.Size([16, 501, 64, 64]), Input type: torch.float32\n",
      "Labels shape: torch.Size([16]), Labels type: torch.int64\n",
      "Outputs shape: torch.Size([16, 26]), Outputs type: torch.float32\n"
     ]
    },
    {
     "name": "stderr",
     "output_type": "stream",
     "text": [
      "Epoch 1/10:  61%|██████    | 61/100 [00:14<00:08,  4.62it/s]"
     ]
    },
    {
     "name": "stdout",
     "output_type": "stream",
     "text": [
      "Input shape: torch.Size([16, 501, 64, 64]), Input type: torch.float32\n",
      "Labels shape: torch.Size([16]), Labels type: torch.int64\n",
      "Outputs shape: torch.Size([16, 26]), Outputs type: torch.float32\n"
     ]
    },
    {
     "name": "stderr",
     "output_type": "stream",
     "text": [
      "Epoch 1/10:  62%|██████▏   | 62/100 [00:14<00:08,  4.65it/s]"
     ]
    },
    {
     "name": "stdout",
     "output_type": "stream",
     "text": [
      "Input shape: torch.Size([16, 501, 64, 64]), Input type: torch.float32\n",
      "Labels shape: torch.Size([16]), Labels type: torch.int64\n",
      "Outputs shape: torch.Size([16, 26]), Outputs type: torch.float32\n"
     ]
    },
    {
     "name": "stderr",
     "output_type": "stream",
     "text": [
      "Epoch 1/10:  63%|██████▎   | 63/100 [00:14<00:07,  4.74it/s]"
     ]
    },
    {
     "name": "stdout",
     "output_type": "stream",
     "text": [
      "Input shape: torch.Size([16, 501, 64, 64]), Input type: torch.float32\n",
      "Labels shape: torch.Size([16]), Labels type: torch.int64\n",
      "Outputs shape: torch.Size([16, 26]), Outputs type: torch.float32\n"
     ]
    },
    {
     "name": "stderr",
     "output_type": "stream",
     "text": [
      "Epoch 1/10:  64%|██████▍   | 64/100 [00:14<00:07,  4.52it/s]"
     ]
    },
    {
     "name": "stdout",
     "output_type": "stream",
     "text": [
      "Input shape: torch.Size([16, 501, 64, 64]), Input type: torch.float32\n",
      "Labels shape: torch.Size([16]), Labels type: torch.int64\n",
      "Outputs shape: torch.Size([16, 26]), Outputs type: torch.float32\n"
     ]
    },
    {
     "name": "stderr",
     "output_type": "stream",
     "text": [
      "Epoch 1/10:  65%|██████▌   | 65/100 [00:14<00:07,  4.67it/s]"
     ]
    },
    {
     "name": "stdout",
     "output_type": "stream",
     "text": [
      "Input shape: torch.Size([16, 501, 64, 64]), Input type: torch.float32\n",
      "Labels shape: torch.Size([16]), Labels type: torch.int64\n",
      "Outputs shape: torch.Size([16, 26]), Outputs type: torch.float32\n"
     ]
    },
    {
     "name": "stderr",
     "output_type": "stream",
     "text": [
      "Epoch 1/10:  66%|██████▌   | 66/100 [00:15<00:07,  4.61it/s]"
     ]
    },
    {
     "name": "stdout",
     "output_type": "stream",
     "text": [
      "Input shape: torch.Size([16, 501, 64, 64]), Input type: torch.float32\n",
      "Labels shape: torch.Size([16]), Labels type: torch.int64\n",
      "Outputs shape: torch.Size([16, 26]), Outputs type: torch.float32\n"
     ]
    },
    {
     "name": "stderr",
     "output_type": "stream",
     "text": [
      "Epoch 1/10:  67%|██████▋   | 67/100 [00:15<00:07,  4.69it/s]"
     ]
    },
    {
     "name": "stdout",
     "output_type": "stream",
     "text": [
      "Input shape: torch.Size([16, 501, 64, 64]), Input type: torch.float32\n",
      "Labels shape: torch.Size([16]), Labels type: torch.int64\n",
      "Outputs shape: torch.Size([16, 26]), Outputs type: torch.float32\n"
     ]
    },
    {
     "name": "stderr",
     "output_type": "stream",
     "text": [
      "Epoch 1/10:  68%|██████▊   | 68/100 [00:15<00:06,  4.61it/s]"
     ]
    },
    {
     "name": "stdout",
     "output_type": "stream",
     "text": [
      "Input shape: torch.Size([16, 501, 64, 64]), Input type: torch.float32\n",
      "Labels shape: torch.Size([16]), Labels type: torch.int64\n",
      "Outputs shape: torch.Size([16, 26]), Outputs type: torch.float32\n"
     ]
    },
    {
     "name": "stderr",
     "output_type": "stream",
     "text": [
      "Epoch 1/10:  69%|██████▉   | 69/100 [00:15<00:06,  4.73it/s]"
     ]
    },
    {
     "name": "stdout",
     "output_type": "stream",
     "text": [
      "Input shape: torch.Size([16, 501, 64, 64]), Input type: torch.float32\n",
      "Labels shape: torch.Size([16]), Labels type: torch.int64\n",
      "Outputs shape: torch.Size([16, 26]), Outputs type: torch.float32\n"
     ]
    },
    {
     "name": "stderr",
     "output_type": "stream",
     "text": [
      "Epoch 1/10:  70%|███████   | 70/100 [00:15<00:06,  4.66it/s]"
     ]
    },
    {
     "name": "stdout",
     "output_type": "stream",
     "text": [
      "Input shape: torch.Size([16, 501, 64, 64]), Input type: torch.float32\n",
      "Labels shape: torch.Size([16]), Labels type: torch.int64\n",
      "Outputs shape: torch.Size([16, 26]), Outputs type: torch.float32\n"
     ]
    },
    {
     "name": "stderr",
     "output_type": "stream",
     "text": [
      "Epoch 1/10:  71%|███████   | 71/100 [00:16<00:06,  4.62it/s]"
     ]
    },
    {
     "name": "stdout",
     "output_type": "stream",
     "text": [
      "Input shape: torch.Size([16, 501, 64, 64]), Input type: torch.float32\n",
      "Labels shape: torch.Size([16]), Labels type: torch.int64\n",
      "Outputs shape: torch.Size([16, 26]), Outputs type: torch.float32\n"
     ]
    },
    {
     "name": "stderr",
     "output_type": "stream",
     "text": [
      "Epoch 1/10:  72%|███████▏  | 72/100 [00:16<00:06,  4.51it/s]"
     ]
    },
    {
     "name": "stdout",
     "output_type": "stream",
     "text": [
      "Input shape: torch.Size([16, 501, 64, 64]), Input type: torch.float32\n",
      "Labels shape: torch.Size([16]), Labels type: torch.int64\n",
      "Outputs shape: torch.Size([16, 26]), Outputs type: torch.float32\n"
     ]
    },
    {
     "name": "stderr",
     "output_type": "stream",
     "text": [
      "Epoch 1/10:  73%|███████▎  | 73/100 [00:16<00:05,  4.65it/s]"
     ]
    },
    {
     "name": "stdout",
     "output_type": "stream",
     "text": [
      "Input shape: torch.Size([16, 501, 64, 64]), Input type: torch.float32\n",
      "Labels shape: torch.Size([16]), Labels type: torch.int64\n",
      "Outputs shape: torch.Size([16, 26]), Outputs type: torch.float32\n"
     ]
    },
    {
     "name": "stderr",
     "output_type": "stream",
     "text": [
      "Epoch 1/10:  74%|███████▍  | 74/100 [00:16<00:05,  4.57it/s]"
     ]
    },
    {
     "name": "stdout",
     "output_type": "stream",
     "text": [
      "Input shape: torch.Size([16, 501, 64, 64]), Input type: torch.float32\n",
      "Labels shape: torch.Size([16]), Labels type: torch.int64\n",
      "Outputs shape: torch.Size([16, 26]), Outputs type: torch.float32\n"
     ]
    },
    {
     "name": "stderr",
     "output_type": "stream",
     "text": [
      "Epoch 1/10:  75%|███████▌  | 75/100 [00:17<00:05,  4.53it/s]"
     ]
    },
    {
     "name": "stdout",
     "output_type": "stream",
     "text": [
      "Input shape: torch.Size([16, 501, 64, 64]), Input type: torch.float32\n",
      "Labels shape: torch.Size([16]), Labels type: torch.int64\n",
      "Outputs shape: torch.Size([16, 26]), Outputs type: torch.float32\n"
     ]
    },
    {
     "name": "stderr",
     "output_type": "stream",
     "text": [
      "Epoch 1/10:  76%|███████▌  | 76/100 [00:17<00:05,  4.53it/s]"
     ]
    },
    {
     "name": "stdout",
     "output_type": "stream",
     "text": [
      "Input shape: torch.Size([16, 501, 64, 64]), Input type: torch.float32\n",
      "Labels shape: torch.Size([16]), Labels type: torch.int64\n",
      "Outputs shape: torch.Size([16, 26]), Outputs type: torch.float32\n"
     ]
    },
    {
     "name": "stderr",
     "output_type": "stream",
     "text": [
      "Epoch 1/10:  77%|███████▋  | 77/100 [00:17<00:05,  4.56it/s]"
     ]
    },
    {
     "name": "stdout",
     "output_type": "stream",
     "text": [
      "Input shape: torch.Size([16, 501, 64, 64]), Input type: torch.float32\n",
      "Labels shape: torch.Size([16]), Labels type: torch.int64\n",
      "Outputs shape: torch.Size([16, 26]), Outputs type: torch.float32\n"
     ]
    },
    {
     "name": "stderr",
     "output_type": "stream",
     "text": [
      "Epoch 1/10:  78%|███████▊  | 78/100 [00:17<00:04,  4.61it/s]"
     ]
    },
    {
     "name": "stdout",
     "output_type": "stream",
     "text": [
      "Input shape: torch.Size([16, 501, 64, 64]), Input type: torch.float32\n",
      "Labels shape: torch.Size([16]), Labels type: torch.int64\n",
      "Outputs shape: torch.Size([16, 26]), Outputs type: torch.float32\n"
     ]
    },
    {
     "name": "stderr",
     "output_type": "stream",
     "text": [
      "Epoch 1/10:  79%|███████▉  | 79/100 [00:17<00:04,  4.75it/s]"
     ]
    },
    {
     "name": "stdout",
     "output_type": "stream",
     "text": [
      "Input shape: torch.Size([16, 501, 64, 64]), Input type: torch.float32\n",
      "Labels shape: torch.Size([16]), Labels type: torch.int64\n",
      "Outputs shape: torch.Size([16, 26]), Outputs type: torch.float32\n"
     ]
    },
    {
     "name": "stderr",
     "output_type": "stream",
     "text": [
      "Epoch 1/10:  80%|████████  | 80/100 [00:18<00:04,  4.72it/s]"
     ]
    },
    {
     "name": "stdout",
     "output_type": "stream",
     "text": [
      "Input shape: torch.Size([16, 501, 64, 64]), Input type: torch.float32\n",
      "Labels shape: torch.Size([16]), Labels type: torch.int64\n",
      "Outputs shape: torch.Size([16, 26]), Outputs type: torch.float32\n"
     ]
    },
    {
     "name": "stderr",
     "output_type": "stream",
     "text": [
      "Epoch 1/10:  81%|████████  | 81/100 [00:18<00:04,  4.74it/s]"
     ]
    },
    {
     "name": "stdout",
     "output_type": "stream",
     "text": [
      "Input shape: torch.Size([16, 501, 64, 64]), Input type: torch.float32\n",
      "Labels shape: torch.Size([16]), Labels type: torch.int64\n",
      "Outputs shape: torch.Size([16, 26]), Outputs type: torch.float32\n"
     ]
    },
    {
     "name": "stderr",
     "output_type": "stream",
     "text": [
      "Epoch 1/10:  82%|████████▏ | 82/100 [00:18<00:03,  4.72it/s]"
     ]
    },
    {
     "name": "stdout",
     "output_type": "stream",
     "text": [
      "Input shape: torch.Size([16, 501, 64, 64]), Input type: torch.float32\n",
      "Labels shape: torch.Size([16]), Labels type: torch.int64\n",
      "Outputs shape: torch.Size([16, 26]), Outputs type: torch.float32\n"
     ]
    },
    {
     "name": "stderr",
     "output_type": "stream",
     "text": [
      "Epoch 1/10:  83%|████████▎ | 83/100 [00:18<00:03,  4.82it/s]"
     ]
    },
    {
     "name": "stdout",
     "output_type": "stream",
     "text": [
      "Input shape: torch.Size([16, 501, 64, 64]), Input type: torch.float32\n",
      "Labels shape: torch.Size([16]), Labels type: torch.int64\n",
      "Outputs shape: torch.Size([16, 26]), Outputs type: torch.float32\n"
     ]
    },
    {
     "name": "stderr",
     "output_type": "stream",
     "text": [
      "Epoch 1/10:  84%|████████▍ | 84/100 [00:19<00:03,  4.54it/s]"
     ]
    },
    {
     "name": "stdout",
     "output_type": "stream",
     "text": [
      "Input shape: torch.Size([16, 501, 64, 64]), Input type: torch.float32\n",
      "Labels shape: torch.Size([16]), Labels type: torch.int64\n",
      "Outputs shape: torch.Size([16, 26]), Outputs type: torch.float32\n"
     ]
    },
    {
     "name": "stderr",
     "output_type": "stream",
     "text": [
      "Epoch 1/10:  85%|████████▌ | 85/100 [00:19<00:03,  4.45it/s]"
     ]
    },
    {
     "name": "stdout",
     "output_type": "stream",
     "text": [
      "Input shape: torch.Size([16, 501, 64, 64]), Input type: torch.float32\n",
      "Labels shape: torch.Size([16]), Labels type: torch.int64\n",
      "Outputs shape: torch.Size([16, 26]), Outputs type: torch.float32\n"
     ]
    },
    {
     "name": "stderr",
     "output_type": "stream",
     "text": [
      "Epoch 1/10:  86%|████████▌ | 86/100 [00:19<00:03,  4.25it/s]"
     ]
    },
    {
     "name": "stdout",
     "output_type": "stream",
     "text": [
      "Input shape: torch.Size([16, 501, 64, 64]), Input type: torch.float32\n",
      "Labels shape: torch.Size([16]), Labels type: torch.int64\n",
      "Outputs shape: torch.Size([16, 26]), Outputs type: torch.float32\n"
     ]
    },
    {
     "name": "stderr",
     "output_type": "stream",
     "text": [
      "Epoch 1/10:  87%|████████▋ | 87/100 [00:19<00:03,  4.22it/s]"
     ]
    },
    {
     "name": "stdout",
     "output_type": "stream",
     "text": [
      "Input shape: torch.Size([16, 501, 64, 64]), Input type: torch.float32\n",
      "Labels shape: torch.Size([16]), Labels type: torch.int64\n",
      "Outputs shape: torch.Size([16, 26]), Outputs type: torch.float32\n"
     ]
    },
    {
     "name": "stderr",
     "output_type": "stream",
     "text": [
      "Epoch 1/10:  88%|████████▊ | 88/100 [00:20<00:02,  4.14it/s]"
     ]
    },
    {
     "name": "stdout",
     "output_type": "stream",
     "text": [
      "Input shape: torch.Size([16, 501, 64, 64]), Input type: torch.float32\n",
      "Labels shape: torch.Size([16]), Labels type: torch.int64\n",
      "Outputs shape: torch.Size([16, 26]), Outputs type: torch.float32\n"
     ]
    },
    {
     "name": "stderr",
     "output_type": "stream",
     "text": [
      "Epoch 1/10:  89%|████████▉ | 89/100 [00:20<00:02,  3.85it/s]"
     ]
    },
    {
     "name": "stdout",
     "output_type": "stream",
     "text": [
      "Input shape: torch.Size([16, 501, 64, 64]), Input type: torch.float32\n",
      "Labels shape: torch.Size([16]), Labels type: torch.int64\n",
      "Outputs shape: torch.Size([16, 26]), Outputs type: torch.float32\n"
     ]
    },
    {
     "name": "stderr",
     "output_type": "stream",
     "text": [
      "Epoch 1/10:  90%|█████████ | 90/100 [00:20<00:02,  3.93it/s]"
     ]
    },
    {
     "name": "stdout",
     "output_type": "stream",
     "text": [
      "Input shape: torch.Size([16, 501, 64, 64]), Input type: torch.float32\n",
      "Labels shape: torch.Size([16]), Labels type: torch.int64\n",
      "Outputs shape: torch.Size([16, 26]), Outputs type: torch.float32\n"
     ]
    },
    {
     "name": "stderr",
     "output_type": "stream",
     "text": [
      "Epoch 1/10:  91%|█████████ | 91/100 [00:20<00:02,  3.87it/s]"
     ]
    },
    {
     "name": "stdout",
     "output_type": "stream",
     "text": [
      "Input shape: torch.Size([16, 501, 64, 64]), Input type: torch.float32\n",
      "Labels shape: torch.Size([16]), Labels type: torch.int64\n",
      "Outputs shape: torch.Size([16, 26]), Outputs type: torch.float32\n"
     ]
    },
    {
     "name": "stderr",
     "output_type": "stream",
     "text": [
      "Epoch 1/10:  92%|█████████▏| 92/100 [00:21<00:02,  3.95it/s]"
     ]
    },
    {
     "name": "stdout",
     "output_type": "stream",
     "text": [
      "Input shape: torch.Size([16, 501, 64, 64]), Input type: torch.float32\n",
      "Labels shape: torch.Size([16]), Labels type: torch.int64\n",
      "Outputs shape: torch.Size([16, 26]), Outputs type: torch.float32\n"
     ]
    },
    {
     "name": "stderr",
     "output_type": "stream",
     "text": [
      "Epoch 1/10:  93%|█████████▎| 93/100 [00:21<00:01,  3.95it/s]"
     ]
    },
    {
     "name": "stdout",
     "output_type": "stream",
     "text": [
      "Input shape: torch.Size([16, 501, 64, 64]), Input type: torch.float32\n",
      "Labels shape: torch.Size([16]), Labels type: torch.int64\n",
      "Outputs shape: torch.Size([16, 26]), Outputs type: torch.float32\n"
     ]
    },
    {
     "name": "stderr",
     "output_type": "stream",
     "text": [
      "Epoch 1/10:  94%|█████████▍| 94/100 [00:21<00:01,  4.05it/s]"
     ]
    },
    {
     "name": "stdout",
     "output_type": "stream",
     "text": [
      "Input shape: torch.Size([16, 501, 64, 64]), Input type: torch.float32\n",
      "Labels shape: torch.Size([16]), Labels type: torch.int64\n",
      "Outputs shape: torch.Size([16, 26]), Outputs type: torch.float32\n"
     ]
    },
    {
     "name": "stderr",
     "output_type": "stream",
     "text": [
      "Epoch 1/10:  95%|█████████▌| 95/100 [00:21<00:01,  4.26it/s]"
     ]
    },
    {
     "name": "stdout",
     "output_type": "stream",
     "text": [
      "Input shape: torch.Size([16, 501, 64, 64]), Input type: torch.float32\n",
      "Labels shape: torch.Size([16]), Labels type: torch.int64\n",
      "Outputs shape: torch.Size([16, 26]), Outputs type: torch.float32\n"
     ]
    },
    {
     "name": "stderr",
     "output_type": "stream",
     "text": [
      "Epoch 1/10:  96%|█████████▌| 96/100 [00:21<00:00,  4.34it/s]"
     ]
    },
    {
     "name": "stdout",
     "output_type": "stream",
     "text": [
      "Input shape: torch.Size([16, 501, 64, 64]), Input type: torch.float32\n",
      "Labels shape: torch.Size([16]), Labels type: torch.int64\n",
      "Outputs shape: torch.Size([16, 26]), Outputs type: torch.float32\n"
     ]
    },
    {
     "name": "stderr",
     "output_type": "stream",
     "text": [
      "Epoch 1/10:  97%|█████████▋| 97/100 [00:22<00:00,  4.45it/s]"
     ]
    },
    {
     "name": "stdout",
     "output_type": "stream",
     "text": [
      "Input shape: torch.Size([16, 501, 64, 64]), Input type: torch.float32\n",
      "Labels shape: torch.Size([16]), Labels type: torch.int64\n",
      "Outputs shape: torch.Size([16, 26]), Outputs type: torch.float32\n"
     ]
    },
    {
     "name": "stderr",
     "output_type": "stream",
     "text": [
      "Epoch 1/10:  98%|█████████▊| 98/100 [00:22<00:00,  4.26it/s]"
     ]
    },
    {
     "name": "stdout",
     "output_type": "stream",
     "text": [
      "Input shape: torch.Size([16, 501, 64, 64]), Input type: torch.float32\n",
      "Labels shape: torch.Size([16]), Labels type: torch.int64\n",
      "Outputs shape: torch.Size([16, 26]), Outputs type: torch.float32\n"
     ]
    },
    {
     "name": "stderr",
     "output_type": "stream",
     "text": [
      "Epoch 1/10: 100%|██████████| 100/100 [00:22<00:00,  4.39it/s]\n"
     ]
    },
    {
     "name": "stdout",
     "output_type": "stream",
     "text": [
      "Input shape: torch.Size([16, 501, 64, 64]), Input type: torch.float32\n",
      "Labels shape: torch.Size([16]), Labels type: torch.int64\n",
      "Outputs shape: torch.Size([16, 26]), Outputs type: torch.float32\n",
      "Input shape: torch.Size([6, 501, 64, 64]), Input type: torch.float32\n",
      "Labels shape: torch.Size([6]), Labels type: torch.int64\n",
      "Outputs shape: torch.Size([6, 26]), Outputs type: torch.float32\n"
     ]
    },
    {
     "name": "stderr",
     "output_type": "stream",
     "text": [
      "Epoch 2/10:   1%|          | 1/100 [00:00<00:22,  4.37it/s]"
     ]
    },
    {
     "name": "stdout",
     "output_type": "stream",
     "text": [
      "Input shape: torch.Size([16, 501, 64, 64]), Input type: torch.float32\n",
      "Labels shape: torch.Size([16]), Labels type: torch.int64\n",
      "Outputs shape: torch.Size([16, 26]), Outputs type: torch.float32\n"
     ]
    },
    {
     "name": "stderr",
     "output_type": "stream",
     "text": [
      "Epoch 2/10:   2%|▏         | 2/100 [00:00<00:22,  4.43it/s]"
     ]
    },
    {
     "name": "stdout",
     "output_type": "stream",
     "text": [
      "Input shape: torch.Size([16, 501, 64, 64]), Input type: torch.float32\n",
      "Labels shape: torch.Size([16]), Labels type: torch.int64\n",
      "Outputs shape: torch.Size([16, 26]), Outputs type: torch.float32\n"
     ]
    },
    {
     "name": "stderr",
     "output_type": "stream",
     "text": [
      "Epoch 2/10:   3%|▎         | 3/100 [00:00<00:22,  4.27it/s]"
     ]
    },
    {
     "name": "stdout",
     "output_type": "stream",
     "text": [
      "Input shape: torch.Size([16, 501, 64, 64]), Input type: torch.float32\n",
      "Labels shape: torch.Size([16]), Labels type: torch.int64\n",
      "Outputs shape: torch.Size([16, 26]), Outputs type: torch.float32\n"
     ]
    },
    {
     "name": "stderr",
     "output_type": "stream",
     "text": [
      "Epoch 2/10:   4%|▍         | 4/100 [00:00<00:22,  4.30it/s]"
     ]
    },
    {
     "name": "stdout",
     "output_type": "stream",
     "text": [
      "Input shape: torch.Size([16, 501, 64, 64]), Input type: torch.float32\n",
      "Labels shape: torch.Size([16]), Labels type: torch.int64\n",
      "Outputs shape: torch.Size([16, 26]), Outputs type: torch.float32\n"
     ]
    },
    {
     "name": "stderr",
     "output_type": "stream",
     "text": [
      "Epoch 2/10:   5%|▌         | 5/100 [00:01<00:21,  4.36it/s]"
     ]
    },
    {
     "name": "stdout",
     "output_type": "stream",
     "text": [
      "Input shape: torch.Size([16, 501, 64, 64]), Input type: torch.float32\n",
      "Labels shape: torch.Size([16]), Labels type: torch.int64\n",
      "Outputs shape: torch.Size([16, 26]), Outputs type: torch.float32\n"
     ]
    },
    {
     "name": "stderr",
     "output_type": "stream",
     "text": [
      "Epoch 2/10:   6%|▌         | 6/100 [00:01<00:21,  4.34it/s]"
     ]
    },
    {
     "name": "stdout",
     "output_type": "stream",
     "text": [
      "Input shape: torch.Size([16, 501, 64, 64]), Input type: torch.float32\n",
      "Labels shape: torch.Size([16]), Labels type: torch.int64\n",
      "Outputs shape: torch.Size([16, 26]), Outputs type: torch.float32\n"
     ]
    },
    {
     "name": "stderr",
     "output_type": "stream",
     "text": [
      "Epoch 2/10:   7%|▋         | 7/100 [00:01<00:21,  4.30it/s]"
     ]
    },
    {
     "name": "stdout",
     "output_type": "stream",
     "text": [
      "Input shape: torch.Size([16, 501, 64, 64]), Input type: torch.float32\n",
      "Labels shape: torch.Size([16]), Labels type: torch.int64\n",
      "Outputs shape: torch.Size([16, 26]), Outputs type: torch.float32\n"
     ]
    },
    {
     "name": "stderr",
     "output_type": "stream",
     "text": [
      "Epoch 2/10:   8%|▊         | 8/100 [00:01<00:21,  4.30it/s]"
     ]
    },
    {
     "name": "stdout",
     "output_type": "stream",
     "text": [
      "Input shape: torch.Size([16, 501, 64, 64]), Input type: torch.float32\n",
      "Labels shape: torch.Size([16]), Labels type: torch.int64\n",
      "Outputs shape: torch.Size([16, 26]), Outputs type: torch.float32\n"
     ]
    },
    {
     "name": "stderr",
     "output_type": "stream",
     "text": [
      "Epoch 2/10:   9%|▉         | 9/100 [00:02<00:20,  4.48it/s]"
     ]
    },
    {
     "name": "stdout",
     "output_type": "stream",
     "text": [
      "Input shape: torch.Size([16, 501, 64, 64]), Input type: torch.float32\n",
      "Labels shape: torch.Size([16]), Labels type: torch.int64\n",
      "Outputs shape: torch.Size([16, 26]), Outputs type: torch.float32\n"
     ]
    },
    {
     "name": "stderr",
     "output_type": "stream",
     "text": [
      "Epoch 2/10:  10%|█         | 10/100 [00:02<00:19,  4.57it/s]"
     ]
    },
    {
     "name": "stdout",
     "output_type": "stream",
     "text": [
      "Input shape: torch.Size([16, 501, 64, 64]), Input type: torch.float32\n",
      "Labels shape: torch.Size([16]), Labels type: torch.int64\n",
      "Outputs shape: torch.Size([16, 26]), Outputs type: torch.float32\n"
     ]
    },
    {
     "name": "stderr",
     "output_type": "stream",
     "text": [
      "Epoch 2/10:  11%|█         | 11/100 [00:02<00:19,  4.66it/s]"
     ]
    },
    {
     "name": "stdout",
     "output_type": "stream",
     "text": [
      "Input shape: torch.Size([16, 501, 64, 64]), Input type: torch.float32\n",
      "Labels shape: torch.Size([16]), Labels type: torch.int64\n",
      "Outputs shape: torch.Size([16, 26]), Outputs type: torch.float32\n"
     ]
    },
    {
     "name": "stderr",
     "output_type": "stream",
     "text": [
      "Epoch 2/10:  12%|█▏        | 12/100 [00:02<00:19,  4.51it/s]"
     ]
    },
    {
     "name": "stdout",
     "output_type": "stream",
     "text": [
      "Input shape: torch.Size([16, 501, 64, 64]), Input type: torch.float32\n",
      "Labels shape: torch.Size([16]), Labels type: torch.int64\n",
      "Outputs shape: torch.Size([16, 26]), Outputs type: torch.float32\n"
     ]
    },
    {
     "name": "stderr",
     "output_type": "stream",
     "text": [
      "Epoch 2/10:  13%|█▎        | 13/100 [00:02<00:18,  4.61it/s]"
     ]
    },
    {
     "name": "stdout",
     "output_type": "stream",
     "text": [
      "Input shape: torch.Size([16, 501, 64, 64]), Input type: torch.float32\n",
      "Labels shape: torch.Size([16]), Labels type: torch.int64\n",
      "Outputs shape: torch.Size([16, 26]), Outputs type: torch.float32\n"
     ]
    },
    {
     "name": "stderr",
     "output_type": "stream",
     "text": [
      "Epoch 2/10:  14%|█▍        | 14/100 [00:03<00:18,  4.67it/s]"
     ]
    },
    {
     "name": "stdout",
     "output_type": "stream",
     "text": [
      "Input shape: torch.Size([16, 501, 64, 64]), Input type: torch.float32\n",
      "Labels shape: torch.Size([16]), Labels type: torch.int64\n",
      "Outputs shape: torch.Size([16, 26]), Outputs type: torch.float32\n"
     ]
    },
    {
     "name": "stderr",
     "output_type": "stream",
     "text": [
      "Epoch 2/10:  15%|█▌        | 15/100 [00:03<00:17,  4.72it/s]"
     ]
    },
    {
     "name": "stdout",
     "output_type": "stream",
     "text": [
      "Input shape: torch.Size([16, 501, 64, 64]), Input type: torch.float32\n",
      "Labels shape: torch.Size([16]), Labels type: torch.int64\n",
      "Outputs shape: torch.Size([16, 26]), Outputs type: torch.float32\n"
     ]
    },
    {
     "name": "stderr",
     "output_type": "stream",
     "text": [
      "Epoch 2/10:  16%|█▌        | 16/100 [00:03<00:18,  4.66it/s]"
     ]
    },
    {
     "name": "stdout",
     "output_type": "stream",
     "text": [
      "Input shape: torch.Size([16, 501, 64, 64]), Input type: torch.float32\n",
      "Labels shape: torch.Size([16]), Labels type: torch.int64\n",
      "Outputs shape: torch.Size([16, 26]), Outputs type: torch.float32\n"
     ]
    },
    {
     "name": "stderr",
     "output_type": "stream",
     "text": [
      "Epoch 2/10:  17%|█▋        | 17/100 [00:03<00:17,  4.64it/s]"
     ]
    },
    {
     "name": "stdout",
     "output_type": "stream",
     "text": [
      "Input shape: torch.Size([16, 501, 64, 64]), Input type: torch.float32\n",
      "Labels shape: torch.Size([16]), Labels type: torch.int64\n",
      "Outputs shape: torch.Size([16, 26]), Outputs type: torch.float32\n"
     ]
    },
    {
     "name": "stderr",
     "output_type": "stream",
     "text": [
      "Epoch 2/10:  18%|█▊        | 18/100 [00:03<00:17,  4.69it/s]"
     ]
    },
    {
     "name": "stdout",
     "output_type": "stream",
     "text": [
      "Input shape: torch.Size([16, 501, 64, 64]), Input type: torch.float32\n",
      "Labels shape: torch.Size([16]), Labels type: torch.int64\n",
      "Outputs shape: torch.Size([16, 26]), Outputs type: torch.float32\n"
     ]
    },
    {
     "name": "stderr",
     "output_type": "stream",
     "text": [
      "Epoch 2/10:  19%|█▉        | 19/100 [00:04<00:17,  4.59it/s]"
     ]
    },
    {
     "name": "stdout",
     "output_type": "stream",
     "text": [
      "Input shape: torch.Size([16, 501, 64, 64]), Input type: torch.float32\n",
      "Labels shape: torch.Size([16]), Labels type: torch.int64\n",
      "Outputs shape: torch.Size([16, 26]), Outputs type: torch.float32\n"
     ]
    },
    {
     "name": "stderr",
     "output_type": "stream",
     "text": [
      "Epoch 2/10:  20%|██        | 20/100 [00:04<00:17,  4.50it/s]"
     ]
    },
    {
     "name": "stdout",
     "output_type": "stream",
     "text": [
      "Input shape: torch.Size([16, 501, 64, 64]), Input type: torch.float32\n",
      "Labels shape: torch.Size([16]), Labels type: torch.int64\n",
      "Outputs shape: torch.Size([16, 26]), Outputs type: torch.float32\n"
     ]
    },
    {
     "name": "stderr",
     "output_type": "stream",
     "text": [
      "Epoch 2/10:  21%|██        | 21/100 [00:04<00:18,  4.38it/s]"
     ]
    },
    {
     "name": "stdout",
     "output_type": "stream",
     "text": [
      "Input shape: torch.Size([16, 501, 64, 64]), Input type: torch.float32\n",
      "Labels shape: torch.Size([16]), Labels type: torch.int64\n",
      "Outputs shape: torch.Size([16, 26]), Outputs type: torch.float32\n"
     ]
    },
    {
     "name": "stderr",
     "output_type": "stream",
     "text": [
      "Epoch 2/10:  22%|██▏       | 22/100 [00:04<00:17,  4.36it/s]"
     ]
    },
    {
     "name": "stdout",
     "output_type": "stream",
     "text": [
      "Input shape: torch.Size([16, 501, 64, 64]), Input type: torch.float32\n",
      "Labels shape: torch.Size([16]), Labels type: torch.int64\n",
      "Outputs shape: torch.Size([16, 26]), Outputs type: torch.float32\n"
     ]
    },
    {
     "name": "stderr",
     "output_type": "stream",
     "text": [
      "Epoch 2/10:  23%|██▎       | 23/100 [00:05<00:17,  4.41it/s]"
     ]
    },
    {
     "name": "stdout",
     "output_type": "stream",
     "text": [
      "Input shape: torch.Size([16, 501, 64, 64]), Input type: torch.float32\n",
      "Labels shape: torch.Size([16]), Labels type: torch.int64\n",
      "Outputs shape: torch.Size([16, 26]), Outputs type: torch.float32\n"
     ]
    },
    {
     "name": "stderr",
     "output_type": "stream",
     "text": [
      "Epoch 2/10:  24%|██▍       | 24/100 [00:05<00:16,  4.51it/s]"
     ]
    },
    {
     "name": "stdout",
     "output_type": "stream",
     "text": [
      "Input shape: torch.Size([16, 501, 64, 64]), Input type: torch.float32\n",
      "Labels shape: torch.Size([16]), Labels type: torch.int64\n",
      "Outputs shape: torch.Size([16, 26]), Outputs type: torch.float32\n"
     ]
    },
    {
     "name": "stderr",
     "output_type": "stream",
     "text": [
      "Epoch 2/10:  25%|██▌       | 25/100 [00:05<00:16,  4.53it/s]"
     ]
    },
    {
     "name": "stdout",
     "output_type": "stream",
     "text": [
      "Input shape: torch.Size([16, 501, 64, 64]), Input type: torch.float32\n",
      "Labels shape: torch.Size([16]), Labels type: torch.int64\n",
      "Outputs shape: torch.Size([16, 26]), Outputs type: torch.float32\n"
     ]
    },
    {
     "name": "stderr",
     "output_type": "stream",
     "text": [
      "Epoch 2/10:  26%|██▌       | 26/100 [00:05<00:16,  4.41it/s]"
     ]
    },
    {
     "name": "stdout",
     "output_type": "stream",
     "text": [
      "Input shape: torch.Size([16, 501, 64, 64]), Input type: torch.float32\n",
      "Labels shape: torch.Size([16]), Labels type: torch.int64\n",
      "Outputs shape: torch.Size([16, 26]), Outputs type: torch.float32\n"
     ]
    },
    {
     "name": "stderr",
     "output_type": "stream",
     "text": [
      "Epoch 2/10:  27%|██▋       | 27/100 [00:06<00:16,  4.33it/s]"
     ]
    },
    {
     "name": "stdout",
     "output_type": "stream",
     "text": [
      "Input shape: torch.Size([16, 501, 64, 64]), Input type: torch.float32\n",
      "Labels shape: torch.Size([16]), Labels type: torch.int64\n",
      "Outputs shape: torch.Size([16, 26]), Outputs type: torch.float32\n"
     ]
    },
    {
     "name": "stderr",
     "output_type": "stream",
     "text": [
      "Epoch 2/10:  28%|██▊       | 28/100 [00:06<00:18,  3.96it/s]"
     ]
    },
    {
     "name": "stdout",
     "output_type": "stream",
     "text": [
      "Input shape: torch.Size([16, 501, 64, 64]), Input type: torch.float32\n",
      "Labels shape: torch.Size([16]), Labels type: torch.int64\n",
      "Outputs shape: torch.Size([16, 26]), Outputs type: torch.float32\n"
     ]
    },
    {
     "name": "stderr",
     "output_type": "stream",
     "text": [
      "Epoch 2/10:  29%|██▉       | 29/100 [00:06<00:17,  4.11it/s]"
     ]
    },
    {
     "name": "stdout",
     "output_type": "stream",
     "text": [
      "Input shape: torch.Size([16, 501, 64, 64]), Input type: torch.float32\n",
      "Labels shape: torch.Size([16]), Labels type: torch.int64\n",
      "Outputs shape: torch.Size([16, 26]), Outputs type: torch.float32\n"
     ]
    },
    {
     "name": "stderr",
     "output_type": "stream",
     "text": [
      "Epoch 2/10:  30%|███       | 30/100 [00:06<00:16,  4.21it/s]"
     ]
    },
    {
     "name": "stdout",
     "output_type": "stream",
     "text": [
      "Input shape: torch.Size([16, 501, 64, 64]), Input type: torch.float32\n",
      "Labels shape: torch.Size([16]), Labels type: torch.int64\n",
      "Outputs shape: torch.Size([16, 26]), Outputs type: torch.float32\n"
     ]
    },
    {
     "name": "stderr",
     "output_type": "stream",
     "text": [
      "Epoch 2/10:  31%|███       | 31/100 [00:07<00:16,  4.16it/s]"
     ]
    },
    {
     "name": "stdout",
     "output_type": "stream",
     "text": [
      "Input shape: torch.Size([16, 501, 64, 64]), Input type: torch.float32\n",
      "Labels shape: torch.Size([16]), Labels type: torch.int64\n",
      "Outputs shape: torch.Size([16, 26]), Outputs type: torch.float32\n"
     ]
    },
    {
     "name": "stderr",
     "output_type": "stream",
     "text": [
      "Epoch 2/10:  32%|███▏      | 32/100 [00:07<00:16,  4.02it/s]"
     ]
    },
    {
     "name": "stdout",
     "output_type": "stream",
     "text": [
      "Input shape: torch.Size([16, 501, 64, 64]), Input type: torch.float32\n",
      "Labels shape: torch.Size([16]), Labels type: torch.int64\n",
      "Outputs shape: torch.Size([16, 26]), Outputs type: torch.float32\n"
     ]
    },
    {
     "name": "stderr",
     "output_type": "stream",
     "text": [
      "Epoch 2/10:  33%|███▎      | 33/100 [00:07<00:16,  4.08it/s]"
     ]
    },
    {
     "name": "stdout",
     "output_type": "stream",
     "text": [
      "Input shape: torch.Size([16, 501, 64, 64]), Input type: torch.float32\n",
      "Labels shape: torch.Size([16]), Labels type: torch.int64\n",
      "Outputs shape: torch.Size([16, 26]), Outputs type: torch.float32\n"
     ]
    },
    {
     "name": "stderr",
     "output_type": "stream",
     "text": [
      "Epoch 2/10:  34%|███▍      | 34/100 [00:07<00:15,  4.19it/s]"
     ]
    },
    {
     "name": "stdout",
     "output_type": "stream",
     "text": [
      "Input shape: torch.Size([16, 501, 64, 64]), Input type: torch.float32\n",
      "Labels shape: torch.Size([16]), Labels type: torch.int64\n",
      "Outputs shape: torch.Size([16, 26]), Outputs type: torch.float32\n"
     ]
    },
    {
     "name": "stderr",
     "output_type": "stream",
     "text": [
      "Epoch 2/10:  35%|███▌      | 35/100 [00:07<00:15,  4.32it/s]"
     ]
    },
    {
     "name": "stdout",
     "output_type": "stream",
     "text": [
      "Input shape: torch.Size([16, 501, 64, 64]), Input type: torch.float32\n",
      "Labels shape: torch.Size([16]), Labels type: torch.int64\n",
      "Outputs shape: torch.Size([16, 26]), Outputs type: torch.float32\n"
     ]
    },
    {
     "name": "stderr",
     "output_type": "stream",
     "text": [
      "Epoch 2/10:  36%|███▌      | 36/100 [00:08<00:14,  4.45it/s]"
     ]
    },
    {
     "name": "stdout",
     "output_type": "stream",
     "text": [
      "Input shape: torch.Size([16, 501, 64, 64]), Input type: torch.float32\n",
      "Labels shape: torch.Size([16]), Labels type: torch.int64\n",
      "Outputs shape: torch.Size([16, 26]), Outputs type: torch.float32\n"
     ]
    },
    {
     "name": "stderr",
     "output_type": "stream",
     "text": [
      "Epoch 2/10:  37%|███▋      | 37/100 [00:08<00:13,  4.55it/s]"
     ]
    },
    {
     "name": "stdout",
     "output_type": "stream",
     "text": [
      "Input shape: torch.Size([16, 501, 64, 64]), Input type: torch.float32\n",
      "Labels shape: torch.Size([16]), Labels type: torch.int64\n",
      "Outputs shape: torch.Size([16, 26]), Outputs type: torch.float32\n"
     ]
    },
    {
     "name": "stderr",
     "output_type": "stream",
     "text": [
      "Epoch 2/10:  38%|███▊      | 38/100 [00:08<00:14,  4.41it/s]"
     ]
    },
    {
     "name": "stdout",
     "output_type": "stream",
     "text": [
      "Input shape: torch.Size([16, 501, 64, 64]), Input type: torch.float32\n",
      "Labels shape: torch.Size([16]), Labels type: torch.int64\n",
      "Outputs shape: torch.Size([16, 26]), Outputs type: torch.float32\n"
     ]
    },
    {
     "name": "stderr",
     "output_type": "stream",
     "text": [
      "Epoch 2/10:  39%|███▉      | 39/100 [00:08<00:14,  4.20it/s]"
     ]
    },
    {
     "name": "stdout",
     "output_type": "stream",
     "text": [
      "Input shape: torch.Size([16, 501, 64, 64]), Input type: torch.float32\n",
      "Labels shape: torch.Size([16]), Labels type: torch.int64\n",
      "Outputs shape: torch.Size([16, 26]), Outputs type: torch.float32\n"
     ]
    },
    {
     "name": "stderr",
     "output_type": "stream",
     "text": [
      "Epoch 2/10:  40%|████      | 40/100 [00:09<00:14,  4.14it/s]"
     ]
    },
    {
     "name": "stdout",
     "output_type": "stream",
     "text": [
      "Input shape: torch.Size([16, 501, 64, 64]), Input type: torch.float32\n",
      "Labels shape: torch.Size([16]), Labels type: torch.int64\n",
      "Outputs shape: torch.Size([16, 26]), Outputs type: torch.float32\n"
     ]
    },
    {
     "name": "stderr",
     "output_type": "stream",
     "text": [
      "Epoch 2/10:  41%|████      | 41/100 [00:09<00:14,  3.95it/s]"
     ]
    },
    {
     "name": "stdout",
     "output_type": "stream",
     "text": [
      "Input shape: torch.Size([16, 501, 64, 64]), Input type: torch.float32\n",
      "Labels shape: torch.Size([16]), Labels type: torch.int64\n",
      "Outputs shape: torch.Size([16, 26]), Outputs type: torch.float32\n"
     ]
    },
    {
     "name": "stderr",
     "output_type": "stream",
     "text": [
      "Epoch 2/10:  42%|████▏     | 42/100 [00:09<00:14,  3.89it/s]"
     ]
    },
    {
     "name": "stdout",
     "output_type": "stream",
     "text": [
      "Input shape: torch.Size([16, 501, 64, 64]), Input type: torch.float32\n",
      "Labels shape: torch.Size([16]), Labels type: torch.int64\n",
      "Outputs shape: torch.Size([16, 26]), Outputs type: torch.float32\n"
     ]
    },
    {
     "name": "stderr",
     "output_type": "stream",
     "text": [
      "Epoch 2/10:  43%|████▎     | 43/100 [00:09<00:14,  3.90it/s]"
     ]
    },
    {
     "name": "stdout",
     "output_type": "stream",
     "text": [
      "Input shape: torch.Size([16, 501, 64, 64]), Input type: torch.float32\n",
      "Labels shape: torch.Size([16]), Labels type: torch.int64\n",
      "Outputs shape: torch.Size([16, 26]), Outputs type: torch.float32\n"
     ]
    },
    {
     "name": "stderr",
     "output_type": "stream",
     "text": [
      "Epoch 2/10:  44%|████▍     | 44/100 [00:10<00:14,  3.88it/s]"
     ]
    },
    {
     "name": "stdout",
     "output_type": "stream",
     "text": [
      "Input shape: torch.Size([16, 501, 64, 64]), Input type: torch.float32\n",
      "Labels shape: torch.Size([16]), Labels type: torch.int64\n",
      "Outputs shape: torch.Size([16, 26]), Outputs type: torch.float32\n"
     ]
    },
    {
     "name": "stderr",
     "output_type": "stream",
     "text": [
      "Epoch 2/10:  45%|████▌     | 45/100 [00:10<00:13,  4.13it/s]"
     ]
    },
    {
     "name": "stdout",
     "output_type": "stream",
     "text": [
      "Input shape: torch.Size([16, 501, 64, 64]), Input type: torch.float32\n",
      "Labels shape: torch.Size([16]), Labels type: torch.int64\n",
      "Outputs shape: torch.Size([16, 26]), Outputs type: torch.float32\n"
     ]
    },
    {
     "name": "stderr",
     "output_type": "stream",
     "text": [
      "Epoch 2/10:  46%|████▌     | 46/100 [00:10<00:13,  4.12it/s]"
     ]
    },
    {
     "name": "stdout",
     "output_type": "stream",
     "text": [
      "Input shape: torch.Size([16, 501, 64, 64]), Input type: torch.float32\n",
      "Labels shape: torch.Size([16]), Labels type: torch.int64\n",
      "Outputs shape: torch.Size([16, 26]), Outputs type: torch.float32\n"
     ]
    },
    {
     "name": "stderr",
     "output_type": "stream",
     "text": [
      "Epoch 2/10:  47%|████▋     | 47/100 [00:10<00:12,  4.16it/s]"
     ]
    },
    {
     "name": "stdout",
     "output_type": "stream",
     "text": [
      "Input shape: torch.Size([16, 501, 64, 64]), Input type: torch.float32\n",
      "Labels shape: torch.Size([16]), Labels type: torch.int64\n",
      "Outputs shape: torch.Size([16, 26]), Outputs type: torch.float32\n"
     ]
    },
    {
     "name": "stderr",
     "output_type": "stream",
     "text": [
      "Epoch 2/10:  48%|████▊     | 48/100 [00:11<00:11,  4.34it/s]"
     ]
    },
    {
     "name": "stdout",
     "output_type": "stream",
     "text": [
      "Input shape: torch.Size([16, 501, 64, 64]), Input type: torch.float32\n",
      "Labels shape: torch.Size([16]), Labels type: torch.int64\n",
      "Outputs shape: torch.Size([16, 26]), Outputs type: torch.float32\n"
     ]
    },
    {
     "name": "stderr",
     "output_type": "stream",
     "text": [
      "Epoch 2/10:  49%|████▉     | 49/100 [00:11<00:11,  4.27it/s]"
     ]
    },
    {
     "name": "stdout",
     "output_type": "stream",
     "text": [
      "Input shape: torch.Size([16, 501, 64, 64]), Input type: torch.float32\n",
      "Labels shape: torch.Size([16]), Labels type: torch.int64\n",
      "Outputs shape: torch.Size([16, 26]), Outputs type: torch.float32\n"
     ]
    },
    {
     "name": "stderr",
     "output_type": "stream",
     "text": [
      "Epoch 2/10:  50%|█████     | 50/100 [00:11<00:11,  4.34it/s]"
     ]
    },
    {
     "name": "stdout",
     "output_type": "stream",
     "text": [
      "Input shape: torch.Size([16, 501, 64, 64]), Input type: torch.float32\n",
      "Labels shape: torch.Size([16]), Labels type: torch.int64\n",
      "Outputs shape: torch.Size([16, 26]), Outputs type: torch.float32\n"
     ]
    },
    {
     "name": "stderr",
     "output_type": "stream",
     "text": [
      "Epoch 2/10:  51%|█████     | 51/100 [00:11<00:11,  4.31it/s]"
     ]
    },
    {
     "name": "stdout",
     "output_type": "stream",
     "text": [
      "Input shape: torch.Size([16, 501, 64, 64]), Input type: torch.float32\n",
      "Labels shape: torch.Size([16]), Labels type: torch.int64\n",
      "Outputs shape: torch.Size([16, 26]), Outputs type: torch.float32\n"
     ]
    },
    {
     "name": "stderr",
     "output_type": "stream",
     "text": [
      "Epoch 2/10:  52%|█████▏    | 52/100 [00:12<00:10,  4.47it/s]"
     ]
    },
    {
     "name": "stdout",
     "output_type": "stream",
     "text": [
      "Input shape: torch.Size([16, 501, 64, 64]), Input type: torch.float32\n",
      "Labels shape: torch.Size([16]), Labels type: torch.int64\n",
      "Outputs shape: torch.Size([16, 26]), Outputs type: torch.float32\n"
     ]
    },
    {
     "name": "stderr",
     "output_type": "stream",
     "text": [
      "Epoch 2/10:  53%|█████▎    | 53/100 [00:12<00:10,  4.47it/s]"
     ]
    },
    {
     "name": "stdout",
     "output_type": "stream",
     "text": [
      "Input shape: torch.Size([16, 501, 64, 64]), Input type: torch.float32\n",
      "Labels shape: torch.Size([16]), Labels type: torch.int64\n",
      "Outputs shape: torch.Size([16, 26]), Outputs type: torch.float32\n"
     ]
    },
    {
     "name": "stderr",
     "output_type": "stream",
     "text": [
      "Epoch 2/10:  54%|█████▍    | 54/100 [00:12<00:10,  4.43it/s]"
     ]
    },
    {
     "name": "stdout",
     "output_type": "stream",
     "text": [
      "Input shape: torch.Size([16, 501, 64, 64]), Input type: torch.float32\n",
      "Labels shape: torch.Size([16]), Labels type: torch.int64\n",
      "Outputs shape: torch.Size([16, 26]), Outputs type: torch.float32\n"
     ]
    },
    {
     "name": "stderr",
     "output_type": "stream",
     "text": [
      "Epoch 2/10:  55%|█████▌    | 55/100 [00:12<00:10,  4.36it/s]"
     ]
    },
    {
     "name": "stdout",
     "output_type": "stream",
     "text": [
      "Input shape: torch.Size([16, 501, 64, 64]), Input type: torch.float32\n",
      "Labels shape: torch.Size([16]), Labels type: torch.int64\n",
      "Outputs shape: torch.Size([16, 26]), Outputs type: torch.float32\n"
     ]
    },
    {
     "name": "stderr",
     "output_type": "stream",
     "text": [
      "Epoch 2/10:  56%|█████▌    | 56/100 [00:12<00:09,  4.51it/s]"
     ]
    },
    {
     "name": "stdout",
     "output_type": "stream",
     "text": [
      "Input shape: torch.Size([16, 501, 64, 64]), Input type: torch.float32\n",
      "Labels shape: torch.Size([16]), Labels type: torch.int64\n",
      "Outputs shape: torch.Size([16, 26]), Outputs type: torch.float32\n"
     ]
    },
    {
     "name": "stderr",
     "output_type": "stream",
     "text": [
      "Epoch 2/10:  57%|█████▋    | 57/100 [00:13<00:09,  4.37it/s]"
     ]
    },
    {
     "name": "stdout",
     "output_type": "stream",
     "text": [
      "Input shape: torch.Size([16, 501, 64, 64]), Input type: torch.float32\n",
      "Labels shape: torch.Size([16]), Labels type: torch.int64\n",
      "Outputs shape: torch.Size([16, 26]), Outputs type: torch.float32\n"
     ]
    },
    {
     "name": "stderr",
     "output_type": "stream",
     "text": [
      "Epoch 2/10:  58%|█████▊    | 58/100 [00:13<00:09,  4.49it/s]"
     ]
    },
    {
     "name": "stdout",
     "output_type": "stream",
     "text": [
      "Input shape: torch.Size([16, 501, 64, 64]), Input type: torch.float32\n",
      "Labels shape: torch.Size([16]), Labels type: torch.int64\n",
      "Outputs shape: torch.Size([16, 26]), Outputs type: torch.float32\n"
     ]
    },
    {
     "name": "stderr",
     "output_type": "stream",
     "text": [
      "Epoch 2/10:  59%|█████▉    | 59/100 [00:13<00:09,  4.42it/s]"
     ]
    },
    {
     "name": "stdout",
     "output_type": "stream",
     "text": [
      "Input shape: torch.Size([16, 501, 64, 64]), Input type: torch.float32\n",
      "Labels shape: torch.Size([16]), Labels type: torch.int64\n",
      "Outputs shape: torch.Size([16, 26]), Outputs type: torch.float32\n"
     ]
    },
    {
     "name": "stderr",
     "output_type": "stream",
     "text": [
      "Epoch 2/10:  60%|██████    | 60/100 [00:13<00:09,  4.42it/s]"
     ]
    },
    {
     "name": "stdout",
     "output_type": "stream",
     "text": [
      "Input shape: torch.Size([16, 501, 64, 64]), Input type: torch.float32\n",
      "Labels shape: torch.Size([16]), Labels type: torch.int64\n",
      "Outputs shape: torch.Size([16, 26]), Outputs type: torch.float32\n"
     ]
    },
    {
     "name": "stderr",
     "output_type": "stream",
     "text": [
      "Epoch 2/10:  61%|██████    | 61/100 [00:14<00:08,  4.34it/s]"
     ]
    },
    {
     "name": "stdout",
     "output_type": "stream",
     "text": [
      "Input shape: torch.Size([16, 501, 64, 64]), Input type: torch.float32\n",
      "Labels shape: torch.Size([16]), Labels type: torch.int64\n",
      "Outputs shape: torch.Size([16, 26]), Outputs type: torch.float32\n"
     ]
    },
    {
     "name": "stderr",
     "output_type": "stream",
     "text": [
      "Epoch 2/10:  62%|██████▏   | 62/100 [00:14<00:08,  4.26it/s]"
     ]
    },
    {
     "name": "stdout",
     "output_type": "stream",
     "text": [
      "Input shape: torch.Size([16, 501, 64, 64]), Input type: torch.float32\n",
      "Labels shape: torch.Size([16]), Labels type: torch.int64\n",
      "Outputs shape: torch.Size([16, 26]), Outputs type: torch.float32\n"
     ]
    },
    {
     "name": "stderr",
     "output_type": "stream",
     "text": [
      "Epoch 2/10:  63%|██████▎   | 63/100 [00:14<00:08,  4.29it/s]"
     ]
    },
    {
     "name": "stdout",
     "output_type": "stream",
     "text": [
      "Input shape: torch.Size([16, 501, 64, 64]), Input type: torch.float32\n",
      "Labels shape: torch.Size([16]), Labels type: torch.int64\n",
      "Outputs shape: torch.Size([16, 26]), Outputs type: torch.float32\n"
     ]
    },
    {
     "name": "stderr",
     "output_type": "stream",
     "text": [
      "Epoch 2/10:  64%|██████▍   | 64/100 [00:14<00:08,  4.32it/s]"
     ]
    },
    {
     "name": "stdout",
     "output_type": "stream",
     "text": [
      "Input shape: torch.Size([16, 501, 64, 64]), Input type: torch.float32\n",
      "Labels shape: torch.Size([16]), Labels type: torch.int64\n",
      "Outputs shape: torch.Size([16, 26]), Outputs type: torch.float32\n"
     ]
    },
    {
     "name": "stderr",
     "output_type": "stream",
     "text": [
      "Epoch 2/10:  65%|██████▌   | 65/100 [00:15<00:08,  4.23it/s]"
     ]
    },
    {
     "name": "stdout",
     "output_type": "stream",
     "text": [
      "Input shape: torch.Size([16, 501, 64, 64]), Input type: torch.float32\n",
      "Labels shape: torch.Size([16]), Labels type: torch.int64\n",
      "Outputs shape: torch.Size([16, 26]), Outputs type: torch.float32\n"
     ]
    },
    {
     "name": "stderr",
     "output_type": "stream",
     "text": [
      "Epoch 2/10:  66%|██████▌   | 66/100 [00:15<00:07,  4.42it/s]"
     ]
    },
    {
     "name": "stdout",
     "output_type": "stream",
     "text": [
      "Input shape: torch.Size([16, 501, 64, 64]), Input type: torch.float32\n",
      "Labels shape: torch.Size([16]), Labels type: torch.int64\n",
      "Outputs shape: torch.Size([16, 26]), Outputs type: torch.float32\n"
     ]
    },
    {
     "name": "stderr",
     "output_type": "stream",
     "text": [
      "Epoch 2/10:  67%|██████▋   | 67/100 [00:15<00:07,  4.37it/s]"
     ]
    },
    {
     "name": "stdout",
     "output_type": "stream",
     "text": [
      "Input shape: torch.Size([16, 501, 64, 64]), Input type: torch.float32\n",
      "Labels shape: torch.Size([16]), Labels type: torch.int64\n",
      "Outputs shape: torch.Size([16, 26]), Outputs type: torch.float32\n"
     ]
    },
    {
     "name": "stderr",
     "output_type": "stream",
     "text": [
      "Epoch 2/10:  68%|██████▊   | 68/100 [00:15<00:07,  4.53it/s]"
     ]
    },
    {
     "name": "stdout",
     "output_type": "stream",
     "text": [
      "Input shape: torch.Size([16, 501, 64, 64]), Input type: torch.float32\n",
      "Labels shape: torch.Size([16]), Labels type: torch.int64\n",
      "Outputs shape: torch.Size([16, 26]), Outputs type: torch.float32\n"
     ]
    },
    {
     "name": "stderr",
     "output_type": "stream",
     "text": [
      "Epoch 2/10:  69%|██████▉   | 69/100 [00:15<00:06,  4.62it/s]"
     ]
    },
    {
     "name": "stdout",
     "output_type": "stream",
     "text": [
      "Input shape: torch.Size([16, 501, 64, 64]), Input type: torch.float32\n",
      "Labels shape: torch.Size([16]), Labels type: torch.int64\n",
      "Outputs shape: torch.Size([16, 26]), Outputs type: torch.float32\n"
     ]
    },
    {
     "name": "stderr",
     "output_type": "stream",
     "text": [
      "Epoch 2/10:  70%|███████   | 70/100 [00:16<00:06,  4.70it/s]"
     ]
    },
    {
     "name": "stdout",
     "output_type": "stream",
     "text": [
      "Input shape: torch.Size([16, 501, 64, 64]), Input type: torch.float32\n",
      "Labels shape: torch.Size([16]), Labels type: torch.int64\n",
      "Outputs shape: torch.Size([16, 26]), Outputs type: torch.float32\n"
     ]
    },
    {
     "name": "stderr",
     "output_type": "stream",
     "text": [
      "Epoch 2/10:  71%|███████   | 71/100 [00:16<00:06,  4.68it/s]"
     ]
    },
    {
     "name": "stdout",
     "output_type": "stream",
     "text": [
      "Input shape: torch.Size([16, 501, 64, 64]), Input type: torch.float32\n",
      "Labels shape: torch.Size([16]), Labels type: torch.int64\n",
      "Outputs shape: torch.Size([16, 26]), Outputs type: torch.float32\n"
     ]
    },
    {
     "name": "stderr",
     "output_type": "stream",
     "text": [
      "Epoch 2/10:  72%|███████▏  | 72/100 [00:16<00:05,  4.74it/s]"
     ]
    },
    {
     "name": "stdout",
     "output_type": "stream",
     "text": [
      "Input shape: torch.Size([16, 501, 64, 64]), Input type: torch.float32\n",
      "Labels shape: torch.Size([16]), Labels type: torch.int64\n",
      "Outputs shape: torch.Size([16, 26]), Outputs type: torch.float32\n"
     ]
    },
    {
     "name": "stderr",
     "output_type": "stream",
     "text": [
      "Epoch 2/10:  73%|███████▎  | 73/100 [00:16<00:06,  4.41it/s]"
     ]
    },
    {
     "name": "stdout",
     "output_type": "stream",
     "text": [
      "Input shape: torch.Size([16, 501, 64, 64]), Input type: torch.float32\n",
      "Labels shape: torch.Size([16]), Labels type: torch.int64\n",
      "Outputs shape: torch.Size([16, 26]), Outputs type: torch.float32\n"
     ]
    },
    {
     "name": "stderr",
     "output_type": "stream",
     "text": [
      "Epoch 2/10:  74%|███████▍  | 74/100 [00:16<00:05,  4.55it/s]"
     ]
    },
    {
     "name": "stdout",
     "output_type": "stream",
     "text": [
      "Input shape: torch.Size([16, 501, 64, 64]), Input type: torch.float32\n",
      "Labels shape: torch.Size([16]), Labels type: torch.int64\n",
      "Outputs shape: torch.Size([16, 26]), Outputs type: torch.float32\n"
     ]
    },
    {
     "name": "stderr",
     "output_type": "stream",
     "text": [
      "Epoch 2/10:  75%|███████▌  | 75/100 [00:17<00:05,  4.53it/s]"
     ]
    },
    {
     "name": "stdout",
     "output_type": "stream",
     "text": [
      "Input shape: torch.Size([16, 501, 64, 64]), Input type: torch.float32\n",
      "Labels shape: torch.Size([16]), Labels type: torch.int64\n",
      "Outputs shape: torch.Size([16, 26]), Outputs type: torch.float32\n"
     ]
    },
    {
     "name": "stderr",
     "output_type": "stream",
     "text": [
      "Epoch 2/10:  76%|███████▌  | 76/100 [00:17<00:05,  4.64it/s]"
     ]
    },
    {
     "name": "stdout",
     "output_type": "stream",
     "text": [
      "Input shape: torch.Size([16, 501, 64, 64]), Input type: torch.float32\n",
      "Labels shape: torch.Size([16]), Labels type: torch.int64\n",
      "Outputs shape: torch.Size([16, 26]), Outputs type: torch.float32\n"
     ]
    },
    {
     "name": "stderr",
     "output_type": "stream",
     "text": [
      "Epoch 2/10:  77%|███████▋  | 77/100 [00:17<00:04,  4.63it/s]"
     ]
    },
    {
     "name": "stdout",
     "output_type": "stream",
     "text": [
      "Input shape: torch.Size([16, 501, 64, 64]), Input type: torch.float32\n",
      "Labels shape: torch.Size([16]), Labels type: torch.int64\n",
      "Outputs shape: torch.Size([16, 26]), Outputs type: torch.float32\n"
     ]
    },
    {
     "name": "stderr",
     "output_type": "stream",
     "text": [
      "Epoch 2/10:  78%|███████▊  | 78/100 [00:17<00:05,  4.37it/s]"
     ]
    },
    {
     "name": "stdout",
     "output_type": "stream",
     "text": [
      "Input shape: torch.Size([16, 501, 64, 64]), Input type: torch.float32\n",
      "Labels shape: torch.Size([16]), Labels type: torch.int64\n",
      "Outputs shape: torch.Size([16, 26]), Outputs type: torch.float32\n"
     ]
    },
    {
     "name": "stderr",
     "output_type": "stream",
     "text": [
      "Epoch 2/10:  79%|███████▉  | 79/100 [00:18<00:04,  4.45it/s]"
     ]
    },
    {
     "name": "stdout",
     "output_type": "stream",
     "text": [
      "Input shape: torch.Size([16, 501, 64, 64]), Input type: torch.float32\n",
      "Labels shape: torch.Size([16]), Labels type: torch.int64\n",
      "Outputs shape: torch.Size([16, 26]), Outputs type: torch.float32\n"
     ]
    },
    {
     "name": "stderr",
     "output_type": "stream",
     "text": [
      "Epoch 2/10:  80%|████████  | 80/100 [00:18<00:04,  4.23it/s]"
     ]
    },
    {
     "name": "stdout",
     "output_type": "stream",
     "text": [
      "Input shape: torch.Size([16, 501, 64, 64]), Input type: torch.float32\n",
      "Labels shape: torch.Size([16]), Labels type: torch.int64\n",
      "Outputs shape: torch.Size([16, 26]), Outputs type: torch.float32\n"
     ]
    },
    {
     "name": "stderr",
     "output_type": "stream",
     "text": [
      "Epoch 2/10:  81%|████████  | 81/100 [00:18<00:04,  4.35it/s]"
     ]
    },
    {
     "name": "stdout",
     "output_type": "stream",
     "text": [
      "Input shape: torch.Size([16, 501, 64, 64]), Input type: torch.float32\n",
      "Labels shape: torch.Size([16]), Labels type: torch.int64\n",
      "Outputs shape: torch.Size([16, 26]), Outputs type: torch.float32\n"
     ]
    },
    {
     "name": "stderr",
     "output_type": "stream",
     "text": [
      "Epoch 2/10:  82%|████████▏ | 82/100 [00:18<00:04,  4.43it/s]"
     ]
    },
    {
     "name": "stdout",
     "output_type": "stream",
     "text": [
      "Input shape: torch.Size([16, 501, 64, 64]), Input type: torch.float32\n",
      "Labels shape: torch.Size([16]), Labels type: torch.int64\n",
      "Outputs shape: torch.Size([16, 26]), Outputs type: torch.float32\n"
     ]
    },
    {
     "name": "stderr",
     "output_type": "stream",
     "text": [
      "Epoch 2/10:  83%|████████▎ | 83/100 [00:18<00:03,  4.57it/s]"
     ]
    },
    {
     "name": "stdout",
     "output_type": "stream",
     "text": [
      "Input shape: torch.Size([16, 501, 64, 64]), Input type: torch.float32\n",
      "Labels shape: torch.Size([16]), Labels type: torch.int64\n",
      "Outputs shape: torch.Size([16, 26]), Outputs type: torch.float32\n"
     ]
    },
    {
     "name": "stderr",
     "output_type": "stream",
     "text": [
      "Epoch 2/10:  84%|████████▍ | 84/100 [00:19<00:03,  4.67it/s]"
     ]
    },
    {
     "name": "stdout",
     "output_type": "stream",
     "text": [
      "Input shape: torch.Size([16, 501, 64, 64]), Input type: torch.float32\n",
      "Labels shape: torch.Size([16]), Labels type: torch.int64\n",
      "Outputs shape: torch.Size([16, 26]), Outputs type: torch.float32\n"
     ]
    },
    {
     "name": "stderr",
     "output_type": "stream",
     "text": [
      "Epoch 2/10:  85%|████████▌ | 85/100 [00:19<00:03,  4.75it/s]"
     ]
    },
    {
     "name": "stdout",
     "output_type": "stream",
     "text": [
      "Input shape: torch.Size([16, 501, 64, 64]), Input type: torch.float32\n",
      "Labels shape: torch.Size([16]), Labels type: torch.int64\n",
      "Outputs shape: torch.Size([16, 26]), Outputs type: torch.float32\n"
     ]
    },
    {
     "name": "stderr",
     "output_type": "stream",
     "text": [
      "Epoch 2/10:  86%|████████▌ | 86/100 [00:19<00:03,  4.65it/s]"
     ]
    },
    {
     "name": "stdout",
     "output_type": "stream",
     "text": [
      "Input shape: torch.Size([16, 501, 64, 64]), Input type: torch.float32\n",
      "Labels shape: torch.Size([16]), Labels type: torch.int64\n",
      "Outputs shape: torch.Size([16, 26]), Outputs type: torch.float32\n"
     ]
    },
    {
     "name": "stderr",
     "output_type": "stream",
     "text": [
      "Epoch 2/10:  87%|████████▋ | 87/100 [00:19<00:02,  4.48it/s]"
     ]
    },
    {
     "name": "stdout",
     "output_type": "stream",
     "text": [
      "Input shape: torch.Size([16, 501, 64, 64]), Input type: torch.float32\n",
      "Labels shape: torch.Size([16]), Labels type: torch.int64\n",
      "Outputs shape: torch.Size([16, 26]), Outputs type: torch.float32\n"
     ]
    },
    {
     "name": "stderr",
     "output_type": "stream",
     "text": [
      "Epoch 2/10:  88%|████████▊ | 88/100 [00:20<00:02,  4.30it/s]"
     ]
    },
    {
     "name": "stdout",
     "output_type": "stream",
     "text": [
      "Input shape: torch.Size([16, 501, 64, 64]), Input type: torch.float32\n",
      "Labels shape: torch.Size([16]), Labels type: torch.int64\n",
      "Outputs shape: torch.Size([16, 26]), Outputs type: torch.float32\n"
     ]
    },
    {
     "name": "stderr",
     "output_type": "stream",
     "text": [
      "Epoch 2/10:  89%|████████▉ | 89/100 [00:20<00:02,  4.16it/s]"
     ]
    },
    {
     "name": "stdout",
     "output_type": "stream",
     "text": [
      "Input shape: torch.Size([16, 501, 64, 64]), Input type: torch.float32\n",
      "Labels shape: torch.Size([16]), Labels type: torch.int64\n",
      "Outputs shape: torch.Size([16, 26]), Outputs type: torch.float32\n"
     ]
    },
    {
     "name": "stderr",
     "output_type": "stream",
     "text": [
      "Epoch 2/10:  90%|█████████ | 90/100 [00:20<00:02,  4.29it/s]"
     ]
    },
    {
     "name": "stdout",
     "output_type": "stream",
     "text": [
      "Input shape: torch.Size([16, 501, 64, 64]), Input type: torch.float32\n",
      "Labels shape: torch.Size([16]), Labels type: torch.int64\n",
      "Outputs shape: torch.Size([16, 26]), Outputs type: torch.float32\n"
     ]
    },
    {
     "name": "stderr",
     "output_type": "stream",
     "text": [
      "Epoch 2/10:  91%|█████████ | 91/100 [00:20<00:02,  4.46it/s]"
     ]
    },
    {
     "name": "stdout",
     "output_type": "stream",
     "text": [
      "Input shape: torch.Size([16, 501, 64, 64]), Input type: torch.float32\n",
      "Labels shape: torch.Size([16]), Labels type: torch.int64\n",
      "Outputs shape: torch.Size([16, 26]), Outputs type: torch.float32\n"
     ]
    },
    {
     "name": "stderr",
     "output_type": "stream",
     "text": [
      "Epoch 2/10:  92%|█████████▏| 92/100 [00:20<00:01,  4.58it/s]"
     ]
    },
    {
     "name": "stdout",
     "output_type": "stream",
     "text": [
      "Input shape: torch.Size([16, 501, 64, 64]), Input type: torch.float32\n",
      "Labels shape: torch.Size([16]), Labels type: torch.int64\n",
      "Outputs shape: torch.Size([16, 26]), Outputs type: torch.float32\n"
     ]
    },
    {
     "name": "stderr",
     "output_type": "stream",
     "text": [
      "Epoch 2/10:  93%|█████████▎| 93/100 [00:21<00:01,  4.68it/s]"
     ]
    },
    {
     "name": "stdout",
     "output_type": "stream",
     "text": [
      "Input shape: torch.Size([16, 501, 64, 64]), Input type: torch.float32\n",
      "Labels shape: torch.Size([16]), Labels type: torch.int64\n",
      "Outputs shape: torch.Size([16, 26]), Outputs type: torch.float32\n"
     ]
    },
    {
     "name": "stderr",
     "output_type": "stream",
     "text": [
      "Epoch 2/10:  94%|█████████▍| 94/100 [00:21<00:01,  4.73it/s]"
     ]
    },
    {
     "name": "stdout",
     "output_type": "stream",
     "text": [
      "Input shape: torch.Size([16, 501, 64, 64]), Input type: torch.float32\n",
      "Labels shape: torch.Size([16]), Labels type: torch.int64\n",
      "Outputs shape: torch.Size([16, 26]), Outputs type: torch.float32\n"
     ]
    },
    {
     "name": "stderr",
     "output_type": "stream",
     "text": [
      "Epoch 2/10:  95%|█████████▌| 95/100 [00:21<00:01,  4.65it/s]"
     ]
    },
    {
     "name": "stdout",
     "output_type": "stream",
     "text": [
      "Input shape: torch.Size([16, 501, 64, 64]), Input type: torch.float32\n",
      "Labels shape: torch.Size([16]), Labels type: torch.int64\n",
      "Outputs shape: torch.Size([16, 26]), Outputs type: torch.float32\n"
     ]
    },
    {
     "name": "stderr",
     "output_type": "stream",
     "text": [
      "Epoch 2/10:  96%|█████████▌| 96/100 [00:21<00:00,  4.70it/s]"
     ]
    },
    {
     "name": "stdout",
     "output_type": "stream",
     "text": [
      "Input shape: torch.Size([16, 501, 64, 64]), Input type: torch.float32\n",
      "Labels shape: torch.Size([16]), Labels type: torch.int64\n",
      "Outputs shape: torch.Size([16, 26]), Outputs type: torch.float32\n"
     ]
    },
    {
     "name": "stderr",
     "output_type": "stream",
     "text": [
      "Epoch 2/10:  97%|█████████▋| 97/100 [00:22<00:00,  4.71it/s]"
     ]
    },
    {
     "name": "stdout",
     "output_type": "stream",
     "text": [
      "Input shape: torch.Size([16, 501, 64, 64]), Input type: torch.float32\n",
      "Labels shape: torch.Size([16]), Labels type: torch.int64\n",
      "Outputs shape: torch.Size([16, 26]), Outputs type: torch.float32\n"
     ]
    },
    {
     "name": "stderr",
     "output_type": "stream",
     "text": [
      "Epoch 2/10:  98%|█████████▊| 98/100 [00:22<00:00,  4.75it/s]"
     ]
    },
    {
     "name": "stdout",
     "output_type": "stream",
     "text": [
      "Input shape: torch.Size([16, 501, 64, 64]), Input type: torch.float32\n",
      "Labels shape: torch.Size([16]), Labels type: torch.int64\n",
      "Outputs shape: torch.Size([16, 26]), Outputs type: torch.float32\n"
     ]
    },
    {
     "name": "stderr",
     "output_type": "stream",
     "text": [
      "Epoch 2/10: 100%|██████████| 100/100 [00:22<00:00,  4.44it/s]\n"
     ]
    },
    {
     "name": "stdout",
     "output_type": "stream",
     "text": [
      "Input shape: torch.Size([16, 501, 64, 64]), Input type: torch.float32\n",
      "Labels shape: torch.Size([16]), Labels type: torch.int64\n",
      "Outputs shape: torch.Size([16, 26]), Outputs type: torch.float32\n",
      "Input shape: torch.Size([6, 501, 64, 64]), Input type: torch.float32\n",
      "Labels shape: torch.Size([6]), Labels type: torch.int64\n",
      "Outputs shape: torch.Size([6, 26]), Outputs type: torch.float32\n"
     ]
    },
    {
     "name": "stderr",
     "output_type": "stream",
     "text": [
      "Epoch 3/10:   1%|          | 1/100 [00:00<00:19,  4.97it/s]"
     ]
    },
    {
     "name": "stdout",
     "output_type": "stream",
     "text": [
      "Input shape: torch.Size([16, 501, 64, 64]), Input type: torch.float32\n",
      "Labels shape: torch.Size([16]), Labels type: torch.int64\n",
      "Outputs shape: torch.Size([16, 26]), Outputs type: torch.float32\n"
     ]
    },
    {
     "name": "stderr",
     "output_type": "stream",
     "text": [
      "Epoch 3/10:   2%|▏         | 2/100 [00:00<00:19,  4.98it/s]"
     ]
    },
    {
     "name": "stdout",
     "output_type": "stream",
     "text": [
      "Input shape: torch.Size([16, 501, 64, 64]), Input type: torch.float32\n",
      "Labels shape: torch.Size([16]), Labels type: torch.int64\n",
      "Outputs shape: torch.Size([16, 26]), Outputs type: torch.float32\n"
     ]
    },
    {
     "name": "stderr",
     "output_type": "stream",
     "text": [
      "Epoch 3/10:   3%|▎         | 3/100 [00:00<00:19,  4.93it/s]"
     ]
    },
    {
     "name": "stdout",
     "output_type": "stream",
     "text": [
      "Input shape: torch.Size([16, 501, 64, 64]), Input type: torch.float32\n",
      "Labels shape: torch.Size([16]), Labels type: torch.int64\n",
      "Outputs shape: torch.Size([16, 26]), Outputs type: torch.float32\n"
     ]
    },
    {
     "name": "stderr",
     "output_type": "stream",
     "text": [
      "Epoch 3/10:   4%|▍         | 4/100 [00:00<00:19,  4.85it/s]"
     ]
    },
    {
     "name": "stdout",
     "output_type": "stream",
     "text": [
      "Input shape: torch.Size([16, 501, 64, 64]), Input type: torch.float32\n",
      "Labels shape: torch.Size([16]), Labels type: torch.int64\n",
      "Outputs shape: torch.Size([16, 26]), Outputs type: torch.float32\n"
     ]
    },
    {
     "name": "stderr",
     "output_type": "stream",
     "text": [
      "Epoch 3/10:   5%|▌         | 5/100 [00:01<00:19,  4.77it/s]"
     ]
    },
    {
     "name": "stdout",
     "output_type": "stream",
     "text": [
      "Input shape: torch.Size([16, 501, 64, 64]), Input type: torch.float32\n",
      "Labels shape: torch.Size([16]), Labels type: torch.int64\n",
      "Outputs shape: torch.Size([16, 26]), Outputs type: torch.float32\n"
     ]
    },
    {
     "name": "stderr",
     "output_type": "stream",
     "text": [
      "Epoch 3/10:   6%|▌         | 6/100 [00:01<00:19,  4.80it/s]"
     ]
    },
    {
     "name": "stdout",
     "output_type": "stream",
     "text": [
      "Input shape: torch.Size([16, 501, 64, 64]), Input type: torch.float32\n",
      "Labels shape: torch.Size([16]), Labels type: torch.int64\n",
      "Outputs shape: torch.Size([16, 26]), Outputs type: torch.float32\n"
     ]
    },
    {
     "name": "stderr",
     "output_type": "stream",
     "text": [
      "Epoch 3/10:   7%|▋         | 7/100 [00:01<00:19,  4.85it/s]"
     ]
    },
    {
     "name": "stdout",
     "output_type": "stream",
     "text": [
      "Input shape: torch.Size([16, 501, 64, 64]), Input type: torch.float32\n",
      "Labels shape: torch.Size([16]), Labels type: torch.int64\n",
      "Outputs shape: torch.Size([16, 26]), Outputs type: torch.float32\n",
      "Input shape: torch.Size([16, 501, 64, 64]), Input type: torch.float32\n",
      "Labels shape: torch.Size([16]), Labels type: torch.int64\n"
     ]
    },
    {
     "name": "stderr",
     "output_type": "stream",
     "text": [
      "Epoch 3/10:   8%|▊         | 8/100 [00:01<00:18,  4.86it/s]"
     ]
    },
    {
     "name": "stdout",
     "output_type": "stream",
     "text": [
      "Outputs shape: torch.Size([16, 26]), Outputs type: torch.float32\n",
      "Input shape: torch.Size([16, 501, 64, 64]), Input type: torch.float32\n",
      "Labels shape: torch.Size([16]), Labels type: torch.int64\n"
     ]
    },
    {
     "name": "stderr",
     "output_type": "stream",
     "text": [
      "Epoch 3/10:   9%|▉         | 9/100 [00:01<00:18,  4.88it/s]"
     ]
    },
    {
     "name": "stdout",
     "output_type": "stream",
     "text": [
      "Outputs shape: torch.Size([16, 26]), Outputs type: torch.float32\n",
      "Input shape: torch.Size([16, 501, 64, 64]), Input type: torch.float32\n",
      "Labels shape: torch.Size([16]), Labels type: torch.int64\n"
     ]
    },
    {
     "name": "stderr",
     "output_type": "stream",
     "text": [
      "Epoch 3/10:  10%|█         | 10/100 [00:02<00:18,  4.79it/s]"
     ]
    },
    {
     "name": "stdout",
     "output_type": "stream",
     "text": [
      "Outputs shape: torch.Size([16, 26]), Outputs type: torch.float32\n",
      "Input shape: torch.Size([16, 501, 64, 64]), Input type: torch.float32\n",
      "Labels shape: torch.Size([16]), Labels type: torch.int64\n"
     ]
    },
    {
     "name": "stderr",
     "output_type": "stream",
     "text": [
      "Epoch 3/10:  11%|█         | 11/100 [00:02<00:18,  4.85it/s]"
     ]
    },
    {
     "name": "stdout",
     "output_type": "stream",
     "text": [
      "Outputs shape: torch.Size([16, 26]), Outputs type: torch.float32\n",
      "Input shape: torch.Size([16, 501, 64, 64]), Input type: torch.float32\n",
      "Labels shape: torch.Size([16]), Labels type: torch.int64\n"
     ]
    },
    {
     "name": "stderr",
     "output_type": "stream",
     "text": [
      "Epoch 3/10:  12%|█▏        | 12/100 [00:02<00:18,  4.78it/s]"
     ]
    },
    {
     "name": "stdout",
     "output_type": "stream",
     "text": [
      "Outputs shape: torch.Size([16, 26]), Outputs type: torch.float32\n",
      "Input shape: torch.Size([16, 501, 64, 64]), Input type: torch.float32\n",
      "Labels shape: torch.Size([16]), Labels type: torch.int64\n"
     ]
    },
    {
     "name": "stderr",
     "output_type": "stream",
     "text": [
      "Epoch 3/10:  13%|█▎        | 13/100 [00:02<00:18,  4.64it/s]"
     ]
    },
    {
     "name": "stdout",
     "output_type": "stream",
     "text": [
      "Outputs shape: torch.Size([16, 26]), Outputs type: torch.float32\n",
      "Input shape: torch.Size([16, 501, 64, 64]), Input type: torch.float32\n",
      "Labels shape: torch.Size([16]), Labels type: torch.int64\n"
     ]
    },
    {
     "name": "stderr",
     "output_type": "stream",
     "text": [
      "Epoch 3/10:  14%|█▍        | 14/100 [00:02<00:18,  4.56it/s]"
     ]
    },
    {
     "name": "stdout",
     "output_type": "stream",
     "text": [
      "Outputs shape: torch.Size([16, 26]), Outputs type: torch.float32\n",
      "Input shape: torch.Size([16, 501, 64, 64]), Input type: torch.float32\n",
      "Labels shape: torch.Size([16]), Labels type: torch.int64\n"
     ]
    },
    {
     "name": "stderr",
     "output_type": "stream",
     "text": [
      "Epoch 3/10:  15%|█▌        | 15/100 [00:03<00:18,  4.67it/s]"
     ]
    },
    {
     "name": "stdout",
     "output_type": "stream",
     "text": [
      "Outputs shape: torch.Size([16, 26]), Outputs type: torch.float32\n"
     ]
    },
    {
     "name": "stderr",
     "output_type": "stream",
     "text": [
      "Epoch 3/10:  16%|█▌        | 16/100 [00:03<00:19,  4.37it/s]"
     ]
    },
    {
     "name": "stdout",
     "output_type": "stream",
     "text": [
      "Input shape: torch.Size([16, 501, 64, 64]), Input type: torch.float32\n",
      "Labels shape: torch.Size([16]), Labels type: torch.int64\n",
      "Outputs shape: torch.Size([16, 26]), Outputs type: torch.float32\n"
     ]
    },
    {
     "name": "stderr",
     "output_type": "stream",
     "text": [
      "Epoch 3/10:  17%|█▋        | 17/100 [00:03<00:19,  4.35it/s]"
     ]
    },
    {
     "name": "stdout",
     "output_type": "stream",
     "text": [
      "Input shape: torch.Size([16, 501, 64, 64]), Input type: torch.float32\n",
      "Labels shape: torch.Size([16]), Labels type: torch.int64\n",
      "Outputs shape: torch.Size([16, 26]), Outputs type: torch.float32\n"
     ]
    },
    {
     "name": "stderr",
     "output_type": "stream",
     "text": [
      "Epoch 3/10:  18%|█▊        | 18/100 [00:03<00:18,  4.37it/s]"
     ]
    },
    {
     "name": "stdout",
     "output_type": "stream",
     "text": [
      "Input shape: torch.Size([16, 501, 64, 64]), Input type: torch.float32\n",
      "Labels shape: torch.Size([16]), Labels type: torch.int64\n",
      "Outputs shape: torch.Size([16, 26]), Outputs type: torch.float32\n"
     ]
    },
    {
     "name": "stderr",
     "output_type": "stream",
     "text": [
      "Epoch 3/10:  19%|█▉        | 19/100 [00:04<00:18,  4.39it/s]"
     ]
    },
    {
     "name": "stdout",
     "output_type": "stream",
     "text": [
      "Input shape: torch.Size([16, 501, 64, 64]), Input type: torch.float32\n",
      "Labels shape: torch.Size([16]), Labels type: torch.int64\n",
      "Outputs shape: torch.Size([16, 26]), Outputs type: torch.float32\n"
     ]
    },
    {
     "name": "stderr",
     "output_type": "stream",
     "text": [
      "Epoch 3/10:  20%|██        | 20/100 [00:04<00:19,  4.12it/s]"
     ]
    },
    {
     "name": "stdout",
     "output_type": "stream",
     "text": [
      "Input shape: torch.Size([16, 501, 64, 64]), Input type: torch.float32\n",
      "Labels shape: torch.Size([16]), Labels type: torch.int64\n",
      "Outputs shape: torch.Size([16, 26]), Outputs type: torch.float32\n"
     ]
    },
    {
     "name": "stderr",
     "output_type": "stream",
     "text": [
      "Epoch 3/10:  21%|██        | 21/100 [00:04<00:19,  4.12it/s]"
     ]
    },
    {
     "name": "stdout",
     "output_type": "stream",
     "text": [
      "Input shape: torch.Size([16, 501, 64, 64]), Input type: torch.float32\n",
      "Labels shape: torch.Size([16]), Labels type: torch.int64\n",
      "Outputs shape: torch.Size([16, 26]), Outputs type: torch.float32\n"
     ]
    },
    {
     "name": "stderr",
     "output_type": "stream",
     "text": [
      "Epoch 3/10:  22%|██▏       | 22/100 [00:04<00:19,  4.07it/s]"
     ]
    },
    {
     "name": "stdout",
     "output_type": "stream",
     "text": [
      "Input shape: torch.Size([16, 501, 64, 64]), Input type: torch.float32\n",
      "Labels shape: torch.Size([16]), Labels type: torch.int64\n",
      "Outputs shape: torch.Size([16, 26]), Outputs type: torch.float32\n"
     ]
    },
    {
     "name": "stderr",
     "output_type": "stream",
     "text": [
      "Epoch 3/10:  23%|██▎       | 23/100 [00:05<00:18,  4.13it/s]"
     ]
    },
    {
     "name": "stdout",
     "output_type": "stream",
     "text": [
      "Input shape: torch.Size([16, 501, 64, 64]), Input type: torch.float32\n",
      "Labels shape: torch.Size([16]), Labels type: torch.int64\n",
      "Outputs shape: torch.Size([16, 26]), Outputs type: torch.float32\n"
     ]
    },
    {
     "name": "stderr",
     "output_type": "stream",
     "text": [
      "Epoch 3/10:  24%|██▍       | 24/100 [00:05<00:19,  3.99it/s]"
     ]
    },
    {
     "name": "stdout",
     "output_type": "stream",
     "text": [
      "Input shape: torch.Size([16, 501, 64, 64]), Input type: torch.float32\n",
      "Labels shape: torch.Size([16]), Labels type: torch.int64\n",
      "Outputs shape: torch.Size([16, 26]), Outputs type: torch.float32\n"
     ]
    },
    {
     "name": "stderr",
     "output_type": "stream",
     "text": [
      "Epoch 3/10:  25%|██▌       | 25/100 [00:05<00:19,  3.94it/s]"
     ]
    },
    {
     "name": "stdout",
     "output_type": "stream",
     "text": [
      "Input shape: torch.Size([16, 501, 64, 64]), Input type: torch.float32\n",
      "Labels shape: torch.Size([16]), Labels type: torch.int64\n",
      "Outputs shape: torch.Size([16, 26]), Outputs type: torch.float32\n"
     ]
    },
    {
     "name": "stderr",
     "output_type": "stream",
     "text": [
      "Epoch 3/10:  26%|██▌       | 26/100 [00:05<00:18,  4.00it/s]"
     ]
    },
    {
     "name": "stdout",
     "output_type": "stream",
     "text": [
      "Input shape: torch.Size([16, 501, 64, 64]), Input type: torch.float32\n",
      "Labels shape: torch.Size([16]), Labels type: torch.int64\n",
      "Outputs shape: torch.Size([16, 26]), Outputs type: torch.float32\n"
     ]
    },
    {
     "name": "stderr",
     "output_type": "stream",
     "text": [
      "Epoch 3/10:  27%|██▋       | 27/100 [00:06<00:17,  4.06it/s]"
     ]
    },
    {
     "name": "stdout",
     "output_type": "stream",
     "text": [
      "Input shape: torch.Size([16, 501, 64, 64]), Input type: torch.float32\n",
      "Labels shape: torch.Size([16]), Labels type: torch.int64\n",
      "Outputs shape: torch.Size([16, 26]), Outputs type: torch.float32\n"
     ]
    },
    {
     "name": "stderr",
     "output_type": "stream",
     "text": [
      "Epoch 3/10:  28%|██▊       | 28/100 [00:06<00:17,  4.16it/s]"
     ]
    },
    {
     "name": "stdout",
     "output_type": "stream",
     "text": [
      "Input shape: torch.Size([16, 501, 64, 64]), Input type: torch.float32\n",
      "Labels shape: torch.Size([16]), Labels type: torch.int64\n",
      "Outputs shape: torch.Size([16, 26]), Outputs type: torch.float32\n"
     ]
    },
    {
     "name": "stderr",
     "output_type": "stream",
     "text": [
      "Epoch 3/10:  29%|██▉       | 29/100 [00:06<00:17,  4.05it/s]"
     ]
    },
    {
     "name": "stdout",
     "output_type": "stream",
     "text": [
      "Input shape: torch.Size([16, 501, 64, 64]), Input type: torch.float32\n",
      "Labels shape: torch.Size([16]), Labels type: torch.int64\n",
      "Outputs shape: torch.Size([16, 26]), Outputs type: torch.float32\n"
     ]
    },
    {
     "name": "stderr",
     "output_type": "stream",
     "text": [
      "Epoch 3/10:  30%|███       | 30/100 [00:06<00:17,  4.04it/s]"
     ]
    },
    {
     "name": "stdout",
     "output_type": "stream",
     "text": [
      "Input shape: torch.Size([16, 501, 64, 64]), Input type: torch.float32\n",
      "Labels shape: torch.Size([16]), Labels type: torch.int64\n",
      "Outputs shape: torch.Size([16, 26]), Outputs type: torch.float32\n"
     ]
    },
    {
     "name": "stderr",
     "output_type": "stream",
     "text": [
      "Epoch 3/10:  31%|███       | 31/100 [00:07<00:17,  4.01it/s]"
     ]
    },
    {
     "name": "stdout",
     "output_type": "stream",
     "text": [
      "Input shape: torch.Size([16, 501, 64, 64]), Input type: torch.float32\n",
      "Labels shape: torch.Size([16]), Labels type: torch.int64\n",
      "Outputs shape: torch.Size([16, 26]), Outputs type: torch.float32\n"
     ]
    },
    {
     "name": "stderr",
     "output_type": "stream",
     "text": [
      "Epoch 3/10:  32%|███▏      | 32/100 [00:07<00:16,  4.11it/s]"
     ]
    },
    {
     "name": "stdout",
     "output_type": "stream",
     "text": [
      "Input shape: torch.Size([16, 501, 64, 64]), Input type: torch.float32\n",
      "Labels shape: torch.Size([16]), Labels type: torch.int64\n",
      "Outputs shape: torch.Size([16, 26]), Outputs type: torch.float32\n"
     ]
    },
    {
     "name": "stderr",
     "output_type": "stream",
     "text": [
      "Epoch 3/10:  33%|███▎      | 33/100 [00:07<00:16,  4.17it/s]"
     ]
    },
    {
     "name": "stdout",
     "output_type": "stream",
     "text": [
      "Input shape: torch.Size([16, 501, 64, 64]), Input type: torch.float32\n",
      "Labels shape: torch.Size([16]), Labels type: torch.int64\n",
      "Outputs shape: torch.Size([16, 26]), Outputs type: torch.float32\n"
     ]
    },
    {
     "name": "stderr",
     "output_type": "stream",
     "text": [
      "Epoch 3/10:  34%|███▍      | 34/100 [00:07<00:15,  4.31it/s]"
     ]
    },
    {
     "name": "stdout",
     "output_type": "stream",
     "text": [
      "Input shape: torch.Size([16, 501, 64, 64]), Input type: torch.float32\n",
      "Labels shape: torch.Size([16]), Labels type: torch.int64\n",
      "Outputs shape: torch.Size([16, 26]), Outputs type: torch.float32\n"
     ]
    },
    {
     "name": "stderr",
     "output_type": "stream",
     "text": [
      "Epoch 3/10:  35%|███▌      | 35/100 [00:07<00:14,  4.47it/s]"
     ]
    },
    {
     "name": "stdout",
     "output_type": "stream",
     "text": [
      "Input shape: torch.Size([16, 501, 64, 64]), Input type: torch.float32\n",
      "Labels shape: torch.Size([16]), Labels type: torch.int64\n",
      "Outputs shape: torch.Size([16, 26]), Outputs type: torch.float32\n"
     ]
    },
    {
     "name": "stderr",
     "output_type": "stream",
     "text": [
      "Epoch 3/10:  36%|███▌      | 36/100 [00:08<00:14,  4.50it/s]"
     ]
    },
    {
     "name": "stdout",
     "output_type": "stream",
     "text": [
      "Input shape: torch.Size([16, 501, 64, 64]), Input type: torch.float32\n",
      "Labels shape: torch.Size([16]), Labels type: torch.int64\n",
      "Outputs shape: torch.Size([16, 26]), Outputs type: torch.float32\n"
     ]
    },
    {
     "name": "stderr",
     "output_type": "stream",
     "text": [
      "Epoch 3/10:  37%|███▋      | 37/100 [00:08<00:14,  4.47it/s]"
     ]
    },
    {
     "name": "stdout",
     "output_type": "stream",
     "text": [
      "Input shape: torch.Size([16, 501, 64, 64]), Input type: torch.float32\n",
      "Labels shape: torch.Size([16]), Labels type: torch.int64\n",
      "Outputs shape: torch.Size([16, 26]), Outputs type: torch.float32\n"
     ]
    },
    {
     "name": "stderr",
     "output_type": "stream",
     "text": [
      "Epoch 3/10:  38%|███▊      | 38/100 [00:08<00:14,  4.43it/s]"
     ]
    },
    {
     "name": "stdout",
     "output_type": "stream",
     "text": [
      "Input shape: torch.Size([16, 501, 64, 64]), Input type: torch.float32\n",
      "Labels shape: torch.Size([16]), Labels type: torch.int64\n",
      "Outputs shape: torch.Size([16, 26]), Outputs type: torch.float32\n"
     ]
    },
    {
     "name": "stderr",
     "output_type": "stream",
     "text": [
      "Epoch 3/10:  39%|███▉      | 39/100 [00:08<00:13,  4.45it/s]"
     ]
    },
    {
     "name": "stdout",
     "output_type": "stream",
     "text": [
      "Input shape: torch.Size([16, 501, 64, 64]), Input type: torch.float32\n",
      "Labels shape: torch.Size([16]), Labels type: torch.int64\n",
      "Outputs shape: torch.Size([16, 26]), Outputs type: torch.float32\n"
     ]
    },
    {
     "name": "stderr",
     "output_type": "stream",
     "text": [
      "Epoch 3/10:  40%|████      | 40/100 [00:09<00:13,  4.51it/s]"
     ]
    },
    {
     "name": "stdout",
     "output_type": "stream",
     "text": [
      "Input shape: torch.Size([16, 501, 64, 64]), Input type: torch.float32\n",
      "Labels shape: torch.Size([16]), Labels type: torch.int64\n",
      "Outputs shape: torch.Size([16, 26]), Outputs type: torch.float32\n"
     ]
    },
    {
     "name": "stderr",
     "output_type": "stream",
     "text": [
      "Epoch 3/10:  41%|████      | 41/100 [00:09<00:13,  4.53it/s]"
     ]
    },
    {
     "name": "stdout",
     "output_type": "stream",
     "text": [
      "Input shape: torch.Size([16, 501, 64, 64]), Input type: torch.float32\n",
      "Labels shape: torch.Size([16]), Labels type: torch.int64\n",
      "Outputs shape: torch.Size([16, 26]), Outputs type: torch.float32\n"
     ]
    },
    {
     "name": "stderr",
     "output_type": "stream",
     "text": [
      "Epoch 3/10:  42%|████▏     | 42/100 [00:09<00:12,  4.48it/s]"
     ]
    },
    {
     "name": "stdout",
     "output_type": "stream",
     "text": [
      "Input shape: torch.Size([16, 501, 64, 64]), Input type: torch.float32\n",
      "Labels shape: torch.Size([16]), Labels type: torch.int64\n",
      "Outputs shape: torch.Size([16, 26]), Outputs type: torch.float32\n"
     ]
    },
    {
     "name": "stderr",
     "output_type": "stream",
     "text": [
      "Epoch 3/10:  43%|████▎     | 43/100 [00:09<00:12,  4.51it/s]"
     ]
    },
    {
     "name": "stdout",
     "output_type": "stream",
     "text": [
      "Input shape: torch.Size([16, 501, 64, 64]), Input type: torch.float32\n",
      "Labels shape: torch.Size([16]), Labels type: torch.int64\n",
      "Outputs shape: torch.Size([16, 26]), Outputs type: torch.float32\n"
     ]
    },
    {
     "name": "stderr",
     "output_type": "stream",
     "text": [
      "Epoch 3/10:  44%|████▍     | 44/100 [00:10<00:13,  4.30it/s]"
     ]
    },
    {
     "name": "stdout",
     "output_type": "stream",
     "text": [
      "Input shape: torch.Size([16, 501, 64, 64]), Input type: torch.float32\n",
      "Labels shape: torch.Size([16]), Labels type: torch.int64\n",
      "Outputs shape: torch.Size([16, 26]), Outputs type: torch.float32\n"
     ]
    },
    {
     "name": "stderr",
     "output_type": "stream",
     "text": [
      "Epoch 3/10:  45%|████▌     | 45/100 [00:10<00:13,  4.14it/s]"
     ]
    },
    {
     "name": "stdout",
     "output_type": "stream",
     "text": [
      "Input shape: torch.Size([16, 501, 64, 64]), Input type: torch.float32\n",
      "Labels shape: torch.Size([16]), Labels type: torch.int64\n",
      "Outputs shape: torch.Size([16, 26]), Outputs type: torch.float32\n"
     ]
    },
    {
     "name": "stderr",
     "output_type": "stream",
     "text": [
      "Epoch 3/10:  46%|████▌     | 46/100 [00:10<00:13,  4.14it/s]"
     ]
    },
    {
     "name": "stdout",
     "output_type": "stream",
     "text": [
      "Input shape: torch.Size([16, 501, 64, 64]), Input type: torch.float32\n",
      "Labels shape: torch.Size([16]), Labels type: torch.int64\n",
      "Outputs shape: torch.Size([16, 26]), Outputs type: torch.float32\n"
     ]
    },
    {
     "name": "stderr",
     "output_type": "stream",
     "text": [
      "Epoch 3/10:  47%|████▋     | 47/100 [00:10<00:12,  4.16it/s]"
     ]
    },
    {
     "name": "stdout",
     "output_type": "stream",
     "text": [
      "Input shape: torch.Size([16, 501, 64, 64]), Input type: torch.float32\n",
      "Labels shape: torch.Size([16]), Labels type: torch.int64\n",
      "Outputs shape: torch.Size([16, 26]), Outputs type: torch.float32\n"
     ]
    },
    {
     "name": "stderr",
     "output_type": "stream",
     "text": [
      "Epoch 3/10:  48%|████▊     | 48/100 [00:11<00:12,  4.05it/s]"
     ]
    },
    {
     "name": "stdout",
     "output_type": "stream",
     "text": [
      "Input shape: torch.Size([16, 501, 64, 64]), Input type: torch.float32\n",
      "Labels shape: torch.Size([16]), Labels type: torch.int64\n",
      "Outputs shape: torch.Size([16, 26]), Outputs type: torch.float32\n"
     ]
    },
    {
     "name": "stderr",
     "output_type": "stream",
     "text": [
      "Epoch 3/10:  49%|████▉     | 49/100 [00:11<00:12,  4.19it/s]"
     ]
    },
    {
     "name": "stdout",
     "output_type": "stream",
     "text": [
      "Input shape: torch.Size([16, 501, 64, 64]), Input type: torch.float32\n",
      "Labels shape: torch.Size([16]), Labels type: torch.int64\n",
      "Outputs shape: torch.Size([16, 26]), Outputs type: torch.float32\n"
     ]
    },
    {
     "name": "stderr",
     "output_type": "stream",
     "text": [
      "Epoch 3/10:  50%|█████     | 50/100 [00:11<00:11,  4.23it/s]"
     ]
    },
    {
     "name": "stdout",
     "output_type": "stream",
     "text": [
      "Input shape: torch.Size([16, 501, 64, 64]), Input type: torch.float32\n",
      "Labels shape: torch.Size([16]), Labels type: torch.int64\n",
      "Outputs shape: torch.Size([16, 26]), Outputs type: torch.float32\n"
     ]
    },
    {
     "name": "stderr",
     "output_type": "stream",
     "text": [
      "Epoch 3/10:  51%|█████     | 51/100 [00:11<00:11,  4.19it/s]"
     ]
    },
    {
     "name": "stdout",
     "output_type": "stream",
     "text": [
      "Input shape: torch.Size([16, 501, 64, 64]), Input type: torch.float32\n",
      "Labels shape: torch.Size([16]), Labels type: torch.int64\n",
      "Outputs shape: torch.Size([16, 26]), Outputs type: torch.float32\n"
     ]
    },
    {
     "name": "stderr",
     "output_type": "stream",
     "text": [
      "Epoch 3/10:  52%|█████▏    | 52/100 [00:11<00:11,  4.10it/s]"
     ]
    },
    {
     "name": "stdout",
     "output_type": "stream",
     "text": [
      "Input shape: torch.Size([16, 501, 64, 64]), Input type: torch.float32\n",
      "Labels shape: torch.Size([16]), Labels type: torch.int64\n",
      "Outputs shape: torch.Size([16, 26]), Outputs type: torch.float32\n"
     ]
    },
    {
     "name": "stderr",
     "output_type": "stream",
     "text": [
      "Epoch 3/10:  53%|█████▎    | 53/100 [00:12<00:11,  4.18it/s]"
     ]
    },
    {
     "name": "stdout",
     "output_type": "stream",
     "text": [
      "Input shape: torch.Size([16, 501, 64, 64]), Input type: torch.float32\n",
      "Labels shape: torch.Size([16]), Labels type: torch.int64\n",
      "Outputs shape: torch.Size([16, 26]), Outputs type: torch.float32\n"
     ]
    },
    {
     "name": "stderr",
     "output_type": "stream",
     "text": [
      "Epoch 3/10:  54%|█████▍    | 54/100 [00:12<00:11,  4.10it/s]"
     ]
    },
    {
     "name": "stdout",
     "output_type": "stream",
     "text": [
      "Input shape: torch.Size([16, 501, 64, 64]), Input type: torch.float32\n",
      "Labels shape: torch.Size([16]), Labels type: torch.int64\n",
      "Outputs shape: torch.Size([16, 26]), Outputs type: torch.float32\n"
     ]
    },
    {
     "name": "stderr",
     "output_type": "stream",
     "text": [
      "Epoch 3/10:  55%|█████▌    | 55/100 [00:12<00:10,  4.15it/s]"
     ]
    },
    {
     "name": "stdout",
     "output_type": "stream",
     "text": [
      "Input shape: torch.Size([16, 501, 64, 64]), Input type: torch.float32\n",
      "Labels shape: torch.Size([16]), Labels type: torch.int64\n",
      "Outputs shape: torch.Size([16, 26]), Outputs type: torch.float32\n"
     ]
    },
    {
     "name": "stderr",
     "output_type": "stream",
     "text": [
      "Epoch 3/10:  56%|█████▌    | 56/100 [00:12<00:10,  4.10it/s]"
     ]
    },
    {
     "name": "stdout",
     "output_type": "stream",
     "text": [
      "Input shape: torch.Size([16, 501, 64, 64]), Input type: torch.float32\n",
      "Labels shape: torch.Size([16]), Labels type: torch.int64\n",
      "Outputs shape: torch.Size([16, 26]), Outputs type: torch.float32\n"
     ]
    },
    {
     "name": "stderr",
     "output_type": "stream",
     "text": [
      "Epoch 3/10:  57%|█████▋    | 57/100 [00:13<00:10,  4.24it/s]"
     ]
    },
    {
     "name": "stdout",
     "output_type": "stream",
     "text": [
      "Input shape: torch.Size([16, 501, 64, 64]), Input type: torch.float32\n",
      "Labels shape: torch.Size([16]), Labels type: torch.int64\n",
      "Outputs shape: torch.Size([16, 26]), Outputs type: torch.float32\n"
     ]
    },
    {
     "name": "stderr",
     "output_type": "stream",
     "text": [
      "Epoch 3/10:  58%|█████▊    | 58/100 [00:13<00:10,  4.18it/s]"
     ]
    },
    {
     "name": "stdout",
     "output_type": "stream",
     "text": [
      "Input shape: torch.Size([16, 501, 64, 64]), Input type: torch.float32\n",
      "Labels shape: torch.Size([16]), Labels type: torch.int64\n",
      "Outputs shape: torch.Size([16, 26]), Outputs type: torch.float32\n"
     ]
    },
    {
     "name": "stderr",
     "output_type": "stream",
     "text": [
      "Epoch 3/10:  59%|█████▉    | 59/100 [00:13<00:09,  4.26it/s]"
     ]
    },
    {
     "name": "stdout",
     "output_type": "stream",
     "text": [
      "Input shape: torch.Size([16, 501, 64, 64]), Input type: torch.float32\n",
      "Labels shape: torch.Size([16]), Labels type: torch.int64\n",
      "Outputs shape: torch.Size([16, 26]), Outputs type: torch.float32\n"
     ]
    },
    {
     "name": "stderr",
     "output_type": "stream",
     "text": [
      "Epoch 3/10:  60%|██████    | 60/100 [00:13<00:09,  4.19it/s]"
     ]
    },
    {
     "name": "stdout",
     "output_type": "stream",
     "text": [
      "Input shape: torch.Size([16, 501, 64, 64]), Input type: torch.float32\n",
      "Labels shape: torch.Size([16]), Labels type: torch.int64\n",
      "Outputs shape: torch.Size([16, 26]), Outputs type: torch.float32\n"
     ]
    },
    {
     "name": "stderr",
     "output_type": "stream",
     "text": [
      "Epoch 3/10:  61%|██████    | 61/100 [00:14<00:09,  4.00it/s]"
     ]
    },
    {
     "name": "stdout",
     "output_type": "stream",
     "text": [
      "Input shape: torch.Size([16, 501, 64, 64]), Input type: torch.float32\n",
      "Labels shape: torch.Size([16]), Labels type: torch.int64\n",
      "Outputs shape: torch.Size([16, 26]), Outputs type: torch.float32\n"
     ]
    },
    {
     "name": "stderr",
     "output_type": "stream",
     "text": [
      "Epoch 3/10:  62%|██████▏   | 62/100 [00:14<00:09,  4.06it/s]"
     ]
    },
    {
     "name": "stdout",
     "output_type": "stream",
     "text": [
      "Input shape: torch.Size([16, 501, 64, 64]), Input type: torch.float32\n",
      "Labels shape: torch.Size([16]), Labels type: torch.int64\n",
      "Outputs shape: torch.Size([16, 26]), Outputs type: torch.float32\n"
     ]
    },
    {
     "name": "stderr",
     "output_type": "stream",
     "text": [
      "Epoch 3/10:  63%|██████▎   | 63/100 [00:14<00:09,  4.03it/s]"
     ]
    },
    {
     "name": "stdout",
     "output_type": "stream",
     "text": [
      "Input shape: torch.Size([16, 501, 64, 64]), Input type: torch.float32\n",
      "Labels shape: torch.Size([16]), Labels type: torch.int64\n",
      "Outputs shape: torch.Size([16, 26]), Outputs type: torch.float32\n"
     ]
    },
    {
     "name": "stderr",
     "output_type": "stream",
     "text": [
      "Epoch 3/10:  64%|██████▍   | 64/100 [00:14<00:08,  4.21it/s]"
     ]
    },
    {
     "name": "stdout",
     "output_type": "stream",
     "text": [
      "Input shape: torch.Size([16, 501, 64, 64]), Input type: torch.float32\n",
      "Labels shape: torch.Size([16]), Labels type: torch.int64\n",
      "Outputs shape: torch.Size([16, 26]), Outputs type: torch.float32\n"
     ]
    },
    {
     "name": "stderr",
     "output_type": "stream",
     "text": [
      "Epoch 3/10:  65%|██████▌   | 65/100 [00:15<00:08,  4.33it/s]"
     ]
    },
    {
     "name": "stdout",
     "output_type": "stream",
     "text": [
      "Input shape: torch.Size([16, 501, 64, 64]), Input type: torch.float32\n",
      "Labels shape: torch.Size([16]), Labels type: torch.int64\n",
      "Outputs shape: torch.Size([16, 26]), Outputs type: torch.float32\n"
     ]
    },
    {
     "name": "stderr",
     "output_type": "stream",
     "text": [
      "Epoch 3/10:  66%|██████▌   | 66/100 [00:15<00:07,  4.31it/s]"
     ]
    },
    {
     "name": "stdout",
     "output_type": "stream",
     "text": [
      "Input shape: torch.Size([16, 501, 64, 64]), Input type: torch.float32\n",
      "Labels shape: torch.Size([16]), Labels type: torch.int64\n",
      "Outputs shape: torch.Size([16, 26]), Outputs type: torch.float32\n"
     ]
    },
    {
     "name": "stderr",
     "output_type": "stream",
     "text": [
      "Epoch 3/10:  67%|██████▋   | 67/100 [00:15<00:07,  4.50it/s]"
     ]
    },
    {
     "name": "stdout",
     "output_type": "stream",
     "text": [
      "Input shape: torch.Size([16, 501, 64, 64]), Input type: torch.float32\n",
      "Labels shape: torch.Size([16]), Labels type: torch.int64\n",
      "Outputs shape: torch.Size([16, 26]), Outputs type: torch.float32\n"
     ]
    },
    {
     "name": "stderr",
     "output_type": "stream",
     "text": [
      "Epoch 3/10:  68%|██████▊   | 68/100 [00:15<00:07,  4.46it/s]"
     ]
    },
    {
     "name": "stdout",
     "output_type": "stream",
     "text": [
      "Input shape: torch.Size([16, 501, 64, 64]), Input type: torch.float32\n",
      "Labels shape: torch.Size([16]), Labels type: torch.int64\n",
      "Outputs shape: torch.Size([16, 26]), Outputs type: torch.float32\n"
     ]
    },
    {
     "name": "stderr",
     "output_type": "stream",
     "text": [
      "Epoch 3/10:  69%|██████▉   | 69/100 [00:15<00:06,  4.44it/s]"
     ]
    },
    {
     "name": "stdout",
     "output_type": "stream",
     "text": [
      "Input shape: torch.Size([16, 501, 64, 64]), Input type: torch.float32\n",
      "Labels shape: torch.Size([16]), Labels type: torch.int64\n",
      "Outputs shape: torch.Size([16, 26]), Outputs type: torch.float32\n"
     ]
    },
    {
     "name": "stderr",
     "output_type": "stream",
     "text": [
      "Epoch 3/10:  70%|███████   | 70/100 [00:16<00:06,  4.35it/s]"
     ]
    },
    {
     "name": "stdout",
     "output_type": "stream",
     "text": [
      "Input shape: torch.Size([16, 501, 64, 64]), Input type: torch.float32\n",
      "Labels shape: torch.Size([16]), Labels type: torch.int64\n",
      "Outputs shape: torch.Size([16, 26]), Outputs type: torch.float32\n"
     ]
    },
    {
     "name": "stderr",
     "output_type": "stream",
     "text": [
      "Epoch 3/10:  71%|███████   | 71/100 [00:16<00:06,  4.54it/s]"
     ]
    },
    {
     "name": "stdout",
     "output_type": "stream",
     "text": [
      "Input shape: torch.Size([16, 501, 64, 64]), Input type: torch.float32\n",
      "Labels shape: torch.Size([16]), Labels type: torch.int64\n",
      "Outputs shape: torch.Size([16, 26]), Outputs type: torch.float32\n"
     ]
    },
    {
     "name": "stderr",
     "output_type": "stream",
     "text": [
      "Epoch 3/10:  72%|███████▏  | 72/100 [00:16<00:06,  4.56it/s]"
     ]
    },
    {
     "name": "stdout",
     "output_type": "stream",
     "text": [
      "Input shape: torch.Size([16, 501, 64, 64]), Input type: torch.float32\n",
      "Labels shape: torch.Size([16]), Labels type: torch.int64\n",
      "Outputs shape: torch.Size([16, 26]), Outputs type: torch.float32\n"
     ]
    },
    {
     "name": "stderr",
     "output_type": "stream",
     "text": [
      "Epoch 3/10:  73%|███████▎  | 73/100 [00:16<00:05,  4.51it/s]"
     ]
    },
    {
     "name": "stdout",
     "output_type": "stream",
     "text": [
      "Input shape: torch.Size([16, 501, 64, 64]), Input type: torch.float32\n",
      "Labels shape: torch.Size([16]), Labels type: torch.int64\n",
      "Outputs shape: torch.Size([16, 26]), Outputs type: torch.float32\n"
     ]
    },
    {
     "name": "stderr",
     "output_type": "stream",
     "text": [
      "Epoch 3/10:  74%|███████▍  | 74/100 [00:17<00:05,  4.48it/s]"
     ]
    },
    {
     "name": "stdout",
     "output_type": "stream",
     "text": [
      "Input shape: torch.Size([16, 501, 64, 64]), Input type: torch.float32\n",
      "Labels shape: torch.Size([16]), Labels type: torch.int64\n",
      "Outputs shape: torch.Size([16, 26]), Outputs type: torch.float32\n"
     ]
    },
    {
     "name": "stderr",
     "output_type": "stream",
     "text": [
      "Epoch 3/10:  75%|███████▌  | 75/100 [00:17<00:05,  4.44it/s]"
     ]
    },
    {
     "name": "stdout",
     "output_type": "stream",
     "text": [
      "Input shape: torch.Size([16, 501, 64, 64]), Input type: torch.float32\n",
      "Labels shape: torch.Size([16]), Labels type: torch.int64\n",
      "Outputs shape: torch.Size([16, 26]), Outputs type: torch.float32\n"
     ]
    },
    {
     "name": "stderr",
     "output_type": "stream",
     "text": [
      "Epoch 3/10:  76%|███████▌  | 76/100 [00:17<00:05,  4.32it/s]"
     ]
    },
    {
     "name": "stdout",
     "output_type": "stream",
     "text": [
      "Input shape: torch.Size([16, 501, 64, 64]), Input type: torch.float32\n",
      "Labels shape: torch.Size([16]), Labels type: torch.int64\n",
      "Outputs shape: torch.Size([16, 26]), Outputs type: torch.float32\n"
     ]
    },
    {
     "name": "stderr",
     "output_type": "stream",
     "text": [
      "Epoch 3/10:  77%|███████▋  | 77/100 [00:17<00:05,  4.34it/s]"
     ]
    },
    {
     "name": "stdout",
     "output_type": "stream",
     "text": [
      "Input shape: torch.Size([16, 501, 64, 64]), Input type: torch.float32\n",
      "Labels shape: torch.Size([16]), Labels type: torch.int64\n",
      "Outputs shape: torch.Size([16, 26]), Outputs type: torch.float32\n"
     ]
    },
    {
     "name": "stderr",
     "output_type": "stream",
     "text": [
      "Epoch 3/10:  78%|███████▊  | 78/100 [00:18<00:05,  4.29it/s]"
     ]
    },
    {
     "name": "stdout",
     "output_type": "stream",
     "text": [
      "Input shape: torch.Size([16, 501, 64, 64]), Input type: torch.float32\n",
      "Labels shape: torch.Size([16]), Labels type: torch.int64\n",
      "Outputs shape: torch.Size([16, 26]), Outputs type: torch.float32\n"
     ]
    },
    {
     "name": "stderr",
     "output_type": "stream",
     "text": [
      "Epoch 3/10:  79%|███████▉  | 79/100 [00:18<00:04,  4.33it/s]"
     ]
    },
    {
     "name": "stdout",
     "output_type": "stream",
     "text": [
      "Input shape: torch.Size([16, 501, 64, 64]), Input type: torch.float32\n",
      "Labels shape: torch.Size([16]), Labels type: torch.int64\n",
      "Outputs shape: torch.Size([16, 26]), Outputs type: torch.float32\n"
     ]
    },
    {
     "name": "stderr",
     "output_type": "stream",
     "text": [
      "Epoch 3/10:  80%|████████  | 80/100 [00:18<00:04,  4.28it/s]"
     ]
    },
    {
     "name": "stdout",
     "output_type": "stream",
     "text": [
      "Input shape: torch.Size([16, 501, 64, 64]), Input type: torch.float32\n",
      "Labels shape: torch.Size([16]), Labels type: torch.int64\n",
      "Outputs shape: torch.Size([16, 26]), Outputs type: torch.float32\n"
     ]
    },
    {
     "name": "stderr",
     "output_type": "stream",
     "text": [
      "Epoch 3/10:  81%|████████  | 81/100 [00:18<00:04,  4.37it/s]"
     ]
    },
    {
     "name": "stdout",
     "output_type": "stream",
     "text": [
      "Input shape: torch.Size([16, 501, 64, 64]), Input type: torch.float32\n",
      "Labels shape: torch.Size([16]), Labels type: torch.int64\n",
      "Outputs shape: torch.Size([16, 26]), Outputs type: torch.float32\n"
     ]
    },
    {
     "name": "stderr",
     "output_type": "stream",
     "text": [
      "Epoch 3/10:  82%|████████▏ | 82/100 [00:18<00:04,  4.27it/s]"
     ]
    },
    {
     "name": "stdout",
     "output_type": "stream",
     "text": [
      "Input shape: torch.Size([16, 501, 64, 64]), Input type: torch.float32\n",
      "Labels shape: torch.Size([16]), Labels type: torch.int64\n",
      "Outputs shape: torch.Size([16, 26]), Outputs type: torch.float32\n"
     ]
    },
    {
     "name": "stderr",
     "output_type": "stream",
     "text": [
      "Epoch 3/10:  83%|████████▎ | 83/100 [00:19<00:03,  4.37it/s]"
     ]
    },
    {
     "name": "stdout",
     "output_type": "stream",
     "text": [
      "Input shape: torch.Size([16, 501, 64, 64]), Input type: torch.float32\n",
      "Labels shape: torch.Size([16]), Labels type: torch.int64\n",
      "Outputs shape: torch.Size([16, 26]), Outputs type: torch.float32\n"
     ]
    },
    {
     "name": "stderr",
     "output_type": "stream",
     "text": [
      "Epoch 3/10:  84%|████████▍ | 84/100 [00:19<00:03,  4.32it/s]"
     ]
    },
    {
     "name": "stdout",
     "output_type": "stream",
     "text": [
      "Input shape: torch.Size([16, 501, 64, 64]), Input type: torch.float32\n",
      "Labels shape: torch.Size([16]), Labels type: torch.int64\n",
      "Outputs shape: torch.Size([16, 26]), Outputs type: torch.float32\n"
     ]
    },
    {
     "name": "stderr",
     "output_type": "stream",
     "text": [
      "Epoch 3/10:  85%|████████▌ | 85/100 [00:19<00:03,  4.36it/s]"
     ]
    },
    {
     "name": "stdout",
     "output_type": "stream",
     "text": [
      "Input shape: torch.Size([16, 501, 64, 64]), Input type: torch.float32\n",
      "Labels shape: torch.Size([16]), Labels type: torch.int64\n",
      "Outputs shape: torch.Size([16, 26]), Outputs type: torch.float32\n"
     ]
    },
    {
     "name": "stderr",
     "output_type": "stream",
     "text": [
      "Epoch 3/10:  86%|████████▌ | 86/100 [00:19<00:03,  4.23it/s]"
     ]
    },
    {
     "name": "stdout",
     "output_type": "stream",
     "text": [
      "Input shape: torch.Size([16, 501, 64, 64]), Input type: torch.float32\n",
      "Labels shape: torch.Size([16]), Labels type: torch.int64\n",
      "Outputs shape: torch.Size([16, 26]), Outputs type: torch.float32\n"
     ]
    },
    {
     "name": "stderr",
     "output_type": "stream",
     "text": [
      "Epoch 3/10:  87%|████████▋ | 87/100 [00:20<00:03,  4.26it/s]"
     ]
    },
    {
     "name": "stdout",
     "output_type": "stream",
     "text": [
      "Input shape: torch.Size([16, 501, 64, 64]), Input type: torch.float32\n",
      "Labels shape: torch.Size([16]), Labels type: torch.int64\n",
      "Outputs shape: torch.Size([16, 26]), Outputs type: torch.float32\n"
     ]
    },
    {
     "name": "stderr",
     "output_type": "stream",
     "text": [
      "Epoch 3/10:  88%|████████▊ | 88/100 [00:20<00:02,  4.23it/s]"
     ]
    },
    {
     "name": "stdout",
     "output_type": "stream",
     "text": [
      "Input shape: torch.Size([16, 501, 64, 64]), Input type: torch.float32\n",
      "Labels shape: torch.Size([16]), Labels type: torch.int64\n",
      "Outputs shape: torch.Size([16, 26]), Outputs type: torch.float32\n"
     ]
    },
    {
     "name": "stderr",
     "output_type": "stream",
     "text": [
      "Epoch 3/10:  89%|████████▉ | 89/100 [00:20<00:02,  4.31it/s]"
     ]
    },
    {
     "name": "stdout",
     "output_type": "stream",
     "text": [
      "Input shape: torch.Size([16, 501, 64, 64]), Input type: torch.float32\n",
      "Labels shape: torch.Size([16]), Labels type: torch.int64\n",
      "Outputs shape: torch.Size([16, 26]), Outputs type: torch.float32\n"
     ]
    },
    {
     "name": "stderr",
     "output_type": "stream",
     "text": [
      "Epoch 3/10:  90%|█████████ | 90/100 [00:20<00:02,  4.36it/s]"
     ]
    },
    {
     "name": "stdout",
     "output_type": "stream",
     "text": [
      "Input shape: torch.Size([16, 501, 64, 64]), Input type: torch.float32\n",
      "Labels shape: torch.Size([16]), Labels type: torch.int64\n",
      "Outputs shape: torch.Size([16, 26]), Outputs type: torch.float32\n"
     ]
    },
    {
     "name": "stderr",
     "output_type": "stream",
     "text": [
      "Epoch 3/10:  91%|█████████ | 91/100 [00:21<00:02,  4.35it/s]"
     ]
    },
    {
     "name": "stdout",
     "output_type": "stream",
     "text": [
      "Input shape: torch.Size([16, 501, 64, 64]), Input type: torch.float32\n",
      "Labels shape: torch.Size([16]), Labels type: torch.int64\n",
      "Outputs shape: torch.Size([16, 26]), Outputs type: torch.float32\n"
     ]
    },
    {
     "name": "stderr",
     "output_type": "stream",
     "text": [
      "Epoch 3/10:  92%|█████████▏| 92/100 [00:21<00:01,  4.39it/s]"
     ]
    },
    {
     "name": "stdout",
     "output_type": "stream",
     "text": [
      "Input shape: torch.Size([16, 501, 64, 64]), Input type: torch.float32\n",
      "Labels shape: torch.Size([16]), Labels type: torch.int64\n",
      "Outputs shape: torch.Size([16, 26]), Outputs type: torch.float32\n"
     ]
    },
    {
     "name": "stderr",
     "output_type": "stream",
     "text": [
      "Epoch 3/10:  93%|█████████▎| 93/100 [00:21<00:01,  4.57it/s]"
     ]
    },
    {
     "name": "stdout",
     "output_type": "stream",
     "text": [
      "Input shape: torch.Size([16, 501, 64, 64]), Input type: torch.float32\n",
      "Labels shape: torch.Size([16]), Labels type: torch.int64\n",
      "Outputs shape: torch.Size([16, 26]), Outputs type: torch.float32\n"
     ]
    },
    {
     "name": "stderr",
     "output_type": "stream",
     "text": [
      "Epoch 3/10:  94%|█████████▍| 94/100 [00:21<00:01,  4.27it/s]"
     ]
    },
    {
     "name": "stdout",
     "output_type": "stream",
     "text": [
      "Input shape: torch.Size([16, 501, 64, 64]), Input type: torch.float32\n",
      "Labels shape: torch.Size([16]), Labels type: torch.int64\n",
      "Outputs shape: torch.Size([16, 26]), Outputs type: torch.float32\n"
     ]
    },
    {
     "name": "stderr",
     "output_type": "stream",
     "text": [
      "Epoch 3/10:  95%|█████████▌| 95/100 [00:21<00:01,  4.42it/s]"
     ]
    },
    {
     "name": "stdout",
     "output_type": "stream",
     "text": [
      "Input shape: torch.Size([16, 501, 64, 64]), Input type: torch.float32\n",
      "Labels shape: torch.Size([16]), Labels type: torch.int64\n",
      "Outputs shape: torch.Size([16, 26]), Outputs type: torch.float32\n"
     ]
    },
    {
     "name": "stderr",
     "output_type": "stream",
     "text": [
      "Epoch 3/10:  96%|█████████▌| 96/100 [00:22<00:00,  4.32it/s]"
     ]
    },
    {
     "name": "stdout",
     "output_type": "stream",
     "text": [
      "Input shape: torch.Size([16, 501, 64, 64]), Input type: torch.float32\n",
      "Labels shape: torch.Size([16]), Labels type: torch.int64\n",
      "Outputs shape: torch.Size([16, 26]), Outputs type: torch.float32\n"
     ]
    },
    {
     "name": "stderr",
     "output_type": "stream",
     "text": [
      "Epoch 3/10:  97%|█████████▋| 97/100 [00:22<00:00,  4.29it/s]"
     ]
    },
    {
     "name": "stdout",
     "output_type": "stream",
     "text": [
      "Input shape: torch.Size([16, 501, 64, 64]), Input type: torch.float32\n",
      "Labels shape: torch.Size([16]), Labels type: torch.int64\n",
      "Outputs shape: torch.Size([16, 26]), Outputs type: torch.float32\n"
     ]
    },
    {
     "name": "stderr",
     "output_type": "stream",
     "text": [
      "Epoch 3/10:  98%|█████████▊| 98/100 [00:22<00:00,  4.39it/s]"
     ]
    },
    {
     "name": "stdout",
     "output_type": "stream",
     "text": [
      "Input shape: torch.Size([16, 501, 64, 64]), Input type: torch.float32\n",
      "Labels shape: torch.Size([16]), Labels type: torch.int64\n",
      "Outputs shape: torch.Size([16, 26]), Outputs type: torch.float32\n"
     ]
    },
    {
     "name": "stderr",
     "output_type": "stream",
     "text": [
      "Epoch 3/10: 100%|██████████| 100/100 [00:22<00:00,  4.36it/s]\n"
     ]
    },
    {
     "name": "stdout",
     "output_type": "stream",
     "text": [
      "Input shape: torch.Size([16, 501, 64, 64]), Input type: torch.float32\n",
      "Labels shape: torch.Size([16]), Labels type: torch.int64\n",
      "Outputs shape: torch.Size([16, 26]), Outputs type: torch.float32\n",
      "Input shape: torch.Size([6, 501, 64, 64]), Input type: torch.float32\n",
      "Labels shape: torch.Size([6]), Labels type: torch.int64\n",
      "Outputs shape: torch.Size([6, 26]), Outputs type: torch.float32\n"
     ]
    },
    {
     "name": "stderr",
     "output_type": "stream",
     "text": [
      "Epoch 4/10:   1%|          | 1/100 [00:00<00:21,  4.62it/s]"
     ]
    },
    {
     "name": "stdout",
     "output_type": "stream",
     "text": [
      "Input shape: torch.Size([16, 501, 64, 64]), Input type: torch.float32\n",
      "Labels shape: torch.Size([16]), Labels type: torch.int64\n",
      "Outputs shape: torch.Size([16, 26]), Outputs type: torch.float32\n"
     ]
    },
    {
     "name": "stderr",
     "output_type": "stream",
     "text": [
      "Epoch 4/10:   2%|▏         | 2/100 [00:00<00:20,  4.73it/s]"
     ]
    },
    {
     "name": "stdout",
     "output_type": "stream",
     "text": [
      "Input shape: torch.Size([16, 501, 64, 64]), Input type: torch.float32\n",
      "Labels shape: torch.Size([16]), Labels type: torch.int64\n",
      "Outputs shape: torch.Size([16, 26]), Outputs type: torch.float32\n"
     ]
    },
    {
     "name": "stderr",
     "output_type": "stream",
     "text": [
      "Epoch 4/10:   3%|▎         | 3/100 [00:00<00:20,  4.82it/s]"
     ]
    },
    {
     "name": "stdout",
     "output_type": "stream",
     "text": [
      "Input shape: torch.Size([16, 501, 64, 64]), Input type: torch.float32\n",
      "Labels shape: torch.Size([16]), Labels type: torch.int64\n",
      "Outputs shape: torch.Size([16, 26]), Outputs type: torch.float32\n"
     ]
    },
    {
     "name": "stderr",
     "output_type": "stream",
     "text": [
      "Epoch 4/10:   4%|▍         | 4/100 [00:00<00:20,  4.67it/s]"
     ]
    },
    {
     "name": "stdout",
     "output_type": "stream",
     "text": [
      "Input shape: torch.Size([16, 501, 64, 64]), Input type: torch.float32\n",
      "Labels shape: torch.Size([16]), Labels type: torch.int64\n",
      "Outputs shape: torch.Size([16, 26]), Outputs type: torch.float32\n"
     ]
    },
    {
     "name": "stderr",
     "output_type": "stream",
     "text": [
      "Epoch 4/10:   5%|▌         | 5/100 [00:01<00:20,  4.59it/s]"
     ]
    },
    {
     "name": "stdout",
     "output_type": "stream",
     "text": [
      "Input shape: torch.Size([16, 501, 64, 64]), Input type: torch.float32\n",
      "Labels shape: torch.Size([16]), Labels type: torch.int64\n",
      "Outputs shape: torch.Size([16, 26]), Outputs type: torch.float32\n"
     ]
    },
    {
     "name": "stderr",
     "output_type": "stream",
     "text": [
      "Epoch 4/10:   6%|▌         | 6/100 [00:01<00:20,  4.69it/s]"
     ]
    },
    {
     "name": "stdout",
     "output_type": "stream",
     "text": [
      "Input shape: torch.Size([16, 501, 64, 64]), Input type: torch.float32\n",
      "Labels shape: torch.Size([16]), Labels type: torch.int64\n",
      "Outputs shape: torch.Size([16, 26]), Outputs type: torch.float32\n"
     ]
    },
    {
     "name": "stderr",
     "output_type": "stream",
     "text": [
      "Epoch 4/10:   7%|▋         | 7/100 [00:01<00:19,  4.76it/s]"
     ]
    },
    {
     "name": "stdout",
     "output_type": "stream",
     "text": [
      "Input shape: torch.Size([16, 501, 64, 64]), Input type: torch.float32\n",
      "Labels shape: torch.Size([16]), Labels type: torch.int64\n",
      "Outputs shape: torch.Size([16, 26]), Outputs type: torch.float32\n"
     ]
    },
    {
     "name": "stderr",
     "output_type": "stream",
     "text": [
      "Epoch 4/10:   8%|▊         | 8/100 [00:01<00:19,  4.81it/s]"
     ]
    },
    {
     "name": "stdout",
     "output_type": "stream",
     "text": [
      "Input shape: torch.Size([16, 501, 64, 64]), Input type: torch.float32\n",
      "Labels shape: torch.Size([16]), Labels type: torch.int64\n",
      "Outputs shape: torch.Size([16, 26]), Outputs type: torch.float32\n"
     ]
    },
    {
     "name": "stderr",
     "output_type": "stream",
     "text": [
      "Epoch 4/10:   9%|▉         | 9/100 [00:01<00:18,  4.84it/s]"
     ]
    },
    {
     "name": "stdout",
     "output_type": "stream",
     "text": [
      "Input shape: torch.Size([16, 501, 64, 64]), Input type: torch.float32\n",
      "Labels shape: torch.Size([16]), Labels type: torch.int64\n",
      "Outputs shape: torch.Size([16, 26]), Outputs type: torch.float32\n"
     ]
    },
    {
     "name": "stderr",
     "output_type": "stream",
     "text": [
      "Epoch 4/10:  10%|█         | 10/100 [00:02<00:19,  4.73it/s]"
     ]
    },
    {
     "name": "stdout",
     "output_type": "stream",
     "text": [
      "Input shape: torch.Size([16, 501, 64, 64]), Input type: torch.float32\n",
      "Labels shape: torch.Size([16]), Labels type: torch.int64\n",
      "Outputs shape: torch.Size([16, 26]), Outputs type: torch.float32\n"
     ]
    },
    {
     "name": "stderr",
     "output_type": "stream",
     "text": [
      "Epoch 4/10:  11%|█         | 11/100 [00:02<00:19,  4.53it/s]"
     ]
    },
    {
     "name": "stdout",
     "output_type": "stream",
     "text": [
      "Input shape: torch.Size([16, 501, 64, 64]), Input type: torch.float32\n",
      "Labels shape: torch.Size([16]), Labels type: torch.int64\n",
      "Outputs shape: torch.Size([16, 26]), Outputs type: torch.float32\n"
     ]
    },
    {
     "name": "stderr",
     "output_type": "stream",
     "text": [
      "Epoch 4/10:  12%|█▏        | 12/100 [00:02<00:19,  4.47it/s]"
     ]
    },
    {
     "name": "stdout",
     "output_type": "stream",
     "text": [
      "Input shape: torch.Size([16, 501, 64, 64]), Input type: torch.float32\n",
      "Labels shape: torch.Size([16]), Labels type: torch.int64\n",
      "Outputs shape: torch.Size([16, 26]), Outputs type: torch.float32\n"
     ]
    },
    {
     "name": "stderr",
     "output_type": "stream",
     "text": [
      "Epoch 4/10:  13%|█▎        | 13/100 [00:02<00:20,  4.33it/s]"
     ]
    },
    {
     "name": "stdout",
     "output_type": "stream",
     "text": [
      "Input shape: torch.Size([16, 501, 64, 64]), Input type: torch.float32\n",
      "Labels shape: torch.Size([16]), Labels type: torch.int64\n",
      "Outputs shape: torch.Size([16, 26]), Outputs type: torch.float32\n"
     ]
    },
    {
     "name": "stderr",
     "output_type": "stream",
     "text": [
      "Epoch 4/10:  14%|█▍        | 14/100 [00:03<00:20,  4.26it/s]"
     ]
    },
    {
     "name": "stdout",
     "output_type": "stream",
     "text": [
      "Input shape: torch.Size([16, 501, 64, 64]), Input type: torch.float32\n",
      "Labels shape: torch.Size([16]), Labels type: torch.int64\n",
      "Outputs shape: torch.Size([16, 26]), Outputs type: torch.float32\n"
     ]
    },
    {
     "name": "stderr",
     "output_type": "stream",
     "text": [
      "Epoch 4/10:  15%|█▌        | 15/100 [00:03<00:19,  4.38it/s]"
     ]
    },
    {
     "name": "stdout",
     "output_type": "stream",
     "text": [
      "Input shape: torch.Size([16, 501, 64, 64]), Input type: torch.float32\n",
      "Labels shape: torch.Size([16]), Labels type: torch.int64\n",
      "Outputs shape: torch.Size([16, 26]), Outputs type: torch.float32\n"
     ]
    },
    {
     "name": "stderr",
     "output_type": "stream",
     "text": [
      "Epoch 4/10:  16%|█▌        | 16/100 [00:03<00:20,  4.17it/s]"
     ]
    },
    {
     "name": "stdout",
     "output_type": "stream",
     "text": [
      "Input shape: torch.Size([16, 501, 64, 64]), Input type: torch.float32\n",
      "Labels shape: torch.Size([16]), Labels type: torch.int64\n",
      "Outputs shape: torch.Size([16, 26]), Outputs type: torch.float32\n"
     ]
    },
    {
     "name": "stderr",
     "output_type": "stream",
     "text": [
      "Epoch 4/10:  17%|█▋        | 17/100 [00:03<00:20,  4.12it/s]"
     ]
    },
    {
     "name": "stdout",
     "output_type": "stream",
     "text": [
      "Input shape: torch.Size([16, 501, 64, 64]), Input type: torch.float32\n",
      "Labels shape: torch.Size([16]), Labels type: torch.int64\n",
      "Outputs shape: torch.Size([16, 26]), Outputs type: torch.float32\n"
     ]
    },
    {
     "name": "stderr",
     "output_type": "stream",
     "text": [
      "Epoch 4/10:  18%|█▊        | 18/100 [00:04<00:20,  4.00it/s]"
     ]
    },
    {
     "name": "stdout",
     "output_type": "stream",
     "text": [
      "Input shape: torch.Size([16, 501, 64, 64]), Input type: torch.float32\n",
      "Labels shape: torch.Size([16]), Labels type: torch.int64\n",
      "Outputs shape: torch.Size([16, 26]), Outputs type: torch.float32\n"
     ]
    },
    {
     "name": "stderr",
     "output_type": "stream",
     "text": [
      "Epoch 4/10:  19%|█▉        | 19/100 [00:04<00:21,  3.84it/s]"
     ]
    },
    {
     "name": "stdout",
     "output_type": "stream",
     "text": [
      "Input shape: torch.Size([16, 501, 64, 64]), Input type: torch.float32\n",
      "Labels shape: torch.Size([16]), Labels type: torch.int64\n",
      "Outputs shape: torch.Size([16, 26]), Outputs type: torch.float32\n"
     ]
    },
    {
     "name": "stderr",
     "output_type": "stream",
     "text": [
      "Epoch 4/10:  20%|██        | 20/100 [00:04<00:20,  3.96it/s]"
     ]
    },
    {
     "name": "stdout",
     "output_type": "stream",
     "text": [
      "Input shape: torch.Size([16, 501, 64, 64]), Input type: torch.float32\n",
      "Labels shape: torch.Size([16]), Labels type: torch.int64\n",
      "Outputs shape: torch.Size([16, 26]), Outputs type: torch.float32\n"
     ]
    },
    {
     "name": "stderr",
     "output_type": "stream",
     "text": [
      "Epoch 4/10:  21%|██        | 21/100 [00:04<00:19,  4.14it/s]"
     ]
    },
    {
     "name": "stdout",
     "output_type": "stream",
     "text": [
      "Input shape: torch.Size([16, 501, 64, 64]), Input type: torch.float32\n",
      "Labels shape: torch.Size([16]), Labels type: torch.int64\n",
      "Outputs shape: torch.Size([16, 26]), Outputs type: torch.float32\n"
     ]
    },
    {
     "name": "stderr",
     "output_type": "stream",
     "text": [
      "Epoch 4/10:  22%|██▏       | 22/100 [00:05<00:19,  3.99it/s]"
     ]
    },
    {
     "name": "stdout",
     "output_type": "stream",
     "text": [
      "Input shape: torch.Size([16, 501, 64, 64]), Input type: torch.float32\n",
      "Labels shape: torch.Size([16]), Labels type: torch.int64\n",
      "Outputs shape: torch.Size([16, 26]), Outputs type: torch.float32\n"
     ]
    },
    {
     "name": "stderr",
     "output_type": "stream",
     "text": [
      "Epoch 4/10:  23%|██▎       | 23/100 [00:05<00:19,  3.98it/s]"
     ]
    },
    {
     "name": "stdout",
     "output_type": "stream",
     "text": [
      "Input shape: torch.Size([16, 501, 64, 64]), Input type: torch.float32\n",
      "Labels shape: torch.Size([16]), Labels type: torch.int64\n",
      "Outputs shape: torch.Size([16, 26]), Outputs type: torch.float32\n"
     ]
    },
    {
     "name": "stderr",
     "output_type": "stream",
     "text": [
      "Epoch 4/10:  24%|██▍       | 24/100 [00:05<00:19,  4.00it/s]"
     ]
    },
    {
     "name": "stdout",
     "output_type": "stream",
     "text": [
      "Input shape: torch.Size([16, 501, 64, 64]), Input type: torch.float32\n",
      "Labels shape: torch.Size([16]), Labels type: torch.int64\n",
      "Outputs shape: torch.Size([16, 26]), Outputs type: torch.float32\n"
     ]
    },
    {
     "name": "stderr",
     "output_type": "stream",
     "text": [
      "Epoch 4/10:  25%|██▌       | 25/100 [00:05<00:18,  3.95it/s]"
     ]
    },
    {
     "name": "stdout",
     "output_type": "stream",
     "text": [
      "Input shape: torch.Size([16, 501, 64, 64]), Input type: torch.float32\n",
      "Labels shape: torch.Size([16]), Labels type: torch.int64\n",
      "Outputs shape: torch.Size([16, 26]), Outputs type: torch.float32\n"
     ]
    },
    {
     "name": "stderr",
     "output_type": "stream",
     "text": [
      "Epoch 4/10:  26%|██▌       | 26/100 [00:06<00:18,  3.97it/s]"
     ]
    },
    {
     "name": "stdout",
     "output_type": "stream",
     "text": [
      "Input shape: torch.Size([16, 501, 64, 64]), Input type: torch.float32\n",
      "Labels shape: torch.Size([16]), Labels type: torch.int64\n",
      "Outputs shape: torch.Size([16, 26]), Outputs type: torch.float32\n"
     ]
    },
    {
     "name": "stderr",
     "output_type": "stream",
     "text": [
      "Epoch 4/10:  27%|██▋       | 27/100 [00:06<00:17,  4.14it/s]"
     ]
    },
    {
     "name": "stdout",
     "output_type": "stream",
     "text": [
      "Input shape: torch.Size([16, 501, 64, 64]), Input type: torch.float32\n",
      "Labels shape: torch.Size([16]), Labels type: torch.int64\n",
      "Outputs shape: torch.Size([16, 26]), Outputs type: torch.float32\n"
     ]
    },
    {
     "name": "stderr",
     "output_type": "stream",
     "text": [
      "Epoch 4/10:  28%|██▊       | 28/100 [00:06<00:16,  4.34it/s]"
     ]
    },
    {
     "name": "stdout",
     "output_type": "stream",
     "text": [
      "Input shape: torch.Size([16, 501, 64, 64]), Input type: torch.float32\n",
      "Labels shape: torch.Size([16]), Labels type: torch.int64\n",
      "Outputs shape: torch.Size([16, 26]), Outputs type: torch.float32\n"
     ]
    },
    {
     "name": "stderr",
     "output_type": "stream",
     "text": [
      "Epoch 4/10:  29%|██▉       | 29/100 [00:06<00:16,  4.40it/s]"
     ]
    },
    {
     "name": "stdout",
     "output_type": "stream",
     "text": [
      "Input shape: torch.Size([16, 501, 64, 64]), Input type: torch.float32\n",
      "Labels shape: torch.Size([16]), Labels type: torch.int64\n",
      "Outputs shape: torch.Size([16, 26]), Outputs type: torch.float32\n"
     ]
    },
    {
     "name": "stderr",
     "output_type": "stream",
     "text": [
      "Epoch 4/10:  30%|███       | 30/100 [00:06<00:15,  4.53it/s]"
     ]
    },
    {
     "name": "stdout",
     "output_type": "stream",
     "text": [
      "Input shape: torch.Size([16, 501, 64, 64]), Input type: torch.float32\n",
      "Labels shape: torch.Size([16]), Labels type: torch.int64\n",
      "Outputs shape: torch.Size([16, 26]), Outputs type: torch.float32\n"
     ]
    },
    {
     "name": "stderr",
     "output_type": "stream",
     "text": [
      "Epoch 4/10:  31%|███       | 31/100 [00:07<00:16,  4.23it/s]"
     ]
    },
    {
     "name": "stdout",
     "output_type": "stream",
     "text": [
      "Input shape: torch.Size([16, 501, 64, 64]), Input type: torch.float32\n",
      "Labels shape: torch.Size([16]), Labels type: torch.int64\n",
      "Outputs shape: torch.Size([16, 26]), Outputs type: torch.float32\n"
     ]
    },
    {
     "name": "stderr",
     "output_type": "stream",
     "text": [
      "Epoch 4/10:  32%|███▏      | 32/100 [00:07<00:16,  4.18it/s]"
     ]
    },
    {
     "name": "stdout",
     "output_type": "stream",
     "text": [
      "Input shape: torch.Size([16, 501, 64, 64]), Input type: torch.float32\n",
      "Labels shape: torch.Size([16]), Labels type: torch.int64\n",
      "Outputs shape: torch.Size([16, 26]), Outputs type: torch.float32\n"
     ]
    },
    {
     "name": "stderr",
     "output_type": "stream",
     "text": [
      "Epoch 4/10:  33%|███▎      | 33/100 [00:07<00:15,  4.19it/s]"
     ]
    },
    {
     "name": "stdout",
     "output_type": "stream",
     "text": [
      "Input shape: torch.Size([16, 501, 64, 64]), Input type: torch.float32\n",
      "Labels shape: torch.Size([16]), Labels type: torch.int64\n",
      "Outputs shape: torch.Size([16, 26]), Outputs type: torch.float32\n"
     ]
    },
    {
     "name": "stderr",
     "output_type": "stream",
     "text": [
      "Epoch 4/10:  34%|███▍      | 34/100 [00:07<00:15,  4.15it/s]"
     ]
    },
    {
     "name": "stdout",
     "output_type": "stream",
     "text": [
      "Input shape: torch.Size([16, 501, 64, 64]), Input type: torch.float32\n",
      "Labels shape: torch.Size([16]), Labels type: torch.int64\n",
      "Outputs shape: torch.Size([16, 26]), Outputs type: torch.float32\n"
     ]
    },
    {
     "name": "stderr",
     "output_type": "stream",
     "text": [
      "Epoch 4/10:  35%|███▌      | 35/100 [00:08<00:16,  4.05it/s]"
     ]
    },
    {
     "name": "stdout",
     "output_type": "stream",
     "text": [
      "Input shape: torch.Size([16, 501, 64, 64]), Input type: torch.float32\n",
      "Labels shape: torch.Size([16]), Labels type: torch.int64\n",
      "Outputs shape: torch.Size([16, 26]), Outputs type: torch.float32\n"
     ]
    },
    {
     "name": "stderr",
     "output_type": "stream",
     "text": [
      "Epoch 4/10:  36%|███▌      | 36/100 [00:08<00:15,  4.11it/s]"
     ]
    },
    {
     "name": "stdout",
     "output_type": "stream",
     "text": [
      "Input shape: torch.Size([16, 501, 64, 64]), Input type: torch.float32\n",
      "Labels shape: torch.Size([16]), Labels type: torch.int64\n",
      "Outputs shape: torch.Size([16, 26]), Outputs type: torch.float32\n"
     ]
    },
    {
     "name": "stderr",
     "output_type": "stream",
     "text": [
      "Epoch 4/10:  37%|███▋      | 37/100 [00:08<00:14,  4.35it/s]"
     ]
    },
    {
     "name": "stdout",
     "output_type": "stream",
     "text": [
      "Input shape: torch.Size([16, 501, 64, 64]), Input type: torch.float32\n",
      "Labels shape: torch.Size([16]), Labels type: torch.int64\n",
      "Outputs shape: torch.Size([16, 26]), Outputs type: torch.float32\n"
     ]
    },
    {
     "name": "stderr",
     "output_type": "stream",
     "text": [
      "Epoch 4/10:  38%|███▊      | 38/100 [00:08<00:14,  4.14it/s]"
     ]
    },
    {
     "name": "stdout",
     "output_type": "stream",
     "text": [
      "Input shape: torch.Size([16, 501, 64, 64]), Input type: torch.float32\n",
      "Labels shape: torch.Size([16]), Labels type: torch.int64\n",
      "Outputs shape: torch.Size([16, 26]), Outputs type: torch.float32\n"
     ]
    },
    {
     "name": "stderr",
     "output_type": "stream",
     "text": [
      "Epoch 4/10:  39%|███▉      | 39/100 [00:09<00:15,  4.01it/s]"
     ]
    },
    {
     "name": "stdout",
     "output_type": "stream",
     "text": [
      "Input shape: torch.Size([16, 501, 64, 64]), Input type: torch.float32\n",
      "Labels shape: torch.Size([16]), Labels type: torch.int64\n",
      "Outputs shape: torch.Size([16, 26]), Outputs type: torch.float32\n"
     ]
    },
    {
     "name": "stderr",
     "output_type": "stream",
     "text": [
      "Epoch 4/10:  40%|████      | 40/100 [00:09<00:14,  4.12it/s]"
     ]
    },
    {
     "name": "stdout",
     "output_type": "stream",
     "text": [
      "Input shape: torch.Size([16, 501, 64, 64]), Input type: torch.float32\n",
      "Labels shape: torch.Size([16]), Labels type: torch.int64\n",
      "Outputs shape: torch.Size([16, 26]), Outputs type: torch.float32\n"
     ]
    },
    {
     "name": "stderr",
     "output_type": "stream",
     "text": [
      "Epoch 4/10:  41%|████      | 41/100 [00:09<00:14,  4.20it/s]"
     ]
    },
    {
     "name": "stdout",
     "output_type": "stream",
     "text": [
      "Input shape: torch.Size([16, 501, 64, 64]), Input type: torch.float32\n",
      "Labels shape: torch.Size([16]), Labels type: torch.int64\n",
      "Outputs shape: torch.Size([16, 26]), Outputs type: torch.float32\n"
     ]
    },
    {
     "name": "stderr",
     "output_type": "stream",
     "text": [
      "Epoch 4/10:  42%|████▏     | 42/100 [00:09<00:13,  4.37it/s]"
     ]
    },
    {
     "name": "stdout",
     "output_type": "stream",
     "text": [
      "Input shape: torch.Size([16, 501, 64, 64]), Input type: torch.float32\n",
      "Labels shape: torch.Size([16]), Labels type: torch.int64\n",
      "Outputs shape: torch.Size([16, 26]), Outputs type: torch.float32\n"
     ]
    },
    {
     "name": "stderr",
     "output_type": "stream",
     "text": [
      "Epoch 4/10:  43%|████▎     | 43/100 [00:10<00:12,  4.47it/s]"
     ]
    },
    {
     "name": "stdout",
     "output_type": "stream",
     "text": [
      "Input shape: torch.Size([16, 501, 64, 64]), Input type: torch.float32\n",
      "Labels shape: torch.Size([16]), Labels type: torch.int64\n",
      "Outputs shape: torch.Size([16, 26]), Outputs type: torch.float32\n"
     ]
    },
    {
     "name": "stderr",
     "output_type": "stream",
     "text": [
      "Epoch 4/10:  44%|████▍     | 44/100 [00:10<00:12,  4.56it/s]"
     ]
    },
    {
     "name": "stdout",
     "output_type": "stream",
     "text": [
      "Input shape: torch.Size([16, 501, 64, 64]), Input type: torch.float32\n",
      "Labels shape: torch.Size([16]), Labels type: torch.int64\n",
      "Outputs shape: torch.Size([16, 26]), Outputs type: torch.float32\n"
     ]
    },
    {
     "name": "stderr",
     "output_type": "stream",
     "text": [
      "Epoch 4/10:  45%|████▌     | 45/100 [00:10<00:11,  4.70it/s]"
     ]
    },
    {
     "name": "stdout",
     "output_type": "stream",
     "text": [
      "Input shape: torch.Size([16, 501, 64, 64]), Input type: torch.float32\n",
      "Labels shape: torch.Size([16]), Labels type: torch.int64\n",
      "Outputs shape: torch.Size([16, 26]), Outputs type: torch.float32\n"
     ]
    },
    {
     "name": "stderr",
     "output_type": "stream",
     "text": [
      "Epoch 4/10:  46%|████▌     | 46/100 [00:10<00:11,  4.66it/s]"
     ]
    },
    {
     "name": "stdout",
     "output_type": "stream",
     "text": [
      "Input shape: torch.Size([16, 501, 64, 64]), Input type: torch.float32\n",
      "Labels shape: torch.Size([16]), Labels type: torch.int64\n",
      "Outputs shape: torch.Size([16, 26]), Outputs type: torch.float32\n"
     ]
    },
    {
     "name": "stderr",
     "output_type": "stream",
     "text": [
      "Epoch 4/10:  47%|████▋     | 47/100 [00:10<00:11,  4.76it/s]"
     ]
    },
    {
     "name": "stdout",
     "output_type": "stream",
     "text": [
      "Input shape: torch.Size([16, 501, 64, 64]), Input type: torch.float32\n",
      "Labels shape: torch.Size([16]), Labels type: torch.int64\n",
      "Outputs shape: torch.Size([16, 26]), Outputs type: torch.float32\n"
     ]
    },
    {
     "name": "stderr",
     "output_type": "stream",
     "text": [
      "Epoch 4/10:  48%|████▊     | 48/100 [00:11<00:11,  4.69it/s]"
     ]
    },
    {
     "name": "stdout",
     "output_type": "stream",
     "text": [
      "Input shape: torch.Size([16, 501, 64, 64]), Input type: torch.float32\n",
      "Labels shape: torch.Size([16]), Labels type: torch.int64\n",
      "Outputs shape: torch.Size([16, 26]), Outputs type: torch.float32\n"
     ]
    },
    {
     "name": "stderr",
     "output_type": "stream",
     "text": [
      "Epoch 4/10:  49%|████▉     | 49/100 [00:11<00:10,  4.70it/s]"
     ]
    },
    {
     "name": "stdout",
     "output_type": "stream",
     "text": [
      "Input shape: torch.Size([16, 501, 64, 64]), Input type: torch.float32\n",
      "Labels shape: torch.Size([16]), Labels type: torch.int64\n",
      "Outputs shape: torch.Size([16, 26]), Outputs type: torch.float32\n"
     ]
    },
    {
     "name": "stderr",
     "output_type": "stream",
     "text": [
      "Epoch 4/10:  50%|█████     | 50/100 [00:11<00:10,  4.71it/s]"
     ]
    },
    {
     "name": "stdout",
     "output_type": "stream",
     "text": [
      "Input shape: torch.Size([16, 501, 64, 64]), Input type: torch.float32\n",
      "Labels shape: torch.Size([16]), Labels type: torch.int64\n",
      "Outputs shape: torch.Size([16, 26]), Outputs type: torch.float32\n"
     ]
    },
    {
     "name": "stderr",
     "output_type": "stream",
     "text": [
      "Epoch 4/10:  51%|█████     | 51/100 [00:11<00:10,  4.82it/s]"
     ]
    },
    {
     "name": "stdout",
     "output_type": "stream",
     "text": [
      "Input shape: torch.Size([16, 501, 64, 64]), Input type: torch.float32\n",
      "Labels shape: torch.Size([16]), Labels type: torch.int64\n",
      "Outputs shape: torch.Size([16, 26]), Outputs type: torch.float32\n"
     ]
    },
    {
     "name": "stderr",
     "output_type": "stream",
     "text": [
      "Epoch 4/10:  52%|█████▏    | 52/100 [00:11<00:10,  4.70it/s]"
     ]
    },
    {
     "name": "stdout",
     "output_type": "stream",
     "text": [
      "Input shape: torch.Size([16, 501, 64, 64]), Input type: torch.float32\n",
      "Labels shape: torch.Size([16]), Labels type: torch.int64\n",
      "Outputs shape: torch.Size([16, 26]), Outputs type: torch.float32\n"
     ]
    },
    {
     "name": "stderr",
     "output_type": "stream",
     "text": [
      "Epoch 4/10:  53%|█████▎    | 53/100 [00:12<00:10,  4.60it/s]"
     ]
    },
    {
     "name": "stdout",
     "output_type": "stream",
     "text": [
      "Input shape: torch.Size([16, 501, 64, 64]), Input type: torch.float32\n",
      "Labels shape: torch.Size([16]), Labels type: torch.int64\n",
      "Outputs shape: torch.Size([16, 26]), Outputs type: torch.float32\n"
     ]
    },
    {
     "name": "stderr",
     "output_type": "stream",
     "text": [
      "Epoch 4/10:  54%|█████▍    | 54/100 [00:12<00:09,  4.65it/s]"
     ]
    },
    {
     "name": "stdout",
     "output_type": "stream",
     "text": [
      "Input shape: torch.Size([16, 501, 64, 64]), Input type: torch.float32\n",
      "Labels shape: torch.Size([16]), Labels type: torch.int64\n",
      "Outputs shape: torch.Size([16, 26]), Outputs type: torch.float32\n"
     ]
    },
    {
     "name": "stderr",
     "output_type": "stream",
     "text": [
      "Epoch 4/10:  55%|█████▌    | 55/100 [00:12<00:09,  4.75it/s]"
     ]
    },
    {
     "name": "stdout",
     "output_type": "stream",
     "text": [
      "Input shape: torch.Size([16, 501, 64, 64]), Input type: torch.float32\n",
      "Labels shape: torch.Size([16]), Labels type: torch.int64\n",
      "Outputs shape: torch.Size([16, 26]), Outputs type: torch.float32\n",
      "Input shape: torch.Size([16, 501, 64, 64]), Input type: torch.float32\n",
      "Labels shape: torch.Size([16]), Labels type: torch.int64\n"
     ]
    },
    {
     "name": "stderr",
     "output_type": "stream",
     "text": [
      "Epoch 4/10:  56%|█████▌    | 56/100 [00:12<00:09,  4.76it/s]"
     ]
    },
    {
     "name": "stdout",
     "output_type": "stream",
     "text": [
      "Outputs shape: torch.Size([16, 26]), Outputs type: torch.float32\n",
      "Input shape: torch.Size([16, 501, 64, 64]), Input type: torch.float32\n",
      "Labels shape: torch.Size([16]), Labels type: torch.int64\n"
     ]
    },
    {
     "name": "stderr",
     "output_type": "stream",
     "text": [
      "Epoch 4/10:  57%|█████▋    | 57/100 [00:12<00:09,  4.77it/s]"
     ]
    },
    {
     "name": "stdout",
     "output_type": "stream",
     "text": [
      "Outputs shape: torch.Size([16, 26]), Outputs type: torch.float32\n",
      "Input shape: torch.Size([16, 501, 64, 64]), Input type: torch.float32\n",
      "Labels shape: torch.Size([16]), Labels type: torch.int64\n"
     ]
    },
    {
     "name": "stderr",
     "output_type": "stream",
     "text": [
      "Epoch 4/10:  58%|█████▊    | 58/100 [00:13<00:08,  4.77it/s]"
     ]
    },
    {
     "name": "stdout",
     "output_type": "stream",
     "text": [
      "Outputs shape: torch.Size([16, 26]), Outputs type: torch.float32\n",
      "Input shape: torch.Size([16, 501, 64, 64]), Input type: torch.float32\n",
      "Labels shape: torch.Size([16]), Labels type: torch.int64\n"
     ]
    },
    {
     "name": "stderr",
     "output_type": "stream",
     "text": [
      "Epoch 4/10:  59%|█████▉    | 59/100 [00:13<00:08,  4.85it/s]"
     ]
    },
    {
     "name": "stdout",
     "output_type": "stream",
     "text": [
      "Outputs shape: torch.Size([16, 26]), Outputs type: torch.float32\n",
      "Input shape: torch.Size([16, 501, 64, 64]), Input type: torch.float32\n",
      "Labels shape: torch.Size([16]), Labels type: torch.int64\n"
     ]
    },
    {
     "name": "stderr",
     "output_type": "stream",
     "text": [
      "Epoch 4/10:  60%|██████    | 60/100 [00:13<00:08,  4.80it/s]"
     ]
    },
    {
     "name": "stdout",
     "output_type": "stream",
     "text": [
      "Outputs shape: torch.Size([16, 26]), Outputs type: torch.float32\n",
      "Input shape: torch.Size([16, 501, 64, 64]), Input type: torch.float32\n",
      "Labels shape: torch.Size([16]), Labels type: torch.int64\n"
     ]
    },
    {
     "name": "stderr",
     "output_type": "stream",
     "text": [
      "Epoch 4/10:  61%|██████    | 61/100 [00:13<00:08,  4.84it/s]"
     ]
    },
    {
     "name": "stdout",
     "output_type": "stream",
     "text": [
      "Outputs shape: torch.Size([16, 26]), Outputs type: torch.float32\n",
      "Input shape: torch.Size([16, 501, 64, 64]), Input type: torch.float32\n",
      "Labels shape: torch.Size([16]), Labels type: torch.int64\n"
     ]
    },
    {
     "name": "stderr",
     "output_type": "stream",
     "text": [
      "Epoch 4/10:  62%|██████▏   | 62/100 [00:14<00:07,  4.82it/s]"
     ]
    },
    {
     "name": "stdout",
     "output_type": "stream",
     "text": [
      "Outputs shape: torch.Size([16, 26]), Outputs type: torch.float32\n",
      "Input shape: torch.Size([16, 501, 64, 64]), Input type: torch.float32\n",
      "Labels shape: torch.Size([16]), Labels type: torch.int64\n"
     ]
    },
    {
     "name": "stderr",
     "output_type": "stream",
     "text": [
      "Epoch 4/10:  63%|██████▎   | 63/100 [00:14<00:07,  4.72it/s]"
     ]
    },
    {
     "name": "stdout",
     "output_type": "stream",
     "text": [
      "Outputs shape: torch.Size([16, 26]), Outputs type: torch.float32\n",
      "Input shape: torch.Size([16, 501, 64, 64]), Input type: torch.float32\n",
      "Labels shape: torch.Size([16]), Labels type: torch.int64\n"
     ]
    },
    {
     "name": "stderr",
     "output_type": "stream",
     "text": [
      "Epoch 4/10:  64%|██████▍   | 64/100 [00:14<00:07,  4.66it/s]"
     ]
    },
    {
     "name": "stdout",
     "output_type": "stream",
     "text": [
      "Outputs shape: torch.Size([16, 26]), Outputs type: torch.float32\n",
      "Input shape: torch.Size([16, 501, 64, 64]), Input type: torch.float32\n",
      "Labels shape: torch.Size([16]), Labels type: torch.int64\n"
     ]
    },
    {
     "name": "stderr",
     "output_type": "stream",
     "text": [
      "Epoch 4/10:  65%|██████▌   | 65/100 [00:14<00:07,  4.75it/s]"
     ]
    },
    {
     "name": "stdout",
     "output_type": "stream",
     "text": [
      "Outputs shape: torch.Size([16, 26]), Outputs type: torch.float32\n",
      "Input shape: torch.Size([16, 501, 64, 64]), Input type: torch.float32\n",
      "Labels shape: torch.Size([16]), Labels type: torch.int64\n"
     ]
    },
    {
     "name": "stderr",
     "output_type": "stream",
     "text": [
      "Epoch 4/10:  66%|██████▌   | 66/100 [00:14<00:07,  4.64it/s]"
     ]
    },
    {
     "name": "stdout",
     "output_type": "stream",
     "text": [
      "Outputs shape: torch.Size([16, 26]), Outputs type: torch.float32\n",
      "Input shape: torch.Size([16, 501, 64, 64]), Input type: torch.float32\n",
      "Labels shape: torch.Size([16]), Labels type: torch.int64\n"
     ]
    },
    {
     "name": "stderr",
     "output_type": "stream",
     "text": [
      "Epoch 4/10:  67%|██████▋   | 67/100 [00:15<00:07,  4.48it/s]"
     ]
    },
    {
     "name": "stdout",
     "output_type": "stream",
     "text": [
      "Outputs shape: torch.Size([16, 26]), Outputs type: torch.float32\n",
      "Input shape: torch.Size([16, 501, 64, 64]), Input type: torch.float32\n",
      "Labels shape: torch.Size([16]), Labels type: torch.int64\n"
     ]
    },
    {
     "name": "stderr",
     "output_type": "stream",
     "text": [
      "Epoch 4/10:  68%|██████▊   | 68/100 [00:15<00:07,  4.55it/s]"
     ]
    },
    {
     "name": "stdout",
     "output_type": "stream",
     "text": [
      "Outputs shape: torch.Size([16, 26]), Outputs type: torch.float32\n",
      "Input shape: torch.Size([16, 501, 64, 64]), Input type: torch.float32\n",
      "Labels shape: torch.Size([16]), Labels type: torch.int64\n",
      "Outputs shape: torch.Size([16, 26]), Outputs type: torch.float32\n"
     ]
    },
    {
     "name": "stderr",
     "output_type": "stream",
     "text": [
      "Epoch 4/10:  70%|███████   | 70/100 [00:15<00:06,  4.34it/s]"
     ]
    },
    {
     "name": "stdout",
     "output_type": "stream",
     "text": [
      "Input shape: torch.Size([16, 501, 64, 64]), Input type: torch.float32\n",
      "Labels shape: torch.Size([16]), Labels type: torch.int64\n",
      "Outputs shape: torch.Size([16, 26]), Outputs type: torch.float32\n"
     ]
    },
    {
     "name": "stderr",
     "output_type": "stream",
     "text": [
      "Epoch 4/10:  71%|███████   | 71/100 [00:16<00:06,  4.54it/s]"
     ]
    },
    {
     "name": "stdout",
     "output_type": "stream",
     "text": [
      "Input shape: torch.Size([16, 501, 64, 64]), Input type: torch.float32\n",
      "Labels shape: torch.Size([16]), Labels type: torch.int64\n",
      "Outputs shape: torch.Size([16, 26]), Outputs type: torch.float32\n",
      "Input shape: torch.Size([16, 501, 64, 64]), Input type: torch.float32\n",
      "Labels shape: torch.Size([16]), Labels type: torch.int64\n"
     ]
    },
    {
     "name": "stderr",
     "output_type": "stream",
     "text": [
      "Epoch 4/10:  72%|███████▏  | 72/100 [00:16<00:06,  4.60it/s]"
     ]
    },
    {
     "name": "stdout",
     "output_type": "stream",
     "text": [
      "Outputs shape: torch.Size([16, 26]), Outputs type: torch.float32\n",
      "Input shape: torch.Size([16, 501, 64, 64]), Input type: torch.float32\n",
      "Labels shape: torch.Size([16]), Labels type: torch.int64\n"
     ]
    },
    {
     "name": "stderr",
     "output_type": "stream",
     "text": [
      "Epoch 4/10:  73%|███████▎  | 73/100 [00:16<00:05,  4.66it/s]"
     ]
    },
    {
     "name": "stdout",
     "output_type": "stream",
     "text": [
      "Outputs shape: torch.Size([16, 26]), Outputs type: torch.float32\n",
      "Input shape: torch.Size([16, 501, 64, 64]), Input type: torch.float32\n",
      "Labels shape: torch.Size([16]), Labels type: torch.int64\n"
     ]
    },
    {
     "name": "stderr",
     "output_type": "stream",
     "text": [
      "Epoch 4/10:  74%|███████▍  | 74/100 [00:16<00:05,  4.61it/s]"
     ]
    },
    {
     "name": "stdout",
     "output_type": "stream",
     "text": [
      "Outputs shape: torch.Size([16, 26]), Outputs type: torch.float32\n",
      "Input shape: torch.Size([16, 501, 64, 64]), Input type: torch.float32\n",
      "Labels shape: torch.Size([16]), Labels type: torch.int64\n"
     ]
    },
    {
     "name": "stderr",
     "output_type": "stream",
     "text": [
      "Epoch 4/10:  75%|███████▌  | 75/100 [00:16<00:05,  4.71it/s]"
     ]
    },
    {
     "name": "stdout",
     "output_type": "stream",
     "text": [
      "Outputs shape: torch.Size([16, 26]), Outputs type: torch.float32\n",
      "Input shape: torch.Size([16, 501, 64, 64]), Input type: torch.float32\n",
      "Labels shape: torch.Size([16]), Labels type: torch.int64\n"
     ]
    },
    {
     "name": "stderr",
     "output_type": "stream",
     "text": [
      "Epoch 4/10:  76%|███████▌  | 76/100 [00:17<00:05,  4.65it/s]"
     ]
    },
    {
     "name": "stdout",
     "output_type": "stream",
     "text": [
      "Outputs shape: torch.Size([16, 26]), Outputs type: torch.float32\n",
      "Input shape: torch.Size([16, 501, 64, 64]), Input type: torch.float32\n",
      "Labels shape: torch.Size([16]), Labels type: torch.int64\n"
     ]
    },
    {
     "name": "stderr",
     "output_type": "stream",
     "text": [
      "Epoch 4/10:  77%|███████▋  | 77/100 [00:17<00:04,  4.75it/s]"
     ]
    },
    {
     "name": "stdout",
     "output_type": "stream",
     "text": [
      "Outputs shape: torch.Size([16, 26]), Outputs type: torch.float32\n",
      "Input shape: torch.Size([16, 501, 64, 64]), Input type: torch.float32\n",
      "Labels shape: torch.Size([16]), Labels type: torch.int64\n"
     ]
    },
    {
     "name": "stderr",
     "output_type": "stream",
     "text": [
      "Epoch 4/10:  78%|███████▊  | 78/100 [00:17<00:04,  4.75it/s]"
     ]
    },
    {
     "name": "stdout",
     "output_type": "stream",
     "text": [
      "Outputs shape: torch.Size([16, 26]), Outputs type: torch.float32\n",
      "Input shape: torch.Size([16, 501, 64, 64]), Input type: torch.float32\n",
      "Labels shape: torch.Size([16]), Labels type: torch.int64\n"
     ]
    },
    {
     "name": "stderr",
     "output_type": "stream",
     "text": [
      "Epoch 4/10:  79%|███████▉  | 79/100 [00:17<00:04,  4.77it/s]"
     ]
    },
    {
     "name": "stdout",
     "output_type": "stream",
     "text": [
      "Outputs shape: torch.Size([16, 26]), Outputs type: torch.float32\n",
      "Input shape: torch.Size([16, 501, 64, 64]), Input type: torch.float32\n",
      "Labels shape: torch.Size([16]), Labels type: torch.int64\n"
     ]
    },
    {
     "name": "stderr",
     "output_type": "stream",
     "text": [
      "Epoch 4/10:  80%|████████  | 80/100 [00:17<00:04,  4.67it/s]"
     ]
    },
    {
     "name": "stdout",
     "output_type": "stream",
     "text": [
      "Outputs shape: torch.Size([16, 26]), Outputs type: torch.float32\n"
     ]
    },
    {
     "name": "stderr",
     "output_type": "stream",
     "text": [
      "Epoch 4/10:  81%|████████  | 81/100 [00:18<00:04,  4.33it/s]"
     ]
    },
    {
     "name": "stdout",
     "output_type": "stream",
     "text": [
      "Input shape: torch.Size([16, 501, 64, 64]), Input type: torch.float32\n",
      "Labels shape: torch.Size([16]), Labels type: torch.int64\n",
      "Outputs shape: torch.Size([16, 26]), Outputs type: torch.float32\n"
     ]
    },
    {
     "name": "stderr",
     "output_type": "stream",
     "text": [
      "Epoch 4/10:  82%|████████▏ | 82/100 [00:18<00:04,  4.30it/s]"
     ]
    },
    {
     "name": "stdout",
     "output_type": "stream",
     "text": [
      "Input shape: torch.Size([16, 501, 64, 64]), Input type: torch.float32\n",
      "Labels shape: torch.Size([16]), Labels type: torch.int64\n",
      "Outputs shape: torch.Size([16, 26]), Outputs type: torch.float32\n"
     ]
    },
    {
     "name": "stderr",
     "output_type": "stream",
     "text": [
      "Epoch 4/10:  83%|████████▎ | 83/100 [00:18<00:03,  4.35it/s]"
     ]
    },
    {
     "name": "stdout",
     "output_type": "stream",
     "text": [
      "Input shape: torch.Size([16, 501, 64, 64]), Input type: torch.float32\n",
      "Labels shape: torch.Size([16]), Labels type: torch.int64\n",
      "Outputs shape: torch.Size([16, 26]), Outputs type: torch.float32\n"
     ]
    },
    {
     "name": "stderr",
     "output_type": "stream",
     "text": [
      "Epoch 4/10:  84%|████████▍ | 84/100 [00:18<00:03,  4.25it/s]"
     ]
    },
    {
     "name": "stdout",
     "output_type": "stream",
     "text": [
      "Input shape: torch.Size([16, 501, 64, 64]), Input type: torch.float32\n",
      "Labels shape: torch.Size([16]), Labels type: torch.int64\n",
      "Outputs shape: torch.Size([16, 26]), Outputs type: torch.float32\n"
     ]
    },
    {
     "name": "stderr",
     "output_type": "stream",
     "text": [
      "Epoch 4/10:  85%|████████▌ | 85/100 [00:19<00:03,  4.30it/s]"
     ]
    },
    {
     "name": "stdout",
     "output_type": "stream",
     "text": [
      "Input shape: torch.Size([16, 501, 64, 64]), Input type: torch.float32\n",
      "Labels shape: torch.Size([16]), Labels type: torch.int64\n",
      "Outputs shape: torch.Size([16, 26]), Outputs type: torch.float32\n"
     ]
    },
    {
     "name": "stderr",
     "output_type": "stream",
     "text": [
      "Epoch 4/10:  86%|████████▌ | 86/100 [00:19<00:03,  4.28it/s]"
     ]
    },
    {
     "name": "stdout",
     "output_type": "stream",
     "text": [
      "Input shape: torch.Size([16, 501, 64, 64]), Input type: torch.float32\n",
      "Labels shape: torch.Size([16]), Labels type: torch.int64\n",
      "Outputs shape: torch.Size([16, 26]), Outputs type: torch.float32\n"
     ]
    },
    {
     "name": "stderr",
     "output_type": "stream",
     "text": [
      "Epoch 4/10:  87%|████████▋ | 87/100 [00:19<00:03,  4.24it/s]"
     ]
    },
    {
     "name": "stdout",
     "output_type": "stream",
     "text": [
      "Input shape: torch.Size([16, 501, 64, 64]), Input type: torch.float32\n",
      "Labels shape: torch.Size([16]), Labels type: torch.int64\n",
      "Outputs shape: torch.Size([16, 26]), Outputs type: torch.float32\n"
     ]
    },
    {
     "name": "stderr",
     "output_type": "stream",
     "text": [
      "Epoch 4/10:  88%|████████▊ | 88/100 [00:19<00:02,  4.17it/s]"
     ]
    },
    {
     "name": "stdout",
     "output_type": "stream",
     "text": [
      "Input shape: torch.Size([16, 501, 64, 64]), Input type: torch.float32\n",
      "Labels shape: torch.Size([16]), Labels type: torch.int64\n",
      "Outputs shape: torch.Size([16, 26]), Outputs type: torch.float32\n"
     ]
    },
    {
     "name": "stderr",
     "output_type": "stream",
     "text": [
      "Epoch 4/10:  89%|████████▉ | 89/100 [00:20<00:02,  4.11it/s]"
     ]
    },
    {
     "name": "stdout",
     "output_type": "stream",
     "text": [
      "Input shape: torch.Size([16, 501, 64, 64]), Input type: torch.float32\n",
      "Labels shape: torch.Size([16]), Labels type: torch.int64\n",
      "Outputs shape: torch.Size([16, 26]), Outputs type: torch.float32\n"
     ]
    },
    {
     "name": "stderr",
     "output_type": "stream",
     "text": [
      "Epoch 4/10:  90%|█████████ | 90/100 [00:20<00:02,  4.08it/s]"
     ]
    },
    {
     "name": "stdout",
     "output_type": "stream",
     "text": [
      "Input shape: torch.Size([16, 501, 64, 64]), Input type: torch.float32\n",
      "Labels shape: torch.Size([16]), Labels type: torch.int64\n",
      "Outputs shape: torch.Size([16, 26]), Outputs type: torch.float32\n"
     ]
    },
    {
     "name": "stderr",
     "output_type": "stream",
     "text": [
      "Epoch 4/10:  91%|█████████ | 91/100 [00:20<00:02,  4.18it/s]"
     ]
    },
    {
     "name": "stdout",
     "output_type": "stream",
     "text": [
      "Input shape: torch.Size([16, 501, 64, 64]), Input type: torch.float32\n",
      "Labels shape: torch.Size([16]), Labels type: torch.int64\n",
      "Outputs shape: torch.Size([16, 26]), Outputs type: torch.float32\n"
     ]
    },
    {
     "name": "stderr",
     "output_type": "stream",
     "text": [
      "Epoch 4/10:  92%|█████████▏| 92/100 [00:20<00:01,  4.25it/s]"
     ]
    },
    {
     "name": "stdout",
     "output_type": "stream",
     "text": [
      "Input shape: torch.Size([16, 501, 64, 64]), Input type: torch.float32\n",
      "Labels shape: torch.Size([16]), Labels type: torch.int64\n",
      "Outputs shape: torch.Size([16, 26]), Outputs type: torch.float32\n"
     ]
    },
    {
     "name": "stderr",
     "output_type": "stream",
     "text": [
      "Epoch 4/10:  93%|█████████▎| 93/100 [00:21<00:01,  4.24it/s]"
     ]
    },
    {
     "name": "stdout",
     "output_type": "stream",
     "text": [
      "Input shape: torch.Size([16, 501, 64, 64]), Input type: torch.float32\n",
      "Labels shape: torch.Size([16]), Labels type: torch.int64\n",
      "Outputs shape: torch.Size([16, 26]), Outputs type: torch.float32\n"
     ]
    },
    {
     "name": "stderr",
     "output_type": "stream",
     "text": [
      "Epoch 4/10:  94%|█████████▍| 94/100 [00:21<00:01,  4.18it/s]"
     ]
    },
    {
     "name": "stdout",
     "output_type": "stream",
     "text": [
      "Input shape: torch.Size([16, 501, 64, 64]), Input type: torch.float32\n",
      "Labels shape: torch.Size([16]), Labels type: torch.int64\n",
      "Outputs shape: torch.Size([16, 26]), Outputs type: torch.float32\n"
     ]
    },
    {
     "name": "stderr",
     "output_type": "stream",
     "text": [
      "Epoch 4/10:  95%|█████████▌| 95/100 [00:21<00:01,  4.29it/s]"
     ]
    },
    {
     "name": "stdout",
     "output_type": "stream",
     "text": [
      "Input shape: torch.Size([16, 501, 64, 64]), Input type: torch.float32\n",
      "Labels shape: torch.Size([16]), Labels type: torch.int64\n",
      "Outputs shape: torch.Size([16, 26]), Outputs type: torch.float32\n"
     ]
    },
    {
     "name": "stderr",
     "output_type": "stream",
     "text": [
      "Epoch 4/10:  96%|█████████▌| 96/100 [00:21<00:00,  4.44it/s]"
     ]
    },
    {
     "name": "stdout",
     "output_type": "stream",
     "text": [
      "Input shape: torch.Size([16, 501, 64, 64]), Input type: torch.float32\n",
      "Labels shape: torch.Size([16]), Labels type: torch.int64\n",
      "Outputs shape: torch.Size([16, 26]), Outputs type: torch.float32\n"
     ]
    },
    {
     "name": "stderr",
     "output_type": "stream",
     "text": [
      "Epoch 4/10:  97%|█████████▋| 97/100 [00:21<00:00,  4.30it/s]"
     ]
    },
    {
     "name": "stdout",
     "output_type": "stream",
     "text": [
      "Input shape: torch.Size([16, 501, 64, 64]), Input type: torch.float32\n",
      "Labels shape: torch.Size([16]), Labels type: torch.int64\n",
      "Outputs shape: torch.Size([16, 26]), Outputs type: torch.float32\n"
     ]
    },
    {
     "name": "stderr",
     "output_type": "stream",
     "text": [
      "Epoch 4/10:  98%|█████████▊| 98/100 [00:22<00:00,  4.16it/s]"
     ]
    },
    {
     "name": "stdout",
     "output_type": "stream",
     "text": [
      "Input shape: torch.Size([16, 501, 64, 64]), Input type: torch.float32\n",
      "Labels shape: torch.Size([16]), Labels type: torch.int64\n",
      "Outputs shape: torch.Size([16, 26]), Outputs type: torch.float32\n"
     ]
    },
    {
     "name": "stderr",
     "output_type": "stream",
     "text": [
      "Epoch 4/10: 100%|██████████| 100/100 [00:22<00:00,  4.44it/s]\n"
     ]
    },
    {
     "name": "stdout",
     "output_type": "stream",
     "text": [
      "Input shape: torch.Size([16, 501, 64, 64]), Input type: torch.float32\n",
      "Labels shape: torch.Size([16]), Labels type: torch.int64\n",
      "Outputs shape: torch.Size([16, 26]), Outputs type: torch.float32\n",
      "Input shape: torch.Size([6, 501, 64, 64]), Input type: torch.float32\n",
      "Labels shape: torch.Size([6]), Labels type: torch.int64\n",
      "Outputs shape: torch.Size([6, 26]), Outputs type: torch.float32\n"
     ]
    },
    {
     "name": "stderr",
     "output_type": "stream",
     "text": [
      "Epoch 5/10:   1%|          | 1/100 [00:00<00:22,  4.47it/s]"
     ]
    },
    {
     "name": "stdout",
     "output_type": "stream",
     "text": [
      "Input shape: torch.Size([16, 501, 64, 64]), Input type: torch.float32\n",
      "Labels shape: torch.Size([16]), Labels type: torch.int64\n",
      "Outputs shape: torch.Size([16, 26]), Outputs type: torch.float32\n"
     ]
    },
    {
     "name": "stderr",
     "output_type": "stream",
     "text": [
      "Epoch 5/10:   2%|▏         | 2/100 [00:00<00:20,  4.68it/s]"
     ]
    },
    {
     "name": "stdout",
     "output_type": "stream",
     "text": [
      "Input shape: torch.Size([16, 501, 64, 64]), Input type: torch.float32\n",
      "Labels shape: torch.Size([16]), Labels type: torch.int64\n",
      "Outputs shape: torch.Size([16, 26]), Outputs type: torch.float32\n"
     ]
    },
    {
     "name": "stderr",
     "output_type": "stream",
     "text": [
      "Epoch 5/10:   3%|▎         | 3/100 [00:00<00:21,  4.53it/s]"
     ]
    },
    {
     "name": "stdout",
     "output_type": "stream",
     "text": [
      "Input shape: torch.Size([16, 501, 64, 64]), Input type: torch.float32\n",
      "Labels shape: torch.Size([16]), Labels type: torch.int64\n",
      "Outputs shape: torch.Size([16, 26]), Outputs type: torch.float32\n"
     ]
    },
    {
     "name": "stderr",
     "output_type": "stream",
     "text": [
      "Epoch 5/10:   4%|▍         | 4/100 [00:00<00:22,  4.19it/s]"
     ]
    },
    {
     "name": "stdout",
     "output_type": "stream",
     "text": [
      "Input shape: torch.Size([16, 501, 64, 64]), Input type: torch.float32\n",
      "Labels shape: torch.Size([16]), Labels type: torch.int64\n",
      "Outputs shape: torch.Size([16, 26]), Outputs type: torch.float32\n"
     ]
    },
    {
     "name": "stderr",
     "output_type": "stream",
     "text": [
      "Epoch 5/10:   5%|▌         | 5/100 [00:01<00:22,  4.31it/s]"
     ]
    },
    {
     "name": "stdout",
     "output_type": "stream",
     "text": [
      "Input shape: torch.Size([16, 501, 64, 64]), Input type: torch.float32\n",
      "Labels shape: torch.Size([16]), Labels type: torch.int64\n",
      "Outputs shape: torch.Size([16, 26]), Outputs type: torch.float32\n"
     ]
    },
    {
     "name": "stderr",
     "output_type": "stream",
     "text": [
      "Epoch 5/10:   6%|▌         | 6/100 [00:01<00:21,  4.42it/s]"
     ]
    },
    {
     "name": "stdout",
     "output_type": "stream",
     "text": [
      "Input shape: torch.Size([16, 501, 64, 64]), Input type: torch.float32\n",
      "Labels shape: torch.Size([16]), Labels type: torch.int64\n",
      "Outputs shape: torch.Size([16, 26]), Outputs type: torch.float32\n"
     ]
    },
    {
     "name": "stderr",
     "output_type": "stream",
     "text": [
      "Epoch 5/10:   7%|▋         | 7/100 [00:01<00:22,  4.05it/s]"
     ]
    },
    {
     "name": "stdout",
     "output_type": "stream",
     "text": [
      "Input shape: torch.Size([16, 501, 64, 64]), Input type: torch.float32\n",
      "Labels shape: torch.Size([16]), Labels type: torch.int64\n",
      "Outputs shape: torch.Size([16, 26]), Outputs type: torch.float32\n"
     ]
    },
    {
     "name": "stderr",
     "output_type": "stream",
     "text": [
      "Epoch 5/10:   8%|▊         | 8/100 [00:01<00:23,  3.97it/s]"
     ]
    },
    {
     "name": "stdout",
     "output_type": "stream",
     "text": [
      "Input shape: torch.Size([16, 501, 64, 64]), Input type: torch.float32\n",
      "Labels shape: torch.Size([16]), Labels type: torch.int64\n",
      "Outputs shape: torch.Size([16, 26]), Outputs type: torch.float32\n"
     ]
    },
    {
     "name": "stderr",
     "output_type": "stream",
     "text": [
      "Epoch 5/10:   9%|▉         | 9/100 [00:02<00:23,  3.90it/s]"
     ]
    },
    {
     "name": "stdout",
     "output_type": "stream",
     "text": [
      "Input shape: torch.Size([16, 501, 64, 64]), Input type: torch.float32\n",
      "Labels shape: torch.Size([16]), Labels type: torch.int64\n",
      "Outputs shape: torch.Size([16, 26]), Outputs type: torch.float32\n"
     ]
    },
    {
     "name": "stderr",
     "output_type": "stream",
     "text": [
      "Epoch 5/10:  10%|█         | 10/100 [00:02<00:23,  3.87it/s]"
     ]
    },
    {
     "name": "stdout",
     "output_type": "stream",
     "text": [
      "Input shape: torch.Size([16, 501, 64, 64]), Input type: torch.float32\n",
      "Labels shape: torch.Size([16]), Labels type: torch.int64\n",
      "Outputs shape: torch.Size([16, 26]), Outputs type: torch.float32\n"
     ]
    },
    {
     "name": "stderr",
     "output_type": "stream",
     "text": [
      "Epoch 5/10:  11%|█         | 11/100 [00:02<00:23,  3.80it/s]"
     ]
    },
    {
     "name": "stdout",
     "output_type": "stream",
     "text": [
      "Input shape: torch.Size([16, 501, 64, 64]), Input type: torch.float32\n",
      "Labels shape: torch.Size([16]), Labels type: torch.int64\n",
      "Outputs shape: torch.Size([16, 26]), Outputs type: torch.float32\n"
     ]
    },
    {
     "name": "stderr",
     "output_type": "stream",
     "text": [
      "Epoch 5/10:  12%|█▏        | 12/100 [00:02<00:21,  4.02it/s]"
     ]
    },
    {
     "name": "stdout",
     "output_type": "stream",
     "text": [
      "Input shape: torch.Size([16, 501, 64, 64]), Input type: torch.float32\n",
      "Labels shape: torch.Size([16]), Labels type: torch.int64\n",
      "Outputs shape: torch.Size([16, 26]), Outputs type: torch.float32\n"
     ]
    },
    {
     "name": "stderr",
     "output_type": "stream",
     "text": [
      "Epoch 5/10:  13%|█▎        | 13/100 [00:03<00:20,  4.27it/s]"
     ]
    },
    {
     "name": "stdout",
     "output_type": "stream",
     "text": [
      "Input shape: torch.Size([16, 501, 64, 64]), Input type: torch.float32\n",
      "Labels shape: torch.Size([16]), Labels type: torch.int64\n",
      "Outputs shape: torch.Size([16, 26]), Outputs type: torch.float32\n"
     ]
    },
    {
     "name": "stderr",
     "output_type": "stream",
     "text": [
      "Epoch 5/10:  14%|█▍        | 14/100 [00:03<00:19,  4.42it/s]"
     ]
    },
    {
     "name": "stdout",
     "output_type": "stream",
     "text": [
      "Input shape: torch.Size([16, 501, 64, 64]), Input type: torch.float32\n",
      "Labels shape: torch.Size([16]), Labels type: torch.int64\n",
      "Outputs shape: torch.Size([16, 26]), Outputs type: torch.float32\n"
     ]
    },
    {
     "name": "stderr",
     "output_type": "stream",
     "text": [
      "Epoch 5/10:  15%|█▌        | 15/100 [00:03<00:20,  4.11it/s]"
     ]
    },
    {
     "name": "stdout",
     "output_type": "stream",
     "text": [
      "Input shape: torch.Size([16, 501, 64, 64]), Input type: torch.float32\n",
      "Labels shape: torch.Size([16]), Labels type: torch.int64\n",
      "Outputs shape: torch.Size([16, 26]), Outputs type: torch.float32\n"
     ]
    },
    {
     "name": "stderr",
     "output_type": "stream",
     "text": [
      "Epoch 5/10:  16%|█▌        | 16/100 [00:03<00:20,  4.18it/s]"
     ]
    },
    {
     "name": "stdout",
     "output_type": "stream",
     "text": [
      "Input shape: torch.Size([16, 501, 64, 64]), Input type: torch.float32\n",
      "Labels shape: torch.Size([16]), Labels type: torch.int64\n",
      "Outputs shape: torch.Size([16, 26]), Outputs type: torch.float32\n"
     ]
    },
    {
     "name": "stderr",
     "output_type": "stream",
     "text": [
      "Epoch 5/10:  17%|█▋        | 17/100 [00:04<00:19,  4.23it/s]"
     ]
    },
    {
     "name": "stdout",
     "output_type": "stream",
     "text": [
      "Input shape: torch.Size([16, 501, 64, 64]), Input type: torch.float32\n",
      "Labels shape: torch.Size([16]), Labels type: torch.int64\n",
      "Outputs shape: torch.Size([16, 26]), Outputs type: torch.float32\n"
     ]
    },
    {
     "name": "stderr",
     "output_type": "stream",
     "text": [
      "Epoch 5/10:  18%|█▊        | 18/100 [00:04<00:18,  4.34it/s]"
     ]
    },
    {
     "name": "stdout",
     "output_type": "stream",
     "text": [
      "Input shape: torch.Size([16, 501, 64, 64]), Input type: torch.float32\n",
      "Labels shape: torch.Size([16]), Labels type: torch.int64\n",
      "Outputs shape: torch.Size([16, 26]), Outputs type: torch.float32\n"
     ]
    },
    {
     "name": "stderr",
     "output_type": "stream",
     "text": [
      "Epoch 5/10:  19%|█▉        | 19/100 [00:04<00:18,  4.48it/s]"
     ]
    },
    {
     "name": "stdout",
     "output_type": "stream",
     "text": [
      "Input shape: torch.Size([16, 501, 64, 64]), Input type: torch.float32\n",
      "Labels shape: torch.Size([16]), Labels type: torch.int64\n",
      "Outputs shape: torch.Size([16, 26]), Outputs type: torch.float32\n"
     ]
    },
    {
     "name": "stderr",
     "output_type": "stream",
     "text": [
      "Epoch 5/10:  20%|██        | 20/100 [00:04<00:19,  4.15it/s]"
     ]
    },
    {
     "name": "stdout",
     "output_type": "stream",
     "text": [
      "Input shape: torch.Size([16, 501, 64, 64]), Input type: torch.float32\n",
      "Labels shape: torch.Size([16]), Labels type: torch.int64\n",
      "Outputs shape: torch.Size([16, 26]), Outputs type: torch.float32\n"
     ]
    },
    {
     "name": "stderr",
     "output_type": "stream",
     "text": [
      "Epoch 5/10:  21%|██        | 21/100 [00:05<00:19,  4.08it/s]"
     ]
    },
    {
     "name": "stdout",
     "output_type": "stream",
     "text": [
      "Input shape: torch.Size([16, 501, 64, 64]), Input type: torch.float32\n",
      "Labels shape: torch.Size([16]), Labels type: torch.int64\n",
      "Outputs shape: torch.Size([16, 26]), Outputs type: torch.float32\n"
     ]
    },
    {
     "name": "stderr",
     "output_type": "stream",
     "text": [
      "Epoch 5/10:  22%|██▏       | 22/100 [00:05<00:19,  4.11it/s]"
     ]
    },
    {
     "name": "stdout",
     "output_type": "stream",
     "text": [
      "Input shape: torch.Size([16, 501, 64, 64]), Input type: torch.float32\n",
      "Labels shape: torch.Size([16]), Labels type: torch.int64\n",
      "Outputs shape: torch.Size([16, 26]), Outputs type: torch.float32\n"
     ]
    },
    {
     "name": "stderr",
     "output_type": "stream",
     "text": [
      "Epoch 5/10:  23%|██▎       | 23/100 [00:05<00:18,  4.20it/s]"
     ]
    },
    {
     "name": "stdout",
     "output_type": "stream",
     "text": [
      "Input shape: torch.Size([16, 501, 64, 64]), Input type: torch.float32\n",
      "Labels shape: torch.Size([16]), Labels type: torch.int64\n",
      "Outputs shape: torch.Size([16, 26]), Outputs type: torch.float32\n"
     ]
    },
    {
     "name": "stderr",
     "output_type": "stream",
     "text": [
      "Epoch 5/10:  24%|██▍       | 24/100 [00:05<00:17,  4.26it/s]"
     ]
    },
    {
     "name": "stdout",
     "output_type": "stream",
     "text": [
      "Input shape: torch.Size([16, 501, 64, 64]), Input type: torch.float32\n",
      "Labels shape: torch.Size([16]), Labels type: torch.int64\n",
      "Outputs shape: torch.Size([16, 26]), Outputs type: torch.float32\n"
     ]
    },
    {
     "name": "stderr",
     "output_type": "stream",
     "text": [
      "Epoch 5/10:  25%|██▌       | 25/100 [00:05<00:17,  4.30it/s]"
     ]
    },
    {
     "name": "stdout",
     "output_type": "stream",
     "text": [
      "Input shape: torch.Size([16, 501, 64, 64]), Input type: torch.float32\n",
      "Labels shape: torch.Size([16]), Labels type: torch.int64\n",
      "Outputs shape: torch.Size([16, 26]), Outputs type: torch.float32\n"
     ]
    },
    {
     "name": "stderr",
     "output_type": "stream",
     "text": [
      "Epoch 5/10:  26%|██▌       | 26/100 [00:06<00:17,  4.22it/s]"
     ]
    },
    {
     "name": "stdout",
     "output_type": "stream",
     "text": [
      "Input shape: torch.Size([16, 501, 64, 64]), Input type: torch.float32\n",
      "Labels shape: torch.Size([16]), Labels type: torch.int64\n",
      "Outputs shape: torch.Size([16, 26]), Outputs type: torch.float32\n"
     ]
    },
    {
     "name": "stderr",
     "output_type": "stream",
     "text": [
      "Epoch 5/10:  27%|██▋       | 27/100 [00:06<00:17,  4.28it/s]"
     ]
    },
    {
     "name": "stdout",
     "output_type": "stream",
     "text": [
      "Input shape: torch.Size([16, 501, 64, 64]), Input type: torch.float32\n",
      "Labels shape: torch.Size([16]), Labels type: torch.int64\n",
      "Outputs shape: torch.Size([16, 26]), Outputs type: torch.float32\n"
     ]
    },
    {
     "name": "stderr",
     "output_type": "stream",
     "text": [
      "Epoch 5/10:  28%|██▊       | 28/100 [00:06<00:17,  4.16it/s]"
     ]
    },
    {
     "name": "stdout",
     "output_type": "stream",
     "text": [
      "Input shape: torch.Size([16, 501, 64, 64]), Input type: torch.float32\n",
      "Labels shape: torch.Size([16]), Labels type: torch.int64\n",
      "Outputs shape: torch.Size([16, 26]), Outputs type: torch.float32\n"
     ]
    },
    {
     "name": "stderr",
     "output_type": "stream",
     "text": [
      "Epoch 5/10:  29%|██▉       | 29/100 [00:06<00:17,  4.16it/s]"
     ]
    },
    {
     "name": "stdout",
     "output_type": "stream",
     "text": [
      "Input shape: torch.Size([16, 501, 64, 64]), Input type: torch.float32\n",
      "Labels shape: torch.Size([16]), Labels type: torch.int64\n",
      "Outputs shape: torch.Size([16, 26]), Outputs type: torch.float32\n"
     ]
    },
    {
     "name": "stderr",
     "output_type": "stream",
     "text": [
      "Epoch 5/10:  30%|███       | 30/100 [00:07<00:17,  4.11it/s]"
     ]
    },
    {
     "name": "stdout",
     "output_type": "stream",
     "text": [
      "Input shape: torch.Size([16, 501, 64, 64]), Input type: torch.float32\n",
      "Labels shape: torch.Size([16]), Labels type: torch.int64\n",
      "Outputs shape: torch.Size([16, 26]), Outputs type: torch.float32\n"
     ]
    },
    {
     "name": "stderr",
     "output_type": "stream",
     "text": [
      "Epoch 5/10:  31%|███       | 31/100 [00:07<00:17,  4.00it/s]"
     ]
    },
    {
     "name": "stdout",
     "output_type": "stream",
     "text": [
      "Input shape: torch.Size([16, 501, 64, 64]), Input type: torch.float32\n",
      "Labels shape: torch.Size([16]), Labels type: torch.int64\n",
      "Outputs shape: torch.Size([16, 26]), Outputs type: torch.float32\n"
     ]
    },
    {
     "name": "stderr",
     "output_type": "stream",
     "text": [
      "Epoch 5/10:  32%|███▏      | 32/100 [00:07<00:17,  3.98it/s]"
     ]
    },
    {
     "name": "stdout",
     "output_type": "stream",
     "text": [
      "Input shape: torch.Size([16, 501, 64, 64]), Input type: torch.float32\n",
      "Labels shape: torch.Size([16]), Labels type: torch.int64\n",
      "Outputs shape: torch.Size([16, 26]), Outputs type: torch.float32\n"
     ]
    },
    {
     "name": "stderr",
     "output_type": "stream",
     "text": [
      "Epoch 5/10:  33%|███▎      | 33/100 [00:07<00:17,  3.89it/s]"
     ]
    },
    {
     "name": "stdout",
     "output_type": "stream",
     "text": [
      "Input shape: torch.Size([16, 501, 64, 64]), Input type: torch.float32\n",
      "Labels shape: torch.Size([16]), Labels type: torch.int64\n",
      "Outputs shape: torch.Size([16, 26]), Outputs type: torch.float32\n"
     ]
    },
    {
     "name": "stderr",
     "output_type": "stream",
     "text": [
      "Epoch 5/10:  34%|███▍      | 34/100 [00:08<00:16,  4.04it/s]"
     ]
    },
    {
     "name": "stdout",
     "output_type": "stream",
     "text": [
      "Input shape: torch.Size([16, 501, 64, 64]), Input type: torch.float32\n",
      "Labels shape: torch.Size([16]), Labels type: torch.int64\n",
      "Outputs shape: torch.Size([16, 26]), Outputs type: torch.float32\n"
     ]
    },
    {
     "name": "stderr",
     "output_type": "stream",
     "text": [
      "Epoch 5/10:  35%|███▌      | 35/100 [00:08<00:15,  4.13it/s]"
     ]
    },
    {
     "name": "stdout",
     "output_type": "stream",
     "text": [
      "Input shape: torch.Size([16, 501, 64, 64]), Input type: torch.float32\n",
      "Labels shape: torch.Size([16]), Labels type: torch.int64\n",
      "Outputs shape: torch.Size([16, 26]), Outputs type: torch.float32\n"
     ]
    },
    {
     "name": "stderr",
     "output_type": "stream",
     "text": [
      "Epoch 5/10:  36%|███▌      | 36/100 [00:08<00:15,  4.11it/s]"
     ]
    },
    {
     "name": "stdout",
     "output_type": "stream",
     "text": [
      "Input shape: torch.Size([16, 501, 64, 64]), Input type: torch.float32\n",
      "Labels shape: torch.Size([16]), Labels type: torch.int64\n",
      "Outputs shape: torch.Size([16, 26]), Outputs type: torch.float32\n"
     ]
    },
    {
     "name": "stderr",
     "output_type": "stream",
     "text": [
      "Epoch 5/10:  37%|███▋      | 37/100 [00:08<00:14,  4.24it/s]"
     ]
    },
    {
     "name": "stdout",
     "output_type": "stream",
     "text": [
      "Input shape: torch.Size([16, 501, 64, 64]), Input type: torch.float32\n",
      "Labels shape: torch.Size([16]), Labels type: torch.int64\n",
      "Outputs shape: torch.Size([16, 26]), Outputs type: torch.float32\n"
     ]
    },
    {
     "name": "stderr",
     "output_type": "stream",
     "text": [
      "Epoch 5/10:  38%|███▊      | 38/100 [00:09<00:14,  4.32it/s]"
     ]
    },
    {
     "name": "stdout",
     "output_type": "stream",
     "text": [
      "Input shape: torch.Size([16, 501, 64, 64]), Input type: torch.float32\n",
      "Labels shape: torch.Size([16]), Labels type: torch.int64\n",
      "Outputs shape: torch.Size([16, 26]), Outputs type: torch.float32\n"
     ]
    },
    {
     "name": "stderr",
     "output_type": "stream",
     "text": [
      "Epoch 5/10:  39%|███▉      | 39/100 [00:09<00:14,  4.27it/s]"
     ]
    },
    {
     "name": "stdout",
     "output_type": "stream",
     "text": [
      "Input shape: torch.Size([16, 501, 64, 64]), Input type: torch.float32\n",
      "Labels shape: torch.Size([16]), Labels type: torch.int64\n",
      "Outputs shape: torch.Size([16, 26]), Outputs type: torch.float32\n"
     ]
    },
    {
     "name": "stderr",
     "output_type": "stream",
     "text": [
      "Epoch 5/10:  40%|████      | 40/100 [00:09<00:14,  4.23it/s]"
     ]
    },
    {
     "name": "stdout",
     "output_type": "stream",
     "text": [
      "Input shape: torch.Size([16, 501, 64, 64]), Input type: torch.float32\n",
      "Labels shape: torch.Size([16]), Labels type: torch.int64\n",
      "Outputs shape: torch.Size([16, 26]), Outputs type: torch.float32\n"
     ]
    },
    {
     "name": "stderr",
     "output_type": "stream",
     "text": [
      "Epoch 5/10:  41%|████      | 41/100 [00:09<00:13,  4.22it/s]"
     ]
    },
    {
     "name": "stdout",
     "output_type": "stream",
     "text": [
      "Input shape: torch.Size([16, 501, 64, 64]), Input type: torch.float32\n",
      "Labels shape: torch.Size([16]), Labels type: torch.int64\n",
      "Outputs shape: torch.Size([16, 26]), Outputs type: torch.float32\n"
     ]
    },
    {
     "name": "stderr",
     "output_type": "stream",
     "text": [
      "Epoch 5/10:  42%|████▏     | 42/100 [00:10<00:13,  4.23it/s]"
     ]
    },
    {
     "name": "stdout",
     "output_type": "stream",
     "text": [
      "Input shape: torch.Size([16, 501, 64, 64]), Input type: torch.float32\n",
      "Labels shape: torch.Size([16]), Labels type: torch.int64\n",
      "Outputs shape: torch.Size([16, 26]), Outputs type: torch.float32\n"
     ]
    },
    {
     "name": "stderr",
     "output_type": "stream",
     "text": [
      "Epoch 5/10:  43%|████▎     | 43/100 [00:10<00:13,  4.26it/s]"
     ]
    },
    {
     "name": "stdout",
     "output_type": "stream",
     "text": [
      "Input shape: torch.Size([16, 501, 64, 64]), Input type: torch.float32\n",
      "Labels shape: torch.Size([16]), Labels type: torch.int64\n",
      "Outputs shape: torch.Size([16, 26]), Outputs type: torch.float32\n"
     ]
    },
    {
     "name": "stderr",
     "output_type": "stream",
     "text": [
      "Epoch 5/10:  44%|████▍     | 44/100 [00:10<00:13,  4.31it/s]"
     ]
    },
    {
     "name": "stdout",
     "output_type": "stream",
     "text": [
      "Input shape: torch.Size([16, 501, 64, 64]), Input type: torch.float32\n",
      "Labels shape: torch.Size([16]), Labels type: torch.int64\n",
      "Outputs shape: torch.Size([16, 26]), Outputs type: torch.float32\n"
     ]
    },
    {
     "name": "stderr",
     "output_type": "stream",
     "text": [
      "Epoch 5/10:  45%|████▌     | 45/100 [00:10<00:13,  4.23it/s]"
     ]
    },
    {
     "name": "stdout",
     "output_type": "stream",
     "text": [
      "Input shape: torch.Size([16, 501, 64, 64]), Input type: torch.float32\n",
      "Labels shape: torch.Size([16]), Labels type: torch.int64\n",
      "Outputs shape: torch.Size([16, 26]), Outputs type: torch.float32\n"
     ]
    },
    {
     "name": "stderr",
     "output_type": "stream",
     "text": [
      "Epoch 5/10:  46%|████▌     | 46/100 [00:11<00:12,  4.20it/s]"
     ]
    },
    {
     "name": "stdout",
     "output_type": "stream",
     "text": [
      "Input shape: torch.Size([16, 501, 64, 64]), Input type: torch.float32\n",
      "Labels shape: torch.Size([16]), Labels type: torch.int64\n",
      "Outputs shape: torch.Size([16, 26]), Outputs type: torch.float32\n"
     ]
    },
    {
     "name": "stderr",
     "output_type": "stream",
     "text": [
      "Epoch 5/10:  47%|████▋     | 47/100 [00:11<00:13,  3.98it/s]"
     ]
    },
    {
     "name": "stdout",
     "output_type": "stream",
     "text": [
      "Input shape: torch.Size([16, 501, 64, 64]), Input type: torch.float32\n",
      "Labels shape: torch.Size([16]), Labels type: torch.int64\n",
      "Outputs shape: torch.Size([16, 26]), Outputs type: torch.float32\n"
     ]
    },
    {
     "name": "stderr",
     "output_type": "stream",
     "text": [
      "Epoch 5/10:  48%|████▊     | 48/100 [00:11<00:12,  4.02it/s]"
     ]
    },
    {
     "name": "stdout",
     "output_type": "stream",
     "text": [
      "Input shape: torch.Size([16, 501, 64, 64]), Input type: torch.float32\n",
      "Labels shape: torch.Size([16]), Labels type: torch.int64\n",
      "Outputs shape: torch.Size([16, 26]), Outputs type: torch.float32\n"
     ]
    },
    {
     "name": "stderr",
     "output_type": "stream",
     "text": [
      "Epoch 5/10:  49%|████▉     | 49/100 [00:11<00:12,  4.03it/s]"
     ]
    },
    {
     "name": "stdout",
     "output_type": "stream",
     "text": [
      "Input shape: torch.Size([16, 501, 64, 64]), Input type: torch.float32\n",
      "Labels shape: torch.Size([16]), Labels type: torch.int64\n",
      "Outputs shape: torch.Size([16, 26]), Outputs type: torch.float32\n"
     ]
    },
    {
     "name": "stderr",
     "output_type": "stream",
     "text": [
      "Epoch 5/10:  50%|█████     | 50/100 [00:11<00:11,  4.22it/s]"
     ]
    },
    {
     "name": "stdout",
     "output_type": "stream",
     "text": [
      "Input shape: torch.Size([16, 501, 64, 64]), Input type: torch.float32\n",
      "Labels shape: torch.Size([16]), Labels type: torch.int64\n",
      "Outputs shape: torch.Size([16, 26]), Outputs type: torch.float32\n",
      "Input shape: torch.Size([16, 501, 64, 64]), Input type: torch.float32\n",
      "Labels shape: torch.Size([16]), Labels type: torch.int64\n"
     ]
    },
    {
     "name": "stderr",
     "output_type": "stream",
     "text": [
      "Epoch 5/10:  51%|█████     | 51/100 [00:12<00:11,  4.37it/s]"
     ]
    },
    {
     "name": "stdout",
     "output_type": "stream",
     "text": [
      "Outputs shape: torch.Size([16, 26]), Outputs type: torch.float32\n",
      "Input shape: torch.Size([16, 501, 64, 64]), Input type: torch.float32\n",
      "Labels shape: torch.Size([16]), Labels type: torch.int64\n",
      "Outputs shape: torch.Size([16, 26]), Outputs type: torch.float32\n"
     ]
    },
    {
     "name": "stderr",
     "output_type": "stream",
     "text": [
      "Epoch 5/10:  53%|█████▎    | 53/100 [00:12<00:10,  4.49it/s]"
     ]
    },
    {
     "name": "stdout",
     "output_type": "stream",
     "text": [
      "Input shape: torch.Size([16, 501, 64, 64]), Input type: torch.float32\n",
      "Labels shape: torch.Size([16]), Labels type: torch.int64\n",
      "Outputs shape: torch.Size([16, 26]), Outputs type: torch.float32\n"
     ]
    },
    {
     "name": "stderr",
     "output_type": "stream",
     "text": [
      "Epoch 5/10:  54%|█████▍    | 54/100 [00:12<00:10,  4.36it/s]"
     ]
    },
    {
     "name": "stdout",
     "output_type": "stream",
     "text": [
      "Input shape: torch.Size([16, 501, 64, 64]), Input type: torch.float32\n",
      "Labels shape: torch.Size([16]), Labels type: torch.int64\n",
      "Outputs shape: torch.Size([16, 26]), Outputs type: torch.float32\n"
     ]
    },
    {
     "name": "stderr",
     "output_type": "stream",
     "text": [
      "Epoch 5/10:  55%|█████▌    | 55/100 [00:13<00:10,  4.34it/s]"
     ]
    },
    {
     "name": "stdout",
     "output_type": "stream",
     "text": [
      "Input shape: torch.Size([16, 501, 64, 64]), Input type: torch.float32\n",
      "Labels shape: torch.Size([16]), Labels type: torch.int64\n",
      "Outputs shape: torch.Size([16, 26]), Outputs type: torch.float32\n"
     ]
    },
    {
     "name": "stderr",
     "output_type": "stream",
     "text": [
      "Epoch 5/10:  56%|█████▌    | 56/100 [00:13<00:10,  4.38it/s]"
     ]
    },
    {
     "name": "stdout",
     "output_type": "stream",
     "text": [
      "Input shape: torch.Size([16, 501, 64, 64]), Input type: torch.float32\n",
      "Labels shape: torch.Size([16]), Labels type: torch.int64\n",
      "Outputs shape: torch.Size([16, 26]), Outputs type: torch.float32\n"
     ]
    },
    {
     "name": "stderr",
     "output_type": "stream",
     "text": [
      "Epoch 5/10:  57%|█████▋    | 57/100 [00:13<00:09,  4.39it/s]"
     ]
    },
    {
     "name": "stdout",
     "output_type": "stream",
     "text": [
      "Input shape: torch.Size([16, 501, 64, 64]), Input type: torch.float32\n",
      "Labels shape: torch.Size([16]), Labels type: torch.int64\n",
      "Outputs shape: torch.Size([16, 26]), Outputs type: torch.float32\n"
     ]
    },
    {
     "name": "stderr",
     "output_type": "stream",
     "text": [
      "Epoch 5/10:  58%|█████▊    | 58/100 [00:13<00:09,  4.49it/s]"
     ]
    },
    {
     "name": "stdout",
     "output_type": "stream",
     "text": [
      "Input shape: torch.Size([16, 501, 64, 64]), Input type: torch.float32\n",
      "Labels shape: torch.Size([16]), Labels type: torch.int64\n",
      "Outputs shape: torch.Size([16, 26]), Outputs type: torch.float32\n"
     ]
    },
    {
     "name": "stderr",
     "output_type": "stream",
     "text": [
      "Epoch 5/10:  59%|█████▉    | 59/100 [00:13<00:08,  4.59it/s]"
     ]
    },
    {
     "name": "stdout",
     "output_type": "stream",
     "text": [
      "Input shape: torch.Size([16, 501, 64, 64]), Input type: torch.float32\n",
      "Labels shape: torch.Size([16]), Labels type: torch.int64\n",
      "Outputs shape: torch.Size([16, 26]), Outputs type: torch.float32\n"
     ]
    },
    {
     "name": "stderr",
     "output_type": "stream",
     "text": [
      "Epoch 5/10:  60%|██████    | 60/100 [00:14<00:08,  4.71it/s]"
     ]
    },
    {
     "name": "stdout",
     "output_type": "stream",
     "text": [
      "Input shape: torch.Size([16, 501, 64, 64]), Input type: torch.float32\n",
      "Labels shape: torch.Size([16]), Labels type: torch.int64\n",
      "Outputs shape: torch.Size([16, 26]), Outputs type: torch.float32\n"
     ]
    },
    {
     "name": "stderr",
     "output_type": "stream",
     "text": [
      "Epoch 5/10:  61%|██████    | 61/100 [00:14<00:08,  4.72it/s]"
     ]
    },
    {
     "name": "stdout",
     "output_type": "stream",
     "text": [
      "Input shape: torch.Size([16, 501, 64, 64]), Input type: torch.float32\n",
      "Labels shape: torch.Size([16]), Labels type: torch.int64\n",
      "Outputs shape: torch.Size([16, 26]), Outputs type: torch.float32\n"
     ]
    },
    {
     "name": "stderr",
     "output_type": "stream",
     "text": [
      "Epoch 5/10:  62%|██████▏   | 62/100 [00:14<00:08,  4.73it/s]"
     ]
    },
    {
     "name": "stdout",
     "output_type": "stream",
     "text": [
      "Input shape: torch.Size([16, 501, 64, 64]), Input type: torch.float32\n",
      "Labels shape: torch.Size([16]), Labels type: torch.int64\n",
      "Outputs shape: torch.Size([16, 26]), Outputs type: torch.float32\n"
     ]
    },
    {
     "name": "stderr",
     "output_type": "stream",
     "text": [
      "Epoch 5/10:  63%|██████▎   | 63/100 [00:14<00:07,  4.63it/s]"
     ]
    },
    {
     "name": "stdout",
     "output_type": "stream",
     "text": [
      "Input shape: torch.Size([16, 501, 64, 64]), Input type: torch.float32\n",
      "Labels shape: torch.Size([16]), Labels type: torch.int64\n",
      "Outputs shape: torch.Size([16, 26]), Outputs type: torch.float32\n"
     ]
    },
    {
     "name": "stderr",
     "output_type": "stream",
     "text": [
      "Epoch 5/10:  64%|██████▍   | 64/100 [00:15<00:07,  4.74it/s]"
     ]
    },
    {
     "name": "stdout",
     "output_type": "stream",
     "text": [
      "Input shape: torch.Size([16, 501, 64, 64]), Input type: torch.float32\n",
      "Labels shape: torch.Size([16]), Labels type: torch.int64\n",
      "Outputs shape: torch.Size([16, 26]), Outputs type: torch.float32\n",
      "Input shape: torch.Size([16, 501, 64, 64]), Input type: torch.float32\n",
      "Labels shape: torch.Size([16]), Labels type: torch.int64\n"
     ]
    },
    {
     "name": "stderr",
     "output_type": "stream",
     "text": [
      "Epoch 5/10:  65%|██████▌   | 65/100 [00:15<00:07,  4.75it/s]"
     ]
    },
    {
     "name": "stdout",
     "output_type": "stream",
     "text": [
      "Outputs shape: torch.Size([16, 26]), Outputs type: torch.float32\n",
      "Input shape: torch.Size([16, 501, 64, 64]), Input type: torch.float32\n",
      "Labels shape: torch.Size([16]), Labels type: torch.int64\n"
     ]
    },
    {
     "name": "stderr",
     "output_type": "stream",
     "text": [
      "Epoch 5/10:  66%|██████▌   | 66/100 [00:15<00:07,  4.81it/s]"
     ]
    },
    {
     "name": "stdout",
     "output_type": "stream",
     "text": [
      "Outputs shape: torch.Size([16, 26]), Outputs type: torch.float32\n",
      "Input shape: torch.Size([16, 501, 64, 64]), Input type: torch.float32\n",
      "Labels shape: torch.Size([16]), Labels type: torch.int64\n"
     ]
    },
    {
     "name": "stderr",
     "output_type": "stream",
     "text": [
      "Epoch 5/10:  67%|██████▋   | 67/100 [00:15<00:07,  4.54it/s]"
     ]
    },
    {
     "name": "stdout",
     "output_type": "stream",
     "text": [
      "Outputs shape: torch.Size([16, 26]), Outputs type: torch.float32\n",
      "Input shape: torch.Size([16, 501, 64, 64]), Input type: torch.float32\n",
      "Labels shape: torch.Size([16]), Labels type: torch.int64\n"
     ]
    },
    {
     "name": "stderr",
     "output_type": "stream",
     "text": [
      "Epoch 5/10:  68%|██████▊   | 68/100 [00:15<00:06,  4.68it/s]"
     ]
    },
    {
     "name": "stdout",
     "output_type": "stream",
     "text": [
      "Outputs shape: torch.Size([16, 26]), Outputs type: torch.float32\n",
      "Input shape: torch.Size([16, 501, 64, 64]), Input type: torch.float32\n",
      "Labels shape: torch.Size([16]), Labels type: torch.int64\n"
     ]
    },
    {
     "name": "stderr",
     "output_type": "stream",
     "text": [
      "Epoch 5/10:  69%|██████▉   | 69/100 [00:16<00:06,  4.65it/s]"
     ]
    },
    {
     "name": "stdout",
     "output_type": "stream",
     "text": [
      "Outputs shape: torch.Size([16, 26]), Outputs type: torch.float32\n",
      "Input shape: torch.Size([16, 501, 64, 64]), Input type: torch.float32\n",
      "Labels shape: torch.Size([16]), Labels type: torch.int64\n"
     ]
    },
    {
     "name": "stderr",
     "output_type": "stream",
     "text": [
      "Epoch 5/10:  70%|███████   | 70/100 [00:16<00:06,  4.72it/s]"
     ]
    },
    {
     "name": "stdout",
     "output_type": "stream",
     "text": [
      "Outputs shape: torch.Size([16, 26]), Outputs type: torch.float32\n",
      "Input shape: torch.Size([16, 501, 64, 64]), Input type: torch.float32\n",
      "Labels shape: torch.Size([16]), Labels type: torch.int64\n"
     ]
    },
    {
     "name": "stderr",
     "output_type": "stream",
     "text": [
      "Epoch 5/10:  71%|███████   | 71/100 [00:16<00:06,  4.64it/s]"
     ]
    },
    {
     "name": "stdout",
     "output_type": "stream",
     "text": [
      "Outputs shape: torch.Size([16, 26]), Outputs type: torch.float32\n",
      "Input shape: torch.Size([16, 501, 64, 64]), Input type: torch.float32\n",
      "Labels shape: torch.Size([16]), Labels type: torch.int64\n"
     ]
    },
    {
     "name": "stderr",
     "output_type": "stream",
     "text": [
      "Epoch 5/10:  72%|███████▏  | 72/100 [00:16<00:06,  4.65it/s]"
     ]
    },
    {
     "name": "stdout",
     "output_type": "stream",
     "text": [
      "Outputs shape: torch.Size([16, 26]), Outputs type: torch.float32\n",
      "Input shape: torch.Size([16, 501, 64, 64]), Input type: torch.float32\n",
      "Labels shape: torch.Size([16]), Labels type: torch.int64\n"
     ]
    },
    {
     "name": "stderr",
     "output_type": "stream",
     "text": [
      "Epoch 5/10:  73%|███████▎  | 73/100 [00:16<00:05,  4.62it/s]"
     ]
    },
    {
     "name": "stdout",
     "output_type": "stream",
     "text": [
      "Outputs shape: torch.Size([16, 26]), Outputs type: torch.float32\n",
      "Input shape: torch.Size([16, 501, 64, 64]), Input type: torch.float32\n",
      "Labels shape: torch.Size([16]), Labels type: torch.int64\n"
     ]
    },
    {
     "name": "stderr",
     "output_type": "stream",
     "text": [
      "Epoch 5/10:  74%|███████▍  | 74/100 [00:17<00:05,  4.64it/s]"
     ]
    },
    {
     "name": "stdout",
     "output_type": "stream",
     "text": [
      "Outputs shape: torch.Size([16, 26]), Outputs type: torch.float32\n",
      "Input shape: torch.Size([16, 501, 64, 64]), Input type: torch.float32\n",
      "Labels shape: torch.Size([16]), Labels type: torch.int64\n"
     ]
    },
    {
     "name": "stderr",
     "output_type": "stream",
     "text": [
      "Epoch 5/10:  75%|███████▌  | 75/100 [00:17<00:05,  4.58it/s]"
     ]
    },
    {
     "name": "stdout",
     "output_type": "stream",
     "text": [
      "Outputs shape: torch.Size([16, 26]), Outputs type: torch.float32\n"
     ]
    },
    {
     "name": "stderr",
     "output_type": "stream",
     "text": [
      "Epoch 5/10:  76%|███████▌  | 76/100 [00:17<00:05,  4.33it/s]"
     ]
    },
    {
     "name": "stdout",
     "output_type": "stream",
     "text": [
      "Input shape: torch.Size([16, 501, 64, 64]), Input type: torch.float32\n",
      "Labels shape: torch.Size([16]), Labels type: torch.int64\n",
      "Outputs shape: torch.Size([16, 26]), Outputs type: torch.float32\n"
     ]
    },
    {
     "name": "stderr",
     "output_type": "stream",
     "text": [
      "Epoch 5/10:  77%|███████▋  | 77/100 [00:17<00:05,  4.26it/s]"
     ]
    },
    {
     "name": "stdout",
     "output_type": "stream",
     "text": [
      "Input shape: torch.Size([16, 501, 64, 64]), Input type: torch.float32\n",
      "Labels shape: torch.Size([16]), Labels type: torch.int64\n",
      "Outputs shape: torch.Size([16, 26]), Outputs type: torch.float32\n"
     ]
    },
    {
     "name": "stderr",
     "output_type": "stream",
     "text": [
      "Epoch 5/10:  78%|███████▊  | 78/100 [00:18<00:05,  4.25it/s]"
     ]
    },
    {
     "name": "stdout",
     "output_type": "stream",
     "text": [
      "Input shape: torch.Size([16, 501, 64, 64]), Input type: torch.float32\n",
      "Labels shape: torch.Size([16]), Labels type: torch.int64\n",
      "Outputs shape: torch.Size([16, 26]), Outputs type: torch.float32\n"
     ]
    },
    {
     "name": "stderr",
     "output_type": "stream",
     "text": [
      "Epoch 5/10:  79%|███████▉  | 79/100 [00:18<00:04,  4.27it/s]"
     ]
    },
    {
     "name": "stdout",
     "output_type": "stream",
     "text": [
      "Input shape: torch.Size([16, 501, 64, 64]), Input type: torch.float32\n",
      "Labels shape: torch.Size([16]), Labels type: torch.int64\n",
      "Outputs shape: torch.Size([16, 26]), Outputs type: torch.float32\n"
     ]
    },
    {
     "name": "stderr",
     "output_type": "stream",
     "text": [
      "Epoch 5/10:  80%|████████  | 80/100 [00:18<00:04,  4.26it/s]"
     ]
    },
    {
     "name": "stdout",
     "output_type": "stream",
     "text": [
      "Input shape: torch.Size([16, 501, 64, 64]), Input type: torch.float32\n",
      "Labels shape: torch.Size([16]), Labels type: torch.int64\n",
      "Outputs shape: torch.Size([16, 26]), Outputs type: torch.float32\n"
     ]
    },
    {
     "name": "stderr",
     "output_type": "stream",
     "text": [
      "Epoch 5/10:  81%|████████  | 81/100 [00:18<00:04,  4.37it/s]"
     ]
    },
    {
     "name": "stdout",
     "output_type": "stream",
     "text": [
      "Input shape: torch.Size([16, 501, 64, 64]), Input type: torch.float32\n",
      "Labels shape: torch.Size([16]), Labels type: torch.int64\n",
      "Outputs shape: torch.Size([16, 26]), Outputs type: torch.float32\n"
     ]
    },
    {
     "name": "stderr",
     "output_type": "stream",
     "text": [
      "Epoch 5/10:  82%|████████▏ | 82/100 [00:19<00:04,  4.24it/s]"
     ]
    },
    {
     "name": "stdout",
     "output_type": "stream",
     "text": [
      "Input shape: torch.Size([16, 501, 64, 64]), Input type: torch.float32\n",
      "Labels shape: torch.Size([16]), Labels type: torch.int64\n",
      "Outputs shape: torch.Size([16, 26]), Outputs type: torch.float32\n"
     ]
    },
    {
     "name": "stderr",
     "output_type": "stream",
     "text": [
      "Epoch 5/10:  83%|████████▎ | 83/100 [00:19<00:04,  4.14it/s]"
     ]
    },
    {
     "name": "stdout",
     "output_type": "stream",
     "text": [
      "Input shape: torch.Size([16, 501, 64, 64]), Input type: torch.float32\n",
      "Labels shape: torch.Size([16]), Labels type: torch.int64\n",
      "Outputs shape: torch.Size([16, 26]), Outputs type: torch.float32\n"
     ]
    },
    {
     "name": "stderr",
     "output_type": "stream",
     "text": [
      "Epoch 5/10:  84%|████████▍ | 84/100 [00:19<00:03,  4.16it/s]"
     ]
    },
    {
     "name": "stdout",
     "output_type": "stream",
     "text": [
      "Input shape: torch.Size([16, 501, 64, 64]), Input type: torch.float32\n",
      "Labels shape: torch.Size([16]), Labels type: torch.int64\n",
      "Outputs shape: torch.Size([16, 26]), Outputs type: torch.float32\n"
     ]
    },
    {
     "name": "stderr",
     "output_type": "stream",
     "text": [
      "Epoch 5/10:  85%|████████▌ | 85/100 [00:19<00:03,  4.25it/s]"
     ]
    },
    {
     "name": "stdout",
     "output_type": "stream",
     "text": [
      "Input shape: torch.Size([16, 501, 64, 64]), Input type: torch.float32\n",
      "Labels shape: torch.Size([16]), Labels type: torch.int64\n",
      "Outputs shape: torch.Size([16, 26]), Outputs type: torch.float32\n"
     ]
    },
    {
     "name": "stderr",
     "output_type": "stream",
     "text": [
      "Epoch 5/10:  86%|████████▌ | 86/100 [00:20<00:03,  4.32it/s]"
     ]
    },
    {
     "name": "stdout",
     "output_type": "stream",
     "text": [
      "Input shape: torch.Size([16, 501, 64, 64]), Input type: torch.float32\n",
      "Labels shape: torch.Size([16]), Labels type: torch.int64\n",
      "Outputs shape: torch.Size([16, 26]), Outputs type: torch.float32\n"
     ]
    },
    {
     "name": "stderr",
     "output_type": "stream",
     "text": [
      "Epoch 5/10:  87%|████████▋ | 87/100 [00:20<00:03,  4.22it/s]"
     ]
    },
    {
     "name": "stdout",
     "output_type": "stream",
     "text": [
      "Input shape: torch.Size([16, 501, 64, 64]), Input type: torch.float32\n",
      "Labels shape: torch.Size([16]), Labels type: torch.int64\n",
      "Outputs shape: torch.Size([16, 26]), Outputs type: torch.float32\n"
     ]
    },
    {
     "name": "stderr",
     "output_type": "stream",
     "text": [
      "Epoch 5/10:  88%|████████▊ | 88/100 [00:20<00:02,  4.04it/s]"
     ]
    },
    {
     "name": "stdout",
     "output_type": "stream",
     "text": [
      "Input shape: torch.Size([16, 501, 64, 64]), Input type: torch.float32\n",
      "Labels shape: torch.Size([16]), Labels type: torch.int64\n",
      "Outputs shape: torch.Size([16, 26]), Outputs type: torch.float32\n"
     ]
    },
    {
     "name": "stderr",
     "output_type": "stream",
     "text": [
      "Epoch 5/10:  89%|████████▉ | 89/100 [00:20<00:02,  4.02it/s]"
     ]
    },
    {
     "name": "stdout",
     "output_type": "stream",
     "text": [
      "Input shape: torch.Size([16, 501, 64, 64]), Input type: torch.float32\n",
      "Labels shape: torch.Size([16]), Labels type: torch.int64\n",
      "Outputs shape: torch.Size([16, 26]), Outputs type: torch.float32\n"
     ]
    },
    {
     "name": "stderr",
     "output_type": "stream",
     "text": [
      "Epoch 5/10:  90%|█████████ | 90/100 [00:21<00:02,  3.98it/s]"
     ]
    },
    {
     "name": "stdout",
     "output_type": "stream",
     "text": [
      "Input shape: torch.Size([16, 501, 64, 64]), Input type: torch.float32\n",
      "Labels shape: torch.Size([16]), Labels type: torch.int64\n",
      "Outputs shape: torch.Size([16, 26]), Outputs type: torch.float32\n"
     ]
    },
    {
     "name": "stderr",
     "output_type": "stream",
     "text": [
      "Epoch 5/10:  91%|█████████ | 91/100 [00:21<00:02,  4.17it/s]"
     ]
    },
    {
     "name": "stdout",
     "output_type": "stream",
     "text": [
      "Input shape: torch.Size([16, 501, 64, 64]), Input type: torch.float32\n",
      "Labels shape: torch.Size([16]), Labels type: torch.int64\n",
      "Outputs shape: torch.Size([16, 26]), Outputs type: torch.float32\n"
     ]
    },
    {
     "name": "stderr",
     "output_type": "stream",
     "text": [
      "Epoch 5/10:  92%|█████████▏| 92/100 [00:21<00:01,  4.17it/s]"
     ]
    },
    {
     "name": "stdout",
     "output_type": "stream",
     "text": [
      "Input shape: torch.Size([16, 501, 64, 64]), Input type: torch.float32\n",
      "Labels shape: torch.Size([16]), Labels type: torch.int64\n",
      "Outputs shape: torch.Size([16, 26]), Outputs type: torch.float32\n"
     ]
    },
    {
     "name": "stderr",
     "output_type": "stream",
     "text": [
      "Epoch 5/10:  93%|█████████▎| 93/100 [00:21<00:01,  4.20it/s]"
     ]
    },
    {
     "name": "stdout",
     "output_type": "stream",
     "text": [
      "Input shape: torch.Size([16, 501, 64, 64]), Input type: torch.float32\n",
      "Labels shape: torch.Size([16]), Labels type: torch.int64\n",
      "Outputs shape: torch.Size([16, 26]), Outputs type: torch.float32\n"
     ]
    },
    {
     "name": "stderr",
     "output_type": "stream",
     "text": [
      "Epoch 5/10:  94%|█████████▍| 94/100 [00:21<00:01,  4.41it/s]"
     ]
    },
    {
     "name": "stdout",
     "output_type": "stream",
     "text": [
      "Input shape: torch.Size([16, 501, 64, 64]), Input type: torch.float32\n",
      "Labels shape: torch.Size([16]), Labels type: torch.int64\n",
      "Outputs shape: torch.Size([16, 26]), Outputs type: torch.float32\n"
     ]
    },
    {
     "name": "stderr",
     "output_type": "stream",
     "text": [
      "Epoch 5/10:  95%|█████████▌| 95/100 [00:22<00:01,  4.51it/s]"
     ]
    },
    {
     "name": "stdout",
     "output_type": "stream",
     "text": [
      "Input shape: torch.Size([16, 501, 64, 64]), Input type: torch.float32\n",
      "Labels shape: torch.Size([16]), Labels type: torch.int64\n",
      "Outputs shape: torch.Size([16, 26]), Outputs type: torch.float32\n"
     ]
    },
    {
     "name": "stderr",
     "output_type": "stream",
     "text": [
      "Epoch 5/10:  96%|█████████▌| 96/100 [00:22<00:00,  4.48it/s]"
     ]
    },
    {
     "name": "stdout",
     "output_type": "stream",
     "text": [
      "Input shape: torch.Size([16, 501, 64, 64]), Input type: torch.float32\n",
      "Labels shape: torch.Size([16]), Labels type: torch.int64\n",
      "Outputs shape: torch.Size([16, 26]), Outputs type: torch.float32\n"
     ]
    },
    {
     "name": "stderr",
     "output_type": "stream",
     "text": [
      "Epoch 5/10:  97%|█████████▋| 97/100 [00:22<00:00,  4.42it/s]"
     ]
    },
    {
     "name": "stdout",
     "output_type": "stream",
     "text": [
      "Input shape: torch.Size([16, 501, 64, 64]), Input type: torch.float32\n",
      "Labels shape: torch.Size([16]), Labels type: torch.int64\n",
      "Outputs shape: torch.Size([16, 26]), Outputs type: torch.float32\n"
     ]
    },
    {
     "name": "stderr",
     "output_type": "stream",
     "text": [
      "Epoch 5/10:  98%|█████████▊| 98/100 [00:22<00:00,  4.57it/s]"
     ]
    },
    {
     "name": "stdout",
     "output_type": "stream",
     "text": [
      "Input shape: torch.Size([16, 501, 64, 64]), Input type: torch.float32\n",
      "Labels shape: torch.Size([16]), Labels type: torch.int64\n",
      "Outputs shape: torch.Size([16, 26]), Outputs type: torch.float32\n"
     ]
    },
    {
     "name": "stderr",
     "output_type": "stream",
     "text": [
      "Epoch 5/10: 100%|██████████| 100/100 [00:23<00:00,  4.33it/s]\n"
     ]
    },
    {
     "name": "stdout",
     "output_type": "stream",
     "text": [
      "Input shape: torch.Size([16, 501, 64, 64]), Input type: torch.float32\n",
      "Labels shape: torch.Size([16]), Labels type: torch.int64\n",
      "Outputs shape: torch.Size([16, 26]), Outputs type: torch.float32\n",
      "Input shape: torch.Size([6, 501, 64, 64]), Input type: torch.float32\n",
      "Labels shape: torch.Size([6]), Labels type: torch.int64\n",
      "Outputs shape: torch.Size([6, 26]), Outputs type: torch.float32\n"
     ]
    },
    {
     "name": "stderr",
     "output_type": "stream",
     "text": [
      "Epoch 6/10:   1%|          | 1/100 [00:00<00:23,  4.16it/s]"
     ]
    },
    {
     "name": "stdout",
     "output_type": "stream",
     "text": [
      "Input shape: torch.Size([16, 501, 64, 64]), Input type: torch.float32\n",
      "Labels shape: torch.Size([16]), Labels type: torch.int64\n",
      "Outputs shape: torch.Size([16, 26]), Outputs type: torch.float32\n"
     ]
    },
    {
     "name": "stderr",
     "output_type": "stream",
     "text": [
      "Epoch 6/10:   2%|▏         | 2/100 [00:00<00:22,  4.35it/s]"
     ]
    },
    {
     "name": "stdout",
     "output_type": "stream",
     "text": [
      "Input shape: torch.Size([16, 501, 64, 64]), Input type: torch.float32\n",
      "Labels shape: torch.Size([16]), Labels type: torch.int64\n",
      "Outputs shape: torch.Size([16, 26]), Outputs type: torch.float32\n"
     ]
    },
    {
     "name": "stderr",
     "output_type": "stream",
     "text": [
      "Epoch 6/10:   3%|▎         | 3/100 [00:00<00:22,  4.29it/s]"
     ]
    },
    {
     "name": "stdout",
     "output_type": "stream",
     "text": [
      "Input shape: torch.Size([16, 501, 64, 64]), Input type: torch.float32\n",
      "Labels shape: torch.Size([16]), Labels type: torch.int64\n",
      "Outputs shape: torch.Size([16, 26]), Outputs type: torch.float32\n"
     ]
    },
    {
     "name": "stderr",
     "output_type": "stream",
     "text": [
      "Epoch 6/10:   4%|▍         | 4/100 [00:00<00:21,  4.49it/s]"
     ]
    },
    {
     "name": "stdout",
     "output_type": "stream",
     "text": [
      "Input shape: torch.Size([16, 501, 64, 64]), Input type: torch.float32\n",
      "Labels shape: torch.Size([16]), Labels type: torch.int64\n",
      "Outputs shape: torch.Size([16, 26]), Outputs type: torch.float32\n"
     ]
    },
    {
     "name": "stderr",
     "output_type": "stream",
     "text": [
      "Epoch 6/10:   5%|▌         | 5/100 [00:01<00:20,  4.58it/s]"
     ]
    },
    {
     "name": "stdout",
     "output_type": "stream",
     "text": [
      "Input shape: torch.Size([16, 501, 64, 64]), Input type: torch.float32\n",
      "Labels shape: torch.Size([16]), Labels type: torch.int64\n",
      "Outputs shape: torch.Size([16, 26]), Outputs type: torch.float32\n"
     ]
    },
    {
     "name": "stderr",
     "output_type": "stream",
     "text": [
      "Epoch 6/10:   6%|▌         | 6/100 [00:01<00:20,  4.64it/s]"
     ]
    },
    {
     "name": "stdout",
     "output_type": "stream",
     "text": [
      "Input shape: torch.Size([16, 501, 64, 64]), Input type: torch.float32\n",
      "Labels shape: torch.Size([16]), Labels type: torch.int64\n",
      "Outputs shape: torch.Size([16, 26]), Outputs type: torch.float32\n"
     ]
    },
    {
     "name": "stderr",
     "output_type": "stream",
     "text": [
      "Epoch 6/10:   7%|▋         | 7/100 [00:01<00:20,  4.53it/s]"
     ]
    },
    {
     "name": "stdout",
     "output_type": "stream",
     "text": [
      "Input shape: torch.Size([16, 501, 64, 64]), Input type: torch.float32\n",
      "Labels shape: torch.Size([16]), Labels type: torch.int64\n",
      "Outputs shape: torch.Size([16, 26]), Outputs type: torch.float32\n"
     ]
    },
    {
     "name": "stderr",
     "output_type": "stream",
     "text": [
      "Epoch 6/10:   8%|▊         | 8/100 [00:01<00:20,  4.59it/s]"
     ]
    },
    {
     "name": "stdout",
     "output_type": "stream",
     "text": [
      "Input shape: torch.Size([16, 501, 64, 64]), Input type: torch.float32\n",
      "Labels shape: torch.Size([16]), Labels type: torch.int64\n",
      "Outputs shape: torch.Size([16, 26]), Outputs type: torch.float32\n"
     ]
    },
    {
     "name": "stderr",
     "output_type": "stream",
     "text": [
      "Epoch 6/10:   9%|▉         | 9/100 [00:01<00:19,  4.58it/s]"
     ]
    },
    {
     "name": "stdout",
     "output_type": "stream",
     "text": [
      "Input shape: torch.Size([16, 501, 64, 64]), Input type: torch.float32\n",
      "Labels shape: torch.Size([16]), Labels type: torch.int64\n",
      "Outputs shape: torch.Size([16, 26]), Outputs type: torch.float32\n"
     ]
    },
    {
     "name": "stderr",
     "output_type": "stream",
     "text": [
      "Epoch 6/10:  10%|█         | 10/100 [00:02<00:19,  4.54it/s]"
     ]
    },
    {
     "name": "stdout",
     "output_type": "stream",
     "text": [
      "Input shape: torch.Size([16, 501, 64, 64]), Input type: torch.float32\n",
      "Labels shape: torch.Size([16]), Labels type: torch.int64\n",
      "Outputs shape: torch.Size([16, 26]), Outputs type: torch.float32\n"
     ]
    },
    {
     "name": "stderr",
     "output_type": "stream",
     "text": [
      "Epoch 6/10:  11%|█         | 11/100 [00:02<00:19,  4.55it/s]"
     ]
    },
    {
     "name": "stdout",
     "output_type": "stream",
     "text": [
      "Input shape: torch.Size([16, 501, 64, 64]), Input type: torch.float32\n",
      "Labels shape: torch.Size([16]), Labels type: torch.int64\n",
      "Outputs shape: torch.Size([16, 26]), Outputs type: torch.float32\n"
     ]
    },
    {
     "name": "stderr",
     "output_type": "stream",
     "text": [
      "Epoch 6/10:  12%|█▏        | 12/100 [00:02<00:19,  4.60it/s]"
     ]
    },
    {
     "name": "stdout",
     "output_type": "stream",
     "text": [
      "Input shape: torch.Size([16, 501, 64, 64]), Input type: torch.float32\n",
      "Labels shape: torch.Size([16]), Labels type: torch.int64\n",
      "Outputs shape: torch.Size([16, 26]), Outputs type: torch.float32\n"
     ]
    },
    {
     "name": "stderr",
     "output_type": "stream",
     "text": [
      "Epoch 6/10:  13%|█▎        | 13/100 [00:02<00:19,  4.39it/s]"
     ]
    },
    {
     "name": "stdout",
     "output_type": "stream",
     "text": [
      "Input shape: torch.Size([16, 501, 64, 64]), Input type: torch.float32\n",
      "Labels shape: torch.Size([16]), Labels type: torch.int64\n",
      "Outputs shape: torch.Size([16, 26]), Outputs type: torch.float32\n"
     ]
    },
    {
     "name": "stderr",
     "output_type": "stream",
     "text": [
      "Epoch 6/10:  14%|█▍        | 14/100 [00:03<00:20,  4.27it/s]"
     ]
    },
    {
     "name": "stdout",
     "output_type": "stream",
     "text": [
      "Input shape: torch.Size([16, 501, 64, 64]), Input type: torch.float32\n",
      "Labels shape: torch.Size([16]), Labels type: torch.int64\n",
      "Outputs shape: torch.Size([16, 26]), Outputs type: torch.float32\n"
     ]
    },
    {
     "name": "stderr",
     "output_type": "stream",
     "text": [
      "Epoch 6/10:  15%|█▌        | 15/100 [00:03<00:20,  4.22it/s]"
     ]
    },
    {
     "name": "stdout",
     "output_type": "stream",
     "text": [
      "Input shape: torch.Size([16, 501, 64, 64]), Input type: torch.float32\n",
      "Labels shape: torch.Size([16]), Labels type: torch.int64\n",
      "Outputs shape: torch.Size([16, 26]), Outputs type: torch.float32\n"
     ]
    },
    {
     "name": "stderr",
     "output_type": "stream",
     "text": [
      "Epoch 6/10:  16%|█▌        | 16/100 [00:03<00:20,  4.15it/s]"
     ]
    },
    {
     "name": "stdout",
     "output_type": "stream",
     "text": [
      "Input shape: torch.Size([16, 501, 64, 64]), Input type: torch.float32\n",
      "Labels shape: torch.Size([16]), Labels type: torch.int64\n",
      "Outputs shape: torch.Size([16, 26]), Outputs type: torch.float32\n"
     ]
    },
    {
     "name": "stderr",
     "output_type": "stream",
     "text": [
      "Epoch 6/10:  17%|█▋        | 17/100 [00:03<00:19,  4.27it/s]"
     ]
    },
    {
     "name": "stdout",
     "output_type": "stream",
     "text": [
      "Input shape: torch.Size([16, 501, 64, 64]), Input type: torch.float32\n",
      "Labels shape: torch.Size([16]), Labels type: torch.int64\n",
      "Outputs shape: torch.Size([16, 26]), Outputs type: torch.float32\n"
     ]
    },
    {
     "name": "stderr",
     "output_type": "stream",
     "text": [
      "Epoch 6/10:  18%|█▊        | 18/100 [00:04<00:19,  4.19it/s]"
     ]
    },
    {
     "name": "stdout",
     "output_type": "stream",
     "text": [
      "Input shape: torch.Size([16, 501, 64, 64]), Input type: torch.float32\n",
      "Labels shape: torch.Size([16]), Labels type: torch.int64\n",
      "Outputs shape: torch.Size([16, 26]), Outputs type: torch.float32\n"
     ]
    },
    {
     "name": "stderr",
     "output_type": "stream",
     "text": [
      "Epoch 6/10:  19%|█▉        | 19/100 [00:04<00:19,  4.11it/s]"
     ]
    },
    {
     "name": "stdout",
     "output_type": "stream",
     "text": [
      "Input shape: torch.Size([16, 501, 64, 64]), Input type: torch.float32\n",
      "Labels shape: torch.Size([16]), Labels type: torch.int64\n",
      "Outputs shape: torch.Size([16, 26]), Outputs type: torch.float32\n"
     ]
    },
    {
     "name": "stderr",
     "output_type": "stream",
     "text": [
      "Epoch 6/10:  20%|██        | 20/100 [00:04<00:19,  4.02it/s]"
     ]
    },
    {
     "name": "stdout",
     "output_type": "stream",
     "text": [
      "Input shape: torch.Size([16, 501, 64, 64]), Input type: torch.float32\n",
      "Labels shape: torch.Size([16]), Labels type: torch.int64\n",
      "Outputs shape: torch.Size([16, 26]), Outputs type: torch.float32\n"
     ]
    },
    {
     "name": "stderr",
     "output_type": "stream",
     "text": [
      "Epoch 6/10:  21%|██        | 21/100 [00:04<00:19,  3.98it/s]"
     ]
    },
    {
     "name": "stdout",
     "output_type": "stream",
     "text": [
      "Input shape: torch.Size([16, 501, 64, 64]), Input type: torch.float32\n",
      "Labels shape: torch.Size([16]), Labels type: torch.int64\n",
      "Outputs shape: torch.Size([16, 26]), Outputs type: torch.float32\n"
     ]
    },
    {
     "name": "stderr",
     "output_type": "stream",
     "text": [
      "Epoch 6/10:  22%|██▏       | 22/100 [00:05<00:20,  3.88it/s]"
     ]
    },
    {
     "name": "stdout",
     "output_type": "stream",
     "text": [
      "Input shape: torch.Size([16, 501, 64, 64]), Input type: torch.float32\n",
      "Labels shape: torch.Size([16]), Labels type: torch.int64\n",
      "Outputs shape: torch.Size([16, 26]), Outputs type: torch.float32\n"
     ]
    },
    {
     "name": "stderr",
     "output_type": "stream",
     "text": [
      "Epoch 6/10:  23%|██▎       | 23/100 [00:05<00:18,  4.06it/s]"
     ]
    },
    {
     "name": "stdout",
     "output_type": "stream",
     "text": [
      "Input shape: torch.Size([16, 501, 64, 64]), Input type: torch.float32\n",
      "Labels shape: torch.Size([16]), Labels type: torch.int64\n",
      "Outputs shape: torch.Size([16, 26]), Outputs type: torch.float32\n"
     ]
    },
    {
     "name": "stderr",
     "output_type": "stream",
     "text": [
      "Epoch 6/10:  24%|██▍       | 24/100 [00:05<00:18,  4.10it/s]"
     ]
    },
    {
     "name": "stdout",
     "output_type": "stream",
     "text": [
      "Input shape: torch.Size([16, 501, 64, 64]), Input type: torch.float32\n",
      "Labels shape: torch.Size([16]), Labels type: torch.int64\n",
      "Outputs shape: torch.Size([16, 26]), Outputs type: torch.float32\n"
     ]
    },
    {
     "name": "stderr",
     "output_type": "stream",
     "text": [
      "Epoch 6/10:  25%|██▌       | 25/100 [00:05<00:17,  4.23it/s]"
     ]
    },
    {
     "name": "stdout",
     "output_type": "stream",
     "text": [
      "Input shape: torch.Size([16, 501, 64, 64]), Input type: torch.float32\n",
      "Labels shape: torch.Size([16]), Labels type: torch.int64\n",
      "Outputs shape: torch.Size([16, 26]), Outputs type: torch.float32\n"
     ]
    },
    {
     "name": "stderr",
     "output_type": "stream",
     "text": [
      "Epoch 6/10:  26%|██▌       | 26/100 [00:06<00:17,  4.24it/s]"
     ]
    },
    {
     "name": "stdout",
     "output_type": "stream",
     "text": [
      "Input shape: torch.Size([16, 501, 64, 64]), Input type: torch.float32\n",
      "Labels shape: torch.Size([16]), Labels type: torch.int64\n",
      "Outputs shape: torch.Size([16, 26]), Outputs type: torch.float32\n"
     ]
    },
    {
     "name": "stderr",
     "output_type": "stream",
     "text": [
      "Epoch 6/10:  27%|██▋       | 27/100 [00:06<00:17,  4.28it/s]"
     ]
    },
    {
     "name": "stdout",
     "output_type": "stream",
     "text": [
      "Input shape: torch.Size([16, 501, 64, 64]), Input type: torch.float32\n",
      "Labels shape: torch.Size([16]), Labels type: torch.int64\n",
      "Outputs shape: torch.Size([16, 26]), Outputs type: torch.float32\n"
     ]
    },
    {
     "name": "stderr",
     "output_type": "stream",
     "text": [
      "Epoch 6/10:  28%|██▊       | 28/100 [00:06<00:16,  4.32it/s]"
     ]
    },
    {
     "name": "stdout",
     "output_type": "stream",
     "text": [
      "Input shape: torch.Size([16, 501, 64, 64]), Input type: torch.float32\n",
      "Labels shape: torch.Size([16]), Labels type: torch.int64\n",
      "Outputs shape: torch.Size([16, 26]), Outputs type: torch.float32\n"
     ]
    },
    {
     "name": "stderr",
     "output_type": "stream",
     "text": [
      "Epoch 6/10:  29%|██▉       | 29/100 [00:06<00:15,  4.45it/s]"
     ]
    },
    {
     "name": "stdout",
     "output_type": "stream",
     "text": [
      "Input shape: torch.Size([16, 501, 64, 64]), Input type: torch.float32\n",
      "Labels shape: torch.Size([16]), Labels type: torch.int64\n",
      "Outputs shape: torch.Size([16, 26]), Outputs type: torch.float32\n"
     ]
    },
    {
     "name": "stderr",
     "output_type": "stream",
     "text": [
      "Epoch 6/10:  30%|███       | 30/100 [00:06<00:15,  4.56it/s]"
     ]
    },
    {
     "name": "stdout",
     "output_type": "stream",
     "text": [
      "Input shape: torch.Size([16, 501, 64, 64]), Input type: torch.float32\n",
      "Labels shape: torch.Size([16]), Labels type: torch.int64\n",
      "Outputs shape: torch.Size([16, 26]), Outputs type: torch.float32\n"
     ]
    },
    {
     "name": "stderr",
     "output_type": "stream",
     "text": [
      "Epoch 6/10:  31%|███       | 31/100 [00:07<00:14,  4.61it/s]"
     ]
    },
    {
     "name": "stdout",
     "output_type": "stream",
     "text": [
      "Input shape: torch.Size([16, 501, 64, 64]), Input type: torch.float32\n",
      "Labels shape: torch.Size([16]), Labels type: torch.int64\n",
      "Outputs shape: torch.Size([16, 26]), Outputs type: torch.float32\n"
     ]
    },
    {
     "name": "stderr",
     "output_type": "stream",
     "text": [
      "Epoch 6/10:  32%|███▏      | 32/100 [00:07<00:14,  4.59it/s]"
     ]
    },
    {
     "name": "stdout",
     "output_type": "stream",
     "text": [
      "Input shape: torch.Size([16, 501, 64, 64]), Input type: torch.float32\n",
      "Labels shape: torch.Size([16]), Labels type: torch.int64\n",
      "Outputs shape: torch.Size([16, 26]), Outputs type: torch.float32\n"
     ]
    },
    {
     "name": "stderr",
     "output_type": "stream",
     "text": [
      "Epoch 6/10:  33%|███▎      | 33/100 [00:07<00:14,  4.52it/s]"
     ]
    },
    {
     "name": "stdout",
     "output_type": "stream",
     "text": [
      "Input shape: torch.Size([16, 501, 64, 64]), Input type: torch.float32\n",
      "Labels shape: torch.Size([16]), Labels type: torch.int64\n",
      "Outputs shape: torch.Size([16, 26]), Outputs type: torch.float32\n"
     ]
    },
    {
     "name": "stderr",
     "output_type": "stream",
     "text": [
      "Epoch 6/10:  34%|███▍      | 34/100 [00:07<00:14,  4.46it/s]"
     ]
    },
    {
     "name": "stdout",
     "output_type": "stream",
     "text": [
      "Input shape: torch.Size([16, 501, 64, 64]), Input type: torch.float32\n",
      "Labels shape: torch.Size([16]), Labels type: torch.int64\n",
      "Outputs shape: torch.Size([16, 26]), Outputs type: torch.float32\n"
     ]
    },
    {
     "name": "stderr",
     "output_type": "stream",
     "text": [
      "Epoch 6/10:  35%|███▌      | 35/100 [00:08<00:14,  4.42it/s]"
     ]
    },
    {
     "name": "stdout",
     "output_type": "stream",
     "text": [
      "Input shape: torch.Size([16, 501, 64, 64]), Input type: torch.float32\n",
      "Labels shape: torch.Size([16]), Labels type: torch.int64\n",
      "Outputs shape: torch.Size([16, 26]), Outputs type: torch.float32\n"
     ]
    },
    {
     "name": "stderr",
     "output_type": "stream",
     "text": [
      "Epoch 6/10:  36%|███▌      | 36/100 [00:08<00:14,  4.36it/s]"
     ]
    },
    {
     "name": "stdout",
     "output_type": "stream",
     "text": [
      "Input shape: torch.Size([16, 501, 64, 64]), Input type: torch.float32\n",
      "Labels shape: torch.Size([16]), Labels type: torch.int64\n",
      "Outputs shape: torch.Size([16, 26]), Outputs type: torch.float32\n",
      "Input shape: torch.Size([16, 501, 64, 64]), Input type: torch.float32\n",
      "Labels shape: torch.Size([16]), Labels type: torch.int64\n"
     ]
    },
    {
     "name": "stderr",
     "output_type": "stream",
     "text": [
      "Epoch 6/10:  37%|███▋      | 37/100 [00:08<00:14,  4.44it/s]"
     ]
    },
    {
     "name": "stdout",
     "output_type": "stream",
     "text": [
      "Outputs shape: torch.Size([16, 26]), Outputs type: torch.float32\n",
      "Input shape: torch.Size([16, 501, 64, 64]), Input type: torch.float32\n",
      "Labels shape: torch.Size([16]), Labels type: torch.int64\n"
     ]
    },
    {
     "name": "stderr",
     "output_type": "stream",
     "text": [
      "Epoch 6/10:  38%|███▊      | 38/100 [00:08<00:13,  4.48it/s]"
     ]
    },
    {
     "name": "stdout",
     "output_type": "stream",
     "text": [
      "Outputs shape: torch.Size([16, 26]), Outputs type: torch.float32\n",
      "Input shape: torch.Size([16, 501, 64, 64]), Input type: torch.float32\n",
      "Labels shape: torch.Size([16]), Labels type: torch.int64\n"
     ]
    },
    {
     "name": "stderr",
     "output_type": "stream",
     "text": [
      "Epoch 6/10:  39%|███▉      | 39/100 [00:08<00:13,  4.51it/s]"
     ]
    },
    {
     "name": "stdout",
     "output_type": "stream",
     "text": [
      "Outputs shape: torch.Size([16, 26]), Outputs type: torch.float32\n",
      "Input shape: torch.Size([16, 501, 64, 64]), Input type: torch.float32\n",
      "Labels shape: torch.Size([16]), Labels type: torch.int64\n"
     ]
    },
    {
     "name": "stderr",
     "output_type": "stream",
     "text": [
      "Epoch 6/10:  40%|████      | 40/100 [00:09<00:13,  4.60it/s]"
     ]
    },
    {
     "name": "stdout",
     "output_type": "stream",
     "text": [
      "Outputs shape: torch.Size([16, 26]), Outputs type: torch.float32\n",
      "Input shape: torch.Size([16, 501, 64, 64]), Input type: torch.float32\n",
      "Labels shape: torch.Size([16]), Labels type: torch.int64\n",
      "Outputs shape: torch.Size([16, 26]), Outputs type: torch.float32\n"
     ]
    },
    {
     "name": "stderr",
     "output_type": "stream",
     "text": [
      "Epoch 6/10:  42%|████▏     | 42/100 [00:09<00:12,  4.82it/s]"
     ]
    },
    {
     "name": "stdout",
     "output_type": "stream",
     "text": [
      "Input shape: torch.Size([16, 501, 64, 64]), Input type: torch.float32\n",
      "Labels shape: torch.Size([16]), Labels type: torch.int64\n",
      "Outputs shape: torch.Size([16, 26]), Outputs type: torch.float32\n"
     ]
    },
    {
     "name": "stderr",
     "output_type": "stream",
     "text": [
      "Epoch 6/10:  43%|████▎     | 43/100 [00:09<00:11,  4.82it/s]"
     ]
    },
    {
     "name": "stdout",
     "output_type": "stream",
     "text": [
      "Input shape: torch.Size([16, 501, 64, 64]), Input type: torch.float32\n",
      "Labels shape: torch.Size([16]), Labels type: torch.int64\n",
      "Outputs shape: torch.Size([16, 26]), Outputs type: torch.float32\n"
     ]
    },
    {
     "name": "stderr",
     "output_type": "stream",
     "text": [
      "Epoch 6/10:  44%|████▍     | 44/100 [00:09<00:11,  4.85it/s]"
     ]
    },
    {
     "name": "stdout",
     "output_type": "stream",
     "text": [
      "Input shape: torch.Size([16, 501, 64, 64]), Input type: torch.float32\n",
      "Labels shape: torch.Size([16]), Labels type: torch.int64\n",
      "Outputs shape: torch.Size([16, 26]), Outputs type: torch.float32\n",
      "Input shape: torch.Size([16, 501, 64, 64]), Input type: torch.float32\n",
      "Labels shape: torch.Size([16]), Labels type: torch.int64\n"
     ]
    },
    {
     "name": "stderr",
     "output_type": "stream",
     "text": [
      "Epoch 6/10:  45%|████▌     | 45/100 [00:10<00:11,  4.88it/s]"
     ]
    },
    {
     "name": "stdout",
     "output_type": "stream",
     "text": [
      "Outputs shape: torch.Size([16, 26]), Outputs type: torch.float32\n",
      "Input shape: torch.Size([16, 501, 64, 64]), Input type: torch.float32\n",
      "Labels shape: torch.Size([16]), Labels type: torch.int64\n"
     ]
    },
    {
     "name": "stderr",
     "output_type": "stream",
     "text": [
      "Epoch 6/10:  46%|████▌     | 46/100 [00:10<00:11,  4.85it/s]"
     ]
    },
    {
     "name": "stdout",
     "output_type": "stream",
     "text": [
      "Outputs shape: torch.Size([16, 26]), Outputs type: torch.float32\n",
      "Input shape: torch.Size([16, 501, 64, 64]), Input type: torch.float32\n",
      "Labels shape: torch.Size([16]), Labels type: torch.int64\n",
      "Outputs shape: torch.Size([16, 26]), Outputs type: torch.float32\n"
     ]
    },
    {
     "name": "stderr",
     "output_type": "stream",
     "text": [
      "Epoch 6/10:  48%|████▊     | 48/100 [00:10<00:10,  4.90it/s]"
     ]
    },
    {
     "name": "stdout",
     "output_type": "stream",
     "text": [
      "Input shape: torch.Size([16, 501, 64, 64]), Input type: torch.float32\n",
      "Labels shape: torch.Size([16]), Labels type: torch.int64\n",
      "Outputs shape: torch.Size([16, 26]), Outputs type: torch.float32\n",
      "Input shape: torch.Size([16, 501, 64, 64]), Input type: torch.float32\n",
      "Labels shape: torch.Size([16]), Labels type: torch.int64\n"
     ]
    },
    {
     "name": "stderr",
     "output_type": "stream",
     "text": [
      "Epoch 6/10:  49%|████▉     | 49/100 [00:10<00:10,  4.75it/s]"
     ]
    },
    {
     "name": "stdout",
     "output_type": "stream",
     "text": [
      "Outputs shape: torch.Size([16, 26]), Outputs type: torch.float32\n",
      "Input shape: torch.Size([16, 501, 64, 64]), Input type: torch.float32\n",
      "Labels shape: torch.Size([16]), Labels type: torch.int64\n"
     ]
    },
    {
     "name": "stderr",
     "output_type": "stream",
     "text": [
      "Epoch 6/10:  50%|█████     | 50/100 [00:11<00:10,  4.70it/s]"
     ]
    },
    {
     "name": "stdout",
     "output_type": "stream",
     "text": [
      "Outputs shape: torch.Size([16, 26]), Outputs type: torch.float32\n",
      "Input shape: torch.Size([16, 501, 64, 64]), Input type: torch.float32\n",
      "Labels shape: torch.Size([16]), Labels type: torch.int64\n"
     ]
    },
    {
     "name": "stderr",
     "output_type": "stream",
     "text": [
      "Epoch 6/10:  51%|█████     | 51/100 [00:11<00:10,  4.71it/s]"
     ]
    },
    {
     "name": "stdout",
     "output_type": "stream",
     "text": [
      "Outputs shape: torch.Size([16, 26]), Outputs type: torch.float32\n",
      "Input shape: torch.Size([16, 501, 64, 64]), Input type: torch.float32\n",
      "Labels shape: torch.Size([16]), Labels type: torch.int64\n"
     ]
    },
    {
     "name": "stderr",
     "output_type": "stream",
     "text": [
      "Epoch 6/10:  52%|█████▏    | 52/100 [00:11<00:10,  4.50it/s]"
     ]
    },
    {
     "name": "stdout",
     "output_type": "stream",
     "text": [
      "Outputs shape: torch.Size([16, 26]), Outputs type: torch.float32\n"
     ]
    },
    {
     "name": "stderr",
     "output_type": "stream",
     "text": [
      "Epoch 6/10:  53%|█████▎    | 53/100 [00:11<00:10,  4.55it/s]"
     ]
    },
    {
     "name": "stdout",
     "output_type": "stream",
     "text": [
      "Input shape: torch.Size([16, 501, 64, 64]), Input type: torch.float32\n",
      "Labels shape: torch.Size([16]), Labels type: torch.int64\n",
      "Outputs shape: torch.Size([16, 26]), Outputs type: torch.float32\n"
     ]
    },
    {
     "name": "stderr",
     "output_type": "stream",
     "text": [
      "Epoch 6/10:  54%|█████▍    | 54/100 [00:12<00:09,  4.61it/s]"
     ]
    },
    {
     "name": "stdout",
     "output_type": "stream",
     "text": [
      "Input shape: torch.Size([16, 501, 64, 64]), Input type: torch.float32\n",
      "Labels shape: torch.Size([16]), Labels type: torch.int64\n",
      "Outputs shape: torch.Size([16, 26]), Outputs type: torch.float32\n"
     ]
    },
    {
     "name": "stderr",
     "output_type": "stream",
     "text": [
      "Epoch 6/10:  55%|█████▌    | 55/100 [00:12<00:09,  4.60it/s]"
     ]
    },
    {
     "name": "stdout",
     "output_type": "stream",
     "text": [
      "Input shape: torch.Size([16, 501, 64, 64]), Input type: torch.float32\n",
      "Labels shape: torch.Size([16]), Labels type: torch.int64\n",
      "Outputs shape: torch.Size([16, 26]), Outputs type: torch.float32\n"
     ]
    },
    {
     "name": "stderr",
     "output_type": "stream",
     "text": [
      "Epoch 6/10:  56%|█████▌    | 56/100 [00:12<00:09,  4.41it/s]"
     ]
    },
    {
     "name": "stdout",
     "output_type": "stream",
     "text": [
      "Input shape: torch.Size([16, 501, 64, 64]), Input type: torch.float32\n",
      "Labels shape: torch.Size([16]), Labels type: torch.int64\n",
      "Outputs shape: torch.Size([16, 26]), Outputs type: torch.float32\n"
     ]
    },
    {
     "name": "stderr",
     "output_type": "stream",
     "text": [
      "Epoch 6/10:  57%|█████▋    | 57/100 [00:12<00:09,  4.49it/s]"
     ]
    },
    {
     "name": "stdout",
     "output_type": "stream",
     "text": [
      "Input shape: torch.Size([16, 501, 64, 64]), Input type: torch.float32\n",
      "Labels shape: torch.Size([16]), Labels type: torch.int64\n",
      "Outputs shape: torch.Size([16, 26]), Outputs type: torch.float32\n"
     ]
    },
    {
     "name": "stderr",
     "output_type": "stream",
     "text": [
      "Epoch 6/10:  58%|█████▊    | 58/100 [00:13<00:09,  4.24it/s]"
     ]
    },
    {
     "name": "stdout",
     "output_type": "stream",
     "text": [
      "Input shape: torch.Size([16, 501, 64, 64]), Input type: torch.float32\n",
      "Labels shape: torch.Size([16]), Labels type: torch.int64\n",
      "Outputs shape: torch.Size([16, 26]), Outputs type: torch.float32\n"
     ]
    },
    {
     "name": "stderr",
     "output_type": "stream",
     "text": [
      "Epoch 6/10:  59%|█████▉    | 59/100 [00:13<00:10,  4.09it/s]"
     ]
    },
    {
     "name": "stdout",
     "output_type": "stream",
     "text": [
      "Input shape: torch.Size([16, 501, 64, 64]), Input type: torch.float32\n",
      "Labels shape: torch.Size([16]), Labels type: torch.int64\n",
      "Outputs shape: torch.Size([16, 26]), Outputs type: torch.float32\n"
     ]
    },
    {
     "name": "stderr",
     "output_type": "stream",
     "text": [
      "Epoch 6/10:  60%|██████    | 60/100 [00:13<00:09,  4.13it/s]"
     ]
    },
    {
     "name": "stdout",
     "output_type": "stream",
     "text": [
      "Input shape: torch.Size([16, 501, 64, 64]), Input type: torch.float32\n",
      "Labels shape: torch.Size([16]), Labels type: torch.int64\n",
      "Outputs shape: torch.Size([16, 26]), Outputs type: torch.float32\n"
     ]
    },
    {
     "name": "stderr",
     "output_type": "stream",
     "text": [
      "Epoch 6/10:  61%|██████    | 61/100 [00:13<00:09,  4.12it/s]"
     ]
    },
    {
     "name": "stdout",
     "output_type": "stream",
     "text": [
      "Input shape: torch.Size([16, 501, 64, 64]), Input type: torch.float32\n",
      "Labels shape: torch.Size([16]), Labels type: torch.int64\n",
      "Outputs shape: torch.Size([16, 26]), Outputs type: torch.float32\n"
     ]
    },
    {
     "name": "stderr",
     "output_type": "stream",
     "text": [
      "Epoch 6/10:  62%|██████▏   | 62/100 [00:14<00:09,  4.20it/s]"
     ]
    },
    {
     "name": "stdout",
     "output_type": "stream",
     "text": [
      "Input shape: torch.Size([16, 501, 64, 64]), Input type: torch.float32\n",
      "Labels shape: torch.Size([16]), Labels type: torch.int64\n",
      "Outputs shape: torch.Size([16, 26]), Outputs type: torch.float32\n"
     ]
    },
    {
     "name": "stderr",
     "output_type": "stream",
     "text": [
      "Epoch 6/10:  63%|██████▎   | 63/100 [00:14<00:08,  4.25it/s]"
     ]
    },
    {
     "name": "stdout",
     "output_type": "stream",
     "text": [
      "Input shape: torch.Size([16, 501, 64, 64]), Input type: torch.float32\n",
      "Labels shape: torch.Size([16]), Labels type: torch.int64\n",
      "Outputs shape: torch.Size([16, 26]), Outputs type: torch.float32\n"
     ]
    },
    {
     "name": "stderr",
     "output_type": "stream",
     "text": [
      "Epoch 6/10:  64%|██████▍   | 64/100 [00:14<00:08,  4.31it/s]"
     ]
    },
    {
     "name": "stdout",
     "output_type": "stream",
     "text": [
      "Input shape: torch.Size([16, 501, 64, 64]), Input type: torch.float32\n",
      "Labels shape: torch.Size([16]), Labels type: torch.int64\n",
      "Outputs shape: torch.Size([16, 26]), Outputs type: torch.float32\n"
     ]
    },
    {
     "name": "stderr",
     "output_type": "stream",
     "text": [
      "Epoch 6/10:  65%|██████▌   | 65/100 [00:14<00:08,  4.26it/s]"
     ]
    },
    {
     "name": "stdout",
     "output_type": "stream",
     "text": [
      "Input shape: torch.Size([16, 501, 64, 64]), Input type: torch.float32\n",
      "Labels shape: torch.Size([16]), Labels type: torch.int64\n",
      "Outputs shape: torch.Size([16, 26]), Outputs type: torch.float32\n"
     ]
    },
    {
     "name": "stderr",
     "output_type": "stream",
     "text": [
      "Epoch 6/10:  66%|██████▌   | 66/100 [00:14<00:07,  4.41it/s]"
     ]
    },
    {
     "name": "stdout",
     "output_type": "stream",
     "text": [
      "Input shape: torch.Size([16, 501, 64, 64]), Input type: torch.float32\n",
      "Labels shape: torch.Size([16]), Labels type: torch.int64\n",
      "Outputs shape: torch.Size([16, 26]), Outputs type: torch.float32\n"
     ]
    },
    {
     "name": "stderr",
     "output_type": "stream",
     "text": [
      "Epoch 6/10:  67%|██████▋   | 67/100 [00:15<00:07,  4.27it/s]"
     ]
    },
    {
     "name": "stdout",
     "output_type": "stream",
     "text": [
      "Input shape: torch.Size([16, 501, 64, 64]), Input type: torch.float32\n",
      "Labels shape: torch.Size([16]), Labels type: torch.int64\n",
      "Outputs shape: torch.Size([16, 26]), Outputs type: torch.float32\n"
     ]
    },
    {
     "name": "stderr",
     "output_type": "stream",
     "text": [
      "Epoch 6/10:  68%|██████▊   | 68/100 [00:15<00:07,  4.30it/s]"
     ]
    },
    {
     "name": "stdout",
     "output_type": "stream",
     "text": [
      "Input shape: torch.Size([16, 501, 64, 64]), Input type: torch.float32\n",
      "Labels shape: torch.Size([16]), Labels type: torch.int64\n",
      "Outputs shape: torch.Size([16, 26]), Outputs type: torch.float32\n"
     ]
    },
    {
     "name": "stderr",
     "output_type": "stream",
     "text": [
      "Epoch 6/10:  69%|██████▉   | 69/100 [00:15<00:07,  4.32it/s]"
     ]
    },
    {
     "name": "stdout",
     "output_type": "stream",
     "text": [
      "Input shape: torch.Size([16, 501, 64, 64]), Input type: torch.float32\n",
      "Labels shape: torch.Size([16]), Labels type: torch.int64\n",
      "Outputs shape: torch.Size([16, 26]), Outputs type: torch.float32\n"
     ]
    },
    {
     "name": "stderr",
     "output_type": "stream",
     "text": [
      "Epoch 6/10:  70%|███████   | 70/100 [00:15<00:06,  4.44it/s]"
     ]
    },
    {
     "name": "stdout",
     "output_type": "stream",
     "text": [
      "Input shape: torch.Size([16, 501, 64, 64]), Input type: torch.float32\n",
      "Labels shape: torch.Size([16]), Labels type: torch.int64\n",
      "Outputs shape: torch.Size([16, 26]), Outputs type: torch.float32\n",
      "Input shape: torch.Size([16, 501, 64, 64]), Input type: torch.float32\n",
      "Labels shape: torch.Size([16]), Labels type: torch.int64\n"
     ]
    },
    {
     "name": "stderr",
     "output_type": "stream",
     "text": [
      "Epoch 6/10:  71%|███████   | 71/100 [00:16<00:06,  4.60it/s]"
     ]
    },
    {
     "name": "stdout",
     "output_type": "stream",
     "text": [
      "Outputs shape: torch.Size([16, 26]), Outputs type: torch.float32\n",
      "Input shape: torch.Size([16, 501, 64, 64]), Input type: torch.float32\n",
      "Labels shape: torch.Size([16]), Labels type: torch.int64\n"
     ]
    },
    {
     "name": "stderr",
     "output_type": "stream",
     "text": [
      "Epoch 6/10:  72%|███████▏  | 72/100 [00:16<00:06,  4.65it/s]"
     ]
    },
    {
     "name": "stdout",
     "output_type": "stream",
     "text": [
      "Outputs shape: torch.Size([16, 26]), Outputs type: torch.float32\n",
      "Input shape: torch.Size([16, 501, 64, 64]), Input type: torch.float32\n",
      "Labels shape: torch.Size([16]), Labels type: torch.int64\n"
     ]
    },
    {
     "name": "stderr",
     "output_type": "stream",
     "text": [
      "Epoch 6/10:  73%|███████▎  | 73/100 [00:16<00:06,  4.45it/s]"
     ]
    },
    {
     "name": "stdout",
     "output_type": "stream",
     "text": [
      "Outputs shape: torch.Size([16, 26]), Outputs type: torch.float32\n"
     ]
    },
    {
     "name": "stderr",
     "output_type": "stream",
     "text": [
      "Epoch 6/10:  74%|███████▍  | 74/100 [00:16<00:06,  4.12it/s]"
     ]
    },
    {
     "name": "stdout",
     "output_type": "stream",
     "text": [
      "Input shape: torch.Size([16, 501, 64, 64]), Input type: torch.float32\n",
      "Labels shape: torch.Size([16]), Labels type: torch.int64\n",
      "Outputs shape: torch.Size([16, 26]), Outputs type: torch.float32\n"
     ]
    },
    {
     "name": "stderr",
     "output_type": "stream",
     "text": [
      "Epoch 6/10:  75%|███████▌  | 75/100 [00:17<00:06,  3.97it/s]"
     ]
    },
    {
     "name": "stdout",
     "output_type": "stream",
     "text": [
      "Input shape: torch.Size([16, 501, 64, 64]), Input type: torch.float32\n",
      "Labels shape: torch.Size([16]), Labels type: torch.int64\n",
      "Outputs shape: torch.Size([16, 26]), Outputs type: torch.float32\n"
     ]
    },
    {
     "name": "stderr",
     "output_type": "stream",
     "text": [
      "Epoch 6/10:  76%|███████▌  | 76/100 [00:17<00:06,  3.97it/s]"
     ]
    },
    {
     "name": "stdout",
     "output_type": "stream",
     "text": [
      "Input shape: torch.Size([16, 501, 64, 64]), Input type: torch.float32\n",
      "Labels shape: torch.Size([16]), Labels type: torch.int64\n",
      "Outputs shape: torch.Size([16, 26]), Outputs type: torch.float32\n"
     ]
    },
    {
     "name": "stderr",
     "output_type": "stream",
     "text": [
      "Epoch 6/10:  77%|███████▋  | 77/100 [00:17<00:05,  4.14it/s]"
     ]
    },
    {
     "name": "stdout",
     "output_type": "stream",
     "text": [
      "Input shape: torch.Size([16, 501, 64, 64]), Input type: torch.float32\n",
      "Labels shape: torch.Size([16]), Labels type: torch.int64\n",
      "Outputs shape: torch.Size([16, 26]), Outputs type: torch.float32\n"
     ]
    },
    {
     "name": "stderr",
     "output_type": "stream",
     "text": [
      "Epoch 6/10:  78%|███████▊  | 78/100 [00:17<00:05,  4.38it/s]"
     ]
    },
    {
     "name": "stdout",
     "output_type": "stream",
     "text": [
      "Input shape: torch.Size([16, 501, 64, 64]), Input type: torch.float32\n",
      "Labels shape: torch.Size([16]), Labels type: torch.int64\n",
      "Outputs shape: torch.Size([16, 26]), Outputs type: torch.float32\n",
      "Input shape: torch.Size([16, 501, 64, 64]), Input type: torch.float32\n",
      "Labels shape: torch.Size([16]), Labels type: torch.int64\n"
     ]
    },
    {
     "name": "stderr",
     "output_type": "stream",
     "text": [
      "Epoch 6/10:  79%|███████▉  | 79/100 [00:17<00:04,  4.57it/s]"
     ]
    },
    {
     "name": "stdout",
     "output_type": "stream",
     "text": [
      "Outputs shape: torch.Size([16, 26]), Outputs type: torch.float32\n",
      "Input shape: torch.Size([16, 501, 64, 64]), Input type: torch.float32\n",
      "Labels shape: torch.Size([16]), Labels type: torch.int64\n",
      "Outputs shape: torch.Size([16, 26]), Outputs type: torch.float32\n"
     ]
    },
    {
     "name": "stderr",
     "output_type": "stream",
     "text": [
      "Epoch 6/10:  81%|████████  | 81/100 [00:18<00:04,  4.55it/s]"
     ]
    },
    {
     "name": "stdout",
     "output_type": "stream",
     "text": [
      "Input shape: torch.Size([16, 501, 64, 64]), Input type: torch.float32\n",
      "Labels shape: torch.Size([16]), Labels type: torch.int64\n",
      "Outputs shape: torch.Size([16, 26]), Outputs type: torch.float32\n"
     ]
    },
    {
     "name": "stderr",
     "output_type": "stream",
     "text": [
      "Epoch 6/10:  82%|████████▏ | 82/100 [00:18<00:03,  4.59it/s]"
     ]
    },
    {
     "name": "stdout",
     "output_type": "stream",
     "text": [
      "Input shape: torch.Size([16, 501, 64, 64]), Input type: torch.float32\n",
      "Labels shape: torch.Size([16]), Labels type: torch.int64\n",
      "Outputs shape: torch.Size([16, 26]), Outputs type: torch.float32\n"
     ]
    },
    {
     "name": "stderr",
     "output_type": "stream",
     "text": [
      "Epoch 6/10:  83%|████████▎ | 83/100 [00:18<00:03,  4.71it/s]"
     ]
    },
    {
     "name": "stdout",
     "output_type": "stream",
     "text": [
      "Input shape: torch.Size([16, 501, 64, 64]), Input type: torch.float32\n",
      "Labels shape: torch.Size([16]), Labels type: torch.int64\n",
      "Outputs shape: torch.Size([16, 26]), Outputs type: torch.float32\n",
      "Input shape: torch.Size([16, 501, 64, 64]), Input type: torch.float32\n",
      "Labels shape: torch.Size([16]), Labels type: torch.int64\n"
     ]
    },
    {
     "name": "stderr",
     "output_type": "stream",
     "text": [
      "Epoch 6/10:  84%|████████▍ | 84/100 [00:18<00:03,  4.83it/s]"
     ]
    },
    {
     "name": "stdout",
     "output_type": "stream",
     "text": [
      "Outputs shape: torch.Size([16, 26]), Outputs type: torch.float32\n",
      "Input shape: torch.Size([16, 501, 64, 64]), Input type: torch.float32\n",
      "Labels shape: torch.Size([16]), Labels type: torch.int64\n"
     ]
    },
    {
     "name": "stderr",
     "output_type": "stream",
     "text": [
      "Epoch 6/10:  85%|████████▌ | 85/100 [00:19<00:03,  4.78it/s]"
     ]
    },
    {
     "name": "stdout",
     "output_type": "stream",
     "text": [
      "Outputs shape: torch.Size([16, 26]), Outputs type: torch.float32\n",
      "Input shape: torch.Size([16, 501, 64, 64]), Input type: torch.float32\n",
      "Labels shape: torch.Size([16]), Labels type: torch.int64\n"
     ]
    },
    {
     "name": "stderr",
     "output_type": "stream",
     "text": [
      "Epoch 6/10:  86%|████████▌ | 86/100 [00:19<00:02,  4.87it/s]"
     ]
    },
    {
     "name": "stdout",
     "output_type": "stream",
     "text": [
      "Outputs shape: torch.Size([16, 26]), Outputs type: torch.float32\n",
      "Input shape: torch.Size([16, 501, 64, 64]), Input type: torch.float32\n",
      "Labels shape: torch.Size([16]), Labels type: torch.int64\n",
      "Outputs shape: torch.Size([16, 26]), Outputs type: torch.float32\n"
     ]
    },
    {
     "name": "stderr",
     "output_type": "stream",
     "text": [
      "Epoch 6/10:  88%|████████▊ | 88/100 [00:19<00:02,  4.92it/s]"
     ]
    },
    {
     "name": "stdout",
     "output_type": "stream",
     "text": [
      "Input shape: torch.Size([16, 501, 64, 64]), Input type: torch.float32\n",
      "Labels shape: torch.Size([16]), Labels type: torch.int64\n",
      "Outputs shape: torch.Size([16, 26]), Outputs type: torch.float32\n",
      "Input shape: torch.Size([16, 501, 64, 64]), Input type: torch.float32\n",
      "Labels shape: torch.Size([16]), Labels type: torch.int64\n"
     ]
    },
    {
     "name": "stderr",
     "output_type": "stream",
     "text": [
      "Epoch 6/10:  89%|████████▉ | 89/100 [00:19<00:02,  4.84it/s]"
     ]
    },
    {
     "name": "stdout",
     "output_type": "stream",
     "text": [
      "Outputs shape: torch.Size([16, 26]), Outputs type: torch.float32\n",
      "Input shape: torch.Size([16, 501, 64, 64]), Input type: torch.float32\n",
      "Labels shape: torch.Size([16]), Labels type: torch.int64\n"
     ]
    },
    {
     "name": "stderr",
     "output_type": "stream",
     "text": [
      "Epoch 6/10:  90%|█████████ | 90/100 [00:20<00:02,  4.84it/s]"
     ]
    },
    {
     "name": "stdout",
     "output_type": "stream",
     "text": [
      "Outputs shape: torch.Size([16, 26]), Outputs type: torch.float32\n",
      "Input shape: torch.Size([16, 501, 64, 64]), Input type: torch.float32\n",
      "Labels shape: torch.Size([16]), Labels type: torch.int64\n"
     ]
    },
    {
     "name": "stderr",
     "output_type": "stream",
     "text": [
      "Epoch 6/10:  91%|█████████ | 91/100 [00:20<00:01,  4.81it/s]"
     ]
    },
    {
     "name": "stdout",
     "output_type": "stream",
     "text": [
      "Outputs shape: torch.Size([16, 26]), Outputs type: torch.float32\n",
      "Input shape: torch.Size([16, 501, 64, 64]), Input type: torch.float32\n",
      "Labels shape: torch.Size([16]), Labels type: torch.int64\n"
     ]
    },
    {
     "name": "stderr",
     "output_type": "stream",
     "text": [
      "Epoch 6/10:  92%|█████████▏| 92/100 [00:20<00:01,  4.81it/s]"
     ]
    },
    {
     "name": "stdout",
     "output_type": "stream",
     "text": [
      "Outputs shape: torch.Size([16, 26]), Outputs type: torch.float32\n",
      "Input shape: torch.Size([16, 501, 64, 64]), Input type: torch.float32\n",
      "Labels shape: torch.Size([16]), Labels type: torch.int64\n",
      "Outputs shape: torch.Size([16, 26]), Outputs type: torch.float32\n"
     ]
    },
    {
     "name": "stderr",
     "output_type": "stream",
     "text": [
      "Epoch 6/10:  94%|█████████▍| 94/100 [00:21<00:01,  4.89it/s]"
     ]
    },
    {
     "name": "stdout",
     "output_type": "stream",
     "text": [
      "Input shape: torch.Size([16, 501, 64, 64]), Input type: torch.float32\n",
      "Labels shape: torch.Size([16]), Labels type: torch.int64\n",
      "Outputs shape: torch.Size([16, 26]), Outputs type: torch.float32\n"
     ]
    },
    {
     "name": "stderr",
     "output_type": "stream",
     "text": [
      "Epoch 6/10:  95%|█████████▌| 95/100 [00:21<00:01,  4.69it/s]"
     ]
    },
    {
     "name": "stdout",
     "output_type": "stream",
     "text": [
      "Input shape: torch.Size([16, 501, 64, 64]), Input type: torch.float32\n",
      "Labels shape: torch.Size([16]), Labels type: torch.int64\n",
      "Outputs shape: torch.Size([16, 26]), Outputs type: torch.float32\n"
     ]
    },
    {
     "name": "stderr",
     "output_type": "stream",
     "text": [
      "Epoch 6/10:  96%|█████████▌| 96/100 [00:21<00:00,  4.56it/s]"
     ]
    },
    {
     "name": "stdout",
     "output_type": "stream",
     "text": [
      "Input shape: torch.Size([16, 501, 64, 64]), Input type: torch.float32\n",
      "Labels shape: torch.Size([16]), Labels type: torch.int64\n",
      "Outputs shape: torch.Size([16, 26]), Outputs type: torch.float32\n"
     ]
    },
    {
     "name": "stderr",
     "output_type": "stream",
     "text": [
      "Epoch 6/10:  97%|█████████▋| 97/100 [00:21<00:00,  4.57it/s]"
     ]
    },
    {
     "name": "stdout",
     "output_type": "stream",
     "text": [
      "Input shape: torch.Size([16, 501, 64, 64]), Input type: torch.float32\n",
      "Labels shape: torch.Size([16]), Labels type: torch.int64\n",
      "Outputs shape: torch.Size([16, 26]), Outputs type: torch.float32\n"
     ]
    },
    {
     "name": "stderr",
     "output_type": "stream",
     "text": [
      "Epoch 6/10:  98%|█████████▊| 98/100 [00:21<00:00,  4.72it/s]"
     ]
    },
    {
     "name": "stdout",
     "output_type": "stream",
     "text": [
      "Input shape: torch.Size([16, 501, 64, 64]), Input type: torch.float32\n",
      "Labels shape: torch.Size([16]), Labels type: torch.int64\n",
      "Outputs shape: torch.Size([16, 26]), Outputs type: torch.float32\n"
     ]
    },
    {
     "name": "stderr",
     "output_type": "stream",
     "text": [
      "Epoch 6/10: 100%|██████████| 100/100 [00:22<00:00,  4.51it/s]\n"
     ]
    },
    {
     "name": "stdout",
     "output_type": "stream",
     "text": [
      "Input shape: torch.Size([16, 501, 64, 64]), Input type: torch.float32\n",
      "Labels shape: torch.Size([16]), Labels type: torch.int64\n",
      "Outputs shape: torch.Size([16, 26]), Outputs type: torch.float32\n",
      "Input shape: torch.Size([6, 501, 64, 64]), Input type: torch.float32\n",
      "Labels shape: torch.Size([6]), Labels type: torch.int64\n",
      "Outputs shape: torch.Size([6, 26]), Outputs type: torch.float32\n"
     ]
    },
    {
     "name": "stderr",
     "output_type": "stream",
     "text": [
      "Epoch 7/10:   1%|          | 1/100 [00:00<00:21,  4.54it/s]"
     ]
    },
    {
     "name": "stdout",
     "output_type": "stream",
     "text": [
      "Input shape: torch.Size([16, 501, 64, 64]), Input type: torch.float32\n",
      "Labels shape: torch.Size([16]), Labels type: torch.int64\n",
      "Outputs shape: torch.Size([16, 26]), Outputs type: torch.float32\n"
     ]
    },
    {
     "name": "stderr",
     "output_type": "stream",
     "text": [
      "Epoch 7/10:   2%|▏         | 2/100 [00:00<00:22,  4.42it/s]"
     ]
    },
    {
     "name": "stdout",
     "output_type": "stream",
     "text": [
      "Input shape: torch.Size([16, 501, 64, 64]), Input type: torch.float32\n",
      "Labels shape: torch.Size([16]), Labels type: torch.int64\n",
      "Outputs shape: torch.Size([16, 26]), Outputs type: torch.float32\n"
     ]
    },
    {
     "name": "stderr",
     "output_type": "stream",
     "text": [
      "Epoch 7/10:   3%|▎         | 3/100 [00:00<00:21,  4.60it/s]"
     ]
    },
    {
     "name": "stdout",
     "output_type": "stream",
     "text": [
      "Input shape: torch.Size([16, 501, 64, 64]), Input type: torch.float32\n",
      "Labels shape: torch.Size([16]), Labels type: torch.int64\n",
      "Outputs shape: torch.Size([16, 26]), Outputs type: torch.float32\n"
     ]
    },
    {
     "name": "stderr",
     "output_type": "stream",
     "text": [
      "Epoch 7/10:   4%|▍         | 4/100 [00:00<00:21,  4.39it/s]"
     ]
    },
    {
     "name": "stdout",
     "output_type": "stream",
     "text": [
      "Input shape: torch.Size([16, 501, 64, 64]), Input type: torch.float32\n",
      "Labels shape: torch.Size([16]), Labels type: torch.int64\n",
      "Outputs shape: torch.Size([16, 26]), Outputs type: torch.float32\n"
     ]
    },
    {
     "name": "stderr",
     "output_type": "stream",
     "text": [
      "Epoch 7/10:   5%|▌         | 5/100 [00:01<00:20,  4.58it/s]"
     ]
    },
    {
     "name": "stdout",
     "output_type": "stream",
     "text": [
      "Input shape: torch.Size([16, 501, 64, 64]), Input type: torch.float32\n",
      "Labels shape: torch.Size([16]), Labels type: torch.int64\n",
      "Outputs shape: torch.Size([16, 26]), Outputs type: torch.float32\n"
     ]
    },
    {
     "name": "stderr",
     "output_type": "stream",
     "text": [
      "Epoch 7/10:   6%|▌         | 6/100 [00:01<00:21,  4.31it/s]"
     ]
    },
    {
     "name": "stdout",
     "output_type": "stream",
     "text": [
      "Input shape: torch.Size([16, 501, 64, 64]), Input type: torch.float32\n",
      "Labels shape: torch.Size([16]), Labels type: torch.int64\n",
      "Outputs shape: torch.Size([16, 26]), Outputs type: torch.float32\n"
     ]
    },
    {
     "name": "stderr",
     "output_type": "stream",
     "text": [
      "Epoch 7/10:   7%|▋         | 7/100 [00:01<00:22,  4.21it/s]"
     ]
    },
    {
     "name": "stdout",
     "output_type": "stream",
     "text": [
      "Input shape: torch.Size([16, 501, 64, 64]), Input type: torch.float32\n",
      "Labels shape: torch.Size([16]), Labels type: torch.int64\n",
      "Outputs shape: torch.Size([16, 26]), Outputs type: torch.float32\n"
     ]
    },
    {
     "name": "stderr",
     "output_type": "stream",
     "text": [
      "Epoch 7/10:   8%|▊         | 8/100 [00:01<00:22,  4.15it/s]"
     ]
    },
    {
     "name": "stdout",
     "output_type": "stream",
     "text": [
      "Input shape: torch.Size([16, 501, 64, 64]), Input type: torch.float32\n",
      "Labels shape: torch.Size([16]), Labels type: torch.int64\n",
      "Outputs shape: torch.Size([16, 26]), Outputs type: torch.float32\n"
     ]
    },
    {
     "name": "stderr",
     "output_type": "stream",
     "text": [
      "Epoch 7/10:   9%|▉         | 9/100 [00:02<00:21,  4.23it/s]"
     ]
    },
    {
     "name": "stdout",
     "output_type": "stream",
     "text": [
      "Input shape: torch.Size([16, 501, 64, 64]), Input type: torch.float32\n",
      "Labels shape: torch.Size([16]), Labels type: torch.int64\n",
      "Outputs shape: torch.Size([16, 26]), Outputs type: torch.float32\n"
     ]
    },
    {
     "name": "stderr",
     "output_type": "stream",
     "text": [
      "Epoch 7/10:  10%|█         | 10/100 [00:02<00:21,  4.21it/s]"
     ]
    },
    {
     "name": "stdout",
     "output_type": "stream",
     "text": [
      "Input shape: torch.Size([16, 501, 64, 64]), Input type: torch.float32\n",
      "Labels shape: torch.Size([16]), Labels type: torch.int64\n",
      "Outputs shape: torch.Size([16, 26]), Outputs type: torch.float32\n",
      "Input shape: torch.Size([16, 501, 64, 64]), Input type: torch.float32\n",
      "Labels shape: torch.Size([16]), Labels type: torch.int64\n"
     ]
    },
    {
     "name": "stderr",
     "output_type": "stream",
     "text": [
      "Epoch 7/10:  11%|█         | 11/100 [00:02<00:20,  4.29it/s]"
     ]
    },
    {
     "name": "stdout",
     "output_type": "stream",
     "text": [
      "Outputs shape: torch.Size([16, 26]), Outputs type: torch.float32\n",
      "Input shape: torch.Size([16, 501, 64, 64]), Input type: torch.float32\n",
      "Labels shape: torch.Size([16]), Labels type: torch.int64\n"
     ]
    },
    {
     "name": "stderr",
     "output_type": "stream",
     "text": [
      "Epoch 7/10:  12%|█▏        | 12/100 [00:02<00:20,  4.34it/s]"
     ]
    },
    {
     "name": "stdout",
     "output_type": "stream",
     "text": [
      "Outputs shape: torch.Size([16, 26]), Outputs type: torch.float32\n"
     ]
    },
    {
     "name": "stderr",
     "output_type": "stream",
     "text": [
      "Epoch 7/10:  13%|█▎        | 13/100 [00:03<00:20,  4.24it/s]"
     ]
    },
    {
     "name": "stdout",
     "output_type": "stream",
     "text": [
      "Input shape: torch.Size([16, 501, 64, 64]), Input type: torch.float32\n",
      "Labels shape: torch.Size([16]), Labels type: torch.int64\n",
      "Outputs shape: torch.Size([16, 26]), Outputs type: torch.float32\n"
     ]
    },
    {
     "name": "stderr",
     "output_type": "stream",
     "text": [
      "Epoch 7/10:  14%|█▍        | 14/100 [00:03<00:20,  4.25it/s]"
     ]
    },
    {
     "name": "stdout",
     "output_type": "stream",
     "text": [
      "Input shape: torch.Size([16, 501, 64, 64]), Input type: torch.float32\n",
      "Labels shape: torch.Size([16]), Labels type: torch.int64\n",
      "Outputs shape: torch.Size([16, 26]), Outputs type: torch.float32\n"
     ]
    },
    {
     "name": "stderr",
     "output_type": "stream",
     "text": [
      "Epoch 7/10:  15%|█▌        | 15/100 [00:03<00:20,  4.18it/s]"
     ]
    },
    {
     "name": "stdout",
     "output_type": "stream",
     "text": [
      "Input shape: torch.Size([16, 501, 64, 64]), Input type: torch.float32\n",
      "Labels shape: torch.Size([16]), Labels type: torch.int64\n",
      "Outputs shape: torch.Size([16, 26]), Outputs type: torch.float32\n"
     ]
    },
    {
     "name": "stderr",
     "output_type": "stream",
     "text": [
      "Epoch 7/10:  16%|█▌        | 16/100 [00:03<00:19,  4.39it/s]"
     ]
    },
    {
     "name": "stdout",
     "output_type": "stream",
     "text": [
      "Input shape: torch.Size([16, 501, 64, 64]), Input type: torch.float32\n",
      "Labels shape: torch.Size([16]), Labels type: torch.int64\n",
      "Outputs shape: torch.Size([16, 26]), Outputs type: torch.float32\n",
      "Input shape: torch.Size([16, 501, 64, 64]), Input type: torch.float32\n",
      "Labels shape: torch.Size([16]), Labels type: torch.int64\n"
     ]
    },
    {
     "name": "stderr",
     "output_type": "stream",
     "text": [
      "Epoch 7/10:  17%|█▋        | 17/100 [00:03<00:18,  4.59it/s]"
     ]
    },
    {
     "name": "stdout",
     "output_type": "stream",
     "text": [
      "Outputs shape: torch.Size([16, 26]), Outputs type: torch.float32\n",
      "Input shape: torch.Size([16, 501, 64, 64]), Input type: torch.float32\n",
      "Labels shape: torch.Size([16]), Labels type: torch.int64\n"
     ]
    },
    {
     "name": "stderr",
     "output_type": "stream",
     "text": [
      "Epoch 7/10:  18%|█▊        | 18/100 [00:04<00:18,  4.54it/s]"
     ]
    },
    {
     "name": "stdout",
     "output_type": "stream",
     "text": [
      "Outputs shape: torch.Size([16, 26]), Outputs type: torch.float32\n"
     ]
    },
    {
     "name": "stderr",
     "output_type": "stream",
     "text": [
      "Epoch 7/10:  19%|█▉        | 19/100 [00:04<00:18,  4.39it/s]"
     ]
    },
    {
     "name": "stdout",
     "output_type": "stream",
     "text": [
      "Input shape: torch.Size([16, 501, 64, 64]), Input type: torch.float32\n",
      "Labels shape: torch.Size([16]), Labels type: torch.int64\n",
      "Outputs shape: torch.Size([16, 26]), Outputs type: torch.float32\n"
     ]
    },
    {
     "name": "stderr",
     "output_type": "stream",
     "text": [
      "Epoch 7/10:  20%|██        | 20/100 [00:04<00:18,  4.22it/s]"
     ]
    },
    {
     "name": "stdout",
     "output_type": "stream",
     "text": [
      "Input shape: torch.Size([16, 501, 64, 64]), Input type: torch.float32\n",
      "Labels shape: torch.Size([16]), Labels type: torch.int64\n",
      "Outputs shape: torch.Size([16, 26]), Outputs type: torch.float32\n"
     ]
    },
    {
     "name": "stderr",
     "output_type": "stream",
     "text": [
      "Epoch 7/10:  21%|██        | 21/100 [00:04<00:18,  4.31it/s]"
     ]
    },
    {
     "name": "stdout",
     "output_type": "stream",
     "text": [
      "Input shape: torch.Size([16, 501, 64, 64]), Input type: torch.float32\n",
      "Labels shape: torch.Size([16]), Labels type: torch.int64\n",
      "Outputs shape: torch.Size([16, 26]), Outputs type: torch.float32\n"
     ]
    },
    {
     "name": "stderr",
     "output_type": "stream",
     "text": [
      "Epoch 7/10:  22%|██▏       | 22/100 [00:05<00:18,  4.18it/s]"
     ]
    },
    {
     "name": "stdout",
     "output_type": "stream",
     "text": [
      "Input shape: torch.Size([16, 501, 64, 64]), Input type: torch.float32\n",
      "Labels shape: torch.Size([16]), Labels type: torch.int64\n",
      "Outputs shape: torch.Size([16, 26]), Outputs type: torch.float32\n"
     ]
    },
    {
     "name": "stderr",
     "output_type": "stream",
     "text": [
      "Epoch 7/10:  23%|██▎       | 23/100 [00:05<00:18,  4.07it/s]"
     ]
    },
    {
     "name": "stdout",
     "output_type": "stream",
     "text": [
      "Input shape: torch.Size([16, 501, 64, 64]), Input type: torch.float32\n",
      "Labels shape: torch.Size([16]), Labels type: torch.int64\n",
      "Outputs shape: torch.Size([16, 26]), Outputs type: torch.float32\n"
     ]
    },
    {
     "name": "stderr",
     "output_type": "stream",
     "text": [
      "Epoch 7/10:  24%|██▍       | 24/100 [00:05<00:18,  4.16it/s]"
     ]
    },
    {
     "name": "stdout",
     "output_type": "stream",
     "text": [
      "Input shape: torch.Size([16, 501, 64, 64]), Input type: torch.float32\n",
      "Labels shape: torch.Size([16]), Labels type: torch.int64\n",
      "Outputs shape: torch.Size([16, 26]), Outputs type: torch.float32\n"
     ]
    },
    {
     "name": "stderr",
     "output_type": "stream",
     "text": [
      "Epoch 7/10:  25%|██▌       | 25/100 [00:05<00:17,  4.25it/s]"
     ]
    },
    {
     "name": "stdout",
     "output_type": "stream",
     "text": [
      "Input shape: torch.Size([16, 501, 64, 64]), Input type: torch.float32\n",
      "Labels shape: torch.Size([16]), Labels type: torch.int64\n",
      "Outputs shape: torch.Size([16, 26]), Outputs type: torch.float32\n"
     ]
    },
    {
     "name": "stderr",
     "output_type": "stream",
     "text": [
      "Epoch 7/10:  26%|██▌       | 26/100 [00:06<00:17,  4.32it/s]"
     ]
    },
    {
     "name": "stdout",
     "output_type": "stream",
     "text": [
      "Input shape: torch.Size([16, 501, 64, 64]), Input type: torch.float32\n",
      "Labels shape: torch.Size([16]), Labels type: torch.int64\n",
      "Outputs shape: torch.Size([16, 26]), Outputs type: torch.float32\n"
     ]
    },
    {
     "name": "stderr",
     "output_type": "stream",
     "text": [
      "Epoch 7/10:  27%|██▋       | 27/100 [00:06<00:16,  4.31it/s]"
     ]
    },
    {
     "name": "stdout",
     "output_type": "stream",
     "text": [
      "Input shape: torch.Size([16, 501, 64, 64]), Input type: torch.float32\n",
      "Labels shape: torch.Size([16]), Labels type: torch.int64\n",
      "Outputs shape: torch.Size([16, 26]), Outputs type: torch.float32\n"
     ]
    },
    {
     "name": "stderr",
     "output_type": "stream",
     "text": [
      "Epoch 7/10:  28%|██▊       | 28/100 [00:06<00:15,  4.53it/s]"
     ]
    },
    {
     "name": "stdout",
     "output_type": "stream",
     "text": [
      "Input shape: torch.Size([16, 501, 64, 64]), Input type: torch.float32\n",
      "Labels shape: torch.Size([16]), Labels type: torch.int64\n",
      "Outputs shape: torch.Size([16, 26]), Outputs type: torch.float32\n"
     ]
    },
    {
     "name": "stderr",
     "output_type": "stream",
     "text": [
      "Epoch 7/10:  29%|██▉       | 29/100 [00:06<00:15,  4.55it/s]"
     ]
    },
    {
     "name": "stdout",
     "output_type": "stream",
     "text": [
      "Input shape: torch.Size([16, 501, 64, 64]), Input type: torch.float32\n",
      "Labels shape: torch.Size([16]), Labels type: torch.int64\n",
      "Outputs shape: torch.Size([16, 26]), Outputs type: torch.float32\n"
     ]
    },
    {
     "name": "stderr",
     "output_type": "stream",
     "text": [
      "Epoch 7/10:  30%|███       | 30/100 [00:06<00:15,  4.66it/s]"
     ]
    },
    {
     "name": "stdout",
     "output_type": "stream",
     "text": [
      "Input shape: torch.Size([16, 501, 64, 64]), Input type: torch.float32\n",
      "Labels shape: torch.Size([16]), Labels type: torch.int64\n",
      "Outputs shape: torch.Size([16, 26]), Outputs type: torch.float32\n",
      "Input shape: torch.Size([16, 501, 64, 64]), Input type: torch.float32\n",
      "Labels shape: torch.Size([16]), Labels type: torch.int64\n"
     ]
    },
    {
     "name": "stderr",
     "output_type": "stream",
     "text": [
      "Epoch 7/10:  31%|███       | 31/100 [00:07<00:14,  4.79it/s]"
     ]
    },
    {
     "name": "stdout",
     "output_type": "stream",
     "text": [
      "Outputs shape: torch.Size([16, 26]), Outputs type: torch.float32\n",
      "Input shape: torch.Size([16, 501, 64, 64]), Input type: torch.float32\n",
      "Labels shape: torch.Size([16]), Labels type: torch.int64\n"
     ]
    },
    {
     "name": "stderr",
     "output_type": "stream",
     "text": [
      "Epoch 7/10:  32%|███▏      | 32/100 [00:07<00:14,  4.73it/s]"
     ]
    },
    {
     "name": "stdout",
     "output_type": "stream",
     "text": [
      "Outputs shape: torch.Size([16, 26]), Outputs type: torch.float32\n",
      "Input shape: torch.Size([16, 501, 64, 64]), Input type: torch.float32\n",
      "Labels shape: torch.Size([16]), Labels type: torch.int64\n"
     ]
    },
    {
     "name": "stderr",
     "output_type": "stream",
     "text": [
      "Epoch 7/10:  33%|███▎      | 33/100 [00:07<00:13,  4.82it/s]"
     ]
    },
    {
     "name": "stdout",
     "output_type": "stream",
     "text": [
      "Outputs shape: torch.Size([16, 26]), Outputs type: torch.float32\n",
      "Input shape: torch.Size([16, 501, 64, 64]), Input type: torch.float32\n",
      "Labels shape: torch.Size([16]), Labels type: torch.int64\n"
     ]
    },
    {
     "name": "stderr",
     "output_type": "stream",
     "text": [
      "Epoch 7/10:  34%|███▍      | 34/100 [00:07<00:13,  4.86it/s]"
     ]
    },
    {
     "name": "stdout",
     "output_type": "stream",
     "text": [
      "Outputs shape: torch.Size([16, 26]), Outputs type: torch.float32\n",
      "Input shape: torch.Size([16, 501, 64, 64]), Input type: torch.float32\n",
      "Labels shape: torch.Size([16]), Labels type: torch.int64\n",
      "Outputs shape: torch.Size([16, 26]), Outputs type: torch.float32\n"
     ]
    },
    {
     "name": "stderr",
     "output_type": "stream",
     "text": [
      "Epoch 7/10:  36%|███▌      | 36/100 [00:08<00:13,  4.84it/s]"
     ]
    },
    {
     "name": "stdout",
     "output_type": "stream",
     "text": [
      "Input shape: torch.Size([16, 501, 64, 64]), Input type: torch.float32\n",
      "Labels shape: torch.Size([16]), Labels type: torch.int64\n",
      "Outputs shape: torch.Size([16, 26]), Outputs type: torch.float32\n"
     ]
    },
    {
     "name": "stderr",
     "output_type": "stream",
     "text": [
      "Epoch 7/10:  37%|███▋      | 37/100 [00:08<00:13,  4.77it/s]"
     ]
    },
    {
     "name": "stdout",
     "output_type": "stream",
     "text": [
      "Input shape: torch.Size([16, 501, 64, 64]), Input type: torch.float32\n",
      "Labels shape: torch.Size([16]), Labels type: torch.int64\n",
      "Outputs shape: torch.Size([16, 26]), Outputs type: torch.float32\n"
     ]
    },
    {
     "name": "stderr",
     "output_type": "stream",
     "text": [
      "Epoch 7/10:  38%|███▊      | 38/100 [00:08<00:12,  4.79it/s]"
     ]
    },
    {
     "name": "stdout",
     "output_type": "stream",
     "text": [
      "Input shape: torch.Size([16, 501, 64, 64]), Input type: torch.float32\n",
      "Labels shape: torch.Size([16]), Labels type: torch.int64\n",
      "Outputs shape: torch.Size([16, 26]), Outputs type: torch.float32\n",
      "Input shape: torch.Size([16, 501, 64, 64]), Input type: torch.float32\n",
      "Labels shape: torch.Size([16]), Labels type: torch.int64\n"
     ]
    },
    {
     "name": "stderr",
     "output_type": "stream",
     "text": [
      "Epoch 7/10:  39%|███▉      | 39/100 [00:08<00:12,  4.84it/s]"
     ]
    },
    {
     "name": "stdout",
     "output_type": "stream",
     "text": [
      "Outputs shape: torch.Size([16, 26]), Outputs type: torch.float32\n",
      "Input shape: torch.Size([16, 501, 64, 64]), Input type: torch.float32\n",
      "Labels shape: torch.Size([16]), Labels type: torch.int64\n"
     ]
    },
    {
     "name": "stderr",
     "output_type": "stream",
     "text": [
      "Epoch 7/10:  40%|████      | 40/100 [00:08<00:13,  4.59it/s]"
     ]
    },
    {
     "name": "stdout",
     "output_type": "stream",
     "text": [
      "Outputs shape: torch.Size([16, 26]), Outputs type: torch.float32\n"
     ]
    },
    {
     "name": "stderr",
     "output_type": "stream",
     "text": [
      "Epoch 7/10:  41%|████      | 41/100 [00:09<00:13,  4.35it/s]"
     ]
    },
    {
     "name": "stdout",
     "output_type": "stream",
     "text": [
      "Input shape: torch.Size([16, 501, 64, 64]), Input type: torch.float32\n",
      "Labels shape: torch.Size([16]), Labels type: torch.int64\n",
      "Outputs shape: torch.Size([16, 26]), Outputs type: torch.float32\n"
     ]
    },
    {
     "name": "stderr",
     "output_type": "stream",
     "text": [
      "Epoch 7/10:  42%|████▏     | 42/100 [00:09<00:13,  4.32it/s]"
     ]
    },
    {
     "name": "stdout",
     "output_type": "stream",
     "text": [
      "Input shape: torch.Size([16, 501, 64, 64]), Input type: torch.float32\n",
      "Labels shape: torch.Size([16]), Labels type: torch.int64\n",
      "Outputs shape: torch.Size([16, 26]), Outputs type: torch.float32\n"
     ]
    },
    {
     "name": "stderr",
     "output_type": "stream",
     "text": [
      "Epoch 7/10:  43%|████▎     | 43/100 [00:09<00:12,  4.51it/s]"
     ]
    },
    {
     "name": "stdout",
     "output_type": "stream",
     "text": [
      "Input shape: torch.Size([16, 501, 64, 64]), Input type: torch.float32\n",
      "Labels shape: torch.Size([16]), Labels type: torch.int64\n",
      "Outputs shape: torch.Size([16, 26]), Outputs type: torch.float32\n",
      "Input shape: torch.Size([16, 501, 64, 64]), Input type: torch.float32\n",
      "Labels shape: torch.Size([16]), Labels type: torch.int64\n"
     ]
    },
    {
     "name": "stderr",
     "output_type": "stream",
     "text": [
      "Epoch 7/10:  44%|████▍     | 44/100 [00:09<00:12,  4.62it/s]"
     ]
    },
    {
     "name": "stdout",
     "output_type": "stream",
     "text": [
      "Outputs shape: torch.Size([16, 26]), Outputs type: torch.float32\n",
      "Input shape: torch.Size([16, 501, 64, 64]), Input type: torch.float32\n",
      "Labels shape: torch.Size([16]), Labels type: torch.int64\n"
     ]
    },
    {
     "name": "stderr",
     "output_type": "stream",
     "text": [
      "Epoch 7/10:  45%|████▌     | 45/100 [00:10<00:11,  4.59it/s]"
     ]
    },
    {
     "name": "stdout",
     "output_type": "stream",
     "text": [
      "Outputs shape: torch.Size([16, 26]), Outputs type: torch.float32\n"
     ]
    },
    {
     "name": "stderr",
     "output_type": "stream",
     "text": [
      "Epoch 7/10:  46%|████▌     | 46/100 [00:10<00:12,  4.39it/s]"
     ]
    },
    {
     "name": "stdout",
     "output_type": "stream",
     "text": [
      "Input shape: torch.Size([16, 501, 64, 64]), Input type: torch.float32\n",
      "Labels shape: torch.Size([16]), Labels type: torch.int64\n",
      "Outputs shape: torch.Size([16, 26]), Outputs type: torch.float32\n"
     ]
    },
    {
     "name": "stderr",
     "output_type": "stream",
     "text": [
      "Epoch 7/10:  47%|████▋     | 47/100 [00:10<00:12,  4.32it/s]"
     ]
    },
    {
     "name": "stdout",
     "output_type": "stream",
     "text": [
      "Input shape: torch.Size([16, 501, 64, 64]), Input type: torch.float32\n",
      "Labels shape: torch.Size([16]), Labels type: torch.int64\n",
      "Outputs shape: torch.Size([16, 26]), Outputs type: torch.float32\n"
     ]
    },
    {
     "name": "stderr",
     "output_type": "stream",
     "text": [
      "Epoch 7/10:  48%|████▊     | 48/100 [00:10<00:12,  4.18it/s]"
     ]
    },
    {
     "name": "stdout",
     "output_type": "stream",
     "text": [
      "Input shape: torch.Size([16, 501, 64, 64]), Input type: torch.float32\n",
      "Labels shape: torch.Size([16]), Labels type: torch.int64\n",
      "Outputs shape: torch.Size([16, 26]), Outputs type: torch.float32\n"
     ]
    },
    {
     "name": "stderr",
     "output_type": "stream",
     "text": [
      "Epoch 7/10:  49%|████▉     | 49/100 [00:11<00:12,  4.17it/s]"
     ]
    },
    {
     "name": "stdout",
     "output_type": "stream",
     "text": [
      "Input shape: torch.Size([16, 501, 64, 64]), Input type: torch.float32\n",
      "Labels shape: torch.Size([16]), Labels type: torch.int64\n",
      "Outputs shape: torch.Size([16, 26]), Outputs type: torch.float32\n",
      "Input shape: torch.Size([16, 501, 64, 64]), Input type: torch.float32\n",
      "Labels shape: torch.Size([16]), Labels type: torch.int64\n"
     ]
    },
    {
     "name": "stderr",
     "output_type": "stream",
     "text": [
      "Epoch 7/10:  50%|█████     | 50/100 [00:11<00:11,  4.27it/s]"
     ]
    },
    {
     "name": "stdout",
     "output_type": "stream",
     "text": [
      "Outputs shape: torch.Size([16, 26]), Outputs type: torch.float32\n",
      "Input shape: torch.Size([16, 501, 64, 64]), Input type: torch.float32\n",
      "Labels shape: torch.Size([16]), Labels type: torch.int64\n"
     ]
    },
    {
     "name": "stderr",
     "output_type": "stream",
     "text": [
      "Epoch 7/10:  51%|█████     | 51/100 [00:11<00:10,  4.48it/s]"
     ]
    },
    {
     "name": "stdout",
     "output_type": "stream",
     "text": [
      "Outputs shape: torch.Size([16, 26]), Outputs type: torch.float32\n",
      "Input shape: torch.Size([16, 501, 64, 64]), Input type: torch.float32\n",
      "Labels shape: torch.Size([16]), Labels type: torch.int64\n"
     ]
    },
    {
     "name": "stderr",
     "output_type": "stream",
     "text": [
      "Epoch 7/10:  52%|█████▏    | 52/100 [00:11<00:10,  4.55it/s]"
     ]
    },
    {
     "name": "stdout",
     "output_type": "stream",
     "text": [
      "Outputs shape: torch.Size([16, 26]), Outputs type: torch.float32\n",
      "Input shape: torch.Size([16, 501, 64, 64]), Input type: torch.float32\n",
      "Labels shape: torch.Size([16]), Labels type: torch.int64\n",
      "Outputs shape: torch.Size([16, 26]), Outputs type: torch.float32\n"
     ]
    },
    {
     "name": "stderr",
     "output_type": "stream",
     "text": [
      "Epoch 7/10:  54%|█████▍    | 54/100 [00:12<00:09,  4.74it/s]"
     ]
    },
    {
     "name": "stdout",
     "output_type": "stream",
     "text": [
      "Input shape: torch.Size([16, 501, 64, 64]), Input type: torch.float32\n",
      "Labels shape: torch.Size([16]), Labels type: torch.int64\n",
      "Outputs shape: torch.Size([16, 26]), Outputs type: torch.float32\n",
      "Input shape: torch.Size([16, 501, 64, 64]), Input type: torch.float32\n",
      "Labels shape: torch.Size([16]), Labels type: torch.int64\n"
     ]
    },
    {
     "name": "stderr",
     "output_type": "stream",
     "text": [
      "Epoch 7/10:  55%|█████▌    | 55/100 [00:12<00:09,  4.66it/s]"
     ]
    },
    {
     "name": "stdout",
     "output_type": "stream",
     "text": [
      "Outputs shape: torch.Size([16, 26]), Outputs type: torch.float32\n",
      "Input shape: torch.Size([16, 501, 64, 64]), Input type: torch.float32\n",
      "Labels shape: torch.Size([16]), Labels type: torch.int64\n"
     ]
    },
    {
     "name": "stderr",
     "output_type": "stream",
     "text": [
      "Epoch 7/10:  56%|█████▌    | 56/100 [00:12<00:09,  4.61it/s]"
     ]
    },
    {
     "name": "stdout",
     "output_type": "stream",
     "text": [
      "Outputs shape: torch.Size([16, 26]), Outputs type: torch.float32\n"
     ]
    },
    {
     "name": "stderr",
     "output_type": "stream",
     "text": [
      "Epoch 7/10:  57%|█████▋    | 57/100 [00:12<00:09,  4.45it/s]"
     ]
    },
    {
     "name": "stdout",
     "output_type": "stream",
     "text": [
      "Input shape: torch.Size([16, 501, 64, 64]), Input type: torch.float32\n",
      "Labels shape: torch.Size([16]), Labels type: torch.int64\n",
      "Outputs shape: torch.Size([16, 26]), Outputs type: torch.float32\n"
     ]
    },
    {
     "name": "stderr",
     "output_type": "stream",
     "text": [
      "Epoch 7/10:  58%|█████▊    | 58/100 [00:13<00:09,  4.56it/s]"
     ]
    },
    {
     "name": "stdout",
     "output_type": "stream",
     "text": [
      "Input shape: torch.Size([16, 501, 64, 64]), Input type: torch.float32\n",
      "Labels shape: torch.Size([16]), Labels type: torch.int64\n",
      "Outputs shape: torch.Size([16, 26]), Outputs type: torch.float32\n",
      "Input shape: torch.Size([16, 501, 64, 64]), Input type: torch.float32\n",
      "Labels shape: torch.Size([16]), Labels type: torch.int64\n"
     ]
    },
    {
     "name": "stderr",
     "output_type": "stream",
     "text": [
      "Epoch 7/10:  59%|█████▉    | 59/100 [00:13<00:08,  4.65it/s]"
     ]
    },
    {
     "name": "stdout",
     "output_type": "stream",
     "text": [
      "Outputs shape: torch.Size([16, 26]), Outputs type: torch.float32\n",
      "Input shape: torch.Size([16, 501, 64, 64]), Input type: torch.float32\n",
      "Labels shape: torch.Size([16]), Labels type: torch.int64\n"
     ]
    },
    {
     "name": "stderr",
     "output_type": "stream",
     "text": [
      "Epoch 7/10:  60%|██████    | 60/100 [00:13<00:08,  4.77it/s]"
     ]
    },
    {
     "name": "stdout",
     "output_type": "stream",
     "text": [
      "Outputs shape: torch.Size([16, 26]), Outputs type: torch.float32\n",
      "Input shape: torch.Size([16, 501, 64, 64]), Input type: torch.float32\n",
      "Labels shape: torch.Size([16]), Labels type: torch.int64\n",
      "Outputs shape: torch.Size([16, 26]), Outputs type: torch.float32\n"
     ]
    },
    {
     "name": "stderr",
     "output_type": "stream",
     "text": [
      "Epoch 7/10:  62%|██████▏   | 62/100 [00:13<00:08,  4.75it/s]"
     ]
    },
    {
     "name": "stdout",
     "output_type": "stream",
     "text": [
      "Input shape: torch.Size([16, 501, 64, 64]), Input type: torch.float32\n",
      "Labels shape: torch.Size([16]), Labels type: torch.int64\n",
      "Outputs shape: torch.Size([16, 26]), Outputs type: torch.float32\n",
      "Input shape: torch.Size([16, 501, 64, 64]), Input type: torch.float32\n",
      "Labels shape: torch.Size([16]), Labels type: torch.int64\n"
     ]
    },
    {
     "name": "stderr",
     "output_type": "stream",
     "text": [
      "Epoch 7/10:  63%|██████▎   | 63/100 [00:14<00:07,  4.82it/s]"
     ]
    },
    {
     "name": "stdout",
     "output_type": "stream",
     "text": [
      "Outputs shape: torch.Size([16, 26]), Outputs type: torch.float32\n",
      "Input shape: torch.Size([16, 501, 64, 64]), Input type: torch.float32\n",
      "Labels shape: torch.Size([16]), Labels type: torch.int64\n"
     ]
    },
    {
     "name": "stderr",
     "output_type": "stream",
     "text": [
      "Epoch 7/10:  64%|██████▍   | 64/100 [00:14<00:07,  4.75it/s]"
     ]
    },
    {
     "name": "stdout",
     "output_type": "stream",
     "text": [
      "Outputs shape: torch.Size([16, 26]), Outputs type: torch.float32\n",
      "Input shape: torch.Size([16, 501, 64, 64]), Input type: torch.float32\n",
      "Labels shape: torch.Size([16]), Labels type: torch.int64\n"
     ]
    },
    {
     "name": "stderr",
     "output_type": "stream",
     "text": [
      "Epoch 7/10:  65%|██████▌   | 65/100 [00:14<00:07,  4.83it/s]"
     ]
    },
    {
     "name": "stdout",
     "output_type": "stream",
     "text": [
      "Outputs shape: torch.Size([16, 26]), Outputs type: torch.float32\n",
      "Input shape: torch.Size([16, 501, 64, 64]), Input type: torch.float32\n",
      "Labels shape: torch.Size([16]), Labels type: torch.int64\n",
      "Outputs shape: torch.Size([16, 26]), Outputs type: torch.float32\n"
     ]
    },
    {
     "name": "stderr",
     "output_type": "stream",
     "text": [
      "Epoch 7/10:  67%|██████▋   | 67/100 [00:14<00:06,  4.93it/s]"
     ]
    },
    {
     "name": "stdout",
     "output_type": "stream",
     "text": [
      "Input shape: torch.Size([16, 501, 64, 64]), Input type: torch.float32\n",
      "Labels shape: torch.Size([16]), Labels type: torch.int64\n",
      "Outputs shape: torch.Size([16, 26]), Outputs type: torch.float32\n",
      "Input shape: torch.Size([16, 501, 64, 64]), Input type: torch.float32\n",
      "Labels shape: torch.Size([16]), Labels type: torch.int64\n"
     ]
    },
    {
     "name": "stderr",
     "output_type": "stream",
     "text": [
      "Epoch 7/10:  68%|██████▊   | 68/100 [00:15<00:06,  4.97it/s]"
     ]
    },
    {
     "name": "stdout",
     "output_type": "stream",
     "text": [
      "Outputs shape: torch.Size([16, 26]), Outputs type: torch.float32\n",
      "Input shape: torch.Size([16, 501, 64, 64]), Input type: torch.float32\n",
      "Labels shape: torch.Size([16]), Labels type: torch.int64\n"
     ]
    },
    {
     "name": "stderr",
     "output_type": "stream",
     "text": [
      "Epoch 7/10:  69%|██████▉   | 69/100 [00:15<00:06,  4.84it/s]"
     ]
    },
    {
     "name": "stdout",
     "output_type": "stream",
     "text": [
      "Outputs shape: torch.Size([16, 26]), Outputs type: torch.float32\n",
      "Input shape: torch.Size([16, 501, 64, 64]), Input type: torch.float32\n",
      "Labels shape: torch.Size([16]), Labels type: torch.int64\n"
     ]
    },
    {
     "name": "stderr",
     "output_type": "stream",
     "text": [
      "Epoch 7/10:  70%|███████   | 70/100 [00:15<00:06,  4.89it/s]"
     ]
    },
    {
     "name": "stdout",
     "output_type": "stream",
     "text": [
      "Outputs shape: torch.Size([16, 26]), Outputs type: torch.float32\n",
      "Input shape: torch.Size([16, 501, 64, 64]), Input type: torch.float32\n",
      "Labels shape: torch.Size([16]), Labels type: torch.int64\n",
      "Outputs shape: torch.Size([16, 26]), Outputs type: torch.float32\n"
     ]
    },
    {
     "name": "stderr",
     "output_type": "stream",
     "text": [
      "Epoch 7/10:  72%|███████▏  | 72/100 [00:15<00:05,  4.96it/s]"
     ]
    },
    {
     "name": "stdout",
     "output_type": "stream",
     "text": [
      "Input shape: torch.Size([16, 501, 64, 64]), Input type: torch.float32\n",
      "Labels shape: torch.Size([16]), Labels type: torch.int64\n",
      "Outputs shape: torch.Size([16, 26]), Outputs type: torch.float32\n",
      "Input shape: torch.Size([16, 501, 64, 64]), Input type: torch.float32\n",
      "Labels shape: torch.Size([16]), Labels type: torch.int64\n"
     ]
    },
    {
     "name": "stderr",
     "output_type": "stream",
     "text": [
      "Epoch 7/10:  73%|███████▎  | 73/100 [00:16<00:05,  4.98it/s]"
     ]
    },
    {
     "name": "stdout",
     "output_type": "stream",
     "text": [
      "Outputs shape: torch.Size([16, 26]), Outputs type: torch.float32\n",
      "Input shape: torch.Size([16, 501, 64, 64]), Input type: torch.float32\n",
      "Labels shape: torch.Size([16]), Labels type: torch.int64\n"
     ]
    },
    {
     "name": "stderr",
     "output_type": "stream",
     "text": [
      "Epoch 7/10:  74%|███████▍  | 74/100 [00:16<00:05,  4.83it/s]"
     ]
    },
    {
     "name": "stdout",
     "output_type": "stream",
     "text": [
      "Outputs shape: torch.Size([16, 26]), Outputs type: torch.float32\n",
      "Input shape: torch.Size([16, 501, 64, 64]), Input type: torch.float32\n",
      "Labels shape: torch.Size([16]), Labels type: torch.int64\n"
     ]
    },
    {
     "name": "stderr",
     "output_type": "stream",
     "text": [
      "Epoch 7/10:  75%|███████▌  | 75/100 [00:16<00:05,  4.70it/s]"
     ]
    },
    {
     "name": "stdout",
     "output_type": "stream",
     "text": [
      "Outputs shape: torch.Size([16, 26]), Outputs type: torch.float32\n",
      "Input shape: torch.Size([16, 501, 64, 64]), Input type: torch.float32\n",
      "Labels shape: torch.Size([16]), Labels type: torch.int64\n"
     ]
    },
    {
     "name": "stderr",
     "output_type": "stream",
     "text": [
      "Epoch 7/10:  76%|███████▌  | 76/100 [00:16<00:05,  4.60it/s]"
     ]
    },
    {
     "name": "stdout",
     "output_type": "stream",
     "text": [
      "Outputs shape: torch.Size([16, 26]), Outputs type: torch.float32\n",
      "Input shape: torch.Size([16, 501, 64, 64]), Input type: torch.float32\n",
      "Labels shape: torch.Size([16]), Labels type: torch.int64\n"
     ]
    },
    {
     "name": "stderr",
     "output_type": "stream",
     "text": [
      "Epoch 7/10:  77%|███████▋  | 77/100 [00:16<00:05,  4.57it/s]"
     ]
    },
    {
     "name": "stdout",
     "output_type": "stream",
     "text": [
      "Outputs shape: torch.Size([16, 26]), Outputs type: torch.float32\n",
      "Input shape: torch.Size([16, 501, 64, 64]), Input type: torch.float32\n",
      "Labels shape: torch.Size([16]), Labels type: torch.int64\n"
     ]
    },
    {
     "name": "stderr",
     "output_type": "stream",
     "text": [
      "Epoch 7/10:  78%|███████▊  | 78/100 [00:17<00:04,  4.55it/s]"
     ]
    },
    {
     "name": "stdout",
     "output_type": "stream",
     "text": [
      "Outputs shape: torch.Size([16, 26]), Outputs type: torch.float32\n",
      "Input shape: torch.Size([16, 501, 64, 64]), Input type: torch.float32\n",
      "Labels shape: torch.Size([16]), Labels type: torch.int64\n"
     ]
    },
    {
     "name": "stderr",
     "output_type": "stream",
     "text": [
      "Epoch 7/10:  79%|███████▉  | 79/100 [00:17<00:04,  4.70it/s]"
     ]
    },
    {
     "name": "stdout",
     "output_type": "stream",
     "text": [
      "Outputs shape: torch.Size([16, 26]), Outputs type: torch.float32\n",
      "Input shape: torch.Size([16, 501, 64, 64]), Input type: torch.float32\n",
      "Labels shape: torch.Size([16]), Labels type: torch.int64\n"
     ]
    },
    {
     "name": "stderr",
     "output_type": "stream",
     "text": [
      "Epoch 7/10:  80%|████████  | 80/100 [00:17<00:04,  4.78it/s]"
     ]
    },
    {
     "name": "stdout",
     "output_type": "stream",
     "text": [
      "Outputs shape: torch.Size([16, 26]), Outputs type: torch.float32\n",
      "Input shape: torch.Size([16, 501, 64, 64]), Input type: torch.float32\n",
      "Labels shape: torch.Size([16]), Labels type: torch.int64\n"
     ]
    },
    {
     "name": "stderr",
     "output_type": "stream",
     "text": [
      "Epoch 7/10:  81%|████████  | 81/100 [00:17<00:03,  4.79it/s]"
     ]
    },
    {
     "name": "stdout",
     "output_type": "stream",
     "text": [
      "Outputs shape: torch.Size([16, 26]), Outputs type: torch.float32\n",
      "Input shape: torch.Size([16, 501, 64, 64]), Input type: torch.float32\n",
      "Labels shape: torch.Size([16]), Labels type: torch.int64\n"
     ]
    },
    {
     "name": "stderr",
     "output_type": "stream",
     "text": [
      "Epoch 7/10:  82%|████████▏ | 82/100 [00:18<00:03,  4.75it/s]"
     ]
    },
    {
     "name": "stdout",
     "output_type": "stream",
     "text": [
      "Outputs shape: torch.Size([16, 26]), Outputs type: torch.float32\n"
     ]
    },
    {
     "name": "stderr",
     "output_type": "stream",
     "text": [
      "Epoch 7/10:  83%|████████▎ | 83/100 [00:18<00:03,  4.51it/s]"
     ]
    },
    {
     "name": "stdout",
     "output_type": "stream",
     "text": [
      "Input shape: torch.Size([16, 501, 64, 64]), Input type: torch.float32\n",
      "Labels shape: torch.Size([16]), Labels type: torch.int64\n",
      "Outputs shape: torch.Size([16, 26]), Outputs type: torch.float32\n"
     ]
    },
    {
     "name": "stderr",
     "output_type": "stream",
     "text": [
      "Epoch 7/10:  84%|████████▍ | 84/100 [00:18<00:03,  4.45it/s]"
     ]
    },
    {
     "name": "stdout",
     "output_type": "stream",
     "text": [
      "Input shape: torch.Size([16, 501, 64, 64]), Input type: torch.float32\n",
      "Labels shape: torch.Size([16]), Labels type: torch.int64\n",
      "Outputs shape: torch.Size([16, 26]), Outputs type: torch.float32\n",
      "Input shape: torch.Size([16, 501, 64, 64]), Input type: torch.float32\n",
      "Labels shape: torch.Size([16]), Labels type: torch.int64\n"
     ]
    },
    {
     "name": "stderr",
     "output_type": "stream",
     "text": [
      "Epoch 7/10:  85%|████████▌ | 85/100 [00:18<00:03,  4.62it/s]"
     ]
    },
    {
     "name": "stdout",
     "output_type": "stream",
     "text": [
      "Outputs shape: torch.Size([16, 26]), Outputs type: torch.float32\n"
     ]
    },
    {
     "name": "stderr",
     "output_type": "stream",
     "text": [
      "Epoch 7/10:  86%|████████▌ | 86/100 [00:18<00:03,  4.50it/s]"
     ]
    },
    {
     "name": "stdout",
     "output_type": "stream",
     "text": [
      "Input shape: torch.Size([16, 501, 64, 64]), Input type: torch.float32\n",
      "Labels shape: torch.Size([16]), Labels type: torch.int64\n",
      "Outputs shape: torch.Size([16, 26]), Outputs type: torch.float32\n"
     ]
    },
    {
     "name": "stderr",
     "output_type": "stream",
     "text": [
      "Epoch 7/10:  87%|████████▋ | 87/100 [00:19<00:02,  4.42it/s]"
     ]
    },
    {
     "name": "stdout",
     "output_type": "stream",
     "text": [
      "Input shape: torch.Size([16, 501, 64, 64]), Input type: torch.float32\n",
      "Labels shape: torch.Size([16]), Labels type: torch.int64\n",
      "Outputs shape: torch.Size([16, 26]), Outputs type: torch.float32\n"
     ]
    },
    {
     "name": "stderr",
     "output_type": "stream",
     "text": [
      "Epoch 7/10:  88%|████████▊ | 88/100 [00:19<00:02,  4.39it/s]"
     ]
    },
    {
     "name": "stdout",
     "output_type": "stream",
     "text": [
      "Input shape: torch.Size([16, 501, 64, 64]), Input type: torch.float32\n",
      "Labels shape: torch.Size([16]), Labels type: torch.int64\n",
      "Outputs shape: torch.Size([16, 26]), Outputs type: torch.float32\n"
     ]
    },
    {
     "name": "stderr",
     "output_type": "stream",
     "text": [
      "Epoch 7/10:  89%|████████▉ | 89/100 [00:19<00:02,  4.39it/s]"
     ]
    },
    {
     "name": "stdout",
     "output_type": "stream",
     "text": [
      "Input shape: torch.Size([16, 501, 64, 64]), Input type: torch.float32\n",
      "Labels shape: torch.Size([16]), Labels type: torch.int64\n",
      "Outputs shape: torch.Size([16, 26]), Outputs type: torch.float32\n"
     ]
    },
    {
     "name": "stderr",
     "output_type": "stream",
     "text": [
      "Epoch 7/10:  90%|█████████ | 90/100 [00:19<00:02,  4.39it/s]"
     ]
    },
    {
     "name": "stdout",
     "output_type": "stream",
     "text": [
      "Input shape: torch.Size([16, 501, 64, 64]), Input type: torch.float32\n",
      "Labels shape: torch.Size([16]), Labels type: torch.int64\n",
      "Outputs shape: torch.Size([16, 26]), Outputs type: torch.float32\n"
     ]
    },
    {
     "name": "stderr",
     "output_type": "stream",
     "text": [
      "Epoch 7/10:  91%|█████████ | 91/100 [00:20<00:02,  4.44it/s]"
     ]
    },
    {
     "name": "stdout",
     "output_type": "stream",
     "text": [
      "Input shape: torch.Size([16, 501, 64, 64]), Input type: torch.float32\n",
      "Labels shape: torch.Size([16]), Labels type: torch.int64\n",
      "Outputs shape: torch.Size([16, 26]), Outputs type: torch.float32\n"
     ]
    },
    {
     "name": "stderr",
     "output_type": "stream",
     "text": [
      "Epoch 7/10:  92%|█████████▏| 92/100 [00:20<00:01,  4.42it/s]"
     ]
    },
    {
     "name": "stdout",
     "output_type": "stream",
     "text": [
      "Input shape: torch.Size([16, 501, 64, 64]), Input type: torch.float32\n",
      "Labels shape: torch.Size([16]), Labels type: torch.int64\n",
      "Outputs shape: torch.Size([16, 26]), Outputs type: torch.float32\n"
     ]
    },
    {
     "name": "stderr",
     "output_type": "stream",
     "text": [
      "Epoch 7/10:  93%|█████████▎| 93/100 [00:20<00:01,  4.44it/s]"
     ]
    },
    {
     "name": "stdout",
     "output_type": "stream",
     "text": [
      "Input shape: torch.Size([16, 501, 64, 64]), Input type: torch.float32\n",
      "Labels shape: torch.Size([16]), Labels type: torch.int64\n",
      "Outputs shape: torch.Size([16, 26]), Outputs type: torch.float32\n"
     ]
    },
    {
     "name": "stderr",
     "output_type": "stream",
     "text": [
      "Epoch 7/10:  94%|█████████▍| 94/100 [00:20<00:01,  4.46it/s]"
     ]
    },
    {
     "name": "stdout",
     "output_type": "stream",
     "text": [
      "Input shape: torch.Size([16, 501, 64, 64]), Input type: torch.float32\n",
      "Labels shape: torch.Size([16]), Labels type: torch.int64\n",
      "Outputs shape: torch.Size([16, 26]), Outputs type: torch.float32\n"
     ]
    },
    {
     "name": "stderr",
     "output_type": "stream",
     "text": [
      "Epoch 7/10:  95%|█████████▌| 95/100 [00:20<00:01,  4.30it/s]"
     ]
    },
    {
     "name": "stdout",
     "output_type": "stream",
     "text": [
      "Input shape: torch.Size([16, 501, 64, 64]), Input type: torch.float32\n",
      "Labels shape: torch.Size([16]), Labels type: torch.int64\n",
      "Outputs shape: torch.Size([16, 26]), Outputs type: torch.float32\n"
     ]
    },
    {
     "name": "stderr",
     "output_type": "stream",
     "text": [
      "Epoch 7/10:  96%|█████████▌| 96/100 [00:21<00:00,  4.34it/s]"
     ]
    },
    {
     "name": "stdout",
     "output_type": "stream",
     "text": [
      "Input shape: torch.Size([16, 501, 64, 64]), Input type: torch.float32\n",
      "Labels shape: torch.Size([16]), Labels type: torch.int64\n",
      "Outputs shape: torch.Size([16, 26]), Outputs type: torch.float32\n"
     ]
    },
    {
     "name": "stderr",
     "output_type": "stream",
     "text": [
      "Epoch 7/10:  97%|█████████▋| 97/100 [00:21<00:00,  4.35it/s]"
     ]
    },
    {
     "name": "stdout",
     "output_type": "stream",
     "text": [
      "Input shape: torch.Size([16, 501, 64, 64]), Input type: torch.float32\n",
      "Labels shape: torch.Size([16]), Labels type: torch.int64\n",
      "Outputs shape: torch.Size([16, 26]), Outputs type: torch.float32\n"
     ]
    },
    {
     "name": "stderr",
     "output_type": "stream",
     "text": [
      "Epoch 7/10:  98%|█████████▊| 98/100 [00:21<00:00,  4.42it/s]"
     ]
    },
    {
     "name": "stdout",
     "output_type": "stream",
     "text": [
      "Input shape: torch.Size([16, 501, 64, 64]), Input type: torch.float32\n",
      "Labels shape: torch.Size([16]), Labels type: torch.int64\n",
      "Outputs shape: torch.Size([16, 26]), Outputs type: torch.float32\n"
     ]
    },
    {
     "name": "stderr",
     "output_type": "stream",
     "text": [
      "Epoch 7/10: 100%|██████████| 100/100 [00:21<00:00,  4.56it/s]\n"
     ]
    },
    {
     "name": "stdout",
     "output_type": "stream",
     "text": [
      "Input shape: torch.Size([16, 501, 64, 64]), Input type: torch.float32\n",
      "Labels shape: torch.Size([16]), Labels type: torch.int64\n",
      "Outputs shape: torch.Size([16, 26]), Outputs type: torch.float32\n",
      "Input shape: torch.Size([6, 501, 64, 64]), Input type: torch.float32\n",
      "Labels shape: torch.Size([6]), Labels type: torch.int64\n",
      "Outputs shape: torch.Size([6, 26]), Outputs type: torch.float32\n"
     ]
    },
    {
     "name": "stderr",
     "output_type": "stream",
     "text": [
      "Epoch 8/10:   1%|          | 1/100 [00:00<00:23,  4.14it/s]"
     ]
    },
    {
     "name": "stdout",
     "output_type": "stream",
     "text": [
      "Input shape: torch.Size([16, 501, 64, 64]), Input type: torch.float32\n",
      "Labels shape: torch.Size([16]), Labels type: torch.int64\n",
      "Outputs shape: torch.Size([16, 26]), Outputs type: torch.float32\n"
     ]
    },
    {
     "name": "stderr",
     "output_type": "stream",
     "text": [
      "Epoch 8/10:   2%|▏         | 2/100 [00:00<00:24,  3.97it/s]"
     ]
    },
    {
     "name": "stdout",
     "output_type": "stream",
     "text": [
      "Input shape: torch.Size([16, 501, 64, 64]), Input type: torch.float32\n",
      "Labels shape: torch.Size([16]), Labels type: torch.int64\n",
      "Outputs shape: torch.Size([16, 26]), Outputs type: torch.float32\n"
     ]
    },
    {
     "name": "stderr",
     "output_type": "stream",
     "text": [
      "Epoch 8/10:   3%|▎         | 3/100 [00:00<00:23,  4.13it/s]"
     ]
    },
    {
     "name": "stdout",
     "output_type": "stream",
     "text": [
      "Input shape: torch.Size([16, 501, 64, 64]), Input type: torch.float32\n",
      "Labels shape: torch.Size([16]), Labels type: torch.int64\n",
      "Outputs shape: torch.Size([16, 26]), Outputs type: torch.float32\n"
     ]
    },
    {
     "name": "stderr",
     "output_type": "stream",
     "text": [
      "Epoch 8/10:   4%|▍         | 4/100 [00:00<00:22,  4.31it/s]"
     ]
    },
    {
     "name": "stdout",
     "output_type": "stream",
     "text": [
      "Input shape: torch.Size([16, 501, 64, 64]), Input type: torch.float32\n",
      "Labels shape: torch.Size([16]), Labels type: torch.int64\n",
      "Outputs shape: torch.Size([16, 26]), Outputs type: torch.float32\n"
     ]
    },
    {
     "name": "stderr",
     "output_type": "stream",
     "text": [
      "Epoch 8/10:   5%|▌         | 5/100 [00:01<00:21,  4.42it/s]"
     ]
    },
    {
     "name": "stdout",
     "output_type": "stream",
     "text": [
      "Input shape: torch.Size([16, 501, 64, 64]), Input type: torch.float32\n",
      "Labels shape: torch.Size([16]), Labels type: torch.int64\n",
      "Outputs shape: torch.Size([16, 26]), Outputs type: torch.float32\n"
     ]
    },
    {
     "name": "stderr",
     "output_type": "stream",
     "text": [
      "Epoch 8/10:   6%|▌         | 6/100 [00:01<00:22,  4.26it/s]"
     ]
    },
    {
     "name": "stdout",
     "output_type": "stream",
     "text": [
      "Input shape: torch.Size([16, 501, 64, 64]), Input type: torch.float32\n",
      "Labels shape: torch.Size([16]), Labels type: torch.int64\n",
      "Outputs shape: torch.Size([16, 26]), Outputs type: torch.float32\n"
     ]
    },
    {
     "name": "stderr",
     "output_type": "stream",
     "text": [
      "Epoch 8/10:   7%|▋         | 7/100 [00:01<00:21,  4.28it/s]"
     ]
    },
    {
     "name": "stdout",
     "output_type": "stream",
     "text": [
      "Input shape: torch.Size([16, 501, 64, 64]), Input type: torch.float32\n",
      "Labels shape: torch.Size([16]), Labels type: torch.int64\n",
      "Outputs shape: torch.Size([16, 26]), Outputs type: torch.float32\n"
     ]
    },
    {
     "name": "stderr",
     "output_type": "stream",
     "text": [
      "Epoch 8/10:   8%|▊         | 8/100 [00:01<00:21,  4.30it/s]"
     ]
    },
    {
     "name": "stdout",
     "output_type": "stream",
     "text": [
      "Input shape: torch.Size([16, 501, 64, 64]), Input type: torch.float32\n",
      "Labels shape: torch.Size([16]), Labels type: torch.int64\n",
      "Outputs shape: torch.Size([16, 26]), Outputs type: torch.float32\n"
     ]
    },
    {
     "name": "stderr",
     "output_type": "stream",
     "text": [
      "Epoch 8/10:   9%|▉         | 9/100 [00:02<00:21,  4.19it/s]"
     ]
    },
    {
     "name": "stdout",
     "output_type": "stream",
     "text": [
      "Input shape: torch.Size([16, 501, 64, 64]), Input type: torch.float32\n",
      "Labels shape: torch.Size([16]), Labels type: torch.int64\n",
      "Outputs shape: torch.Size([16, 26]), Outputs type: torch.float32\n"
     ]
    },
    {
     "name": "stderr",
     "output_type": "stream",
     "text": [
      "Epoch 8/10:  10%|█         | 10/100 [00:02<00:23,  3.86it/s]"
     ]
    },
    {
     "name": "stdout",
     "output_type": "stream",
     "text": [
      "Input shape: torch.Size([16, 501, 64, 64]), Input type: torch.float32\n",
      "Labels shape: torch.Size([16]), Labels type: torch.int64\n",
      "Outputs shape: torch.Size([16, 26]), Outputs type: torch.float32\n"
     ]
    },
    {
     "name": "stderr",
     "output_type": "stream",
     "text": [
      "Epoch 8/10:  11%|█         | 11/100 [00:02<00:22,  4.01it/s]"
     ]
    },
    {
     "name": "stdout",
     "output_type": "stream",
     "text": [
      "Input shape: torch.Size([16, 501, 64, 64]), Input type: torch.float32\n",
      "Labels shape: torch.Size([16]), Labels type: torch.int64\n",
      "Outputs shape: torch.Size([16, 26]), Outputs type: torch.float32\n"
     ]
    },
    {
     "name": "stderr",
     "output_type": "stream",
     "text": [
      "Epoch 8/10:  12%|█▏        | 12/100 [00:02<00:21,  4.10it/s]"
     ]
    },
    {
     "name": "stdout",
     "output_type": "stream",
     "text": [
      "Input shape: torch.Size([16, 501, 64, 64]), Input type: torch.float32\n",
      "Labels shape: torch.Size([16]), Labels type: torch.int64\n",
      "Outputs shape: torch.Size([16, 26]), Outputs type: torch.float32\n"
     ]
    },
    {
     "name": "stderr",
     "output_type": "stream",
     "text": [
      "Epoch 8/10:  13%|█▎        | 13/100 [00:03<00:20,  4.15it/s]"
     ]
    },
    {
     "name": "stdout",
     "output_type": "stream",
     "text": [
      "Input shape: torch.Size([16, 501, 64, 64]), Input type: torch.float32\n",
      "Labels shape: torch.Size([16]), Labels type: torch.int64\n",
      "Outputs shape: torch.Size([16, 26]), Outputs type: torch.float32\n"
     ]
    },
    {
     "name": "stderr",
     "output_type": "stream",
     "text": [
      "Epoch 8/10:  14%|█▍        | 14/100 [00:03<00:20,  4.25it/s]"
     ]
    },
    {
     "name": "stdout",
     "output_type": "stream",
     "text": [
      "Input shape: torch.Size([16, 501, 64, 64]), Input type: torch.float32\n",
      "Labels shape: torch.Size([16]), Labels type: torch.int64\n",
      "Outputs shape: torch.Size([16, 26]), Outputs type: torch.float32\n"
     ]
    },
    {
     "name": "stderr",
     "output_type": "stream",
     "text": [
      "Epoch 8/10:  15%|█▌        | 15/100 [00:03<00:19,  4.37it/s]"
     ]
    },
    {
     "name": "stdout",
     "output_type": "stream",
     "text": [
      "Input shape: torch.Size([16, 501, 64, 64]), Input type: torch.float32\n",
      "Labels shape: torch.Size([16]), Labels type: torch.int64\n",
      "Outputs shape: torch.Size([16, 26]), Outputs type: torch.float32\n"
     ]
    },
    {
     "name": "stderr",
     "output_type": "stream",
     "text": [
      "Epoch 8/10:  16%|█▌        | 16/100 [00:03<00:18,  4.47it/s]"
     ]
    },
    {
     "name": "stdout",
     "output_type": "stream",
     "text": [
      "Input shape: torch.Size([16, 501, 64, 64]), Input type: torch.float32\n",
      "Labels shape: torch.Size([16]), Labels type: torch.int64\n",
      "Outputs shape: torch.Size([16, 26]), Outputs type: torch.float32\n",
      "Input shape: torch.Size([16, 501, 64, 64]), Input type: torch.float32\n",
      "Labels shape: torch.Size([16]), Labels type: torch.int64\n"
     ]
    },
    {
     "name": "stderr",
     "output_type": "stream",
     "text": [
      "Epoch 8/10:  17%|█▋        | 17/100 [00:03<00:17,  4.62it/s]"
     ]
    },
    {
     "name": "stdout",
     "output_type": "stream",
     "text": [
      "Outputs shape: torch.Size([16, 26]), Outputs type: torch.float32\n",
      "Input shape: torch.Size([16, 501, 64, 64]), Input type: torch.float32\n",
      "Labels shape: torch.Size([16]), Labels type: torch.int64\n"
     ]
    },
    {
     "name": "stderr",
     "output_type": "stream",
     "text": [
      "Epoch 8/10:  18%|█▊        | 18/100 [00:04<00:17,  4.66it/s]"
     ]
    },
    {
     "name": "stdout",
     "output_type": "stream",
     "text": [
      "Outputs shape: torch.Size([16, 26]), Outputs type: torch.float32\n",
      "Input shape: torch.Size([16, 501, 64, 64]), Input type: torch.float32\n",
      "Labels shape: torch.Size([16]), Labels type: torch.int64\n"
     ]
    },
    {
     "name": "stderr",
     "output_type": "stream",
     "text": [
      "Epoch 8/10:  19%|█▉        | 19/100 [00:04<00:17,  4.61it/s]"
     ]
    },
    {
     "name": "stdout",
     "output_type": "stream",
     "text": [
      "Outputs shape: torch.Size([16, 26]), Outputs type: torch.float32\n",
      "Input shape: torch.Size([16, 501, 64, 64]), Input type: torch.float32\n",
      "Labels shape: torch.Size([16]), Labels type: torch.int64\n"
     ]
    },
    {
     "name": "stderr",
     "output_type": "stream",
     "text": [
      "Epoch 8/10:  20%|██        | 20/100 [00:04<00:17,  4.64it/s]"
     ]
    },
    {
     "name": "stdout",
     "output_type": "stream",
     "text": [
      "Outputs shape: torch.Size([16, 26]), Outputs type: torch.float32\n",
      "Input shape: torch.Size([16, 501, 64, 64]), Input type: torch.float32\n",
      "Labels shape: torch.Size([16]), Labels type: torch.int64\n",
      "Outputs shape: torch.Size([16, 26]), Outputs type: torch.float32\n"
     ]
    },
    {
     "name": "stderr",
     "output_type": "stream",
     "text": [
      "Epoch 8/10:  22%|██▏       | 22/100 [00:05<00:16,  4.77it/s]"
     ]
    },
    {
     "name": "stdout",
     "output_type": "stream",
     "text": [
      "Input shape: torch.Size([16, 501, 64, 64]), Input type: torch.float32\n",
      "Labels shape: torch.Size([16]), Labels type: torch.int64\n",
      "Outputs shape: torch.Size([16, 26]), Outputs type: torch.float32\n"
     ]
    },
    {
     "name": "stderr",
     "output_type": "stream",
     "text": [
      "Epoch 8/10:  23%|██▎       | 23/100 [00:05<00:15,  4.85it/s]"
     ]
    },
    {
     "name": "stdout",
     "output_type": "stream",
     "text": [
      "Input shape: torch.Size([16, 501, 64, 64]), Input type: torch.float32\n",
      "Labels shape: torch.Size([16]), Labels type: torch.int64\n",
      "Outputs shape: torch.Size([16, 26]), Outputs type: torch.float32\n",
      "Input shape: torch.Size([16, 501, 64, 64]), Input type: torch.float32\n",
      "Labels shape: torch.Size([16]), Labels type: torch.int64\n"
     ]
    },
    {
     "name": "stderr",
     "output_type": "stream",
     "text": [
      "Epoch 8/10:  24%|██▍       | 24/100 [00:05<00:16,  4.75it/s]"
     ]
    },
    {
     "name": "stdout",
     "output_type": "stream",
     "text": [
      "Outputs shape: torch.Size([16, 26]), Outputs type: torch.float32\n",
      "Input shape: torch.Size([16, 501, 64, 64]), Input type: torch.float32\n",
      "Labels shape: torch.Size([16]), Labels type: torch.int64\n"
     ]
    },
    {
     "name": "stderr",
     "output_type": "stream",
     "text": [
      "Epoch 8/10:  25%|██▌       | 25/100 [00:05<00:16,  4.65it/s]"
     ]
    },
    {
     "name": "stdout",
     "output_type": "stream",
     "text": [
      "Outputs shape: torch.Size([16, 26]), Outputs type: torch.float32\n",
      "Input shape: torch.Size([16, 501, 64, 64]), Input type: torch.float32\n",
      "Labels shape: torch.Size([16]), Labels type: torch.int64\n"
     ]
    },
    {
     "name": "stderr",
     "output_type": "stream",
     "text": [
      "Epoch 8/10:  26%|██▌       | 26/100 [00:05<00:16,  4.57it/s]"
     ]
    },
    {
     "name": "stdout",
     "output_type": "stream",
     "text": [
      "Outputs shape: torch.Size([16, 26]), Outputs type: torch.float32\n",
      "Input shape: torch.Size([16, 501, 64, 64]), Input type: torch.float32\n",
      "Labels shape: torch.Size([16]), Labels type: torch.int64\n"
     ]
    },
    {
     "name": "stderr",
     "output_type": "stream",
     "text": [
      "Epoch 8/10:  27%|██▋       | 27/100 [00:06<00:16,  4.47it/s]"
     ]
    },
    {
     "name": "stdout",
     "output_type": "stream",
     "text": [
      "Outputs shape: torch.Size([16, 26]), Outputs type: torch.float32\n",
      "Input shape: torch.Size([16, 501, 64, 64]), Input type: torch.float32\n",
      "Labels shape: torch.Size([16]), Labels type: torch.int64\n"
     ]
    },
    {
     "name": "stderr",
     "output_type": "stream",
     "text": [
      "Epoch 8/10:  28%|██▊       | 28/100 [00:06<00:16,  4.44it/s]"
     ]
    },
    {
     "name": "stdout",
     "output_type": "stream",
     "text": [
      "Outputs shape: torch.Size([16, 26]), Outputs type: torch.float32\n"
     ]
    },
    {
     "name": "stderr",
     "output_type": "stream",
     "text": [
      "Epoch 8/10:  29%|██▉       | 29/100 [00:06<00:16,  4.31it/s]"
     ]
    },
    {
     "name": "stdout",
     "output_type": "stream",
     "text": [
      "Input shape: torch.Size([16, 501, 64, 64]), Input type: torch.float32\n",
      "Labels shape: torch.Size([16]), Labels type: torch.int64\n",
      "Outputs shape: torch.Size([16, 26]), Outputs type: torch.float32\n"
     ]
    },
    {
     "name": "stderr",
     "output_type": "stream",
     "text": [
      "Epoch 8/10:  30%|███       | 30/100 [00:06<00:16,  4.31it/s]"
     ]
    },
    {
     "name": "stdout",
     "output_type": "stream",
     "text": [
      "Input shape: torch.Size([16, 501, 64, 64]), Input type: torch.float32\n",
      "Labels shape: torch.Size([16]), Labels type: torch.int64\n",
      "Outputs shape: torch.Size([16, 26]), Outputs type: torch.float32\n"
     ]
    },
    {
     "name": "stderr",
     "output_type": "stream",
     "text": [
      "Epoch 8/10:  31%|███       | 31/100 [00:07<00:15,  4.32it/s]"
     ]
    },
    {
     "name": "stdout",
     "output_type": "stream",
     "text": [
      "Input shape: torch.Size([16, 501, 64, 64]), Input type: torch.float32\n",
      "Labels shape: torch.Size([16]), Labels type: torch.int64\n",
      "Outputs shape: torch.Size([16, 26]), Outputs type: torch.float32\n"
     ]
    },
    {
     "name": "stderr",
     "output_type": "stream",
     "text": [
      "Epoch 8/10:  32%|███▏      | 32/100 [00:07<00:15,  4.38it/s]"
     ]
    },
    {
     "name": "stdout",
     "output_type": "stream",
     "text": [
      "Input shape: torch.Size([16, 501, 64, 64]), Input type: torch.float32\n",
      "Labels shape: torch.Size([16]), Labels type: torch.int64\n",
      "Outputs shape: torch.Size([16, 26]), Outputs type: torch.float32\n"
     ]
    },
    {
     "name": "stderr",
     "output_type": "stream",
     "text": [
      "Epoch 8/10:  33%|███▎      | 33/100 [00:07<00:15,  4.38it/s]"
     ]
    },
    {
     "name": "stdout",
     "output_type": "stream",
     "text": [
      "Input shape: torch.Size([16, 501, 64, 64]), Input type: torch.float32\n",
      "Labels shape: torch.Size([16]), Labels type: torch.int64\n",
      "Outputs shape: torch.Size([16, 26]), Outputs type: torch.float32\n"
     ]
    },
    {
     "name": "stderr",
     "output_type": "stream",
     "text": [
      "Epoch 8/10:  34%|███▍      | 34/100 [00:07<00:15,  4.32it/s]"
     ]
    },
    {
     "name": "stdout",
     "output_type": "stream",
     "text": [
      "Input shape: torch.Size([16, 501, 64, 64]), Input type: torch.float32\n",
      "Labels shape: torch.Size([16]), Labels type: torch.int64\n",
      "Outputs shape: torch.Size([16, 26]), Outputs type: torch.float32\n"
     ]
    },
    {
     "name": "stderr",
     "output_type": "stream",
     "text": [
      "Epoch 8/10:  35%|███▌      | 35/100 [00:07<00:15,  4.29it/s]"
     ]
    },
    {
     "name": "stdout",
     "output_type": "stream",
     "text": [
      "Input shape: torch.Size([16, 501, 64, 64]), Input type: torch.float32\n",
      "Labels shape: torch.Size([16]), Labels type: torch.int64\n",
      "Outputs shape: torch.Size([16, 26]), Outputs type: torch.float32\n"
     ]
    },
    {
     "name": "stderr",
     "output_type": "stream",
     "text": [
      "Epoch 8/10:  36%|███▌      | 36/100 [00:08<00:14,  4.36it/s]"
     ]
    },
    {
     "name": "stdout",
     "output_type": "stream",
     "text": [
      "Input shape: torch.Size([16, 501, 64, 64]), Input type: torch.float32\n",
      "Labels shape: torch.Size([16]), Labels type: torch.int64\n",
      "Outputs shape: torch.Size([16, 26]), Outputs type: torch.float32\n"
     ]
    },
    {
     "name": "stderr",
     "output_type": "stream",
     "text": [
      "Epoch 8/10:  37%|███▋      | 37/100 [00:08<00:14,  4.47it/s]"
     ]
    },
    {
     "name": "stdout",
     "output_type": "stream",
     "text": [
      "Input shape: torch.Size([16, 501, 64, 64]), Input type: torch.float32\n",
      "Labels shape: torch.Size([16]), Labels type: torch.int64\n",
      "Outputs shape: torch.Size([16, 26]), Outputs type: torch.float32\n"
     ]
    },
    {
     "name": "stderr",
     "output_type": "stream",
     "text": [
      "Epoch 8/10:  38%|███▊      | 38/100 [00:08<00:13,  4.51it/s]"
     ]
    },
    {
     "name": "stdout",
     "output_type": "stream",
     "text": [
      "Input shape: torch.Size([16, 501, 64, 64]), Input type: torch.float32\n",
      "Labels shape: torch.Size([16]), Labels type: torch.int64\n",
      "Outputs shape: torch.Size([16, 26]), Outputs type: torch.float32\n"
     ]
    },
    {
     "name": "stderr",
     "output_type": "stream",
     "text": [
      "Epoch 8/10:  39%|███▉      | 39/100 [00:08<00:14,  4.34it/s]"
     ]
    },
    {
     "name": "stdout",
     "output_type": "stream",
     "text": [
      "Input shape: torch.Size([16, 501, 64, 64]), Input type: torch.float32\n",
      "Labels shape: torch.Size([16]), Labels type: torch.int64\n",
      "Outputs shape: torch.Size([16, 26]), Outputs type: torch.float32\n"
     ]
    },
    {
     "name": "stderr",
     "output_type": "stream",
     "text": [
      "Epoch 8/10:  40%|████      | 40/100 [00:09<00:13,  4.31it/s]"
     ]
    },
    {
     "name": "stdout",
     "output_type": "stream",
     "text": [
      "Input shape: torch.Size([16, 501, 64, 64]), Input type: torch.float32\n",
      "Labels shape: torch.Size([16]), Labels type: torch.int64\n",
      "Outputs shape: torch.Size([16, 26]), Outputs type: torch.float32\n"
     ]
    },
    {
     "name": "stderr",
     "output_type": "stream",
     "text": [
      "Epoch 8/10:  41%|████      | 41/100 [00:09<00:13,  4.22it/s]"
     ]
    },
    {
     "name": "stdout",
     "output_type": "stream",
     "text": [
      "Input shape: torch.Size([16, 501, 64, 64]), Input type: torch.float32\n",
      "Labels shape: torch.Size([16]), Labels type: torch.int64\n",
      "Outputs shape: torch.Size([16, 26]), Outputs type: torch.float32\n"
     ]
    },
    {
     "name": "stderr",
     "output_type": "stream",
     "text": [
      "Epoch 8/10:  42%|████▏     | 42/100 [00:09<00:13,  4.20it/s]"
     ]
    },
    {
     "name": "stdout",
     "output_type": "stream",
     "text": [
      "Input shape: torch.Size([16, 501, 64, 64]), Input type: torch.float32\n",
      "Labels shape: torch.Size([16]), Labels type: torch.int64\n",
      "Outputs shape: torch.Size([16, 26]), Outputs type: torch.float32\n"
     ]
    },
    {
     "name": "stderr",
     "output_type": "stream",
     "text": [
      "Epoch 8/10:  43%|████▎     | 43/100 [00:09<00:13,  4.32it/s]"
     ]
    },
    {
     "name": "stdout",
     "output_type": "stream",
     "text": [
      "Input shape: torch.Size([16, 501, 64, 64]), Input type: torch.float32\n",
      "Labels shape: torch.Size([16]), Labels type: torch.int64\n",
      "Outputs shape: torch.Size([16, 26]), Outputs type: torch.float32\n"
     ]
    },
    {
     "name": "stderr",
     "output_type": "stream",
     "text": [
      "Epoch 8/10:  44%|████▍     | 44/100 [00:10<00:13,  4.24it/s]"
     ]
    },
    {
     "name": "stdout",
     "output_type": "stream",
     "text": [
      "Input shape: torch.Size([16, 501, 64, 64]), Input type: torch.float32\n",
      "Labels shape: torch.Size([16]), Labels type: torch.int64\n",
      "Outputs shape: torch.Size([16, 26]), Outputs type: torch.float32\n"
     ]
    },
    {
     "name": "stderr",
     "output_type": "stream",
     "text": [
      "Epoch 8/10:  45%|████▌     | 45/100 [00:10<00:12,  4.32it/s]"
     ]
    },
    {
     "name": "stdout",
     "output_type": "stream",
     "text": [
      "Input shape: torch.Size([16, 501, 64, 64]), Input type: torch.float32\n",
      "Labels shape: torch.Size([16]), Labels type: torch.int64\n",
      "Outputs shape: torch.Size([16, 26]), Outputs type: torch.float32\n"
     ]
    },
    {
     "name": "stderr",
     "output_type": "stream",
     "text": [
      "Epoch 8/10:  46%|████▌     | 46/100 [00:10<00:12,  4.33it/s]"
     ]
    },
    {
     "name": "stdout",
     "output_type": "stream",
     "text": [
      "Input shape: torch.Size([16, 501, 64, 64]), Input type: torch.float32\n",
      "Labels shape: torch.Size([16]), Labels type: torch.int64\n",
      "Outputs shape: torch.Size([16, 26]), Outputs type: torch.float32\n"
     ]
    },
    {
     "name": "stderr",
     "output_type": "stream",
     "text": [
      "Epoch 8/10:  47%|████▋     | 47/100 [00:10<00:12,  4.29it/s]"
     ]
    },
    {
     "name": "stdout",
     "output_type": "stream",
     "text": [
      "Input shape: torch.Size([16, 501, 64, 64]), Input type: torch.float32\n",
      "Labels shape: torch.Size([16]), Labels type: torch.int64\n",
      "Outputs shape: torch.Size([16, 26]), Outputs type: torch.float32\n"
     ]
    },
    {
     "name": "stderr",
     "output_type": "stream",
     "text": [
      "Epoch 8/10:  48%|████▊     | 48/100 [00:11<00:12,  4.10it/s]"
     ]
    },
    {
     "name": "stdout",
     "output_type": "stream",
     "text": [
      "Input shape: torch.Size([16, 501, 64, 64]), Input type: torch.float32\n",
      "Labels shape: torch.Size([16]), Labels type: torch.int64\n",
      "Outputs shape: torch.Size([16, 26]), Outputs type: torch.float32\n"
     ]
    },
    {
     "name": "stderr",
     "output_type": "stream",
     "text": [
      "Epoch 8/10:  49%|████▉     | 49/100 [00:11<00:12,  4.09it/s]"
     ]
    },
    {
     "name": "stdout",
     "output_type": "stream",
     "text": [
      "Input shape: torch.Size([16, 501, 64, 64]), Input type: torch.float32\n",
      "Labels shape: torch.Size([16]), Labels type: torch.int64\n",
      "Outputs shape: torch.Size([16, 26]), Outputs type: torch.float32\n"
     ]
    },
    {
     "name": "stderr",
     "output_type": "stream",
     "text": [
      "Epoch 8/10:  50%|█████     | 50/100 [00:11<00:12,  4.05it/s]"
     ]
    },
    {
     "name": "stdout",
     "output_type": "stream",
     "text": [
      "Input shape: torch.Size([16, 501, 64, 64]), Input type: torch.float32\n",
      "Labels shape: torch.Size([16]), Labels type: torch.int64\n",
      "Outputs shape: torch.Size([16, 26]), Outputs type: torch.float32\n"
     ]
    },
    {
     "name": "stderr",
     "output_type": "stream",
     "text": [
      "Epoch 8/10:  51%|█████     | 51/100 [00:11<00:11,  4.10it/s]"
     ]
    },
    {
     "name": "stdout",
     "output_type": "stream",
     "text": [
      "Input shape: torch.Size([16, 501, 64, 64]), Input type: torch.float32\n",
      "Labels shape: torch.Size([16]), Labels type: torch.int64\n",
      "Outputs shape: torch.Size([16, 26]), Outputs type: torch.float32\n"
     ]
    },
    {
     "name": "stderr",
     "output_type": "stream",
     "text": [
      "Epoch 8/10:  52%|█████▏    | 52/100 [00:11<00:11,  4.32it/s]"
     ]
    },
    {
     "name": "stdout",
     "output_type": "stream",
     "text": [
      "Input shape: torch.Size([16, 501, 64, 64]), Input type: torch.float32\n",
      "Labels shape: torch.Size([16]), Labels type: torch.int64\n",
      "Outputs shape: torch.Size([16, 26]), Outputs type: torch.float32\n"
     ]
    },
    {
     "name": "stderr",
     "output_type": "stream",
     "text": [
      "Epoch 8/10:  53%|█████▎    | 53/100 [00:12<00:11,  4.21it/s]"
     ]
    },
    {
     "name": "stdout",
     "output_type": "stream",
     "text": [
      "Input shape: torch.Size([16, 501, 64, 64]), Input type: torch.float32\n",
      "Labels shape: torch.Size([16]), Labels type: torch.int64\n",
      "Outputs shape: torch.Size([16, 26]), Outputs type: torch.float32\n"
     ]
    },
    {
     "name": "stderr",
     "output_type": "stream",
     "text": [
      "Epoch 8/10:  54%|█████▍    | 54/100 [00:12<00:10,  4.33it/s]"
     ]
    },
    {
     "name": "stdout",
     "output_type": "stream",
     "text": [
      "Input shape: torch.Size([16, 501, 64, 64]), Input type: torch.float32\n",
      "Labels shape: torch.Size([16]), Labels type: torch.int64\n",
      "Outputs shape: torch.Size([16, 26]), Outputs type: torch.float32\n"
     ]
    },
    {
     "name": "stderr",
     "output_type": "stream",
     "text": [
      "Epoch 8/10:  55%|█████▌    | 55/100 [00:12<00:10,  4.25it/s]"
     ]
    },
    {
     "name": "stdout",
     "output_type": "stream",
     "text": [
      "Input shape: torch.Size([16, 501, 64, 64]), Input type: torch.float32\n",
      "Labels shape: torch.Size([16]), Labels type: torch.int64\n",
      "Outputs shape: torch.Size([16, 26]), Outputs type: torch.float32\n"
     ]
    },
    {
     "name": "stderr",
     "output_type": "stream",
     "text": [
      "Epoch 8/10:  56%|█████▌    | 56/100 [00:12<00:10,  4.19it/s]"
     ]
    },
    {
     "name": "stdout",
     "output_type": "stream",
     "text": [
      "Input shape: torch.Size([16, 501, 64, 64]), Input type: torch.float32\n",
      "Labels shape: torch.Size([16]), Labels type: torch.int64\n",
      "Outputs shape: torch.Size([16, 26]), Outputs type: torch.float32\n"
     ]
    },
    {
     "name": "stderr",
     "output_type": "stream",
     "text": [
      "Epoch 8/10:  57%|█████▋    | 57/100 [00:13<00:11,  3.79it/s]"
     ]
    },
    {
     "name": "stdout",
     "output_type": "stream",
     "text": [
      "Input shape: torch.Size([16, 501, 64, 64]), Input type: torch.float32\n",
      "Labels shape: torch.Size([16]), Labels type: torch.int64\n",
      "Outputs shape: torch.Size([16, 26]), Outputs type: torch.float32\n"
     ]
    },
    {
     "name": "stderr",
     "output_type": "stream",
     "text": [
      "Epoch 8/10:  58%|█████▊    | 58/100 [00:13<00:10,  3.99it/s]"
     ]
    },
    {
     "name": "stdout",
     "output_type": "stream",
     "text": [
      "Input shape: torch.Size([16, 501, 64, 64]), Input type: torch.float32\n",
      "Labels shape: torch.Size([16]), Labels type: torch.int64\n",
      "Outputs shape: torch.Size([16, 26]), Outputs type: torch.float32\n"
     ]
    },
    {
     "name": "stderr",
     "output_type": "stream",
     "text": [
      "Epoch 8/10:  59%|█████▉    | 59/100 [00:13<00:10,  4.05it/s]"
     ]
    },
    {
     "name": "stdout",
     "output_type": "stream",
     "text": [
      "Input shape: torch.Size([16, 501, 64, 64]), Input type: torch.float32\n",
      "Labels shape: torch.Size([16]), Labels type: torch.int64\n",
      "Outputs shape: torch.Size([16, 26]), Outputs type: torch.float32\n"
     ]
    },
    {
     "name": "stderr",
     "output_type": "stream",
     "text": [
      "Epoch 8/10:  60%|██████    | 60/100 [00:13<00:09,  4.12it/s]"
     ]
    },
    {
     "name": "stdout",
     "output_type": "stream",
     "text": [
      "Input shape: torch.Size([16, 501, 64, 64]), Input type: torch.float32\n",
      "Labels shape: torch.Size([16]), Labels type: torch.int64\n",
      "Outputs shape: torch.Size([16, 26]), Outputs type: torch.float32\n"
     ]
    },
    {
     "name": "stderr",
     "output_type": "stream",
     "text": [
      "Epoch 8/10:  61%|██████    | 61/100 [00:14<00:09,  4.02it/s]"
     ]
    },
    {
     "name": "stdout",
     "output_type": "stream",
     "text": [
      "Input shape: torch.Size([16, 501, 64, 64]), Input type: torch.float32\n",
      "Labels shape: torch.Size([16]), Labels type: torch.int64\n",
      "Outputs shape: torch.Size([16, 26]), Outputs type: torch.float32\n"
     ]
    },
    {
     "name": "stderr",
     "output_type": "stream",
     "text": [
      "Epoch 8/10:  62%|██████▏   | 62/100 [00:14<00:09,  4.10it/s]"
     ]
    },
    {
     "name": "stdout",
     "output_type": "stream",
     "text": [
      "Input shape: torch.Size([16, 501, 64, 64]), Input type: torch.float32\n",
      "Labels shape: torch.Size([16]), Labels type: torch.int64\n",
      "Outputs shape: torch.Size([16, 26]), Outputs type: torch.float32\n"
     ]
    },
    {
     "name": "stderr",
     "output_type": "stream",
     "text": [
      "Epoch 8/10:  63%|██████▎   | 63/100 [00:14<00:08,  4.13it/s]"
     ]
    },
    {
     "name": "stdout",
     "output_type": "stream",
     "text": [
      "Input shape: torch.Size([16, 501, 64, 64]), Input type: torch.float32\n",
      "Labels shape: torch.Size([16]), Labels type: torch.int64\n",
      "Outputs shape: torch.Size([16, 26]), Outputs type: torch.float32\n"
     ]
    },
    {
     "name": "stderr",
     "output_type": "stream",
     "text": [
      "Epoch 8/10:  64%|██████▍   | 64/100 [00:14<00:08,  4.16it/s]"
     ]
    },
    {
     "name": "stdout",
     "output_type": "stream",
     "text": [
      "Input shape: torch.Size([16, 501, 64, 64]), Input type: torch.float32\n",
      "Labels shape: torch.Size([16]), Labels type: torch.int64\n",
      "Outputs shape: torch.Size([16, 26]), Outputs type: torch.float32\n"
     ]
    },
    {
     "name": "stderr",
     "output_type": "stream",
     "text": [
      "Epoch 8/10:  65%|██████▌   | 65/100 [00:15<00:08,  4.04it/s]"
     ]
    },
    {
     "name": "stdout",
     "output_type": "stream",
     "text": [
      "Input shape: torch.Size([16, 501, 64, 64]), Input type: torch.float32\n",
      "Labels shape: torch.Size([16]), Labels type: torch.int64\n",
      "Outputs shape: torch.Size([16, 26]), Outputs type: torch.float32\n"
     ]
    },
    {
     "name": "stderr",
     "output_type": "stream",
     "text": [
      "Epoch 8/10:  66%|██████▌   | 66/100 [00:15<00:08,  3.95it/s]"
     ]
    },
    {
     "name": "stdout",
     "output_type": "stream",
     "text": [
      "Input shape: torch.Size([16, 501, 64, 64]), Input type: torch.float32\n",
      "Labels shape: torch.Size([16]), Labels type: torch.int64\n",
      "Outputs shape: torch.Size([16, 26]), Outputs type: torch.float32\n"
     ]
    },
    {
     "name": "stderr",
     "output_type": "stream",
     "text": [
      "Epoch 8/10:  67%|██████▋   | 67/100 [00:15<00:07,  4.16it/s]"
     ]
    },
    {
     "name": "stdout",
     "output_type": "stream",
     "text": [
      "Input shape: torch.Size([16, 501, 64, 64]), Input type: torch.float32\n",
      "Labels shape: torch.Size([16]), Labels type: torch.int64\n",
      "Outputs shape: torch.Size([16, 26]), Outputs type: torch.float32\n",
      "Input shape: torch.Size([16, 501, 64, 64]), Input type: torch.float32\n",
      "Labels shape: torch.Size([16]), Labels type: torch.int64\n"
     ]
    },
    {
     "name": "stderr",
     "output_type": "stream",
     "text": [
      "Epoch 8/10:  68%|██████▊   | 68/100 [00:15<00:07,  4.40it/s]"
     ]
    },
    {
     "name": "stdout",
     "output_type": "stream",
     "text": [
      "Outputs shape: torch.Size([16, 26]), Outputs type: torch.float32\n",
      "Input shape: torch.Size([16, 501, 64, 64]), Input type: torch.float32\n",
      "Labels shape: torch.Size([16]), Labels type: torch.int64\n"
     ]
    },
    {
     "name": "stderr",
     "output_type": "stream",
     "text": [
      "Epoch 8/10:  69%|██████▉   | 69/100 [00:16<00:07,  4.39it/s]"
     ]
    },
    {
     "name": "stdout",
     "output_type": "stream",
     "text": [
      "Outputs shape: torch.Size([16, 26]), Outputs type: torch.float32\n"
     ]
    },
    {
     "name": "stderr",
     "output_type": "stream",
     "text": [
      "Epoch 8/10:  70%|███████   | 70/100 [00:16<00:07,  4.20it/s]"
     ]
    },
    {
     "name": "stdout",
     "output_type": "stream",
     "text": [
      "Input shape: torch.Size([16, 501, 64, 64]), Input type: torch.float32\n",
      "Labels shape: torch.Size([16]), Labels type: torch.int64\n",
      "Outputs shape: torch.Size([16, 26]), Outputs type: torch.float32\n"
     ]
    },
    {
     "name": "stderr",
     "output_type": "stream",
     "text": [
      "Epoch 8/10:  71%|███████   | 71/100 [00:16<00:06,  4.21it/s]"
     ]
    },
    {
     "name": "stdout",
     "output_type": "stream",
     "text": [
      "Input shape: torch.Size([16, 501, 64, 64]), Input type: torch.float32\n",
      "Labels shape: torch.Size([16]), Labels type: torch.int64\n",
      "Outputs shape: torch.Size([16, 26]), Outputs type: torch.float32\n"
     ]
    },
    {
     "name": "stderr",
     "output_type": "stream",
     "text": [
      "Epoch 8/10:  72%|███████▏  | 72/100 [00:16<00:06,  4.08it/s]"
     ]
    },
    {
     "name": "stdout",
     "output_type": "stream",
     "text": [
      "Input shape: torch.Size([16, 501, 64, 64]), Input type: torch.float32\n",
      "Labels shape: torch.Size([16]), Labels type: torch.int64\n",
      "Outputs shape: torch.Size([16, 26]), Outputs type: torch.float32\n"
     ]
    },
    {
     "name": "stderr",
     "output_type": "stream",
     "text": [
      "Epoch 8/10:  73%|███████▎  | 73/100 [00:17<00:06,  4.11it/s]"
     ]
    },
    {
     "name": "stdout",
     "output_type": "stream",
     "text": [
      "Input shape: torch.Size([16, 501, 64, 64]), Input type: torch.float32\n",
      "Labels shape: torch.Size([16]), Labels type: torch.int64\n",
      "Outputs shape: torch.Size([16, 26]), Outputs type: torch.float32\n"
     ]
    },
    {
     "name": "stderr",
     "output_type": "stream",
     "text": [
      "Epoch 8/10:  74%|███████▍  | 74/100 [00:17<00:06,  4.17it/s]"
     ]
    },
    {
     "name": "stdout",
     "output_type": "stream",
     "text": [
      "Input shape: torch.Size([16, 501, 64, 64]), Input type: torch.float32\n",
      "Labels shape: torch.Size([16]), Labels type: torch.int64\n",
      "Outputs shape: torch.Size([16, 26]), Outputs type: torch.float32\n"
     ]
    },
    {
     "name": "stderr",
     "output_type": "stream",
     "text": [
      "Epoch 8/10:  75%|███████▌  | 75/100 [00:17<00:06,  4.14it/s]"
     ]
    },
    {
     "name": "stdout",
     "output_type": "stream",
     "text": [
      "Input shape: torch.Size([16, 501, 64, 64]), Input type: torch.float32\n",
      "Labels shape: torch.Size([16]), Labels type: torch.int64\n",
      "Outputs shape: torch.Size([16, 26]), Outputs type: torch.float32\n"
     ]
    },
    {
     "name": "stderr",
     "output_type": "stream",
     "text": [
      "Epoch 8/10:  76%|███████▌  | 76/100 [00:17<00:05,  4.08it/s]"
     ]
    },
    {
     "name": "stdout",
     "output_type": "stream",
     "text": [
      "Input shape: torch.Size([16, 501, 64, 64]), Input type: torch.float32\n",
      "Labels shape: torch.Size([16]), Labels type: torch.int64\n",
      "Outputs shape: torch.Size([16, 26]), Outputs type: torch.float32\n"
     ]
    },
    {
     "name": "stderr",
     "output_type": "stream",
     "text": [
      "Epoch 8/10:  77%|███████▋  | 77/100 [00:18<00:05,  4.05it/s]"
     ]
    },
    {
     "name": "stdout",
     "output_type": "stream",
     "text": [
      "Input shape: torch.Size([16, 501, 64, 64]), Input type: torch.float32\n",
      "Labels shape: torch.Size([16]), Labels type: torch.int64\n",
      "Outputs shape: torch.Size([16, 26]), Outputs type: torch.float32\n"
     ]
    },
    {
     "name": "stderr",
     "output_type": "stream",
     "text": [
      "Epoch 8/10:  78%|███████▊  | 78/100 [00:18<00:05,  4.06it/s]"
     ]
    },
    {
     "name": "stdout",
     "output_type": "stream",
     "text": [
      "Input shape: torch.Size([16, 501, 64, 64]), Input type: torch.float32\n",
      "Labels shape: torch.Size([16]), Labels type: torch.int64\n",
      "Outputs shape: torch.Size([16, 26]), Outputs type: torch.float32\n"
     ]
    },
    {
     "name": "stderr",
     "output_type": "stream",
     "text": [
      "Epoch 8/10:  79%|███████▉  | 79/100 [00:18<00:05,  4.20it/s]"
     ]
    },
    {
     "name": "stdout",
     "output_type": "stream",
     "text": [
      "Input shape: torch.Size([16, 501, 64, 64]), Input type: torch.float32\n",
      "Labels shape: torch.Size([16]), Labels type: torch.int64\n",
      "Outputs shape: torch.Size([16, 26]), Outputs type: torch.float32\n",
      "Input shape: torch.Size([16, 501, 64, 64]), Input type: torch.float32\n",
      "Labels shape: torch.Size([16]), Labels type: torch.int64\n"
     ]
    },
    {
     "name": "stderr",
     "output_type": "stream",
     "text": [
      "Epoch 8/10:  80%|████████  | 80/100 [00:18<00:04,  4.44it/s]"
     ]
    },
    {
     "name": "stdout",
     "output_type": "stream",
     "text": [
      "Outputs shape: torch.Size([16, 26]), Outputs type: torch.float32\n",
      "Input shape: torch.Size([16, 501, 64, 64]), Input type: torch.float32\n",
      "Labels shape: torch.Size([16]), Labels type: torch.int64\n",
      "Outputs shape: torch.Size([16, 26]), Outputs type: torch.float32\n"
     ]
    },
    {
     "name": "stderr",
     "output_type": "stream",
     "text": [
      "Epoch 8/10:  82%|████████▏ | 82/100 [00:19<00:03,  4.63it/s]"
     ]
    },
    {
     "name": "stdout",
     "output_type": "stream",
     "text": [
      "Input shape: torch.Size([16, 501, 64, 64]), Input type: torch.float32\n",
      "Labels shape: torch.Size([16]), Labels type: torch.int64\n",
      "Outputs shape: torch.Size([16, 26]), Outputs type: torch.float32\n",
      "Input shape: torch.Size([16, 501, 64, 64]), Input type: torch.float32\n",
      "Labels shape: torch.Size([16]), Labels type: torch.int64\n"
     ]
    },
    {
     "name": "stderr",
     "output_type": "stream",
     "text": [
      "Epoch 8/10:  83%|████████▎ | 83/100 [00:19<00:03,  4.65it/s]"
     ]
    },
    {
     "name": "stdout",
     "output_type": "stream",
     "text": [
      "Outputs shape: torch.Size([16, 26]), Outputs type: torch.float32\n",
      "Input shape: torch.Size([16, 501, 64, 64]), Input type: torch.float32\n",
      "Labels shape: torch.Size([16]), Labels type: torch.int64\n"
     ]
    },
    {
     "name": "stderr",
     "output_type": "stream",
     "text": [
      "Epoch 8/10:  84%|████████▍ | 84/100 [00:19<00:03,  4.69it/s]"
     ]
    },
    {
     "name": "stdout",
     "output_type": "stream",
     "text": [
      "Outputs shape: torch.Size([16, 26]), Outputs type: torch.float32\n",
      "Input shape: torch.Size([16, 501, 64, 64]), Input type: torch.float32\n",
      "Labels shape: torch.Size([16]), Labels type: torch.int64\n"
     ]
    },
    {
     "name": "stderr",
     "output_type": "stream",
     "text": [
      "Epoch 8/10:  85%|████████▌ | 85/100 [00:19<00:03,  4.74it/s]"
     ]
    },
    {
     "name": "stdout",
     "output_type": "stream",
     "text": [
      "Outputs shape: torch.Size([16, 26]), Outputs type: torch.float32\n",
      "Input shape: torch.Size([16, 501, 64, 64]), Input type: torch.float32\n",
      "Labels shape: torch.Size([16]), Labels type: torch.int64\n"
     ]
    },
    {
     "name": "stderr",
     "output_type": "stream",
     "text": [
      "Epoch 8/10:  86%|████████▌ | 86/100 [00:19<00:02,  4.76it/s]"
     ]
    },
    {
     "name": "stdout",
     "output_type": "stream",
     "text": [
      "Outputs shape: torch.Size([16, 26]), Outputs type: torch.float32\n",
      "Input shape: torch.Size([16, 501, 64, 64]), Input type: torch.float32\n",
      "Labels shape: torch.Size([16]), Labels type: torch.int64\n"
     ]
    },
    {
     "name": "stderr",
     "output_type": "stream",
     "text": [
      "Epoch 8/10:  87%|████████▋ | 87/100 [00:20<00:02,  4.68it/s]"
     ]
    },
    {
     "name": "stdout",
     "output_type": "stream",
     "text": [
      "Outputs shape: torch.Size([16, 26]), Outputs type: torch.float32\n",
      "Input shape: torch.Size([16, 501, 64, 64]), Input type: torch.float32\n",
      "Labels shape: torch.Size([16]), Labels type: torch.int64\n"
     ]
    },
    {
     "name": "stderr",
     "output_type": "stream",
     "text": [
      "Epoch 8/10:  88%|████████▊ | 88/100 [00:20<00:02,  4.64it/s]"
     ]
    },
    {
     "name": "stdout",
     "output_type": "stream",
     "text": [
      "Outputs shape: torch.Size([16, 26]), Outputs type: torch.float32\n",
      "Input shape: torch.Size([16, 501, 64, 64]), Input type: torch.float32\n",
      "Labels shape: torch.Size([16]), Labels type: torch.int64\n",
      "Outputs shape: torch.Size([16, 26]), Outputs type: torch.float32\n"
     ]
    },
    {
     "name": "stderr",
     "output_type": "stream",
     "text": [
      "Epoch 8/10:  90%|█████████ | 90/100 [00:20<00:02,  4.79it/s]"
     ]
    },
    {
     "name": "stdout",
     "output_type": "stream",
     "text": [
      "Input shape: torch.Size([16, 501, 64, 64]), Input type: torch.float32\n",
      "Labels shape: torch.Size([16]), Labels type: torch.int64\n",
      "Outputs shape: torch.Size([16, 26]), Outputs type: torch.float32\n"
     ]
    },
    {
     "name": "stderr",
     "output_type": "stream",
     "text": [
      "Epoch 8/10:  91%|█████████ | 91/100 [00:21<00:01,  4.63it/s]"
     ]
    },
    {
     "name": "stdout",
     "output_type": "stream",
     "text": [
      "Input shape: torch.Size([16, 501, 64, 64]), Input type: torch.float32\n",
      "Labels shape: torch.Size([16]), Labels type: torch.int64\n",
      "Outputs shape: torch.Size([16, 26]), Outputs type: torch.float32\n"
     ]
    },
    {
     "name": "stderr",
     "output_type": "stream",
     "text": [
      "Epoch 8/10:  92%|█████████▏| 92/100 [00:21<00:01,  4.44it/s]"
     ]
    },
    {
     "name": "stdout",
     "output_type": "stream",
     "text": [
      "Input shape: torch.Size([16, 501, 64, 64]), Input type: torch.float32\n",
      "Labels shape: torch.Size([16]), Labels type: torch.int64\n",
      "Outputs shape: torch.Size([16, 26]), Outputs type: torch.float32\n"
     ]
    },
    {
     "name": "stderr",
     "output_type": "stream",
     "text": [
      "Epoch 8/10:  93%|█████████▎| 93/100 [00:21<00:01,  4.60it/s]"
     ]
    },
    {
     "name": "stdout",
     "output_type": "stream",
     "text": [
      "Input shape: torch.Size([16, 501, 64, 64]), Input type: torch.float32\n",
      "Labels shape: torch.Size([16]), Labels type: torch.int64\n",
      "Outputs shape: torch.Size([16, 26]), Outputs type: torch.float32\n",
      "Input shape: torch.Size([16, 501, 64, 64]), Input type: torch.float32\n",
      "Labels shape: torch.Size([16]), Labels type: torch.int64\n"
     ]
    },
    {
     "name": "stderr",
     "output_type": "stream",
     "text": [
      "Epoch 8/10:  94%|█████████▍| 94/100 [00:21<00:01,  4.65it/s]"
     ]
    },
    {
     "name": "stdout",
     "output_type": "stream",
     "text": [
      "Outputs shape: torch.Size([16, 26]), Outputs type: torch.float32\n",
      "Input shape: torch.Size([16, 501, 64, 64]), Input type: torch.float32\n",
      "Labels shape: torch.Size([16]), Labels type: torch.int64\n"
     ]
    },
    {
     "name": "stderr",
     "output_type": "stream",
     "text": [
      "Epoch 8/10:  95%|█████████▌| 95/100 [00:21<00:01,  4.76it/s]"
     ]
    },
    {
     "name": "stdout",
     "output_type": "stream",
     "text": [
      "Outputs shape: torch.Size([16, 26]), Outputs type: torch.float32\n",
      "Input shape: torch.Size([16, 501, 64, 64]), Input type: torch.float32\n",
      "Labels shape: torch.Size([16]), Labels type: torch.int64\n"
     ]
    },
    {
     "name": "stderr",
     "output_type": "stream",
     "text": [
      "Epoch 8/10:  96%|█████████▌| 96/100 [00:22<00:00,  4.77it/s]"
     ]
    },
    {
     "name": "stdout",
     "output_type": "stream",
     "text": [
      "Outputs shape: torch.Size([16, 26]), Outputs type: torch.float32\n",
      "Input shape: torch.Size([16, 501, 64, 64]), Input type: torch.float32\n",
      "Labels shape: torch.Size([16]), Labels type: torch.int64\n"
     ]
    },
    {
     "name": "stderr",
     "output_type": "stream",
     "text": [
      "Epoch 8/10:  97%|█████████▋| 97/100 [00:22<00:00,  4.70it/s]"
     ]
    },
    {
     "name": "stdout",
     "output_type": "stream",
     "text": [
      "Outputs shape: torch.Size([16, 26]), Outputs type: torch.float32\n",
      "Input shape: torch.Size([16, 501, 64, 64]), Input type: torch.float32\n",
      "Labels shape: torch.Size([16]), Labels type: torch.int64\n"
     ]
    },
    {
     "name": "stderr",
     "output_type": "stream",
     "text": [
      "Epoch 8/10:  98%|█████████▊| 98/100 [00:22<00:00,  4.50it/s]"
     ]
    },
    {
     "name": "stdout",
     "output_type": "stream",
     "text": [
      "Outputs shape: torch.Size([16, 26]), Outputs type: torch.float32\n",
      "Input shape: torch.Size([16, 501, 64, 64]), Input type: torch.float32\n",
      "Labels shape: torch.Size([16]), Labels type: torch.int64\n"
     ]
    },
    {
     "name": "stderr",
     "output_type": "stream",
     "text": [
      "Epoch 8/10: 100%|██████████| 100/100 [00:22<00:00,  4.36it/s]\n"
     ]
    },
    {
     "name": "stdout",
     "output_type": "stream",
     "text": [
      "Outputs shape: torch.Size([16, 26]), Outputs type: torch.float32\n",
      "Input shape: torch.Size([6, 501, 64, 64]), Input type: torch.float32\n",
      "Labels shape: torch.Size([6]), Labels type: torch.int64\n",
      "Outputs shape: torch.Size([6, 26]), Outputs type: torch.float32\n"
     ]
    },
    {
     "name": "stderr",
     "output_type": "stream",
     "text": [
      "Epoch 9/10:   1%|          | 1/100 [00:00<00:26,  3.74it/s]"
     ]
    },
    {
     "name": "stdout",
     "output_type": "stream",
     "text": [
      "Input shape: torch.Size([16, 501, 64, 64]), Input type: torch.float32\n",
      "Labels shape: torch.Size([16]), Labels type: torch.int64\n",
      "Outputs shape: torch.Size([16, 26]), Outputs type: torch.float32\n"
     ]
    },
    {
     "name": "stderr",
     "output_type": "stream",
     "text": [
      "Epoch 9/10:   2%|▏         | 2/100 [00:00<00:24,  3.92it/s]"
     ]
    },
    {
     "name": "stdout",
     "output_type": "stream",
     "text": [
      "Input shape: torch.Size([16, 501, 64, 64]), Input type: torch.float32\n",
      "Labels shape: torch.Size([16]), Labels type: torch.int64\n",
      "Outputs shape: torch.Size([16, 26]), Outputs type: torch.float32\n"
     ]
    },
    {
     "name": "stderr",
     "output_type": "stream",
     "text": [
      "Epoch 9/10:   3%|▎         | 3/100 [00:00<00:22,  4.25it/s]"
     ]
    },
    {
     "name": "stdout",
     "output_type": "stream",
     "text": [
      "Input shape: torch.Size([16, 501, 64, 64]), Input type: torch.float32\n",
      "Labels shape: torch.Size([16]), Labels type: torch.int64\n",
      "Outputs shape: torch.Size([16, 26]), Outputs type: torch.float32\n"
     ]
    },
    {
     "name": "stderr",
     "output_type": "stream",
     "text": [
      "Epoch 9/10:   4%|▍         | 4/100 [00:00<00:22,  4.35it/s]"
     ]
    },
    {
     "name": "stdout",
     "output_type": "stream",
     "text": [
      "Input shape: torch.Size([16, 501, 64, 64]), Input type: torch.float32\n",
      "Labels shape: torch.Size([16]), Labels type: torch.int64\n",
      "Outputs shape: torch.Size([16, 26]), Outputs type: torch.float32\n"
     ]
    },
    {
     "name": "stderr",
     "output_type": "stream",
     "text": [
      "Epoch 9/10:   5%|▌         | 5/100 [00:01<00:21,  4.44it/s]"
     ]
    },
    {
     "name": "stdout",
     "output_type": "stream",
     "text": [
      "Input shape: torch.Size([16, 501, 64, 64]), Input type: torch.float32\n",
      "Labels shape: torch.Size([16]), Labels type: torch.int64\n",
      "Outputs shape: torch.Size([16, 26]), Outputs type: torch.float32\n"
     ]
    },
    {
     "name": "stderr",
     "output_type": "stream",
     "text": [
      "Epoch 9/10:   6%|▌         | 6/100 [00:01<00:20,  4.55it/s]"
     ]
    },
    {
     "name": "stdout",
     "output_type": "stream",
     "text": [
      "Input shape: torch.Size([16, 501, 64, 64]), Input type: torch.float32\n",
      "Labels shape: torch.Size([16]), Labels type: torch.int64\n",
      "Outputs shape: torch.Size([16, 26]), Outputs type: torch.float32\n"
     ]
    },
    {
     "name": "stderr",
     "output_type": "stream",
     "text": [
      "Epoch 9/10:   7%|▋         | 7/100 [00:01<00:21,  4.34it/s]"
     ]
    },
    {
     "name": "stdout",
     "output_type": "stream",
     "text": [
      "Input shape: torch.Size([16, 501, 64, 64]), Input type: torch.float32\n",
      "Labels shape: torch.Size([16]), Labels type: torch.int64\n",
      "Outputs shape: torch.Size([16, 26]), Outputs type: torch.float32\n"
     ]
    },
    {
     "name": "stderr",
     "output_type": "stream",
     "text": [
      "Epoch 9/10:   8%|▊         | 8/100 [00:01<00:21,  4.35it/s]"
     ]
    },
    {
     "name": "stdout",
     "output_type": "stream",
     "text": [
      "Input shape: torch.Size([16, 501, 64, 64]), Input type: torch.float32\n",
      "Labels shape: torch.Size([16]), Labels type: torch.int64\n",
      "Outputs shape: torch.Size([16, 26]), Outputs type: torch.float32\n"
     ]
    },
    {
     "name": "stderr",
     "output_type": "stream",
     "text": [
      "Epoch 9/10:   9%|▉         | 9/100 [00:02<00:20,  4.37it/s]"
     ]
    },
    {
     "name": "stdout",
     "output_type": "stream",
     "text": [
      "Input shape: torch.Size([16, 501, 64, 64]), Input type: torch.float32\n",
      "Labels shape: torch.Size([16]), Labels type: torch.int64\n",
      "Outputs shape: torch.Size([16, 26]), Outputs type: torch.float32\n"
     ]
    },
    {
     "name": "stderr",
     "output_type": "stream",
     "text": [
      "Epoch 9/10:  10%|█         | 10/100 [00:02<00:19,  4.51it/s]"
     ]
    },
    {
     "name": "stdout",
     "output_type": "stream",
     "text": [
      "Input shape: torch.Size([16, 501, 64, 64]), Input type: torch.float32\n",
      "Labels shape: torch.Size([16]), Labels type: torch.int64\n",
      "Outputs shape: torch.Size([16, 26]), Outputs type: torch.float32\n"
     ]
    },
    {
     "name": "stderr",
     "output_type": "stream",
     "text": [
      "Epoch 9/10:  11%|█         | 11/100 [00:02<00:19,  4.65it/s]"
     ]
    },
    {
     "name": "stdout",
     "output_type": "stream",
     "text": [
      "Input shape: torch.Size([16, 501, 64, 64]), Input type: torch.float32\n",
      "Labels shape: torch.Size([16]), Labels type: torch.int64\n",
      "Outputs shape: torch.Size([16, 26]), Outputs type: torch.float32\n"
     ]
    },
    {
     "name": "stderr",
     "output_type": "stream",
     "text": [
      "Epoch 9/10:  12%|█▏        | 12/100 [00:02<00:18,  4.76it/s]"
     ]
    },
    {
     "name": "stdout",
     "output_type": "stream",
     "text": [
      "Input shape: torch.Size([16, 501, 64, 64]), Input type: torch.float32\n",
      "Labels shape: torch.Size([16]), Labels type: torch.int64\n",
      "Outputs shape: torch.Size([16, 26]), Outputs type: torch.float32\n",
      "Input shape: torch.Size([16, 501, 64, 64]), Input type: torch.float32\n",
      "Labels shape: torch.Size([16]), Labels type: torch.int64\n"
     ]
    },
    {
     "name": "stderr",
     "output_type": "stream",
     "text": [
      "Epoch 9/10:  13%|█▎        | 13/100 [00:02<00:18,  4.75it/s]"
     ]
    },
    {
     "name": "stdout",
     "output_type": "stream",
     "text": [
      "Outputs shape: torch.Size([16, 26]), Outputs type: torch.float32\n",
      "Input shape: torch.Size([16, 501, 64, 64]), Input type: torch.float32\n",
      "Labels shape: torch.Size([16]), Labels type: torch.int64\n",
      "Outputs shape: torch.Size([16, 26]), Outputs type: torch.float32\n"
     ]
    },
    {
     "name": "stderr",
     "output_type": "stream",
     "text": [
      "Epoch 9/10:  15%|█▌        | 15/100 [00:03<00:17,  4.82it/s]"
     ]
    },
    {
     "name": "stdout",
     "output_type": "stream",
     "text": [
      "Input shape: torch.Size([16, 501, 64, 64]), Input type: torch.float32\n",
      "Labels shape: torch.Size([16]), Labels type: torch.int64\n",
      "Outputs shape: torch.Size([16, 26]), Outputs type: torch.float32\n"
     ]
    },
    {
     "name": "stderr",
     "output_type": "stream",
     "text": [
      "Epoch 9/10:  16%|█▌        | 16/100 [00:03<00:17,  4.74it/s]"
     ]
    },
    {
     "name": "stdout",
     "output_type": "stream",
     "text": [
      "Input shape: torch.Size([16, 501, 64, 64]), Input type: torch.float32\n",
      "Labels shape: torch.Size([16]), Labels type: torch.int64\n",
      "Outputs shape: torch.Size([16, 26]), Outputs type: torch.float32\n",
      "Input shape: torch.Size([16, 501, 64, 64]), Input type: torch.float32\n",
      "Labels shape: torch.Size([16]), Labels type: torch.int64\n"
     ]
    },
    {
     "name": "stderr",
     "output_type": "stream",
     "text": [
      "Epoch 9/10:  17%|█▋        | 17/100 [00:03<00:17,  4.80it/s]"
     ]
    },
    {
     "name": "stdout",
     "output_type": "stream",
     "text": [
      "Outputs shape: torch.Size([16, 26]), Outputs type: torch.float32\n",
      "Input shape: torch.Size([16, 501, 64, 64]), Input type: torch.float32\n",
      "Labels shape: torch.Size([16]), Labels type: torch.int64\n",
      "Outputs shape: torch.Size([16, 26]), Outputs type: torch.float32\n"
     ]
    },
    {
     "name": "stderr",
     "output_type": "stream",
     "text": [
      "Epoch 9/10:  19%|█▉        | 19/100 [00:04<00:16,  4.93it/s]"
     ]
    },
    {
     "name": "stdout",
     "output_type": "stream",
     "text": [
      "Input shape: torch.Size([16, 501, 64, 64]), Input type: torch.float32\n",
      "Labels shape: torch.Size([16]), Labels type: torch.int64\n",
      "Outputs shape: torch.Size([16, 26]), Outputs type: torch.float32\n"
     ]
    },
    {
     "name": "stderr",
     "output_type": "stream",
     "text": [
      "Epoch 9/10:  20%|██        | 20/100 [00:04<00:16,  4.84it/s]"
     ]
    },
    {
     "name": "stdout",
     "output_type": "stream",
     "text": [
      "Input shape: torch.Size([16, 501, 64, 64]), Input type: torch.float32\n",
      "Labels shape: torch.Size([16]), Labels type: torch.int64\n",
      "Outputs shape: torch.Size([16, 26]), Outputs type: torch.float32\n"
     ]
    },
    {
     "name": "stderr",
     "output_type": "stream",
     "text": [
      "Epoch 9/10:  21%|██        | 21/100 [00:04<00:16,  4.75it/s]"
     ]
    },
    {
     "name": "stdout",
     "output_type": "stream",
     "text": [
      "Input shape: torch.Size([16, 501, 64, 64]), Input type: torch.float32\n",
      "Labels shape: torch.Size([16]), Labels type: torch.int64\n",
      "Outputs shape: torch.Size([16, 26]), Outputs type: torch.float32\n"
     ]
    },
    {
     "name": "stderr",
     "output_type": "stream",
     "text": [
      "Epoch 9/10:  22%|██▏       | 22/100 [00:04<00:16,  4.60it/s]"
     ]
    },
    {
     "name": "stdout",
     "output_type": "stream",
     "text": [
      "Input shape: torch.Size([16, 501, 64, 64]), Input type: torch.float32\n",
      "Labels shape: torch.Size([16]), Labels type: torch.int64\n",
      "Outputs shape: torch.Size([16, 26]), Outputs type: torch.float32\n"
     ]
    },
    {
     "name": "stderr",
     "output_type": "stream",
     "text": [
      "Epoch 9/10:  23%|██▎       | 23/100 [00:05<00:16,  4.57it/s]"
     ]
    },
    {
     "name": "stdout",
     "output_type": "stream",
     "text": [
      "Input shape: torch.Size([16, 501, 64, 64]), Input type: torch.float32\n",
      "Labels shape: torch.Size([16]), Labels type: torch.int64\n",
      "Outputs shape: torch.Size([16, 26]), Outputs type: torch.float32\n"
     ]
    },
    {
     "name": "stderr",
     "output_type": "stream",
     "text": [
      "Epoch 9/10:  24%|██▍       | 24/100 [00:05<00:16,  4.62it/s]"
     ]
    },
    {
     "name": "stdout",
     "output_type": "stream",
     "text": [
      "Input shape: torch.Size([16, 501, 64, 64]), Input type: torch.float32\n",
      "Labels shape: torch.Size([16]), Labels type: torch.int64\n",
      "Outputs shape: torch.Size([16, 26]), Outputs type: torch.float32\n"
     ]
    },
    {
     "name": "stderr",
     "output_type": "stream",
     "text": [
      "Epoch 9/10:  25%|██▌       | 25/100 [00:05<00:16,  4.44it/s]"
     ]
    },
    {
     "name": "stdout",
     "output_type": "stream",
     "text": [
      "Input shape: torch.Size([16, 501, 64, 64]), Input type: torch.float32\n",
      "Labels shape: torch.Size([16]), Labels type: torch.int64\n",
      "Outputs shape: torch.Size([16, 26]), Outputs type: torch.float32\n"
     ]
    },
    {
     "name": "stderr",
     "output_type": "stream",
     "text": [
      "Epoch 9/10:  26%|██▌       | 26/100 [00:05<00:16,  4.38it/s]"
     ]
    },
    {
     "name": "stdout",
     "output_type": "stream",
     "text": [
      "Input shape: torch.Size([16, 501, 64, 64]), Input type: torch.float32\n",
      "Labels shape: torch.Size([16]), Labels type: torch.int64\n",
      "Outputs shape: torch.Size([16, 26]), Outputs type: torch.float32\n"
     ]
    },
    {
     "name": "stderr",
     "output_type": "stream",
     "text": [
      "Epoch 9/10:  27%|██▋       | 27/100 [00:05<00:16,  4.43it/s]"
     ]
    },
    {
     "name": "stdout",
     "output_type": "stream",
     "text": [
      "Input shape: torch.Size([16, 501, 64, 64]), Input type: torch.float32\n",
      "Labels shape: torch.Size([16]), Labels type: torch.int64\n",
      "Outputs shape: torch.Size([16, 26]), Outputs type: torch.float32\n"
     ]
    },
    {
     "name": "stderr",
     "output_type": "stream",
     "text": [
      "Epoch 9/10:  28%|██▊       | 28/100 [00:06<00:16,  4.46it/s]"
     ]
    },
    {
     "name": "stdout",
     "output_type": "stream",
     "text": [
      "Input shape: torch.Size([16, 501, 64, 64]), Input type: torch.float32\n",
      "Labels shape: torch.Size([16]), Labels type: torch.int64\n",
      "Outputs shape: torch.Size([16, 26]), Outputs type: torch.float32\n"
     ]
    },
    {
     "name": "stderr",
     "output_type": "stream",
     "text": [
      "Epoch 9/10:  29%|██▉       | 29/100 [00:06<00:16,  4.39it/s]"
     ]
    },
    {
     "name": "stdout",
     "output_type": "stream",
     "text": [
      "Input shape: torch.Size([16, 501, 64, 64]), Input type: torch.float32\n",
      "Labels shape: torch.Size([16]), Labels type: torch.int64\n",
      "Outputs shape: torch.Size([16, 26]), Outputs type: torch.float32\n"
     ]
    },
    {
     "name": "stderr",
     "output_type": "stream",
     "text": [
      "Epoch 9/10:  30%|███       | 30/100 [00:06<00:15,  4.55it/s]"
     ]
    },
    {
     "name": "stdout",
     "output_type": "stream",
     "text": [
      "Input shape: torch.Size([16, 501, 64, 64]), Input type: torch.float32\n",
      "Labels shape: torch.Size([16]), Labels type: torch.int64\n",
      "Outputs shape: torch.Size([16, 26]), Outputs type: torch.float32\n",
      "Input shape: torch.Size([16, 501, 64, 64]), Input type: torch.float32\n",
      "Labels shape: torch.Size([16]), Labels type: torch.int64\n"
     ]
    },
    {
     "name": "stderr",
     "output_type": "stream",
     "text": [
      "Epoch 9/10:  31%|███       | 31/100 [00:06<00:14,  4.72it/s]"
     ]
    },
    {
     "name": "stdout",
     "output_type": "stream",
     "text": [
      "Outputs shape: torch.Size([16, 26]), Outputs type: torch.float32\n",
      "Input shape: torch.Size([16, 501, 64, 64]), Input type: torch.float32\n",
      "Labels shape: torch.Size([16]), Labels type: torch.int64\n"
     ]
    },
    {
     "name": "stderr",
     "output_type": "stream",
     "text": [
      "Epoch 9/10:  32%|███▏      | 32/100 [00:06<00:14,  4.65it/s]"
     ]
    },
    {
     "name": "stdout",
     "output_type": "stream",
     "text": [
      "Outputs shape: torch.Size([16, 26]), Outputs type: torch.float32\n",
      "Input shape: torch.Size([16, 501, 64, 64]), Input type: torch.float32\n",
      "Labels shape: torch.Size([16]), Labels type: torch.int64\n"
     ]
    },
    {
     "name": "stderr",
     "output_type": "stream",
     "text": [
      "Epoch 9/10:  33%|███▎      | 33/100 [00:07<00:14,  4.55it/s]"
     ]
    },
    {
     "name": "stdout",
     "output_type": "stream",
     "text": [
      "Outputs shape: torch.Size([16, 26]), Outputs type: torch.float32\n",
      "Input shape: torch.Size([16, 501, 64, 64]), Input type: torch.float32\n",
      "Labels shape: torch.Size([16]), Labels type: torch.int64\n"
     ]
    },
    {
     "name": "stderr",
     "output_type": "stream",
     "text": [
      "Epoch 9/10:  34%|███▍      | 34/100 [00:07<00:14,  4.44it/s]"
     ]
    },
    {
     "name": "stdout",
     "output_type": "stream",
     "text": [
      "Outputs shape: torch.Size([16, 26]), Outputs type: torch.float32\n"
     ]
    },
    {
     "name": "stderr",
     "output_type": "stream",
     "text": [
      "Epoch 9/10:  35%|███▌      | 35/100 [00:07<00:14,  4.35it/s]"
     ]
    },
    {
     "name": "stdout",
     "output_type": "stream",
     "text": [
      "Input shape: torch.Size([16, 501, 64, 64]), Input type: torch.float32\n",
      "Labels shape: torch.Size([16]), Labels type: torch.int64\n",
      "Outputs shape: torch.Size([16, 26]), Outputs type: torch.float32\n"
     ]
    },
    {
     "name": "stderr",
     "output_type": "stream",
     "text": [
      "Epoch 9/10:  36%|███▌      | 36/100 [00:07<00:14,  4.38it/s]"
     ]
    },
    {
     "name": "stdout",
     "output_type": "stream",
     "text": [
      "Input shape: torch.Size([16, 501, 64, 64]), Input type: torch.float32\n",
      "Labels shape: torch.Size([16]), Labels type: torch.int64\n",
      "Outputs shape: torch.Size([16, 26]), Outputs type: torch.float32\n"
     ]
    },
    {
     "name": "stderr",
     "output_type": "stream",
     "text": [
      "Epoch 9/10:  37%|███▋      | 37/100 [00:08<00:14,  4.34it/s]"
     ]
    },
    {
     "name": "stdout",
     "output_type": "stream",
     "text": [
      "Input shape: torch.Size([16, 501, 64, 64]), Input type: torch.float32\n",
      "Labels shape: torch.Size([16]), Labels type: torch.int64\n",
      "Outputs shape: torch.Size([16, 26]), Outputs type: torch.float32\n"
     ]
    },
    {
     "name": "stderr",
     "output_type": "stream",
     "text": [
      "Epoch 9/10:  38%|███▊      | 38/100 [00:08<00:14,  4.41it/s]"
     ]
    },
    {
     "name": "stdout",
     "output_type": "stream",
     "text": [
      "Input shape: torch.Size([16, 501, 64, 64]), Input type: torch.float32\n",
      "Labels shape: torch.Size([16]), Labels type: torch.int64\n",
      "Outputs shape: torch.Size([16, 26]), Outputs type: torch.float32\n"
     ]
    },
    {
     "name": "stderr",
     "output_type": "stream",
     "text": [
      "Epoch 9/10:  39%|███▉      | 39/100 [00:08<00:13,  4.44it/s]"
     ]
    },
    {
     "name": "stdout",
     "output_type": "stream",
     "text": [
      "Input shape: torch.Size([16, 501, 64, 64]), Input type: torch.float32\n",
      "Labels shape: torch.Size([16]), Labels type: torch.int64\n",
      "Outputs shape: torch.Size([16, 26]), Outputs type: torch.float32\n"
     ]
    },
    {
     "name": "stderr",
     "output_type": "stream",
     "text": [
      "Epoch 9/10:  40%|████      | 40/100 [00:08<00:12,  4.62it/s]"
     ]
    },
    {
     "name": "stdout",
     "output_type": "stream",
     "text": [
      "Input shape: torch.Size([16, 501, 64, 64]), Input type: torch.float32\n",
      "Labels shape: torch.Size([16]), Labels type: torch.int64\n",
      "Outputs shape: torch.Size([16, 26]), Outputs type: torch.float32\n",
      "Input shape: torch.Size([16, 501, 64, 64]), Input type: torch.float32\n",
      "Labels shape: torch.Size([16]), Labels type: torch.int64\n"
     ]
    },
    {
     "name": "stderr",
     "output_type": "stream",
     "text": [
      "Epoch 9/10:  41%|████      | 41/100 [00:09<00:12,  4.73it/s]"
     ]
    },
    {
     "name": "stdout",
     "output_type": "stream",
     "text": [
      "Outputs shape: torch.Size([16, 26]), Outputs type: torch.float32\n",
      "Input shape: torch.Size([16, 501, 64, 64]), Input type: torch.float32\n",
      "Labels shape: torch.Size([16]), Labels type: torch.int64\n",
      "Outputs shape: torch.Size([16, 26]), Outputs type: torch.float32\n"
     ]
    },
    {
     "name": "stderr",
     "output_type": "stream",
     "text": [
      "Epoch 9/10:  43%|████▎     | 43/100 [00:09<00:11,  4.78it/s]"
     ]
    },
    {
     "name": "stdout",
     "output_type": "stream",
     "text": [
      "Input shape: torch.Size([16, 501, 64, 64]), Input type: torch.float32\n",
      "Labels shape: torch.Size([16]), Labels type: torch.int64\n",
      "Outputs shape: torch.Size([16, 26]), Outputs type: torch.float32\n"
     ]
    },
    {
     "name": "stderr",
     "output_type": "stream",
     "text": [
      "Epoch 9/10:  44%|████▍     | 44/100 [00:09<00:11,  4.85it/s]"
     ]
    },
    {
     "name": "stdout",
     "output_type": "stream",
     "text": [
      "Input shape: torch.Size([16, 501, 64, 64]), Input type: torch.float32\n",
      "Labels shape: torch.Size([16]), Labels type: torch.int64\n",
      "Outputs shape: torch.Size([16, 26]), Outputs type: torch.float32\n",
      "Input shape: torch.Size([16, 501, 64, 64]), Input type: torch.float32\n",
      "Labels shape: torch.Size([16]), Labels type: torch.int64\n"
     ]
    },
    {
     "name": "stderr",
     "output_type": "stream",
     "text": [
      "Epoch 9/10:  45%|████▌     | 45/100 [00:09<00:11,  4.77it/s]"
     ]
    },
    {
     "name": "stdout",
     "output_type": "stream",
     "text": [
      "Outputs shape: torch.Size([16, 26]), Outputs type: torch.float32\n",
      "Input shape: torch.Size([16, 501, 64, 64]), Input type: torch.float32\n",
      "Labels shape: torch.Size([16]), Labels type: torch.int64\n"
     ]
    },
    {
     "name": "stderr",
     "output_type": "stream",
     "text": [
      "Epoch 9/10:  46%|████▌     | 46/100 [00:10<00:11,  4.77it/s]"
     ]
    },
    {
     "name": "stdout",
     "output_type": "stream",
     "text": [
      "Outputs shape: torch.Size([16, 26]), Outputs type: torch.float32\n",
      "Input shape: torch.Size([16, 501, 64, 64]), Input type: torch.float32\n",
      "Labels shape: torch.Size([16]), Labels type: torch.int64\n"
     ]
    },
    {
     "name": "stderr",
     "output_type": "stream",
     "text": [
      "Epoch 9/10:  47%|████▋     | 47/100 [00:10<00:11,  4.64it/s]"
     ]
    },
    {
     "name": "stdout",
     "output_type": "stream",
     "text": [
      "Outputs shape: torch.Size([16, 26]), Outputs type: torch.float32\n"
     ]
    },
    {
     "name": "stderr",
     "output_type": "stream",
     "text": [
      "Epoch 9/10:  48%|████▊     | 48/100 [00:10<00:11,  4.61it/s]"
     ]
    },
    {
     "name": "stdout",
     "output_type": "stream",
     "text": [
      "Input shape: torch.Size([16, 501, 64, 64]), Input type: torch.float32\n",
      "Labels shape: torch.Size([16]), Labels type: torch.int64\n",
      "Outputs shape: torch.Size([16, 26]), Outputs type: torch.float32\n"
     ]
    },
    {
     "name": "stderr",
     "output_type": "stream",
     "text": [
      "Epoch 9/10:  49%|████▉     | 49/100 [00:10<00:10,  4.69it/s]"
     ]
    },
    {
     "name": "stdout",
     "output_type": "stream",
     "text": [
      "Input shape: torch.Size([16, 501, 64, 64]), Input type: torch.float32\n",
      "Labels shape: torch.Size([16]), Labels type: torch.int64\n",
      "Outputs shape: torch.Size([16, 26]), Outputs type: torch.float32\n"
     ]
    },
    {
     "name": "stderr",
     "output_type": "stream",
     "text": [
      "Epoch 9/10:  50%|█████     | 50/100 [00:10<00:10,  4.65it/s]"
     ]
    },
    {
     "name": "stdout",
     "output_type": "stream",
     "text": [
      "Input shape: torch.Size([16, 501, 64, 64]), Input type: torch.float32\n",
      "Labels shape: torch.Size([16]), Labels type: torch.int64\n",
      "Outputs shape: torch.Size([16, 26]), Outputs type: torch.float32\n"
     ]
    },
    {
     "name": "stderr",
     "output_type": "stream",
     "text": [
      "Epoch 9/10:  51%|█████     | 51/100 [00:11<00:10,  4.68it/s]"
     ]
    },
    {
     "name": "stdout",
     "output_type": "stream",
     "text": [
      "Input shape: torch.Size([16, 501, 64, 64]), Input type: torch.float32\n",
      "Labels shape: torch.Size([16]), Labels type: torch.int64\n",
      "Outputs shape: torch.Size([16, 26]), Outputs type: torch.float32\n"
     ]
    },
    {
     "name": "stderr",
     "output_type": "stream",
     "text": [
      "Epoch 9/10:  52%|█████▏    | 52/100 [00:11<00:10,  4.79it/s]"
     ]
    },
    {
     "name": "stdout",
     "output_type": "stream",
     "text": [
      "Input shape: torch.Size([16, 501, 64, 64]), Input type: torch.float32\n",
      "Labels shape: torch.Size([16]), Labels type: torch.int64\n",
      "Outputs shape: torch.Size([16, 26]), Outputs type: torch.float32\n",
      "Input shape: torch.Size([16, 501, 64, 64]), Input type: torch.float32\n",
      "Labels shape: torch.Size([16]), Labels type: torch.int64\n"
     ]
    },
    {
     "name": "stderr",
     "output_type": "stream",
     "text": [
      "Epoch 9/10:  53%|█████▎    | 53/100 [00:11<00:09,  4.75it/s]"
     ]
    },
    {
     "name": "stdout",
     "output_type": "stream",
     "text": [
      "Outputs shape: torch.Size([16, 26]), Outputs type: torch.float32\n",
      "Input shape: torch.Size([16, 501, 64, 64]), Input type: torch.float32\n",
      "Labels shape: torch.Size([16]), Labels type: torch.int64\n"
     ]
    },
    {
     "name": "stderr",
     "output_type": "stream",
     "text": [
      "Epoch 9/10:  54%|█████▍    | 54/100 [00:11<00:09,  4.82it/s]"
     ]
    },
    {
     "name": "stdout",
     "output_type": "stream",
     "text": [
      "Outputs shape: torch.Size([16, 26]), Outputs type: torch.float32\n",
      "Input shape: torch.Size([16, 501, 64, 64]), Input type: torch.float32\n",
      "Labels shape: torch.Size([16]), Labels type: torch.int64\n"
     ]
    },
    {
     "name": "stderr",
     "output_type": "stream",
     "text": [
      "Epoch 9/10:  55%|█████▌    | 55/100 [00:11<00:09,  4.78it/s]"
     ]
    },
    {
     "name": "stdout",
     "output_type": "stream",
     "text": [
      "Outputs shape: torch.Size([16, 26]), Outputs type: torch.float32\n",
      "Input shape: torch.Size([16, 501, 64, 64]), Input type: torch.float32\n",
      "Labels shape: torch.Size([16]), Labels type: torch.int64\n"
     ]
    },
    {
     "name": "stderr",
     "output_type": "stream",
     "text": [
      "Epoch 9/10:  56%|█████▌    | 56/100 [00:12<00:09,  4.81it/s]"
     ]
    },
    {
     "name": "stdout",
     "output_type": "stream",
     "text": [
      "Outputs shape: torch.Size([16, 26]), Outputs type: torch.float32\n",
      "Input shape: torch.Size([16, 501, 64, 64]), Input type: torch.float32\n",
      "Labels shape: torch.Size([16]), Labels type: torch.int64\n"
     ]
    },
    {
     "name": "stderr",
     "output_type": "stream",
     "text": [
      "Epoch 9/10:  57%|█████▋    | 57/100 [00:12<00:09,  4.74it/s]"
     ]
    },
    {
     "name": "stdout",
     "output_type": "stream",
     "text": [
      "Outputs shape: torch.Size([16, 26]), Outputs type: torch.float32\n",
      "Input shape: torch.Size([16, 501, 64, 64]), Input type: torch.float32\n",
      "Labels shape: torch.Size([16]), Labels type: torch.int64\n"
     ]
    },
    {
     "name": "stderr",
     "output_type": "stream",
     "text": [
      "Epoch 9/10:  58%|█████▊    | 58/100 [00:12<00:08,  4.76it/s]"
     ]
    },
    {
     "name": "stdout",
     "output_type": "stream",
     "text": [
      "Outputs shape: torch.Size([16, 26]), Outputs type: torch.float32\n",
      "Input shape: torch.Size([16, 501, 64, 64]), Input type: torch.float32\n",
      "Labels shape: torch.Size([16]), Labels type: torch.int64\n",
      "Outputs shape: torch.Size([16, 26]), Outputs type: torch.float32\n"
     ]
    },
    {
     "name": "stderr",
     "output_type": "stream",
     "text": [
      "Epoch 9/10:  60%|██████    | 60/100 [00:12<00:08,  4.90it/s]"
     ]
    },
    {
     "name": "stdout",
     "output_type": "stream",
     "text": [
      "Input shape: torch.Size([16, 501, 64, 64]), Input type: torch.float32\n",
      "Labels shape: torch.Size([16]), Labels type: torch.int64\n",
      "Outputs shape: torch.Size([16, 26]), Outputs type: torch.float32\n"
     ]
    },
    {
     "name": "stderr",
     "output_type": "stream",
     "text": [
      "Epoch 9/10:  61%|██████    | 61/100 [00:13<00:08,  4.77it/s]"
     ]
    },
    {
     "name": "stdout",
     "output_type": "stream",
     "text": [
      "Input shape: torch.Size([16, 501, 64, 64]), Input type: torch.float32\n",
      "Labels shape: torch.Size([16]), Labels type: torch.int64\n",
      "Outputs shape: torch.Size([16, 26]), Outputs type: torch.float32\n"
     ]
    },
    {
     "name": "stderr",
     "output_type": "stream",
     "text": [
      "Epoch 9/10:  62%|██████▏   | 62/100 [00:13<00:08,  4.67it/s]"
     ]
    },
    {
     "name": "stdout",
     "output_type": "stream",
     "text": [
      "Input shape: torch.Size([16, 501, 64, 64]), Input type: torch.float32\n",
      "Labels shape: torch.Size([16]), Labels type: torch.int64\n",
      "Outputs shape: torch.Size([16, 26]), Outputs type: torch.float32\n"
     ]
    },
    {
     "name": "stderr",
     "output_type": "stream",
     "text": [
      "Epoch 9/10:  63%|██████▎   | 63/100 [00:13<00:08,  4.31it/s]"
     ]
    },
    {
     "name": "stdout",
     "output_type": "stream",
     "text": [
      "Input shape: torch.Size([16, 501, 64, 64]), Input type: torch.float32\n",
      "Labels shape: torch.Size([16]), Labels type: torch.int64\n",
      "Outputs shape: torch.Size([16, 26]), Outputs type: torch.float32\n"
     ]
    },
    {
     "name": "stderr",
     "output_type": "stream",
     "text": [
      "Epoch 9/10:  64%|██████▍   | 64/100 [00:13<00:08,  4.25it/s]"
     ]
    },
    {
     "name": "stdout",
     "output_type": "stream",
     "text": [
      "Input shape: torch.Size([16, 501, 64, 64]), Input type: torch.float32\n",
      "Labels shape: torch.Size([16]), Labels type: torch.int64\n",
      "Outputs shape: torch.Size([16, 26]), Outputs type: torch.float32\n"
     ]
    },
    {
     "name": "stderr",
     "output_type": "stream",
     "text": [
      "Epoch 9/10:  65%|██████▌   | 65/100 [00:14<00:08,  4.35it/s]"
     ]
    },
    {
     "name": "stdout",
     "output_type": "stream",
     "text": [
      "Input shape: torch.Size([16, 501, 64, 64]), Input type: torch.float32\n",
      "Labels shape: torch.Size([16]), Labels type: torch.int64\n",
      "Outputs shape: torch.Size([16, 26]), Outputs type: torch.float32\n",
      "Input shape: torch.Size([16, 501, 64, 64]), Input type: torch.float32\n",
      "Labels shape: torch.Size([16]), Labels type: torch.int64\n"
     ]
    },
    {
     "name": "stderr",
     "output_type": "stream",
     "text": [
      "Epoch 9/10:  66%|██████▌   | 66/100 [00:14<00:07,  4.47it/s]"
     ]
    },
    {
     "name": "stdout",
     "output_type": "stream",
     "text": [
      "Outputs shape: torch.Size([16, 26]), Outputs type: torch.float32\n",
      "Input shape: torch.Size([16, 501, 64, 64]), Input type: torch.float32\n",
      "Labels shape: torch.Size([16]), Labels type: torch.int64\n"
     ]
    },
    {
     "name": "stderr",
     "output_type": "stream",
     "text": [
      "Epoch 9/10:  67%|██████▋   | 67/100 [00:14<00:07,  4.31it/s]"
     ]
    },
    {
     "name": "stdout",
     "output_type": "stream",
     "text": [
      "Outputs shape: torch.Size([16, 26]), Outputs type: torch.float32\n"
     ]
    },
    {
     "name": "stderr",
     "output_type": "stream",
     "text": [
      "Epoch 9/10:  68%|██████▊   | 68/100 [00:14<00:07,  4.39it/s]"
     ]
    },
    {
     "name": "stdout",
     "output_type": "stream",
     "text": [
      "Input shape: torch.Size([16, 501, 64, 64]), Input type: torch.float32\n",
      "Labels shape: torch.Size([16]), Labels type: torch.int64\n",
      "Outputs shape: torch.Size([16, 26]), Outputs type: torch.float32\n"
     ]
    },
    {
     "name": "stderr",
     "output_type": "stream",
     "text": [
      "Epoch 9/10:  69%|██████▉   | 69/100 [00:15<00:07,  4.30it/s]"
     ]
    },
    {
     "name": "stdout",
     "output_type": "stream",
     "text": [
      "Input shape: torch.Size([16, 501, 64, 64]), Input type: torch.float32\n",
      "Labels shape: torch.Size([16]), Labels type: torch.int64\n",
      "Outputs shape: torch.Size([16, 26]), Outputs type: torch.float32\n"
     ]
    },
    {
     "name": "stderr",
     "output_type": "stream",
     "text": [
      "Epoch 9/10:  70%|███████   | 70/100 [00:15<00:06,  4.36it/s]"
     ]
    },
    {
     "name": "stdout",
     "output_type": "stream",
     "text": [
      "Input shape: torch.Size([16, 501, 64, 64]), Input type: torch.float32\n",
      "Labels shape: torch.Size([16]), Labels type: torch.int64\n",
      "Outputs shape: torch.Size([16, 26]), Outputs type: torch.float32\n"
     ]
    },
    {
     "name": "stderr",
     "output_type": "stream",
     "text": [
      "Epoch 9/10:  71%|███████   | 71/100 [00:15<00:06,  4.26it/s]"
     ]
    },
    {
     "name": "stdout",
     "output_type": "stream",
     "text": [
      "Input shape: torch.Size([16, 501, 64, 64]), Input type: torch.float32\n",
      "Labels shape: torch.Size([16]), Labels type: torch.int64\n",
      "Outputs shape: torch.Size([16, 26]), Outputs type: torch.float32\n"
     ]
    },
    {
     "name": "stderr",
     "output_type": "stream",
     "text": [
      "Epoch 9/10:  72%|███████▏  | 72/100 [00:15<00:06,  4.20it/s]"
     ]
    },
    {
     "name": "stdout",
     "output_type": "stream",
     "text": [
      "Input shape: torch.Size([16, 501, 64, 64]), Input type: torch.float32\n",
      "Labels shape: torch.Size([16]), Labels type: torch.int64\n",
      "Outputs shape: torch.Size([16, 26]), Outputs type: torch.float32\n"
     ]
    },
    {
     "name": "stderr",
     "output_type": "stream",
     "text": [
      "Epoch 9/10:  73%|███████▎  | 73/100 [00:16<00:06,  4.17it/s]"
     ]
    },
    {
     "name": "stdout",
     "output_type": "stream",
     "text": [
      "Input shape: torch.Size([16, 501, 64, 64]), Input type: torch.float32\n",
      "Labels shape: torch.Size([16]), Labels type: torch.int64\n",
      "Outputs shape: torch.Size([16, 26]), Outputs type: torch.float32\n"
     ]
    },
    {
     "name": "stderr",
     "output_type": "stream",
     "text": [
      "Epoch 9/10:  74%|███████▍  | 74/100 [00:16<00:06,  4.24it/s]"
     ]
    },
    {
     "name": "stdout",
     "output_type": "stream",
     "text": [
      "Input shape: torch.Size([16, 501, 64, 64]), Input type: torch.float32\n",
      "Labels shape: torch.Size([16]), Labels type: torch.int64\n",
      "Outputs shape: torch.Size([16, 26]), Outputs type: torch.float32\n"
     ]
    },
    {
     "name": "stderr",
     "output_type": "stream",
     "text": [
      "Epoch 9/10:  75%|███████▌  | 75/100 [00:16<00:05,  4.29it/s]"
     ]
    },
    {
     "name": "stdout",
     "output_type": "stream",
     "text": [
      "Input shape: torch.Size([16, 501, 64, 64]), Input type: torch.float32\n",
      "Labels shape: torch.Size([16]), Labels type: torch.int64\n",
      "Outputs shape: torch.Size([16, 26]), Outputs type: torch.float32\n"
     ]
    },
    {
     "name": "stderr",
     "output_type": "stream",
     "text": [
      "Epoch 9/10:  76%|███████▌  | 76/100 [00:16<00:05,  4.24it/s]"
     ]
    },
    {
     "name": "stdout",
     "output_type": "stream",
     "text": [
      "Input shape: torch.Size([16, 501, 64, 64]), Input type: torch.float32\n",
      "Labels shape: torch.Size([16]), Labels type: torch.int64\n",
      "Outputs shape: torch.Size([16, 26]), Outputs type: torch.float32\n"
     ]
    },
    {
     "name": "stderr",
     "output_type": "stream",
     "text": [
      "Epoch 9/10:  77%|███████▋  | 77/100 [00:16<00:05,  4.20it/s]"
     ]
    },
    {
     "name": "stdout",
     "output_type": "stream",
     "text": [
      "Input shape: torch.Size([16, 501, 64, 64]), Input type: torch.float32\n",
      "Labels shape: torch.Size([16]), Labels type: torch.int64\n",
      "Outputs shape: torch.Size([16, 26]), Outputs type: torch.float32\n"
     ]
    },
    {
     "name": "stderr",
     "output_type": "stream",
     "text": [
      "Epoch 9/10:  78%|███████▊  | 78/100 [00:17<00:05,  4.35it/s]"
     ]
    },
    {
     "name": "stdout",
     "output_type": "stream",
     "text": [
      "Input shape: torch.Size([16, 501, 64, 64]), Input type: torch.float32\n",
      "Labels shape: torch.Size([16]), Labels type: torch.int64\n",
      "Outputs shape: torch.Size([16, 26]), Outputs type: torch.float32\n"
     ]
    },
    {
     "name": "stderr",
     "output_type": "stream",
     "text": [
      "Epoch 9/10:  79%|███████▉  | 79/100 [00:17<00:05,  4.19it/s]"
     ]
    },
    {
     "name": "stdout",
     "output_type": "stream",
     "text": [
      "Input shape: torch.Size([16, 501, 64, 64]), Input type: torch.float32\n",
      "Labels shape: torch.Size([16]), Labels type: torch.int64\n",
      "Outputs shape: torch.Size([16, 26]), Outputs type: torch.float32\n"
     ]
    },
    {
     "name": "stderr",
     "output_type": "stream",
     "text": [
      "Epoch 9/10:  80%|████████  | 80/100 [00:17<00:04,  4.18it/s]"
     ]
    },
    {
     "name": "stdout",
     "output_type": "stream",
     "text": [
      "Input shape: torch.Size([16, 501, 64, 64]), Input type: torch.float32\n",
      "Labels shape: torch.Size([16]), Labels type: torch.int64\n",
      "Outputs shape: torch.Size([16, 26]), Outputs type: torch.float32\n"
     ]
    },
    {
     "name": "stderr",
     "output_type": "stream",
     "text": [
      "Epoch 9/10:  81%|████████  | 81/100 [00:17<00:04,  4.33it/s]"
     ]
    },
    {
     "name": "stdout",
     "output_type": "stream",
     "text": [
      "Input shape: torch.Size([16, 501, 64, 64]), Input type: torch.float32\n",
      "Labels shape: torch.Size([16]), Labels type: torch.int64\n",
      "Outputs shape: torch.Size([16, 26]), Outputs type: torch.float32\n"
     ]
    },
    {
     "name": "stderr",
     "output_type": "stream",
     "text": [
      "Epoch 9/10:  82%|████████▏ | 82/100 [00:18<00:04,  4.16it/s]"
     ]
    },
    {
     "name": "stdout",
     "output_type": "stream",
     "text": [
      "Input shape: torch.Size([16, 501, 64, 64]), Input type: torch.float32\n",
      "Labels shape: torch.Size([16]), Labels type: torch.int64\n",
      "Outputs shape: torch.Size([16, 26]), Outputs type: torch.float32\n"
     ]
    },
    {
     "name": "stderr",
     "output_type": "stream",
     "text": [
      "Epoch 9/10:  83%|████████▎ | 83/100 [00:18<00:03,  4.27it/s]"
     ]
    },
    {
     "name": "stdout",
     "output_type": "stream",
     "text": [
      "Input shape: torch.Size([16, 501, 64, 64]), Input type: torch.float32\n",
      "Labels shape: torch.Size([16]), Labels type: torch.int64\n",
      "Outputs shape: torch.Size([16, 26]), Outputs type: torch.float32\n"
     ]
    },
    {
     "name": "stderr",
     "output_type": "stream",
     "text": [
      "Epoch 9/10:  84%|████████▍ | 84/100 [00:18<00:03,  4.41it/s]"
     ]
    },
    {
     "name": "stdout",
     "output_type": "stream",
     "text": [
      "Input shape: torch.Size([16, 501, 64, 64]), Input type: torch.float32\n",
      "Labels shape: torch.Size([16]), Labels type: torch.int64\n",
      "Outputs shape: torch.Size([16, 26]), Outputs type: torch.float32\n"
     ]
    },
    {
     "name": "stderr",
     "output_type": "stream",
     "text": [
      "Epoch 9/10:  85%|████████▌ | 85/100 [00:18<00:03,  4.53it/s]"
     ]
    },
    {
     "name": "stdout",
     "output_type": "stream",
     "text": [
      "Input shape: torch.Size([16, 501, 64, 64]), Input type: torch.float32\n",
      "Labels shape: torch.Size([16]), Labels type: torch.int64\n",
      "Outputs shape: torch.Size([16, 26]), Outputs type: torch.float32\n"
     ]
    },
    {
     "name": "stderr",
     "output_type": "stream",
     "text": [
      "Epoch 9/10:  86%|████████▌ | 86/100 [00:19<00:03,  4.61it/s]"
     ]
    },
    {
     "name": "stdout",
     "output_type": "stream",
     "text": [
      "Input shape: torch.Size([16, 501, 64, 64]), Input type: torch.float32\n",
      "Labels shape: torch.Size([16]), Labels type: torch.int64\n",
      "Outputs shape: torch.Size([16, 26]), Outputs type: torch.float32\n"
     ]
    },
    {
     "name": "stderr",
     "output_type": "stream",
     "text": [
      "Epoch 9/10:  87%|████████▋ | 87/100 [00:19<00:02,  4.66it/s]"
     ]
    },
    {
     "name": "stdout",
     "output_type": "stream",
     "text": [
      "Input shape: torch.Size([16, 501, 64, 64]), Input type: torch.float32\n",
      "Labels shape: torch.Size([16]), Labels type: torch.int64\n",
      "Outputs shape: torch.Size([16, 26]), Outputs type: torch.float32\n"
     ]
    },
    {
     "name": "stderr",
     "output_type": "stream",
     "text": [
      "Epoch 9/10:  88%|████████▊ | 88/100 [00:19<00:02,  4.65it/s]"
     ]
    },
    {
     "name": "stdout",
     "output_type": "stream",
     "text": [
      "Input shape: torch.Size([16, 501, 64, 64]), Input type: torch.float32\n",
      "Labels shape: torch.Size([16]), Labels type: torch.int64\n",
      "Outputs shape: torch.Size([16, 26]), Outputs type: torch.float32\n"
     ]
    },
    {
     "name": "stderr",
     "output_type": "stream",
     "text": [
      "Epoch 9/10:  89%|████████▉ | 89/100 [00:19<00:02,  4.77it/s]"
     ]
    },
    {
     "name": "stdout",
     "output_type": "stream",
     "text": [
      "Input shape: torch.Size([16, 501, 64, 64]), Input type: torch.float32\n",
      "Labels shape: torch.Size([16]), Labels type: torch.int64\n",
      "Outputs shape: torch.Size([16, 26]), Outputs type: torch.float32\n",
      "Input shape: torch.Size([16, 501, 64, 64]), Input type: torch.float32\n",
      "Labels shape: torch.Size([16]), Labels type: torch.int64\n"
     ]
    },
    {
     "name": "stderr",
     "output_type": "stream",
     "text": [
      "Epoch 9/10:  90%|█████████ | 90/100 [00:19<00:02,  4.84it/s]"
     ]
    },
    {
     "name": "stdout",
     "output_type": "stream",
     "text": [
      "Outputs shape: torch.Size([16, 26]), Outputs type: torch.float32\n",
      "Input shape: torch.Size([16, 501, 64, 64]), Input type: torch.float32\n",
      "Labels shape: torch.Size([16]), Labels type: torch.int64\n",
      "Outputs shape: torch.Size([16, 26]), Outputs type: torch.float32\n"
     ]
    },
    {
     "name": "stderr",
     "output_type": "stream",
     "text": [
      "Epoch 9/10:  92%|█████████▏| 92/100 [00:20<00:01,  4.85it/s]"
     ]
    },
    {
     "name": "stdout",
     "output_type": "stream",
     "text": [
      "Input shape: torch.Size([16, 501, 64, 64]), Input type: torch.float32\n",
      "Labels shape: torch.Size([16]), Labels type: torch.int64\n",
      "Outputs shape: torch.Size([16, 26]), Outputs type: torch.float32\n",
      "Input shape: torch.Size([16, 501, 64, 64]), Input type: torch.float32\n",
      "Labels shape: torch.Size([16]), Labels type: torch.int64\n"
     ]
    },
    {
     "name": "stderr",
     "output_type": "stream",
     "text": [
      "Epoch 9/10:  93%|█████████▎| 93/100 [00:20<00:01,  4.86it/s]"
     ]
    },
    {
     "name": "stdout",
     "output_type": "stream",
     "text": [
      "Outputs shape: torch.Size([16, 26]), Outputs type: torch.float32\n",
      "Input shape: torch.Size([16, 501, 64, 64]), Input type: torch.float32\n",
      "Labels shape: torch.Size([16]), Labels type: torch.int64\n"
     ]
    },
    {
     "name": "stderr",
     "output_type": "stream",
     "text": [
      "Epoch 9/10:  94%|█████████▍| 94/100 [00:20<00:01,  4.89it/s]"
     ]
    },
    {
     "name": "stdout",
     "output_type": "stream",
     "text": [
      "Outputs shape: torch.Size([16, 26]), Outputs type: torch.float32\n",
      "Input shape: torch.Size([16, 501, 64, 64]), Input type: torch.float32\n",
      "Labels shape: torch.Size([16]), Labels type: torch.int64\n"
     ]
    },
    {
     "name": "stderr",
     "output_type": "stream",
     "text": [
      "Epoch 9/10:  95%|█████████▌| 95/100 [00:20<00:01,  4.88it/s]"
     ]
    },
    {
     "name": "stdout",
     "output_type": "stream",
     "text": [
      "Outputs shape: torch.Size([16, 26]), Outputs type: torch.float32\n",
      "Input shape: torch.Size([16, 501, 64, 64]), Input type: torch.float32\n",
      "Labels shape: torch.Size([16]), Labels type: torch.int64\n"
     ]
    },
    {
     "name": "stderr",
     "output_type": "stream",
     "text": [
      "Epoch 9/10:  96%|█████████▌| 96/100 [00:21<00:00,  4.90it/s]"
     ]
    },
    {
     "name": "stdout",
     "output_type": "stream",
     "text": [
      "Outputs shape: torch.Size([16, 26]), Outputs type: torch.float32\n",
      "Input shape: torch.Size([16, 501, 64, 64]), Input type: torch.float32\n",
      "Labels shape: torch.Size([16]), Labels type: torch.int64\n",
      "Outputs shape: torch.Size([16, 26]), Outputs type: torch.float32\n"
     ]
    },
    {
     "name": "stderr",
     "output_type": "stream",
     "text": [
      "Epoch 9/10:  98%|█████████▊| 98/100 [00:21<00:00,  4.84it/s]"
     ]
    },
    {
     "name": "stdout",
     "output_type": "stream",
     "text": [
      "Input shape: torch.Size([16, 501, 64, 64]), Input type: torch.float32\n",
      "Labels shape: torch.Size([16]), Labels type: torch.int64\n",
      "Outputs shape: torch.Size([16, 26]), Outputs type: torch.float32\n",
      "Input shape: torch.Size([16, 501, 64, 64]), Input type: torch.float32\n",
      "Labels shape: torch.Size([16]), Labels type: torch.int64\n"
     ]
    },
    {
     "name": "stderr",
     "output_type": "stream",
     "text": [
      "Epoch 9/10: 100%|██████████| 100/100 [00:21<00:00,  4.60it/s]\n"
     ]
    },
    {
     "name": "stdout",
     "output_type": "stream",
     "text": [
      "Outputs shape: torch.Size([16, 26]), Outputs type: torch.float32\n",
      "Input shape: torch.Size([6, 501, 64, 64]), Input type: torch.float32\n",
      "Labels shape: torch.Size([6]), Labels type: torch.int64\n",
      "Outputs shape: torch.Size([6, 26]), Outputs type: torch.float32\n"
     ]
    },
    {
     "name": "stderr",
     "output_type": "stream",
     "text": [
      "Epoch 10/10:   1%|          | 1/100 [00:00<00:19,  5.09it/s]"
     ]
    },
    {
     "name": "stdout",
     "output_type": "stream",
     "text": [
      "Input shape: torch.Size([16, 501, 64, 64]), Input type: torch.float32\n",
      "Labels shape: torch.Size([16]), Labels type: torch.int64\n",
      "Outputs shape: torch.Size([16, 26]), Outputs type: torch.float32\n"
     ]
    },
    {
     "name": "stderr",
     "output_type": "stream",
     "text": [
      "Epoch 10/10:   2%|▏         | 2/100 [00:00<00:19,  5.00it/s]"
     ]
    },
    {
     "name": "stdout",
     "output_type": "stream",
     "text": [
      "Input shape: torch.Size([16, 501, 64, 64]), Input type: torch.float32\n",
      "Labels shape: torch.Size([16]), Labels type: torch.int64\n",
      "Outputs shape: torch.Size([16, 26]), Outputs type: torch.float32\n",
      "Input shape: torch.Size([16, 501, 64, 64]), Input type: torch.float32\n",
      "Labels shape: torch.Size([16]), Labels type: torch.int64\n"
     ]
    },
    {
     "name": "stderr",
     "output_type": "stream",
     "text": [
      "Epoch 10/10:   3%|▎         | 3/100 [00:00<00:19,  4.91it/s]"
     ]
    },
    {
     "name": "stdout",
     "output_type": "stream",
     "text": [
      "Outputs shape: torch.Size([16, 26]), Outputs type: torch.float32\n",
      "Input shape: torch.Size([16, 501, 64, 64]), Input type: torch.float32\n",
      "Labels shape: torch.Size([16]), Labels type: torch.int64\n"
     ]
    },
    {
     "name": "stderr",
     "output_type": "stream",
     "text": [
      "Epoch 10/10:   4%|▍         | 4/100 [00:00<00:19,  4.85it/s]"
     ]
    },
    {
     "name": "stdout",
     "output_type": "stream",
     "text": [
      "Outputs shape: torch.Size([16, 26]), Outputs type: torch.float32\n",
      "Input shape: torch.Size([16, 501, 64, 64]), Input type: torch.float32\n",
      "Labels shape: torch.Size([16]), Labels type: torch.int64\n"
     ]
    },
    {
     "name": "stderr",
     "output_type": "stream",
     "text": [
      "Epoch 10/10:   5%|▌         | 5/100 [00:01<00:19,  4.82it/s]"
     ]
    },
    {
     "name": "stdout",
     "output_type": "stream",
     "text": [
      "Outputs shape: torch.Size([16, 26]), Outputs type: torch.float32\n",
      "Input shape: torch.Size([16, 501, 64, 64]), Input type: torch.float32\n",
      "Labels shape: torch.Size([16]), Labels type: torch.int64\n",
      "Outputs shape: torch.Size([16, 26]), Outputs type: torch.float32\n"
     ]
    },
    {
     "name": "stderr",
     "output_type": "stream",
     "text": [
      "Epoch 10/10:   7%|▋         | 7/100 [00:01<00:19,  4.73it/s]"
     ]
    },
    {
     "name": "stdout",
     "output_type": "stream",
     "text": [
      "Input shape: torch.Size([16, 501, 64, 64]), Input type: torch.float32\n",
      "Labels shape: torch.Size([16]), Labels type: torch.int64\n",
      "Outputs shape: torch.Size([16, 26]), Outputs type: torch.float32\n"
     ]
    },
    {
     "name": "stderr",
     "output_type": "stream",
     "text": [
      "Epoch 10/10:   8%|▊         | 8/100 [00:01<00:20,  4.46it/s]"
     ]
    },
    {
     "name": "stdout",
     "output_type": "stream",
     "text": [
      "Input shape: torch.Size([16, 501, 64, 64]), Input type: torch.float32\n",
      "Labels shape: torch.Size([16]), Labels type: torch.int64\n",
      "Outputs shape: torch.Size([16, 26]), Outputs type: torch.float32\n"
     ]
    },
    {
     "name": "stderr",
     "output_type": "stream",
     "text": [
      "Epoch 10/10:   9%|▉         | 9/100 [00:01<00:21,  4.25it/s]"
     ]
    },
    {
     "name": "stdout",
     "output_type": "stream",
     "text": [
      "Input shape: torch.Size([16, 501, 64, 64]), Input type: torch.float32\n",
      "Labels shape: torch.Size([16]), Labels type: torch.int64\n",
      "Outputs shape: torch.Size([16, 26]), Outputs type: torch.float32\n"
     ]
    },
    {
     "name": "stderr",
     "output_type": "stream",
     "text": [
      "Epoch 10/10:  10%|█         | 10/100 [00:02<00:21,  4.16it/s]"
     ]
    },
    {
     "name": "stdout",
     "output_type": "stream",
     "text": [
      "Input shape: torch.Size([16, 501, 64, 64]), Input type: torch.float32\n",
      "Labels shape: torch.Size([16]), Labels type: torch.int64\n",
      "Outputs shape: torch.Size([16, 26]), Outputs type: torch.float32\n"
     ]
    },
    {
     "name": "stderr",
     "output_type": "stream",
     "text": [
      "Epoch 10/10:  11%|█         | 11/100 [00:02<00:21,  4.18it/s]"
     ]
    },
    {
     "name": "stdout",
     "output_type": "stream",
     "text": [
      "Input shape: torch.Size([16, 501, 64, 64]), Input type: torch.float32\n",
      "Labels shape: torch.Size([16]), Labels type: torch.int64\n",
      "Outputs shape: torch.Size([16, 26]), Outputs type: torch.float32\n"
     ]
    },
    {
     "name": "stderr",
     "output_type": "stream",
     "text": [
      "Epoch 10/10:  12%|█▏        | 12/100 [00:02<00:20,  4.26it/s]"
     ]
    },
    {
     "name": "stdout",
     "output_type": "stream",
     "text": [
      "Input shape: torch.Size([16, 501, 64, 64]), Input type: torch.float32\n",
      "Labels shape: torch.Size([16]), Labels type: torch.int64\n",
      "Outputs shape: torch.Size([16, 26]), Outputs type: torch.float32\n"
     ]
    },
    {
     "name": "stderr",
     "output_type": "stream",
     "text": [
      "Epoch 10/10:  13%|█▎        | 13/100 [00:02<00:20,  4.21it/s]"
     ]
    },
    {
     "name": "stdout",
     "output_type": "stream",
     "text": [
      "Input shape: torch.Size([16, 501, 64, 64]), Input type: torch.float32\n",
      "Labels shape: torch.Size([16]), Labels type: torch.int64\n",
      "Outputs shape: torch.Size([16, 26]), Outputs type: torch.float32\n"
     ]
    },
    {
     "name": "stderr",
     "output_type": "stream",
     "text": [
      "Epoch 10/10:  14%|█▍        | 14/100 [00:03<00:20,  4.13it/s]"
     ]
    },
    {
     "name": "stdout",
     "output_type": "stream",
     "text": [
      "Input shape: torch.Size([16, 501, 64, 64]), Input type: torch.float32\n",
      "Labels shape: torch.Size([16]), Labels type: torch.int64\n",
      "Outputs shape: torch.Size([16, 26]), Outputs type: torch.float32\n"
     ]
    },
    {
     "name": "stderr",
     "output_type": "stream",
     "text": [
      "Epoch 10/10:  15%|█▌        | 15/100 [00:03<00:20,  4.06it/s]"
     ]
    },
    {
     "name": "stdout",
     "output_type": "stream",
     "text": [
      "Input shape: torch.Size([16, 501, 64, 64]), Input type: torch.float32\n",
      "Labels shape: torch.Size([16]), Labels type: torch.int64\n",
      "Outputs shape: torch.Size([16, 26]), Outputs type: torch.float32\n"
     ]
    },
    {
     "name": "stderr",
     "output_type": "stream",
     "text": [
      "Epoch 10/10:  16%|█▌        | 16/100 [00:03<00:19,  4.25it/s]"
     ]
    },
    {
     "name": "stdout",
     "output_type": "stream",
     "text": [
      "Input shape: torch.Size([16, 501, 64, 64]), Input type: torch.float32\n",
      "Labels shape: torch.Size([16]), Labels type: torch.int64\n",
      "Outputs shape: torch.Size([16, 26]), Outputs type: torch.float32\n"
     ]
    },
    {
     "name": "stderr",
     "output_type": "stream",
     "text": [
      "Epoch 10/10:  17%|█▋        | 17/100 [00:03<00:19,  4.23it/s]"
     ]
    },
    {
     "name": "stdout",
     "output_type": "stream",
     "text": [
      "Input shape: torch.Size([16, 501, 64, 64]), Input type: torch.float32\n",
      "Labels shape: torch.Size([16]), Labels type: torch.int64\n",
      "Outputs shape: torch.Size([16, 26]), Outputs type: torch.float32\n"
     ]
    },
    {
     "name": "stderr",
     "output_type": "stream",
     "text": [
      "Epoch 10/10:  18%|█▊        | 18/100 [00:04<00:19,  4.23it/s]"
     ]
    },
    {
     "name": "stdout",
     "output_type": "stream",
     "text": [
      "Input shape: torch.Size([16, 501, 64, 64]), Input type: torch.float32\n",
      "Labels shape: torch.Size([16]), Labels type: torch.int64\n",
      "Outputs shape: torch.Size([16, 26]), Outputs type: torch.float32\n"
     ]
    },
    {
     "name": "stderr",
     "output_type": "stream",
     "text": [
      "Epoch 10/10:  19%|█▉        | 19/100 [00:04<00:18,  4.35it/s]"
     ]
    },
    {
     "name": "stdout",
     "output_type": "stream",
     "text": [
      "Input shape: torch.Size([16, 501, 64, 64]), Input type: torch.float32\n",
      "Labels shape: torch.Size([16]), Labels type: torch.int64\n",
      "Outputs shape: torch.Size([16, 26]), Outputs type: torch.float32\n"
     ]
    },
    {
     "name": "stderr",
     "output_type": "stream",
     "text": [
      "Epoch 10/10:  20%|██        | 20/100 [00:04<00:17,  4.53it/s]"
     ]
    },
    {
     "name": "stdout",
     "output_type": "stream",
     "text": [
      "Input shape: torch.Size([16, 501, 64, 64]), Input type: torch.float32\n",
      "Labels shape: torch.Size([16]), Labels type: torch.int64\n",
      "Outputs shape: torch.Size([16, 26]), Outputs type: torch.float32\n"
     ]
    },
    {
     "name": "stderr",
     "output_type": "stream",
     "text": [
      "Epoch 10/10:  21%|██        | 21/100 [00:04<00:17,  4.50it/s]"
     ]
    },
    {
     "name": "stdout",
     "output_type": "stream",
     "text": [
      "Input shape: torch.Size([16, 501, 64, 64]), Input type: torch.float32\n",
      "Labels shape: torch.Size([16]), Labels type: torch.int64\n",
      "Outputs shape: torch.Size([16, 26]), Outputs type: torch.float32\n"
     ]
    },
    {
     "name": "stderr",
     "output_type": "stream",
     "text": [
      "Epoch 10/10:  22%|██▏       | 22/100 [00:04<00:17,  4.48it/s]"
     ]
    },
    {
     "name": "stdout",
     "output_type": "stream",
     "text": [
      "Input shape: torch.Size([16, 501, 64, 64]), Input type: torch.float32\n",
      "Labels shape: torch.Size([16]), Labels type: torch.int64\n",
      "Outputs shape: torch.Size([16, 26]), Outputs type: torch.float32\n"
     ]
    },
    {
     "name": "stderr",
     "output_type": "stream",
     "text": [
      "Epoch 10/10:  23%|██▎       | 23/100 [00:05<00:17,  4.44it/s]"
     ]
    },
    {
     "name": "stdout",
     "output_type": "stream",
     "text": [
      "Input shape: torch.Size([16, 501, 64, 64]), Input type: torch.float32\n",
      "Labels shape: torch.Size([16]), Labels type: torch.int64\n",
      "Outputs shape: torch.Size([16, 26]), Outputs type: torch.float32\n"
     ]
    },
    {
     "name": "stderr",
     "output_type": "stream",
     "text": [
      "Epoch 10/10:  24%|██▍       | 24/100 [00:05<00:17,  4.29it/s]"
     ]
    },
    {
     "name": "stdout",
     "output_type": "stream",
     "text": [
      "Input shape: torch.Size([16, 501, 64, 64]), Input type: torch.float32\n",
      "Labels shape: torch.Size([16]), Labels type: torch.int64\n",
      "Outputs shape: torch.Size([16, 26]), Outputs type: torch.float32\n"
     ]
    },
    {
     "name": "stderr",
     "output_type": "stream",
     "text": [
      "Epoch 10/10:  25%|██▌       | 25/100 [00:05<00:16,  4.43it/s]"
     ]
    },
    {
     "name": "stdout",
     "output_type": "stream",
     "text": [
      "Input shape: torch.Size([16, 501, 64, 64]), Input type: torch.float32\n",
      "Labels shape: torch.Size([16]), Labels type: torch.int64\n",
      "Outputs shape: torch.Size([16, 26]), Outputs type: torch.float32\n"
     ]
    },
    {
     "name": "stderr",
     "output_type": "stream",
     "text": [
      "Epoch 10/10:  26%|██▌       | 26/100 [00:05<00:17,  4.32it/s]"
     ]
    },
    {
     "name": "stdout",
     "output_type": "stream",
     "text": [
      "Input shape: torch.Size([16, 501, 64, 64]), Input type: torch.float32\n",
      "Labels shape: torch.Size([16]), Labels type: torch.int64\n",
      "Outputs shape: torch.Size([16, 26]), Outputs type: torch.float32\n"
     ]
    },
    {
     "name": "stderr",
     "output_type": "stream",
     "text": [
      "Epoch 10/10:  27%|██▋       | 27/100 [00:06<00:17,  4.23it/s]"
     ]
    },
    {
     "name": "stdout",
     "output_type": "stream",
     "text": [
      "Input shape: torch.Size([16, 501, 64, 64]), Input type: torch.float32\n",
      "Labels shape: torch.Size([16]), Labels type: torch.int64\n",
      "Outputs shape: torch.Size([16, 26]), Outputs type: torch.float32\n"
     ]
    },
    {
     "name": "stderr",
     "output_type": "stream",
     "text": [
      "Epoch 10/10:  28%|██▊       | 28/100 [00:06<00:17,  4.15it/s]"
     ]
    },
    {
     "name": "stdout",
     "output_type": "stream",
     "text": [
      "Input shape: torch.Size([16, 501, 64, 64]), Input type: torch.float32\n",
      "Labels shape: torch.Size([16]), Labels type: torch.int64\n",
      "Outputs shape: torch.Size([16, 26]), Outputs type: torch.float32\n"
     ]
    },
    {
     "name": "stderr",
     "output_type": "stream",
     "text": [
      "Epoch 10/10:  29%|██▉       | 29/100 [00:06<00:17,  4.16it/s]"
     ]
    },
    {
     "name": "stdout",
     "output_type": "stream",
     "text": [
      "Input shape: torch.Size([16, 501, 64, 64]), Input type: torch.float32\n",
      "Labels shape: torch.Size([16]), Labels type: torch.int64\n",
      "Outputs shape: torch.Size([16, 26]), Outputs type: torch.float32\n"
     ]
    },
    {
     "name": "stderr",
     "output_type": "stream",
     "text": [
      "Epoch 10/10:  30%|███       | 30/100 [00:06<00:17,  4.06it/s]"
     ]
    },
    {
     "name": "stdout",
     "output_type": "stream",
     "text": [
      "Input shape: torch.Size([16, 501, 64, 64]), Input type: torch.float32\n",
      "Labels shape: torch.Size([16]), Labels type: torch.int64\n",
      "Outputs shape: torch.Size([16, 26]), Outputs type: torch.float32\n"
     ]
    },
    {
     "name": "stderr",
     "output_type": "stream",
     "text": [
      "Epoch 10/10:  31%|███       | 31/100 [00:07<00:18,  3.77it/s]"
     ]
    },
    {
     "name": "stdout",
     "output_type": "stream",
     "text": [
      "Input shape: torch.Size([16, 501, 64, 64]), Input type: torch.float32\n",
      "Labels shape: torch.Size([16]), Labels type: torch.int64\n",
      "Outputs shape: torch.Size([16, 26]), Outputs type: torch.float32\n"
     ]
    },
    {
     "name": "stderr",
     "output_type": "stream",
     "text": [
      "Epoch 10/10:  32%|███▏      | 32/100 [00:07<00:17,  3.83it/s]"
     ]
    },
    {
     "name": "stdout",
     "output_type": "stream",
     "text": [
      "Input shape: torch.Size([16, 501, 64, 64]), Input type: torch.float32\n",
      "Labels shape: torch.Size([16]), Labels type: torch.int64\n",
      "Outputs shape: torch.Size([16, 26]), Outputs type: torch.float32\n"
     ]
    },
    {
     "name": "stderr",
     "output_type": "stream",
     "text": [
      "Epoch 10/10:  33%|███▎      | 33/100 [00:07<00:16,  4.07it/s]"
     ]
    },
    {
     "name": "stdout",
     "output_type": "stream",
     "text": [
      "Input shape: torch.Size([16, 501, 64, 64]), Input type: torch.float32\n",
      "Labels shape: torch.Size([16]), Labels type: torch.int64\n",
      "Outputs shape: torch.Size([16, 26]), Outputs type: torch.float32\n"
     ]
    },
    {
     "name": "stderr",
     "output_type": "stream",
     "text": [
      "Epoch 10/10:  34%|███▍      | 34/100 [00:07<00:16,  4.11it/s]"
     ]
    },
    {
     "name": "stdout",
     "output_type": "stream",
     "text": [
      "Input shape: torch.Size([16, 501, 64, 64]), Input type: torch.float32\n",
      "Labels shape: torch.Size([16]), Labels type: torch.int64\n",
      "Outputs shape: torch.Size([16, 26]), Outputs type: torch.float32\n"
     ]
    },
    {
     "name": "stderr",
     "output_type": "stream",
     "text": [
      "Epoch 10/10:  35%|███▌      | 35/100 [00:08<00:15,  4.21it/s]"
     ]
    },
    {
     "name": "stdout",
     "output_type": "stream",
     "text": [
      "Input shape: torch.Size([16, 501, 64, 64]), Input type: torch.float32\n",
      "Labels shape: torch.Size([16]), Labels type: torch.int64\n",
      "Outputs shape: torch.Size([16, 26]), Outputs type: torch.float32\n"
     ]
    },
    {
     "name": "stderr",
     "output_type": "stream",
     "text": [
      "Epoch 10/10:  36%|███▌      | 36/100 [00:08<00:14,  4.33it/s]"
     ]
    },
    {
     "name": "stdout",
     "output_type": "stream",
     "text": [
      "Input shape: torch.Size([16, 501, 64, 64]), Input type: torch.float32\n",
      "Labels shape: torch.Size([16]), Labels type: torch.int64\n",
      "Outputs shape: torch.Size([16, 26]), Outputs type: torch.float32\n"
     ]
    },
    {
     "name": "stderr",
     "output_type": "stream",
     "text": [
      "Epoch 10/10:  37%|███▋      | 37/100 [00:08<00:14,  4.36it/s]"
     ]
    },
    {
     "name": "stdout",
     "output_type": "stream",
     "text": [
      "Input shape: torch.Size([16, 501, 64, 64]), Input type: torch.float32\n",
      "Labels shape: torch.Size([16]), Labels type: torch.int64\n",
      "Outputs shape: torch.Size([16, 26]), Outputs type: torch.float32\n"
     ]
    },
    {
     "name": "stderr",
     "output_type": "stream",
     "text": [
      "Epoch 10/10:  38%|███▊      | 38/100 [00:08<00:13,  4.54it/s]"
     ]
    },
    {
     "name": "stdout",
     "output_type": "stream",
     "text": [
      "Input shape: torch.Size([16, 501, 64, 64]), Input type: torch.float32\n",
      "Labels shape: torch.Size([16]), Labels type: torch.int64\n",
      "Outputs shape: torch.Size([16, 26]), Outputs type: torch.float32\n",
      "Input shape: torch.Size([16, 501, 64, 64]), Input type: torch.float32\n",
      "Labels shape: torch.Size([16]), Labels type: torch.int64\n"
     ]
    },
    {
     "name": "stderr",
     "output_type": "stream",
     "text": [
      "Epoch 10/10:  39%|███▉      | 39/100 [00:08<00:13,  4.68it/s]"
     ]
    },
    {
     "name": "stdout",
     "output_type": "stream",
     "text": [
      "Outputs shape: torch.Size([16, 26]), Outputs type: torch.float32\n",
      "Input shape: torch.Size([16, 501, 64, 64]), Input type: torch.float32\n",
      "Labels shape: torch.Size([16]), Labels type: torch.int64\n"
     ]
    },
    {
     "name": "stderr",
     "output_type": "stream",
     "text": [
      "Epoch 10/10:  40%|████      | 40/100 [00:09<00:12,  4.74it/s]"
     ]
    },
    {
     "name": "stdout",
     "output_type": "stream",
     "text": [
      "Outputs shape: torch.Size([16, 26]), Outputs type: torch.float32\n",
      "Input shape: torch.Size([16, 501, 64, 64]), Input type: torch.float32\n",
      "Labels shape: torch.Size([16]), Labels type: torch.int64\n"
     ]
    },
    {
     "name": "stderr",
     "output_type": "stream",
     "text": [
      "Epoch 10/10:  41%|████      | 41/100 [00:09<00:12,  4.70it/s]"
     ]
    },
    {
     "name": "stdout",
     "output_type": "stream",
     "text": [
      "Outputs shape: torch.Size([16, 26]), Outputs type: torch.float32\n",
      "Input shape: torch.Size([16, 501, 64, 64]), Input type: torch.float32\n",
      "Labels shape: torch.Size([16]), Labels type: torch.int64\n"
     ]
    },
    {
     "name": "stderr",
     "output_type": "stream",
     "text": [
      "Epoch 10/10:  42%|████▏     | 42/100 [00:09<00:12,  4.50it/s]"
     ]
    },
    {
     "name": "stdout",
     "output_type": "stream",
     "text": [
      "Outputs shape: torch.Size([16, 26]), Outputs type: torch.float32\n",
      "Input shape: torch.Size([16, 501, 64, 64]), Input type: torch.float32\n",
      "Labels shape: torch.Size([16]), Labels type: torch.int64\n"
     ]
    },
    {
     "name": "stderr",
     "output_type": "stream",
     "text": [
      "Epoch 10/10:  43%|████▎     | 43/100 [00:09<00:12,  4.48it/s]"
     ]
    },
    {
     "name": "stdout",
     "output_type": "stream",
     "text": [
      "Outputs shape: torch.Size([16, 26]), Outputs type: torch.float32\n",
      "Input shape: torch.Size([16, 501, 64, 64]), Input type: torch.float32\n",
      "Labels shape: torch.Size([16]), Labels type: torch.int64\n",
      "Outputs shape: torch.Size([16, 26]), Outputs type: torch.float32\n"
     ]
    },
    {
     "name": "stderr",
     "output_type": "stream",
     "text": [
      "Epoch 10/10:  45%|████▌     | 45/100 [00:10<00:11,  4.78it/s]"
     ]
    },
    {
     "name": "stdout",
     "output_type": "stream",
     "text": [
      "Input shape: torch.Size([16, 501, 64, 64]), Input type: torch.float32\n",
      "Labels shape: torch.Size([16]), Labels type: torch.int64\n",
      "Outputs shape: torch.Size([16, 26]), Outputs type: torch.float32\n",
      "Input shape: torch.Size([16, 501, 64, 64]), Input type: torch.float32\n",
      "Labels shape: torch.Size([16]), Labels type: torch.int64\n"
     ]
    },
    {
     "name": "stderr",
     "output_type": "stream",
     "text": [
      "Epoch 10/10:  46%|████▌     | 46/100 [00:10<00:11,  4.86it/s]"
     ]
    },
    {
     "name": "stdout",
     "output_type": "stream",
     "text": [
      "Outputs shape: torch.Size([16, 26]), Outputs type: torch.float32\n",
      "Input shape: torch.Size([16, 501, 64, 64]), Input type: torch.float32\n",
      "Labels shape: torch.Size([16]), Labels type: torch.int64\n"
     ]
    },
    {
     "name": "stderr",
     "output_type": "stream",
     "text": [
      "Epoch 10/10:  47%|████▋     | 47/100 [00:10<00:11,  4.76it/s]"
     ]
    },
    {
     "name": "stdout",
     "output_type": "stream",
     "text": [
      "Outputs shape: torch.Size([16, 26]), Outputs type: torch.float32\n"
     ]
    },
    {
     "name": "stderr",
     "output_type": "stream",
     "text": [
      "Epoch 10/10:  48%|████▊     | 48/100 [00:10<00:11,  4.55it/s]"
     ]
    },
    {
     "name": "stdout",
     "output_type": "stream",
     "text": [
      "Input shape: torch.Size([16, 501, 64, 64]), Input type: torch.float32\n",
      "Labels shape: torch.Size([16]), Labels type: torch.int64\n",
      "Outputs shape: torch.Size([16, 26]), Outputs type: torch.float32\n",
      "Input shape: torch.Size([16, 501, 64, 64]), Input type: torch.float32\n",
      "Labels shape: torch.Size([16]), Labels type: torch.int64\n"
     ]
    },
    {
     "name": "stderr",
     "output_type": "stream",
     "text": [
      "Epoch 10/10:  49%|████▉     | 49/100 [00:11<00:10,  4.69it/s]"
     ]
    },
    {
     "name": "stdout",
     "output_type": "stream",
     "text": [
      "Outputs shape: torch.Size([16, 26]), Outputs type: torch.float32\n",
      "Input shape: torch.Size([16, 501, 64, 64]), Input type: torch.float32\n",
      "Labels shape: torch.Size([16]), Labels type: torch.int64\n"
     ]
    },
    {
     "name": "stderr",
     "output_type": "stream",
     "text": [
      "Epoch 10/10:  50%|█████     | 50/100 [00:11<00:10,  4.70it/s]"
     ]
    },
    {
     "name": "stdout",
     "output_type": "stream",
     "text": [
      "Outputs shape: torch.Size([16, 26]), Outputs type: torch.float32\n",
      "Input shape: torch.Size([16, 501, 64, 64]), Input type: torch.float32\n",
      "Labels shape: torch.Size([16]), Labels type: torch.int64\n"
     ]
    },
    {
     "name": "stderr",
     "output_type": "stream",
     "text": [
      "Epoch 10/10:  51%|█████     | 51/100 [00:11<00:10,  4.66it/s]"
     ]
    },
    {
     "name": "stdout",
     "output_type": "stream",
     "text": [
      "Outputs shape: torch.Size([16, 26]), Outputs type: torch.float32\n",
      "Input shape: torch.Size([16, 501, 64, 64]), Input type: torch.float32\n",
      "Labels shape: torch.Size([16]), Labels type: torch.int64\n",
      "Outputs shape: torch.Size([16, 26]), Outputs type: torch.float32\n"
     ]
    },
    {
     "name": "stderr",
     "output_type": "stream",
     "text": [
      "Epoch 10/10:  53%|█████▎    | 53/100 [00:11<00:09,  4.86it/s]"
     ]
    },
    {
     "name": "stdout",
     "output_type": "stream",
     "text": [
      "Input shape: torch.Size([16, 501, 64, 64]), Input type: torch.float32\n",
      "Labels shape: torch.Size([16]), Labels type: torch.int64\n",
      "Outputs shape: torch.Size([16, 26]), Outputs type: torch.float32\n"
     ]
    },
    {
     "name": "stderr",
     "output_type": "stream",
     "text": [
      "Epoch 10/10:  54%|█████▍    | 54/100 [00:12<00:10,  4.60it/s]"
     ]
    },
    {
     "name": "stdout",
     "output_type": "stream",
     "text": [
      "Input shape: torch.Size([16, 501, 64, 64]), Input type: torch.float32\n",
      "Labels shape: torch.Size([16]), Labels type: torch.int64\n",
      "Outputs shape: torch.Size([16, 26]), Outputs type: torch.float32\n"
     ]
    },
    {
     "name": "stderr",
     "output_type": "stream",
     "text": [
      "Epoch 10/10:  55%|█████▌    | 55/100 [00:12<00:09,  4.55it/s]"
     ]
    },
    {
     "name": "stdout",
     "output_type": "stream",
     "text": [
      "Input shape: torch.Size([16, 501, 64, 64]), Input type: torch.float32\n",
      "Labels shape: torch.Size([16]), Labels type: torch.int64\n",
      "Outputs shape: torch.Size([16, 26]), Outputs type: torch.float32\n"
     ]
    },
    {
     "name": "stderr",
     "output_type": "stream",
     "text": [
      "Epoch 10/10:  56%|█████▌    | 56/100 [00:12<00:09,  4.51it/s]"
     ]
    },
    {
     "name": "stdout",
     "output_type": "stream",
     "text": [
      "Input shape: torch.Size([16, 501, 64, 64]), Input type: torch.float32\n",
      "Labels shape: torch.Size([16]), Labels type: torch.int64\n",
      "Outputs shape: torch.Size([16, 26]), Outputs type: torch.float32\n"
     ]
    },
    {
     "name": "stderr",
     "output_type": "stream",
     "text": [
      "Epoch 10/10:  57%|█████▋    | 57/100 [00:12<00:09,  4.49it/s]"
     ]
    },
    {
     "name": "stdout",
     "output_type": "stream",
     "text": [
      "Input shape: torch.Size([16, 501, 64, 64]), Input type: torch.float32\n",
      "Labels shape: torch.Size([16]), Labels type: torch.int64\n",
      "Outputs shape: torch.Size([16, 26]), Outputs type: torch.float32\n"
     ]
    },
    {
     "name": "stderr",
     "output_type": "stream",
     "text": [
      "Epoch 10/10:  58%|█████▊    | 58/100 [00:13<00:09,  4.39it/s]"
     ]
    },
    {
     "name": "stdout",
     "output_type": "stream",
     "text": [
      "Input shape: torch.Size([16, 501, 64, 64]), Input type: torch.float32\n",
      "Labels shape: torch.Size([16]), Labels type: torch.int64\n",
      "Outputs shape: torch.Size([16, 26]), Outputs type: torch.float32\n"
     ]
    },
    {
     "name": "stderr",
     "output_type": "stream",
     "text": [
      "Epoch 10/10:  59%|█████▉    | 59/100 [00:13<00:09,  4.36it/s]"
     ]
    },
    {
     "name": "stdout",
     "output_type": "stream",
     "text": [
      "Input shape: torch.Size([16, 501, 64, 64]), Input type: torch.float32\n",
      "Labels shape: torch.Size([16]), Labels type: torch.int64\n",
      "Outputs shape: torch.Size([16, 26]), Outputs type: torch.float32\n"
     ]
    },
    {
     "name": "stderr",
     "output_type": "stream",
     "text": [
      "Epoch 10/10:  60%|██████    | 60/100 [00:13<00:08,  4.49it/s]"
     ]
    },
    {
     "name": "stdout",
     "output_type": "stream",
     "text": [
      "Input shape: torch.Size([16, 501, 64, 64]), Input type: torch.float32\n",
      "Labels shape: torch.Size([16]), Labels type: torch.int64\n",
      "Outputs shape: torch.Size([16, 26]), Outputs type: torch.float32\n"
     ]
    },
    {
     "name": "stderr",
     "output_type": "stream",
     "text": [
      "Epoch 10/10:  61%|██████    | 61/100 [00:13<00:08,  4.42it/s]"
     ]
    },
    {
     "name": "stdout",
     "output_type": "stream",
     "text": [
      "Input shape: torch.Size([16, 501, 64, 64]), Input type: torch.float32\n",
      "Labels shape: torch.Size([16]), Labels type: torch.int64\n",
      "Outputs shape: torch.Size([16, 26]), Outputs type: torch.float32\n"
     ]
    },
    {
     "name": "stderr",
     "output_type": "stream",
     "text": [
      "Epoch 10/10:  62%|██████▏   | 62/100 [00:14<00:08,  4.44it/s]"
     ]
    },
    {
     "name": "stdout",
     "output_type": "stream",
     "text": [
      "Input shape: torch.Size([16, 501, 64, 64]), Input type: torch.float32\n",
      "Labels shape: torch.Size([16]), Labels type: torch.int64\n",
      "Outputs shape: torch.Size([16, 26]), Outputs type: torch.float32\n"
     ]
    },
    {
     "name": "stderr",
     "output_type": "stream",
     "text": [
      "Epoch 10/10:  63%|██████▎   | 63/100 [00:14<00:08,  4.42it/s]"
     ]
    },
    {
     "name": "stdout",
     "output_type": "stream",
     "text": [
      "Input shape: torch.Size([16, 501, 64, 64]), Input type: torch.float32\n",
      "Labels shape: torch.Size([16]), Labels type: torch.int64\n",
      "Outputs shape: torch.Size([16, 26]), Outputs type: torch.float32\n"
     ]
    },
    {
     "name": "stderr",
     "output_type": "stream",
     "text": [
      "Epoch 10/10:  64%|██████▍   | 64/100 [00:14<00:07,  4.55it/s]"
     ]
    },
    {
     "name": "stdout",
     "output_type": "stream",
     "text": [
      "Input shape: torch.Size([16, 501, 64, 64]), Input type: torch.float32\n",
      "Labels shape: torch.Size([16]), Labels type: torch.int64\n",
      "Outputs shape: torch.Size([16, 26]), Outputs type: torch.float32\n"
     ]
    },
    {
     "name": "stderr",
     "output_type": "stream",
     "text": [
      "Epoch 10/10:  65%|██████▌   | 65/100 [00:14<00:07,  4.50it/s]"
     ]
    },
    {
     "name": "stdout",
     "output_type": "stream",
     "text": [
      "Input shape: torch.Size([16, 501, 64, 64]), Input type: torch.float32\n",
      "Labels shape: torch.Size([16]), Labels type: torch.int64\n",
      "Outputs shape: torch.Size([16, 26]), Outputs type: torch.float32\n"
     ]
    },
    {
     "name": "stderr",
     "output_type": "stream",
     "text": [
      "Epoch 10/10:  66%|██████▌   | 66/100 [00:14<00:07,  4.56it/s]"
     ]
    },
    {
     "name": "stdout",
     "output_type": "stream",
     "text": [
      "Input shape: torch.Size([16, 501, 64, 64]), Input type: torch.float32\n",
      "Labels shape: torch.Size([16]), Labels type: torch.int64\n",
      "Outputs shape: torch.Size([16, 26]), Outputs type: torch.float32\n"
     ]
    },
    {
     "name": "stderr",
     "output_type": "stream",
     "text": [
      "Epoch 10/10:  67%|██████▋   | 67/100 [00:15<00:07,  4.53it/s]"
     ]
    },
    {
     "name": "stdout",
     "output_type": "stream",
     "text": [
      "Input shape: torch.Size([16, 501, 64, 64]), Input type: torch.float32\n",
      "Labels shape: torch.Size([16]), Labels type: torch.int64\n",
      "Outputs shape: torch.Size([16, 26]), Outputs type: torch.float32\n"
     ]
    },
    {
     "name": "stderr",
     "output_type": "stream",
     "text": [
      "Epoch 10/10:  68%|██████▊   | 68/100 [00:15<00:07,  4.24it/s]"
     ]
    },
    {
     "name": "stdout",
     "output_type": "stream",
     "text": [
      "Input shape: torch.Size([16, 501, 64, 64]), Input type: torch.float32\n",
      "Labels shape: torch.Size([16]), Labels type: torch.int64\n",
      "Outputs shape: torch.Size([16, 26]), Outputs type: torch.float32\n"
     ]
    },
    {
     "name": "stderr",
     "output_type": "stream",
     "text": [
      "Epoch 10/10:  69%|██████▉   | 69/100 [00:15<00:07,  4.19it/s]"
     ]
    },
    {
     "name": "stdout",
     "output_type": "stream",
     "text": [
      "Input shape: torch.Size([16, 501, 64, 64]), Input type: torch.float32\n",
      "Labels shape: torch.Size([16]), Labels type: torch.int64\n",
      "Outputs shape: torch.Size([16, 26]), Outputs type: torch.float32\n"
     ]
    },
    {
     "name": "stderr",
     "output_type": "stream",
     "text": [
      "Epoch 10/10:  70%|███████   | 70/100 [00:15<00:07,  4.17it/s]"
     ]
    },
    {
     "name": "stdout",
     "output_type": "stream",
     "text": [
      "Input shape: torch.Size([16, 501, 64, 64]), Input type: torch.float32\n",
      "Labels shape: torch.Size([16]), Labels type: torch.int64\n",
      "Outputs shape: torch.Size([16, 26]), Outputs type: torch.float32\n"
     ]
    },
    {
     "name": "stderr",
     "output_type": "stream",
     "text": [
      "Epoch 10/10:  71%|███████   | 71/100 [00:16<00:06,  4.20it/s]"
     ]
    },
    {
     "name": "stdout",
     "output_type": "stream",
     "text": [
      "Input shape: torch.Size([16, 501, 64, 64]), Input type: torch.float32\n",
      "Labels shape: torch.Size([16]), Labels type: torch.int64\n",
      "Outputs shape: torch.Size([16, 26]), Outputs type: torch.float32\n"
     ]
    },
    {
     "name": "stderr",
     "output_type": "stream",
     "text": [
      "Epoch 10/10:  72%|███████▏  | 72/100 [00:16<00:06,  4.08it/s]"
     ]
    },
    {
     "name": "stdout",
     "output_type": "stream",
     "text": [
      "Input shape: torch.Size([16, 501, 64, 64]), Input type: torch.float32\n",
      "Labels shape: torch.Size([16]), Labels type: torch.int64\n",
      "Outputs shape: torch.Size([16, 26]), Outputs type: torch.float32\n"
     ]
    },
    {
     "name": "stderr",
     "output_type": "stream",
     "text": [
      "Epoch 10/10:  73%|███████▎  | 73/100 [00:16<00:06,  4.15it/s]"
     ]
    },
    {
     "name": "stdout",
     "output_type": "stream",
     "text": [
      "Input shape: torch.Size([16, 501, 64, 64]), Input type: torch.float32\n",
      "Labels shape: torch.Size([16]), Labels type: torch.int64\n",
      "Outputs shape: torch.Size([16, 26]), Outputs type: torch.float32\n"
     ]
    },
    {
     "name": "stderr",
     "output_type": "stream",
     "text": [
      "Epoch 10/10:  74%|███████▍  | 74/100 [00:16<00:06,  4.25it/s]"
     ]
    },
    {
     "name": "stdout",
     "output_type": "stream",
     "text": [
      "Input shape: torch.Size([16, 501, 64, 64]), Input type: torch.float32\n",
      "Labels shape: torch.Size([16]), Labels type: torch.int64\n",
      "Outputs shape: torch.Size([16, 26]), Outputs type: torch.float32\n"
     ]
    },
    {
     "name": "stderr",
     "output_type": "stream",
     "text": [
      "Epoch 10/10:  75%|███████▌  | 75/100 [00:17<00:06,  4.12it/s]"
     ]
    },
    {
     "name": "stdout",
     "output_type": "stream",
     "text": [
      "Input shape: torch.Size([16, 501, 64, 64]), Input type: torch.float32\n",
      "Labels shape: torch.Size([16]), Labels type: torch.int64\n",
      "Outputs shape: torch.Size([16, 26]), Outputs type: torch.float32\n"
     ]
    },
    {
     "name": "stderr",
     "output_type": "stream",
     "text": [
      "Epoch 10/10:  76%|███████▌  | 76/100 [00:17<00:05,  4.14it/s]"
     ]
    },
    {
     "name": "stdout",
     "output_type": "stream",
     "text": [
      "Input shape: torch.Size([16, 501, 64, 64]), Input type: torch.float32\n",
      "Labels shape: torch.Size([16]), Labels type: torch.int64\n",
      "Outputs shape: torch.Size([16, 26]), Outputs type: torch.float32\n"
     ]
    },
    {
     "name": "stderr",
     "output_type": "stream",
     "text": [
      "Epoch 10/10:  77%|███████▋  | 77/100 [00:17<00:05,  4.22it/s]"
     ]
    },
    {
     "name": "stdout",
     "output_type": "stream",
     "text": [
      "Input shape: torch.Size([16, 501, 64, 64]), Input type: torch.float32\n",
      "Labels shape: torch.Size([16]), Labels type: torch.int64\n",
      "Outputs shape: torch.Size([16, 26]), Outputs type: torch.float32\n"
     ]
    },
    {
     "name": "stderr",
     "output_type": "stream",
     "text": [
      "Epoch 10/10:  78%|███████▊  | 78/100 [00:17<00:05,  4.17it/s]"
     ]
    },
    {
     "name": "stdout",
     "output_type": "stream",
     "text": [
      "Input shape: torch.Size([16, 501, 64, 64]), Input type: torch.float32\n",
      "Labels shape: torch.Size([16]), Labels type: torch.int64\n",
      "Outputs shape: torch.Size([16, 26]), Outputs type: torch.float32\n"
     ]
    },
    {
     "name": "stderr",
     "output_type": "stream",
     "text": [
      "Epoch 10/10:  79%|███████▉  | 79/100 [00:17<00:04,  4.32it/s]"
     ]
    },
    {
     "name": "stdout",
     "output_type": "stream",
     "text": [
      "Input shape: torch.Size([16, 501, 64, 64]), Input type: torch.float32\n",
      "Labels shape: torch.Size([16]), Labels type: torch.int64\n",
      "Outputs shape: torch.Size([16, 26]), Outputs type: torch.float32\n"
     ]
    },
    {
     "name": "stderr",
     "output_type": "stream",
     "text": [
      "Epoch 10/10:  80%|████████  | 80/100 [00:18<00:04,  4.26it/s]"
     ]
    },
    {
     "name": "stdout",
     "output_type": "stream",
     "text": [
      "Input shape: torch.Size([16, 501, 64, 64]), Input type: torch.float32\n",
      "Labels shape: torch.Size([16]), Labels type: torch.int64\n",
      "Outputs shape: torch.Size([16, 26]), Outputs type: torch.float32\n"
     ]
    },
    {
     "name": "stderr",
     "output_type": "stream",
     "text": [
      "Epoch 10/10:  81%|████████  | 81/100 [00:18<00:04,  4.29it/s]"
     ]
    },
    {
     "name": "stdout",
     "output_type": "stream",
     "text": [
      "Input shape: torch.Size([16, 501, 64, 64]), Input type: torch.float32\n",
      "Labels shape: torch.Size([16]), Labels type: torch.int64\n",
      "Outputs shape: torch.Size([16, 26]), Outputs type: torch.float32\n"
     ]
    },
    {
     "name": "stderr",
     "output_type": "stream",
     "text": [
      "Epoch 10/10:  82%|████████▏ | 82/100 [00:18<00:04,  4.11it/s]"
     ]
    },
    {
     "name": "stdout",
     "output_type": "stream",
     "text": [
      "Input shape: torch.Size([16, 501, 64, 64]), Input type: torch.float32\n",
      "Labels shape: torch.Size([16]), Labels type: torch.int64\n",
      "Outputs shape: torch.Size([16, 26]), Outputs type: torch.float32\n"
     ]
    },
    {
     "name": "stderr",
     "output_type": "stream",
     "text": [
      "Epoch 10/10:  83%|████████▎ | 83/100 [00:18<00:04,  4.23it/s]"
     ]
    },
    {
     "name": "stdout",
     "output_type": "stream",
     "text": [
      "Input shape: torch.Size([16, 501, 64, 64]), Input type: torch.float32\n",
      "Labels shape: torch.Size([16]), Labels type: torch.int64\n",
      "Outputs shape: torch.Size([16, 26]), Outputs type: torch.float32\n"
     ]
    },
    {
     "name": "stderr",
     "output_type": "stream",
     "text": [
      "Epoch 10/10:  84%|████████▍ | 84/100 [00:19<00:03,  4.26it/s]"
     ]
    },
    {
     "name": "stdout",
     "output_type": "stream",
     "text": [
      "Input shape: torch.Size([16, 501, 64, 64]), Input type: torch.float32\n",
      "Labels shape: torch.Size([16]), Labels type: torch.int64\n",
      "Outputs shape: torch.Size([16, 26]), Outputs type: torch.float32\n"
     ]
    },
    {
     "name": "stderr",
     "output_type": "stream",
     "text": [
      "Epoch 10/10:  85%|████████▌ | 85/100 [00:19<00:03,  4.29it/s]"
     ]
    },
    {
     "name": "stdout",
     "output_type": "stream",
     "text": [
      "Input shape: torch.Size([16, 501, 64, 64]), Input type: torch.float32\n",
      "Labels shape: torch.Size([16]), Labels type: torch.int64\n",
      "Outputs shape: torch.Size([16, 26]), Outputs type: torch.float32\n"
     ]
    },
    {
     "name": "stderr",
     "output_type": "stream",
     "text": [
      "Epoch 10/10:  86%|████████▌ | 86/100 [00:19<00:03,  4.29it/s]"
     ]
    },
    {
     "name": "stdout",
     "output_type": "stream",
     "text": [
      "Input shape: torch.Size([16, 501, 64, 64]), Input type: torch.float32\n",
      "Labels shape: torch.Size([16]), Labels type: torch.int64\n",
      "Outputs shape: torch.Size([16, 26]), Outputs type: torch.float32\n"
     ]
    },
    {
     "name": "stderr",
     "output_type": "stream",
     "text": [
      "Epoch 10/10:  87%|████████▋ | 87/100 [00:19<00:03,  4.28it/s]"
     ]
    },
    {
     "name": "stdout",
     "output_type": "stream",
     "text": [
      "Input shape: torch.Size([16, 501, 64, 64]), Input type: torch.float32\n",
      "Labels shape: torch.Size([16]), Labels type: torch.int64\n",
      "Outputs shape: torch.Size([16, 26]), Outputs type: torch.float32\n"
     ]
    },
    {
     "name": "stderr",
     "output_type": "stream",
     "text": [
      "Epoch 10/10:  88%|████████▊ | 88/100 [00:20<00:02,  4.38it/s]"
     ]
    },
    {
     "name": "stdout",
     "output_type": "stream",
     "text": [
      "Input shape: torch.Size([16, 501, 64, 64]), Input type: torch.float32\n",
      "Labels shape: torch.Size([16]), Labels type: torch.int64\n",
      "Outputs shape: torch.Size([16, 26]), Outputs type: torch.float32\n"
     ]
    },
    {
     "name": "stderr",
     "output_type": "stream",
     "text": [
      "Epoch 10/10:  89%|████████▉ | 89/100 [00:20<00:02,  4.38it/s]"
     ]
    },
    {
     "name": "stdout",
     "output_type": "stream",
     "text": [
      "Input shape: torch.Size([16, 501, 64, 64]), Input type: torch.float32\n",
      "Labels shape: torch.Size([16]), Labels type: torch.int64\n",
      "Outputs shape: torch.Size([16, 26]), Outputs type: torch.float32\n"
     ]
    },
    {
     "name": "stderr",
     "output_type": "stream",
     "text": [
      "Epoch 10/10:  90%|█████████ | 90/100 [00:20<00:02,  4.49it/s]"
     ]
    },
    {
     "name": "stdout",
     "output_type": "stream",
     "text": [
      "Input shape: torch.Size([16, 501, 64, 64]), Input type: torch.float32\n",
      "Labels shape: torch.Size([16]), Labels type: torch.int64\n",
      "Outputs shape: torch.Size([16, 26]), Outputs type: torch.float32\n"
     ]
    },
    {
     "name": "stderr",
     "output_type": "stream",
     "text": [
      "Epoch 10/10:  91%|█████████ | 91/100 [00:20<00:01,  4.61it/s]"
     ]
    },
    {
     "name": "stdout",
     "output_type": "stream",
     "text": [
      "Input shape: torch.Size([16, 501, 64, 64]), Input type: torch.float32\n",
      "Labels shape: torch.Size([16]), Labels type: torch.int64\n",
      "Outputs shape: torch.Size([16, 26]), Outputs type: torch.float32\n",
      "Input shape: torch.Size([16, 501, 64, 64]), Input type: torch.float32\n",
      "Labels shape: torch.Size([16]), Labels type: torch.int64\n"
     ]
    },
    {
     "name": "stderr",
     "output_type": "stream",
     "text": [
      "Epoch 10/10:  92%|█████████▏| 92/100 [00:20<00:01,  4.74it/s]"
     ]
    },
    {
     "name": "stdout",
     "output_type": "stream",
     "text": [
      "Outputs shape: torch.Size([16, 26]), Outputs type: torch.float32\n",
      "Input shape: torch.Size([16, 501, 64, 64]), Input type: torch.float32\n",
      "Labels shape: torch.Size([16]), Labels type: torch.int64\n",
      "Outputs shape: torch.Size([16, 26]), Outputs type: torch.float32\n"
     ]
    },
    {
     "name": "stderr",
     "output_type": "stream",
     "text": [
      "Epoch 10/10:  94%|█████████▍| 94/100 [00:21<00:01,  4.87it/s]"
     ]
    },
    {
     "name": "stdout",
     "output_type": "stream",
     "text": [
      "Input shape: torch.Size([16, 501, 64, 64]), Input type: torch.float32\n",
      "Labels shape: torch.Size([16]), Labels type: torch.int64\n",
      "Outputs shape: torch.Size([16, 26]), Outputs type: torch.float32\n",
      "Input shape: torch.Size([16, 501, 64, 64]), Input type: torch.float32\n",
      "Labels shape: torch.Size([16]), Labels type: torch.int64\n"
     ]
    },
    {
     "name": "stderr",
     "output_type": "stream",
     "text": [
      "Epoch 10/10:  95%|█████████▌| 95/100 [00:21<00:01,  4.91it/s]"
     ]
    },
    {
     "name": "stdout",
     "output_type": "stream",
     "text": [
      "Outputs shape: torch.Size([16, 26]), Outputs type: torch.float32\n",
      "Input shape: torch.Size([16, 501, 64, 64]), Input type: torch.float32\n",
      "Labels shape: torch.Size([16]), Labels type: torch.int64\n"
     ]
    },
    {
     "name": "stderr",
     "output_type": "stream",
     "text": [
      "Epoch 10/10:  96%|█████████▌| 96/100 [00:21<00:00,  4.89it/s]"
     ]
    },
    {
     "name": "stdout",
     "output_type": "stream",
     "text": [
      "Outputs shape: torch.Size([16, 26]), Outputs type: torch.float32\n",
      "Input shape: torch.Size([16, 501, 64, 64]), Input type: torch.float32\n",
      "Labels shape: torch.Size([16]), Labels type: torch.int64\n",
      "Outputs shape: torch.Size([16, 26]), Outputs type: torch.float32\n"
     ]
    },
    {
     "name": "stderr",
     "output_type": "stream",
     "text": [
      "Epoch 10/10:  98%|█████████▊| 98/100 [00:22<00:00,  4.97it/s]"
     ]
    },
    {
     "name": "stdout",
     "output_type": "stream",
     "text": [
      "Input shape: torch.Size([16, 501, 64, 64]), Input type: torch.float32\n",
      "Labels shape: torch.Size([16]), Labels type: torch.int64\n",
      "Outputs shape: torch.Size([16, 26]), Outputs type: torch.float32\n",
      "Input shape: torch.Size([16, 501, 64, 64]), Input type: torch.float32\n",
      "Labels shape: torch.Size([16]), Labels type: torch.int64\n"
     ]
    },
    {
     "name": "stderr",
     "output_type": "stream",
     "text": [
      "Epoch 10/10: 100%|██████████| 100/100 [00:22<00:00,  4.46it/s]"
     ]
    },
    {
     "name": "stdout",
     "output_type": "stream",
     "text": [
      "Outputs shape: torch.Size([16, 26]), Outputs type: torch.float32\n",
      "Input shape: torch.Size([6, 501, 64, 64]), Input type: torch.float32\n",
      "Labels shape: torch.Size([6]), Labels type: torch.int64\n",
      "Outputs shape: torch.Size([6, 26]), Outputs type: torch.float32\n"
     ]
    },
    {
     "name": "stderr",
     "output_type": "stream",
     "text": [
      "\n"
     ]
    }
   ],
   "source": [
    "# Train the model\n",
    "'''\n",
    "    args:\n",
    "    num_epochs: total number of epochs for model training, loop iterates over \n",
    "    desc=f'Epoch: descripes the progress of each epoch\n",
    "\n",
    "'''\n",
    "num_epochs = 10\n",
    "for epoch in range(num_epochs):\n",
    "    model.train()\n",
    "    running_loss = 0.0\n",
    "    for data in tqdm(train_loader, desc=f'Epoch {epoch+1}/{num_epochs}', leave=True):\n",
    "        inputs, labels = data\n",
    "        labels = labels.long()\n",
    "        # Ensure labels are 1D\n",
    "        if labels.dim() > 1:\n",
    "            labels = labels.view(-1)\n",
    "        # Debugging: print shapes and types\n",
    "        print(f\"Input shape: {inputs.shape}, Input type: {inputs.dtype}\")\n",
    "        print(f\"Labels shape: {labels.shape}, Labels type: {labels.dtype}\")\n",
    "        \n",
    "        optimizer.zero_grad()\n",
    "        outputs = model(inputs)\n",
    "        print(f\"Outputs shape: {outputs.shape}, Outputs type: {outputs.dtype}\")  # Debugging: print shape and type of outputs\n",
    "        \n",
    "        loss = criterion(outputs, labels)\n",
    "        loss.backward()\n",
    "        optimizer.step()\n",
    "        running_loss += loss.item()\n",
    "    train_losses.append(running_loss / len(train_loader))"
   ]
  },
  {
   "cell_type": "code",
   "execution_count": 34,
   "id": "df8892bd-0f53-4044-beb8-799f29228aa4",
   "metadata": {},
   "outputs": [
    {
     "name": "stderr",
     "output_type": "stream",
     "text": [
      "                                                            \r"
     ]
    },
    {
     "name": "stdout",
     "output_type": "stream",
     "text": [
      "all_probs shape: (1590, 26)\n",
      "all_labels shape: (1590,)\n",
      "Sample all_probs: [array([9.9991548e-01, 2.4121452e-13, 1.4708215e-05, 2.7037788e-13,\n",
      "       5.3513438e-09, 1.9680113e-09, 4.8000180e-12, 1.7747736e-07,\n",
      "       8.1810732e-11, 3.2857113e-13, 2.0803029e-10, 6.1278966e-05,\n",
      "       1.6374010e-11, 1.9215049e-10, 8.2654769e-06, 2.0179496e-17,\n",
      "       4.6259333e-12, 1.2108382e-10, 1.4061541e-14, 6.2828964e-11,\n",
      "       1.3934576e-08, 2.1662690e-14, 4.5419725e-13, 1.6855803e-14,\n",
      "       8.2171229e-14, 3.9903352e-17], dtype=float32), array([9.9991548e-01, 2.4121452e-13, 1.4708215e-05, 2.7037788e-13,\n",
      "       5.3513438e-09, 1.9680113e-09, 4.8000180e-12, 1.7747736e-07,\n",
      "       8.1810732e-11, 3.2857113e-13, 2.0803029e-10, 6.1278966e-05,\n",
      "       1.6374010e-11, 1.9215049e-10, 8.2654769e-06, 2.0179496e-17,\n",
      "       4.6259333e-12, 1.2108382e-10, 1.4061541e-14, 6.2828964e-11,\n",
      "       1.3934576e-08, 2.1662690e-14, 4.5419725e-13, 1.6855803e-14,\n",
      "       8.2171229e-14, 3.9903352e-17], dtype=float32), array([2.4948144e-09, 4.5751700e-10, 9.9400985e-01, 8.7862791e-05,\n",
      "       6.2092670e-10, 1.8031281e-08, 2.3323969e-07, 4.4280534e-07,\n",
      "       5.5156159e-03, 1.6605709e-05, 2.7544067e-05, 2.4395708e-09,\n",
      "       6.9594767e-06, 3.7511196e-14, 5.0277699e-12, 1.0491051e-11,\n",
      "       8.0402543e-16, 1.9353314e-05, 3.9183147e-15, 1.9276450e-16,\n",
      "       3.1555118e-04, 1.6307700e-14, 3.7168814e-08, 6.0798724e-14,\n",
      "       7.6948420e-15, 2.9642607e-08], dtype=float32), array([1.7297615e-03, 2.5350319e-03, 8.3428575e-03, 9.7280350e-03,\n",
      "       3.4991449e-01, 8.0870241e-02, 9.8403357e-04, 2.8114038e-02,\n",
      "       2.8096596e-03, 1.2383931e-02, 2.5849018e-01, 1.0676455e-01,\n",
      "       2.6574247e-02, 8.2981654e-02, 8.9697568e-03, 1.6380666e-02,\n",
      "       7.9689053e-05, 7.1792034e-05, 3.1641378e-06, 1.1388968e-03,\n",
      "       5.0183886e-04, 9.8490291e-06, 5.9045979e-04, 3.8255625e-06,\n",
      "       3.1092472e-06, 2.4204648e-05], dtype=float32), array([1.3936385e-19, 3.6807274e-17, 3.8999417e-07, 9.6760147e-09,\n",
      "       5.4492802e-15, 2.1875767e-15, 1.0044004e-10, 8.3301701e-15,\n",
      "       9.9999940e-01, 3.1885339e-10, 2.5784375e-10, 2.7727804e-16,\n",
      "       1.9673470e-07, 7.2122126e-23, 1.6151944e-19, 1.0022075e-21,\n",
      "       4.9982957e-28, 1.3689475e-08, 1.1663996e-24, 2.1206138e-28,\n",
      "       2.7808605e-10, 4.2721755e-26, 8.8076657e-11, 2.0426963e-23,\n",
      "       9.6545967e-27, 2.4123072e-16], dtype=float32)]\n",
      "Sample all_labels: [0, 0, 2, 4, 8]\n"
     ]
    },
    {
     "name": "stderr",
     "output_type": "stream",
     "text": [
      "                                                           \r"
     ]
    },
    {
     "name": "stdout",
     "output_type": "stream",
     "text": [
      "all_probs shape: (1532, 26)\n",
      "all_labels shape: (1532,)\n",
      "Sample all_probs: [array([8.6057753e-07, 1.4037112e-04, 4.2054574e-03, 8.7132001e-01,\n",
      "       3.0594489e-05, 7.5703174e-05, 3.3588949e-05, 3.0351143e-02,\n",
      "       6.6711744e-03, 7.5509869e-02, 2.6569248e-03, 7.4255331e-06,\n",
      "       7.8610372e-04, 1.2634394e-08, 1.2963790e-09, 1.4386331e-05,\n",
      "       1.3449518e-09, 1.4535293e-04, 9.2491542e-11, 6.5022703e-11,\n",
      "       3.1869006e-03, 4.7812684e-11, 3.9332127e-04, 1.0573483e-11,\n",
      "       4.3346941e-11, 4.4708601e-03], dtype=float32), array([2.8915045e-01, 2.8088607e-06, 6.9254327e-01, 2.7035949e-06,\n",
      "       5.0291848e-05, 1.2428985e-02, 5.4481388e-05, 1.6633818e-03,\n",
      "       1.1911559e-04, 6.8687797e-05, 5.6068508e-05, 3.0959307e-03,\n",
      "       2.0962432e-06, 2.9012087e-08, 4.8629218e-04, 2.1619787e-08,\n",
      "       3.3101438e-05, 9.3823273e-06, 3.7913523e-08, 3.5160801e-07,\n",
      "       2.3147206e-04, 5.0519240e-08, 8.5099572e-07, 2.7584278e-08,\n",
      "       6.2958250e-08, 9.4101409e-08], dtype=float32), array([6.3131820e-06, 3.7351577e-04, 2.0855219e-05, 1.5861066e-03,\n",
      "       4.3964487e-02, 9.3781447e-01, 1.2441310e-04, 2.2524883e-04,\n",
      "       5.4628978e-05, 5.5377529e-04, 2.5526120e-03, 9.7259949e-04,\n",
      "       8.9579346e-03, 2.2904456e-03, 3.6149449e-05, 4.3365586e-04,\n",
      "       2.9792353e-05, 2.4895680e-08, 4.2125359e-11, 1.3728406e-06,\n",
      "       3.1227369e-08, 2.7738911e-10, 1.4941834e-06, 5.7381964e-11,\n",
      "       7.5800699e-11, 6.2019794e-09], dtype=float32), array([6.0451929e-03, 8.3481083e-03, 1.0486053e-01, 1.3286215e-02,\n",
      "       7.6300028e-04, 6.4694125e-04, 1.0217611e-03, 6.7951240e-02,\n",
      "       1.8270004e-01, 1.2387074e-02, 1.5626676e-02, 1.0201682e-03,\n",
      "       2.2782478e-03, 1.2415912e-05, 9.4258758e-06, 1.3076307e-04,\n",
      "       6.5446857e-06, 1.7176507e-02, 3.5359844e-06, 2.9386990e-07,\n",
      "       4.9049446e-01, 2.8416659e-06, 5.9504382e-02, 1.7814705e-06,\n",
      "       1.3816694e-06, 1.5720457e-02], dtype=float32), array([6.2454141e-08, 2.2481792e-03, 9.6662056e-01, 5.6699885e-04,\n",
      "       3.6617112e-09, 9.8089993e-07, 9.7660639e-04, 9.9752925e-04,\n",
      "       1.9930855e-03, 1.0376924e-02, 9.2378177e-05, 6.3334653e-08,\n",
      "       7.7733675e-06, 5.4548170e-14, 3.5738747e-12, 8.6614783e-08,\n",
      "       4.5279631e-12, 2.3404257e-03, 5.0100535e-14, 1.7228532e-14,\n",
      "       7.7698962e-03, 1.8345434e-12, 4.5878072e-03, 2.5501097e-14,\n",
      "       3.5528153e-14, 1.4205122e-03], dtype=float32)]\n",
      "Sample all_labels: [6, 0, 5, 20, 2]\n",
      "Epoch 10/10, Loss: 0.45952107839286327, Train Acc: 0.8867924528301887, Train AUC: 0.9421732383155792, Test Acc: 0.5548302872062664, Test AUC: 0.7263646349793532\n"
     ]
    }
   ],
   "source": [
    " # Evaluate the model on training data\n",
    "''' \n",
    "    Args:\n",
    "    train_accuracies.append(train_accuracy): appends accruacy of the model on train data\n",
    "    test_accuracies.append(test_accuracy): appends the accuracy of the model on the test data\n",
    "    train_aucs.append(train_auc): adds the train_auc to the train_aucs\n",
    "    evaluate_model(train_loader): will return train_accuracy, train_auc, and train_loss\n",
    "    test_accuracies.append(test_accuracy): adds test_accuracy to list of test_accuracies\n",
    "    test_aucs.append(test_auc): appends test_auc to a list test_aucs\n",
    "    test_losses.append(test_loss): appends test_loss to test_losses\n",
    "    print(f'Epoch {epoch+1}/{num_epochs}, Loss: {running_loss/len(train_loader)}, Train Acc: {train_accuracy}, \n",
    "    Train AUC: {train_auc}, Test Acc: {test_accuracy}, Test AUC: {test_auc}'): f string that contains variables noted above\n",
    "\n",
    "    Return: outputs of train loss, test loss, train accuracy and test accuracy, train auc and test auc \n",
    "\n",
    "    \n",
    "'''\n",
    "train_accuracy, train_auc, train_loss = evaluate_model(train_loader)\n",
    "train_accuracies.append(train_accuracy)\n",
    "train_aucs.append(train_auc)\n",
    "    \n",
    " # Evaluate the model on test dataset, test_loader\n",
    "test_accuracy, test_auc, test_loss = evaluate_model(test_loader)\n",
    "test_accuracies.append(test_accuracy)\n",
    "test_aucs.append(test_auc)\n",
    "test_losses.append(test_loss)\n",
    "    \n",
    "print(f'Epoch {epoch+1}/{num_epochs}, Loss: {running_loss/len(train_loader)}, '\n",
    "        f'Train Acc: {train_accuracy}, Train AUC: {train_auc}, '\n",
    "        f'Test Acc: {test_accuracy}, Test AUC: {test_auc}')"
   ]
  },
  {
   "cell_type": "code",
   "execution_count": 33,
   "id": "d3b794ae-5a62-4eb3-bc5c-5b724a53e861",
   "metadata": {},
   "outputs": [],
   "source": [
    "#Saving the model \n",
    "'''\n",
    "    Args:\n",
    "    model.state_dict(): contains all the learnable parameters and weights of the model\n",
    "    Returns: saving the current state of the model's parameters\n",
    "'''\n",
    "torch.save(model.state_dict(), \"SimpleCNNdivisions.pth\")"
   ]
  }
 ],
 "metadata": {
  "kernelspec": {
   "display_name": "Python 3 (ipykernel)",
   "language": "python",
   "name": "python3"
  },
  "language_info": {
   "codemirror_mode": {
    "name": "ipython",
    "version": 3
   },
   "file_extension": ".py",
   "mimetype": "text/x-python",
   "name": "python",
   "nbconvert_exporter": "python",
   "pygments_lexer": "ipython3",
   "version": "3.9.19"
  }
 },
 "nbformat": 4,
 "nbformat_minor": 5
}
