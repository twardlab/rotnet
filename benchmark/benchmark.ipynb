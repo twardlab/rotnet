{
 "cells": [
  {
   "cell_type": "code",
   "execution_count": 2,
   "metadata": {},
   "outputs": [],
   "source": [
    "import os\n",
    "import sys\n",
    "\n",
    "# set path to directory of file\n",
    "path = os.getcwd()\n",
    "# move up one directory and go down into Repos, then into rotnet\n",
    "path = os.path.abspath(os.path.join(path, os.pardir, 'Repos', 'rotnet'))\n",
    "# add path to sys\n",
    "sys.path.append(path)\n",
    "\n",
    "import medmnist\n",
    "from medmnist import INFO\n",
    "\n",
    "import importlib\n",
    "import moment_kernels as mk\n",
    "importlib.reload(mk)\n",
    "\n",
    "import torch\n",
    "import torch.nn as tnn\n",
    "import torch.nn.functional as F\n",
    "import torch.utils.data as data\n",
    "import torchvision.transforms as transforms\n",
    "\n",
    "import e2cnn.nn as enn\n",
    "import e2cnn.gspaces as gspaces\n",
    "\n",
    "# located in /rotnet/benchmark/benchmark_models.py\n",
    "from benchmark.benchmark_models import *"
   ]
  },
  {
   "cell_type": "markdown",
   "metadata": {},
   "source": [
    "## **Hyperparameters**"
   ]
  },
  {
   "cell_type": "code",
   "execution_count": 3,
   "metadata": {},
   "outputs": [],
   "source": [
    "# hyperparameters\n",
    "EPOCHS = 20\n",
    "BATCH_SIZE = 128\n",
    "lr = 0.001"
   ]
  },
  {
   "cell_type": "markdown",
   "metadata": {},
   "source": [
    "## **Dataset**"
   ]
  },
  {
   "cell_type": "code",
   "execution_count": 11,
   "metadata": {},
   "outputs": [
    {
     "ename": "KeyError",
     "evalue": "'n_batches'",
     "output_type": "error",
     "traceback": [
      "\u001b[0;31m---------------------------------------------------------------------------\u001b[0m",
      "\u001b[0;31mKeyError\u001b[0m                                  Traceback (most recent call last)",
      "Cell \u001b[0;32mIn[11], line 9\u001b[0m\n\u001b[1;32m      7\u001b[0m DataClass \u001b[38;5;241m=\u001b[39m \u001b[38;5;28mgetattr\u001b[39m(medmnist, info[\u001b[38;5;124m'\u001b[39m\u001b[38;5;124mpython_class\u001b[39m\u001b[38;5;124m'\u001b[39m])\n\u001b[1;32m      8\u001b[0m device \u001b[38;5;241m=\u001b[39m torch\u001b[38;5;241m.\u001b[39mdevice(\u001b[38;5;124m\"\u001b[39m\u001b[38;5;124mcuda\u001b[39m\u001b[38;5;124m\"\u001b[39m \u001b[38;5;28;01mif\u001b[39;00m torch\u001b[38;5;241m.\u001b[39mcuda\u001b[38;5;241m.\u001b[39mis_available() \u001b[38;5;28;01melse\u001b[39;00m \u001b[38;5;124m\"\u001b[39m\u001b[38;5;124mcpu\u001b[39m\u001b[38;5;124m\"\u001b[39m)\n\u001b[0;32m----> 9\u001b[0m n_batches \u001b[38;5;241m=\u001b[39m \u001b[43minfo\u001b[49m\u001b[43m[\u001b[49m\u001b[38;5;124;43m'\u001b[39;49m\u001b[38;5;124;43mn_batches\u001b[39;49m\u001b[38;5;124;43m'\u001b[39;49m\u001b[43m]\u001b[49m\n",
      "\u001b[0;31mKeyError\u001b[0m: 'n_batches'"
     ]
    }
   ],
   "source": [
    "data_flag = \"dermamnist\"\n",
    "download = True\n",
    "info = INFO[data_flag]\n",
    "task = info['task']\n",
    "n_channels = info['n_channels']\n",
    "n_classes = len(info['label'])\n",
    "DataClass = getattr(medmnist, info['python_class'])\n",
    "device = torch.device(\"cuda\" if torch.cuda.is_available() else \"cpu\")"
   ]
  },
  {
   "cell_type": "markdown",
   "metadata": {},
   "source": [
    "## **Transforms**"
   ]
  },
  {
   "cell_type": "code",
   "execution_count": 5,
   "metadata": {},
   "outputs": [],
   "source": [
    "# transforms to convert from image to normalized tensor (or more if augmentation)\n",
    "train_transforms = transforms.Compose([\n",
    "    transforms.ToTensor(),\n",
    "    transforms.Normalize(mean = [0.5], std = [0.5]),\n",
    "])\n",
    "\n",
    "# separate transforms for test\n",
    "test_transforms = transforms.Compose([\n",
    "    transforms.ToTensor(),\n",
    "    transforms.Normalize(mean = [0.5], std = [0.5])\n",
    "])"
   ]
  },
  {
   "cell_type": "markdown",
   "metadata": {},
   "source": [
    "## **Splitting and Shuffling**"
   ]
  },
  {
   "cell_type": "code",
   "execution_count": 6,
   "metadata": {},
   "outputs": [
    {
     "name": "stdout",
     "output_type": "stream",
     "text": [
      "Downloading https://zenodo.org/records/10519652/files/dermamnist.npz?download=1 to /ifshome/jliem/.medmnist/dermamnist.npz\n"
     ]
    },
    {
     "name": "stderr",
     "output_type": "stream",
     "text": [
      "100%|██████████| 19725078/19725078 [00:04<00:00, 3958217.38it/s]\n"
     ]
    },
    {
     "name": "stdout",
     "output_type": "stream",
     "text": [
      "Using downloaded and verified file: /ifshome/jliem/.medmnist/dermamnist.npz\n",
      "Using downloaded and verified file: /ifshome/jliem/.medmnist/dermamnist.npz\n",
      "Using downloaded and verified file: /ifshome/jliem/.medmnist/dermamnist.npz\n"
     ]
    }
   ],
   "source": [
    "train_dataset = DataClass(split = \"train\", transform = train_transforms, download = download)\n",
    "valid_dataset = DataClass(split = \"val\", transform = test_transforms, download = download)\n",
    "test_dataset = DataClass(split = \"test\", transform = test_transforms, download = download)\n",
    "\n",
    "train_loader = data.DataLoader(dataset = train_dataset, batch_size = BATCH_SIZE, shuffle = False)\n",
    "valid_loader = data.DataLoader(dataset = valid_dataset, batch_size = BATCH_SIZE, shuffle = False)\n",
    "test_loader = data.DataLoader(dataset = test_dataset, batch_size = BATCH_SIZE, shuffle = False)"
   ]
  },
  {
   "cell_type": "markdown",
   "metadata": {},
   "source": [
    "## **Model**"
   ]
  },
  {
   "cell_type": "code",
   "execution_count": 7,
   "metadata": {},
   "outputs": [],
   "source": [
    "device = 'cuda' if torch.cuda.is_available() else 'cpu'\n",
    "# nn0 = VanillaCNN(img_channels = 3, n0 = 32, n_classes = n_classes, kernel_size = 3, padding = 1, num_layers = 5).to(device)\n",
    "# nn1 = TrivialECNN(img_channels = 3, n0 = 32, n_classes = n_classes, kernel_size = 3, padding = 1, num_layers = 5).to(device)\n",
    "# nn2 = TrivialIrrepECNN(img_channels = 3, n0 = 32, n_classes = n_classes, kernel_size = 3, padding = 1, num_layers = 5).to(device)\n",
    "# nn3 = RegularECNN(img_channels = 3, n0 = 32, n_classes = n_classes, kernel_size = 3, padding = 1, num_layers = 5).to(device)\n",
    "# nn4 = TrivialMoment(img_channels = 3, n0 = 32, n_classes = n_classes, kernel_size = 3, padding = 1, num_layers = 5).to(device)\n",
    "nn5 = TrivialIrrepMoment(img_channels = 3, n0 = 16, n_classes = n_classes, kernel_size = 3, padding = 1, num_layers = 5).to(device)"
   ]
  },
  {
   "cell_type": "markdown",
   "metadata": {},
   "source": [
    "## **Random Testing**"
   ]
  },
  {
   "cell_type": "code",
   "execution_count": 8,
   "metadata": {},
   "outputs": [
    {
     "name": "stdout",
     "output_type": "stream",
     "text": [
      "torch.Size([1, 7])\n",
      "tensor([[-0.9505,  1.2498,  1.6229, -0.0877, -3.4214, -0.0580, -1.1486]])\n"
     ]
    }
   ],
   "source": [
    "def test_model(model: torch.nn.Module):\n",
    "    model.eval()\n",
    "\n",
    "    x = torch.randn(1, 3, 28, 28).to(device)\n",
    "    with torch.no_grad():\n",
    "        y = model(x)\n",
    "        print(y.shape)\n",
    "        print(y)\n",
    "    return y\n",
    "\n",
    "output = test_model(nn5)"
   ]
  },
  {
   "cell_type": "markdown",
   "metadata": {},
   "source": [
    "## **Training**"
   ]
  },
  {
   "cell_type": "code",
   "execution_count": 2,
   "metadata": {},
   "outputs": [
    {
     "name": "stdout",
     "output_type": "stream",
     "text": [
      "Collecting comet-ml\n",
      "  Downloading comet_ml-3.44.1-py3-none-any.whl.metadata (3.9 kB)\n",
      "Collecting everett<3.2.0,>=1.0.1 (from everett[ini]<3.2.0,>=1.0.1->comet-ml)\n",
      "  Downloading everett-3.1.0-py2.py3-none-any.whl.metadata (17 kB)\n",
      "Requirement already satisfied: jsonschema!=3.1.0,>=2.6.0 in /nafs/dtward/intelpython3/lib/python3.9/site-packages (from comet-ml) (4.22.0)\n",
      "Requirement already satisfied: psutil>=5.6.3 in /nafs/dtward/intelpython3/lib/python3.9/site-packages (from comet-ml) (6.0.0)\n",
      "Collecting python-box<7.0.0 (from comet-ml)\n",
      "  Downloading python_box-6.1.0-cp39-cp39-manylinux_2_17_x86_64.manylinux2014_x86_64.whl.metadata (7.8 kB)\n",
      "Collecting requests-toolbelt>=0.8.0 (from comet-ml)\n",
      "  Downloading requests_toolbelt-1.0.0-py2.py3-none-any.whl.metadata (14 kB)\n",
      "Requirement already satisfied: requests>=2.18.4 in /nafs/dtward/intelpython3/lib/python3.9/site-packages (from comet-ml) (2.32.3)\n",
      "Collecting semantic-version>=2.8.0 (from comet-ml)\n",
      "  Downloading semantic_version-2.10.0-py2.py3-none-any.whl.metadata (9.7 kB)\n",
      "Collecting sentry-sdk>=1.1.0 (from comet-ml)\n",
      "  Downloading sentry_sdk-2.9.0-py2.py3-none-any.whl.metadata (14 kB)\n",
      "Collecting simplejson (from comet-ml)\n",
      "  Downloading simplejson-3.19.2-cp39-cp39-manylinux_2_5_x86_64.manylinux1_x86_64.manylinux_2_17_x86_64.manylinux2014_x86_64.whl.metadata (3.1 kB)\n",
      "Requirement already satisfied: urllib3>=1.21.1 in /nafs/dtward/intelpython3/lib/python3.9/site-packages (from comet-ml) (2.2.1)\n",
      "Collecting wrapt>=1.11.2 (from comet-ml)\n",
      "  Downloading wrapt-1.16.0-cp39-cp39-manylinux_2_5_x86_64.manylinux1_x86_64.manylinux_2_17_x86_64.manylinux2014_x86_64.whl.metadata (6.6 kB)\n",
      "Collecting wurlitzer>=1.0.2 (from comet-ml)\n",
      "  Downloading wurlitzer-3.1.1-py3-none-any.whl.metadata (2.5 kB)\n",
      "Collecting dulwich!=0.20.33,>=0.20.6 (from comet-ml)\n",
      "  Downloading dulwich-0.22.1-cp39-cp39-manylinux_2_17_x86_64.manylinux2014_x86_64.whl.metadata (4.4 kB)\n",
      "Collecting rich>=13.3.2 (from comet-ml)\n",
      "  Downloading rich-13.7.1-py3-none-any.whl.metadata (18 kB)\n",
      "Collecting configobj (from everett[ini]<3.2.0,>=1.0.1->comet-ml)\n",
      "  Downloading configobj-5.0.8-py2.py3-none-any.whl.metadata (3.4 kB)\n",
      "Requirement already satisfied: attrs>=22.2.0 in /nafs/dtward/intelpython3/lib/python3.9/site-packages (from jsonschema!=3.1.0,>=2.6.0->comet-ml) (23.2.0)\n",
      "Requirement already satisfied: jsonschema-specifications>=2023.03.6 in /nafs/dtward/intelpython3/lib/python3.9/site-packages (from jsonschema!=3.1.0,>=2.6.0->comet-ml) (2023.12.1)\n",
      "Requirement already satisfied: referencing>=0.28.4 in /nafs/dtward/intelpython3/lib/python3.9/site-packages (from jsonschema!=3.1.0,>=2.6.0->comet-ml) (0.35.1)\n",
      "Requirement already satisfied: rpds-py>=0.7.1 in /nafs/dtward/intelpython3/lib/python3.9/site-packages (from jsonschema!=3.1.0,>=2.6.0->comet-ml) (0.18.1)\n",
      "Requirement already satisfied: charset-normalizer<4,>=2 in /nafs/dtward/intelpython3/lib/python3.9/site-packages (from requests>=2.18.4->comet-ml) (3.3.2)\n",
      "Requirement already satisfied: idna<4,>=2.5 in /nafs/dtward/intelpython3/lib/python3.9/site-packages (from requests>=2.18.4->comet-ml) (3.7)\n",
      "Requirement already satisfied: certifi>=2017.4.17 in /nafs/dtward/intelpython3/lib/python3.9/site-packages (from requests>=2.18.4->comet-ml) (2024.2.2)\n",
      "Collecting markdown-it-py>=2.2.0 (from rich>=13.3.2->comet-ml)\n",
      "  Downloading markdown_it_py-3.0.0-py3-none-any.whl.metadata (6.9 kB)\n",
      "Requirement already satisfied: pygments<3.0.0,>=2.13.0 in /nafs/dtward/intelpython3/lib/python3.9/site-packages (from rich>=13.3.2->comet-ml) (2.18.0)\n",
      "Collecting mdurl~=0.1 (from markdown-it-py>=2.2.0->rich>=13.3.2->comet-ml)\n",
      "  Downloading mdurl-0.1.2-py3-none-any.whl.metadata (1.6 kB)\n",
      "Requirement already satisfied: six in /nafs/dtward/intelpython3/lib/python3.9/site-packages (from configobj->everett[ini]<3.2.0,>=1.0.1->comet-ml) (1.16.0)\n",
      "Downloading comet_ml-3.44.1-py3-none-any.whl (679 kB)\n",
      "\u001b[2K   \u001b[38;2;114;156;31m━━━━━━━━━━━━━━━━━━━━━━━━━━━━━━━━━━━━━━━━\u001b[0m \u001b[32m679.5/679.5 kB\u001b[0m \u001b[31m49.1 MB/s\u001b[0m eta \u001b[36m0:00:00\u001b[0m\n",
      "\u001b[?25hDownloading dulwich-0.22.1-cp39-cp39-manylinux_2_17_x86_64.manylinux2014_x86_64.whl (981 kB)\n",
      "\u001b[2K   \u001b[38;2;114;156;31m━━━━━━━━━━━━━━━━━━━━━━━━━━━━━━━━━━━━━━━━\u001b[0m \u001b[32m981.1/981.1 kB\u001b[0m \u001b[31m60.7 MB/s\u001b[0m eta \u001b[36m0:00:00\u001b[0m\n",
      "\u001b[?25hDownloading everett-3.1.0-py2.py3-none-any.whl (35 kB)\n",
      "Downloading python_box-6.1.0-cp39-cp39-manylinux_2_17_x86_64.manylinux2014_x86_64.whl (3.4 MB)\n",
      "\u001b[2K   \u001b[38;2;114;156;31m━━━━━━━━━━━━━━━━━━━━━━━━━━━━━━━━━━━━━━━━\u001b[0m \u001b[32m3.4/3.4 MB\u001b[0m \u001b[31m83.1 MB/s\u001b[0m eta \u001b[36m0:00:00\u001b[0m0m eta \u001b[36m0:00:01\u001b[0m\n",
      "\u001b[?25hDownloading requests_toolbelt-1.0.0-py2.py3-none-any.whl (54 kB)\n",
      "\u001b[2K   \u001b[38;2;114;156;31m━━━━━━━━━━━━━━━━━━━━━━━━━━━━━━━━━━━━━━━━\u001b[0m \u001b[32m54.5/54.5 kB\u001b[0m \u001b[31m9.4 MB/s\u001b[0m eta \u001b[36m0:00:00\u001b[0m\n",
      "\u001b[?25hDownloading rich-13.7.1-py3-none-any.whl (240 kB)\n",
      "\u001b[2K   \u001b[38;2;114;156;31m━━━━━━━━━━━━━━━━━━━━━━━━━━━━━━━━━━━━━━━━\u001b[0m \u001b[32m240.7/240.7 kB\u001b[0m \u001b[31m35.5 MB/s\u001b[0m eta \u001b[36m0:00:00\u001b[0m\n",
      "\u001b[?25hDownloading semantic_version-2.10.0-py2.py3-none-any.whl (15 kB)\n",
      "Downloading sentry_sdk-2.9.0-py2.py3-none-any.whl (301 kB)\n",
      "\u001b[2K   \u001b[38;2;114;156;31m━━━━━━━━━━━━━━━━━━━━━━━━━━━━━━━━━━━━━━━━\u001b[0m \u001b[32m301.8/301.8 kB\u001b[0m \u001b[31m46.1 MB/s\u001b[0m eta \u001b[36m0:00:00\u001b[0m\n",
      "\u001b[?25hDownloading wrapt-1.16.0-cp39-cp39-manylinux_2_5_x86_64.manylinux1_x86_64.manylinux_2_17_x86_64.manylinux2014_x86_64.whl (80 kB)\n",
      "\u001b[2K   \u001b[38;2;114;156;31m━━━━━━━━━━━━━━━━━━━━━━━━━━━━━━━━━━━━━━━━\u001b[0m \u001b[32m80.1/80.1 kB\u001b[0m \u001b[31m13.9 MB/s\u001b[0m eta \u001b[36m0:00:00\u001b[0m\n",
      "\u001b[?25hDownloading wurlitzer-3.1.1-py3-none-any.whl (8.6 kB)\n",
      "Downloading simplejson-3.19.2-cp39-cp39-manylinux_2_5_x86_64.manylinux1_x86_64.manylinux_2_17_x86_64.manylinux2014_x86_64.whl (137 kB)\n",
      "\u001b[2K   \u001b[38;2;114;156;31m━━━━━━━━━━━━━━━━━━━━━━━━━━━━━━━━━━━━━━━━\u001b[0m \u001b[32m137.4/137.4 kB\u001b[0m \u001b[31m26.8 MB/s\u001b[0m eta \u001b[36m0:00:00\u001b[0m\n",
      "\u001b[?25hDownloading markdown_it_py-3.0.0-py3-none-any.whl (87 kB)\n",
      "\u001b[2K   \u001b[38;2;114;156;31m━━━━━━━━━━━━━━━━━━━━━━━━━━━━━━━━━━━━━━━━\u001b[0m \u001b[32m87.5/87.5 kB\u001b[0m \u001b[31m16.5 MB/s\u001b[0m eta \u001b[36m0:00:00\u001b[0m\n",
      "\u001b[?25hDownloading configobj-5.0.8-py2.py3-none-any.whl (36 kB)\n",
      "Downloading mdurl-0.1.2-py3-none-any.whl (10.0 kB)\n",
      "Installing collected packages: everett, wurlitzer, wrapt, simplejson, sentry-sdk, semantic-version, python-box, mdurl, dulwich, configobj, requests-toolbelt, markdown-it-py, rich, comet-ml\n",
      "Successfully installed comet-ml-3.44.1 configobj-5.0.8 dulwich-0.22.1 everett-3.1.0 markdown-it-py-3.0.0 mdurl-0.1.2 python-box-6.1.0 requests-toolbelt-1.0.0 rich-13.7.1 semantic-version-2.10.0 sentry-sdk-2.9.0 simplejson-3.19.2 wrapt-1.16.0 wurlitzer-3.1.1\n",
      "Note: you may need to restart the kernel to use updated packages.\n"
     ]
    }
   ],
   "source": [
    "# dermaMNIST data\n",
    "# pick our 6 models\n",
    "# optim: Adam (w/ lr 1e-4) no wd or data augmentation\n",
    "# train for 100 epochs\n",
    "# every epoch, save the AUC and accuracy on the val set\n",
    "# at end, report the AUC and accuracy for the final network\n",
    "# report AUC and accuracy for the best version of the network\n",
    "# Best accuracy version, best AUC version.\n",
    "# Each network gets 3 scores\n",
    "# Time each epoch save it\n",
    "# find an approximate n_channels for vanilla and approximate number of parameters in all other models"
   ]
  }
 ],
 "metadata": {
  "kernelspec": {
   "display_name": "Python 3 (ipykernel)",
   "language": "python",
   "name": "python3"
  },
  "language_info": {
   "codemirror_mode": {
    "name": "ipython",
    "version": 3
   },
   "file_extension": ".py",
   "mimetype": "text/x-python",
   "name": "python",
   "nbconvert_exporter": "python",
   "pygments_lexer": "ipython3",
   "version": "3.9.19"
  }
 },
 "nbformat": 4,
 "nbformat_minor": 2
}
