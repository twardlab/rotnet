{
 "cells": [
  {
   "cell_type": "code",
   "execution_count": null,
   "metadata": {},
   "outputs": [],
   "source": [
    "import os\n",
    "import sys\n",
    "\n",
    "# set path to directory of file\n",
    "path = os.getcwd()\n",
    "# move up one directory and go down into Repos, then into rotnet\n",
    "path = os.path.abspath(os.path.join(path, os.pardir, 'Repos', 'rotnet'))\n",
    "# add path to sys\n",
    "sys.path.append(path)\n",
    "\n",
    "import medmnist\n",
    "from medmnist import INFO\n",
    "\n",
    "import importlib\n",
    "import moment_kernels as mk\n",
    "importlib.reload(mk)\n",
    "\n",
    "import torch\n",
    "import torch.nn as tnn\n",
    "import torch.nn.functional as F\n",
    "import torch.utils.data as data\n",
    "import torchvision.transforms as transforms\n",
    "\n",
    "import e2cnn.nn as enn\n",
    "import e2cnn.gspaces as gspaces\n",
    "\n",
    "from benchmark_models import *"
   ]
  },
  {
   "cell_type": "markdown",
   "metadata": {},
   "source": [
    "## **Hyperparameters**"
   ]
  },
  {
   "cell_type": "code",
   "execution_count": null,
   "metadata": {},
   "outputs": [],
   "source": [
    "# hyperparameters\n",
    "EPOCHS = 20\n",
    "BATCH_SIZE = 128\n",
    "lr = 0.001\n",
    "WEIGHT_DECAY = 0.0001"
   ]
  },
  {
   "cell_type": "markdown",
   "metadata": {},
   "source": [
    "## **Dataset**"
   ]
  },
  {
   "cell_type": "code",
   "execution_count": null,
   "metadata": {},
   "outputs": [],
   "source": [
    "data_flag = \"pathmnist\"\n",
    "download = True\n",
    "info = INFO[data_flag]\n",
    "task = info['task']\n",
    "n_channels = info['n_channels']\n",
    "n_classes = len(info['label'])\n",
    "DataClass = getattr(medmnist, info['python_class'])\n",
    "device = torch.device(\"cuda\" if torch.cuda.is_available() else \"cpu\")"
   ]
  },
  {
   "cell_type": "markdown",
   "metadata": {},
   "source": [
    "## **Transforms**"
   ]
  },
  {
   "cell_type": "code",
   "execution_count": null,
   "metadata": {},
   "outputs": [],
   "source": [
    "# transforms to convert from image to normalized tensor (or more if augmentation)\n",
    "train_transforms = transforms.Compose([\n",
    "    transforms.ToTensor(),\n",
    "    transforms.Normalize(mean = [0.5], std = [0.5]),\n",
    "    transforms.RandomHorizontalFlip(p=0.5),\n",
    "])\n",
    "\n",
    "# separate transforms for test\n",
    "test_transforms = transforms.Compose([\n",
    "    transforms.ToTensor(),\n",
    "    transforms.Normalize(mean = [0.5], std = [0.5])\n",
    "])"
   ]
  },
  {
   "cell_type": "markdown",
   "metadata": {},
   "source": [
    "## **Splitting and Shuffling**"
   ]
  },
  {
   "cell_type": "code",
   "execution_count": null,
   "metadata": {},
   "outputs": [],
   "source": [
    "train_dataset = DataClass(split = \"train\", transform = train_transforms, download = download)\n",
    "valid_dataset = DataClass(split = \"val\", transform = test_transforms, download = download)\n",
    "test_dataset = DataClass(split = \"test\", transform = test_transforms, download = download)\n",
    "\n",
    "# set aside for visualization as PIL image\n",
    "vis_dataset = DataClass(split = \"test\", download = download)\n",
    "\n",
    "train_loader = data.DataLoader(dataset = train_dataset, batch_size = BATCH_SIZE, shuffle = False)\n",
    "valid_loader = data.DataLoader(dataset = valid_dataset, batch_size = BATCH_SIZE, shuffle = False)\n",
    "test_loader = data.DataLoader(dataset = test_dataset, batch_size = BATCH_SIZE, shuffle = False)"
   ]
  },
  {
   "cell_type": "markdown",
   "metadata": {},
   "source": [
    "## **Model**"
   ]
  },
  {
   "cell_type": "code",
   "execution_count": null,
   "metadata": {},
   "outputs": [],
   "source": [
    "device = 'cuda' if torch.cuda.is_available() else 'cpu'\n",
    "#nn0 = VanillaCNN(img_channels = 3, n0 = 64, n_classes = 5, kernel_size = 3, padding = 1, num_layers = 4).to(device)\n",
    "#nn1 = TrivialECNN(img_channels = 3, n0 = 16, n_classes = 5, kernel_size = 3, padding = 1, num_layers = 4).to(device)\n",
    "#nn2 =TrivialIrrepECNN(img_channels = 3, n0 = 16, n_classes = 5, kernel_size = 3, padding = 1, num_layers = 4).to(device)\n",
    "#nn3 = RegularECNN(img_channels = 3, n0 = 16, n_classes = 5, kernel_size = 3, padding = 1, num_layers = 4).to(device)\n",
    "#nn4 = TrivialMoment(img_channels = 3, n0 = 16, n_classes = 5, kernel_size = 3, padding = 1, num_layers = 4).to(device)\n",
    "nn5 = TrivialIrrepMoment(img_channels = 3, n0 = 16, n_classes = 5, kernel_size = 3, padding = 1, num_layers = 4).to(device)"
   ]
  },
  {
   "cell_type": "markdown",
   "metadata": {},
   "source": [
    "## **Random Testing**"
   ]
  },
  {
   "cell_type": "code",
   "execution_count": null,
   "metadata": {},
   "outputs": [],
   "source": [
    "def test_model(model: torch.nn.Module):\n",
    "    model.eval()\n",
    "\n",
    "    x = torch.randn(1, 3, 28, 28).to(device)\n",
    "    with torch.no_grad():\n",
    "        y = model(x)\n",
    "        print(y.shape)\n",
    "        print(y)\n",
    "    return y\n",
    "\n",
    "output = test_model(nn5)"
   ]
  },
  {
   "cell_type": "markdown",
   "metadata": {},
   "source": [
    "## **Training**"
   ]
  },
  {
   "cell_type": "code",
   "execution_count": null,
   "metadata": {},
   "outputs": [],
   "source": []
  }
 ],
 "metadata": {
  "kernelspec": {
   "display_name": "Python 3 (ipykernel)",
   "language": "python",
   "name": "python3"
  },
  "language_info": {
   "codemirror_mode": {
    "name": "ipython",
    "version": 3
   },
   "file_extension": ".py",
   "mimetype": "text/x-python",
   "name": "python",
   "nbconvert_exporter": "python",
   "pygments_lexer": "ipython3",
   "version": "3.9.19"
  }
 },
 "nbformat": 4,
 "nbformat_minor": 2
}
