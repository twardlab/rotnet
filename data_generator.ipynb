{
 "cells": [
  {
   "cell_type": "code",
   "execution_count": 1,
   "metadata": {},
   "outputs": [],
   "source": [
    "import os\n",
    "import sys\n",
    "\n",
    "path = os.getcwd()\n",
    "par_path = os.path.abspath(os.pardir)\n",
    "sys.path.append(par_path)\n",
    "\n",
    "from utils.data import ExtractROI, AtlasDataset\n",
    "\n",
    "import matplotlib.pyplot as plt\n",
    "import numpy as np\n",
    "import torch\n",
    "\n",
    "import csv\n",
    "import math\n",
    "import random as rand\n",
    "from tqdm import tqdm\n",
    "\n",
    "from torch.utils.data import Dataset, DataLoader\n",
    "import torchvision.transforms as transforms\n",
    "\n",
    "from models.unet import UNet\n",
    "from models.moment_unet import *"
   ]
  },
  {
   "cell_type": "markdown",
   "metadata": {},
   "source": [
    "## **Extract ROIs**\n",
    "\n",
    "You will need to manually delete the save directories in order to regenerate to ROIs as a precaution against accidentally running and overwriting. "
   ]
  },
  {
   "cell_type": "code",
   "execution_count": 2,
   "metadata": {},
   "outputs": [
    {
     "name": "stdout",
     "output_type": "stream",
     "text": [
      "/nafs/dtward/allen/rois/64x64_sample_rate_0_5_center/ already exists. If you intend to re-extract the ROIs, please delete the directory first.\n",
      "/nafs/dtward/allen/rois/64x64_sample_rate_0_5_all/ already exists. If you intend to re-extract the ROIs, please delete the directory first.\n",
      "/nafs/dtward/allen/rois/64x64_sample_rate_0_5_mode/ already exists. If you intend to re-extract the ROIs, please delete the directory first.\n"
     ]
    }
   ],
   "source": [
    "# Extract ROIs and ensure the ROIs' assigned label is the center of the ROI\n",
    "ROI_size = (64, 64)\n",
    "sampling_rate = 0.5\n",
    "str_sampling_rate = str(sampling_rate).replace('.', '_')\n",
    "\n",
    "extract_dir = '/nafs/dtward/allen/npz_files/'\n",
    "save_dir = '/nafs/dtward/allen/rois/'\n",
    "sub_save_dir = f\"{ROI_size[0]}x{ROI_size[1]}_sample_rate_{str_sampling_rate}_center/\"\n",
    "abs_save_dir = os.path.join(save_dir, sub_save_dir)\n",
    "\n",
    "if not os.path.exists(abs_save_dir):\n",
    "    os.makedirs(abs_save_dir)\n",
    "    extractor_center = ExtractROI(extract_dir=extract_dir, save_dir=abs_save_dir)\n",
    "    extractor_center.extract_ROI(ROI_size=ROI_size, sampling_rate=sampling_rate, label_mode='center')\n",
    "else:\n",
    "    print(f\"{abs_save_dir} already exists. If you intend to re-extract the ROIs, please delete the directory first.\")\n",
    "\n",
    "# Extract ROIs and ensure the ROIs' assigned labels are maintained as an n x n where each pixel is some label (segmentation)\n",
    "ROI_size = (64, 64)\n",
    "sampling_rate = 0.5\n",
    "str_sampling_rate = str(sampling_rate).replace('.', '_')\n",
    "\n",
    "extract_dir = '/nafs/dtward/allen/npz_files/'\n",
    "save_dir = '/nafs/dtward/allen/rois/'\n",
    "sub_save_dir = f\"{ROI_size[0]}x{ROI_size[1]}_sample_rate_{str_sampling_rate}_all/\"\n",
    "abs_save_dir = os.path.join(save_dir, sub_save_dir)\n",
    "\n",
    "if not os.path.exists(abs_save_dir):\n",
    "    os.makedirs(abs_save_dir)\n",
    "    extractor_all = ExtractROI(extract_dir=extract_dir, save_dir=abs_save_dir)\n",
    "    extractor_all.extract_ROI(ROI_size=ROI_size, sampling_rate=sampling_rate, label_mode='all')\n",
    "else:\n",
    "    print(f\"{abs_save_dir} already exists. If you intend to re-extract the ROIs, please delete the directory first.\")\n",
    "\n",
    "# Extract ROIs and ensure the ROIs' assigned label is the mode of all the labels in the ROI\n",
    "ROI_size = (64, 64)\n",
    "sampling_rate = 0.5\n",
    "str_sampling_rate = str(sampling_rate).replace('.', '_')\n",
    "\n",
    "extract_dir = '/nafs/dtward/allen/npz_files/'\n",
    "save_dir = '/nafs/dtward/allen/rois/'\n",
    "sub_save_dir = f\"{ROI_size[0]}x{ROI_size[1]}_sample_rate_{str_sampling_rate}_mode/\"\n",
    "abs_save_dir = os.path.join(save_dir, sub_save_dir)\n",
    "\n",
    "if not os.path.exists(abs_save_dir):\n",
    "    os.makedirs(abs_save_dir)\n",
    "    extractor_all = ExtractROI(extract_dir=extract_dir, save_dir=abs_save_dir)\n",
    "    extractor_all.extract_ROI(ROI_size=ROI_size, sampling_rate=sampling_rate, label_mode='mode')\n",
    "else:\n",
    "    print(f\"{abs_save_dir} already exists. If you intend to re-extract the ROIs, please delete the directory first.\")"
   ]
  },
  {
   "cell_type": "markdown",
   "metadata": {},
   "source": [
    "## **Dataloader**"
   ]
  },
  {
   "cell_type": "code",
   "execution_count": 5,
   "metadata": {},
   "outputs": [
    {
     "name": "stdout",
     "output_type": "stream",
     "text": [
      "26\n",
      "torch.Size([16, 1, 64, 64])\n"
     ]
    }
   ],
   "source": [
    "train_dir = '/nafs/dtward/allen/rois/64x64_sample_rate_0_5_all/train/'\n",
    "test_dir = '/nafs/dtward/allen/rois/64x64_sample_rate_0_5_all/test/'\n",
    "label_map_file = '/nafs/dtward/allen/rois/divisions.csv' # divisions.csv, organs.csv, structures.csv, substructures.csv, categories.csv\n",
    "\n",
    "train_dataset = AtlasDataset(data_dir=train_dir, label_map_file=label_map_file)\n",
    "test_dataset = AtlasDataset(data_dir=test_dir, label_map_file=label_map_file)\n",
    "\n",
    "bs = 16\n",
    "train_loader = DataLoader(train_dataset, batch_size=bs, shuffle=True)\n",
    "test_loader = DataLoader(test_dataset, batch_size=bs, shuffle=True)\n",
    "\n",
    "print(train_dataset.num_classes)\n",
    "\n",
    "label_sample = next(iter(train_loader))[1]\n",
    "\n",
    "print(label_sample.shape)"
   ]
  },
  {
   "cell_type": "code",
   "execution_count": 6,
   "metadata": {},
   "outputs": [
    {
     "name": "stdout",
     "output_type": "stream",
     "text": [
      "Collecting monai\n",
      "  Downloading monai-1.3.2-py3-none-any.whl.metadata (10 kB)\n",
      "Requirement already satisfied: torch>=1.9 in /nafs/dtward/intelpython3/lib/python3.9/site-packages (from monai) (2.3.1)\n",
      "Requirement already satisfied: numpy>=1.20 in /nafs/dtward/intelpython3/lib/python3.9/site-packages (from monai) (1.25.2)\n",
      "Requirement already satisfied: filelock in /nafs/dtward/intelpython3/lib/python3.9/site-packages (from torch>=1.9->monai) (3.15.4)\n",
      "Requirement already satisfied: typing-extensions>=4.8.0 in /nafs/dtward/intelpython3/lib/python3.9/site-packages (from torch>=1.9->monai) (4.12.1)\n",
      "Requirement already satisfied: sympy in /nafs/dtward/intelpython3/lib/python3.9/site-packages (from torch>=1.9->monai) (1.12.1)\n",
      "Requirement already satisfied: networkx in /nafs/dtward/intelpython3/lib/python3.9/site-packages (from torch>=1.9->monai) (3.2.1)\n",
      "Requirement already satisfied: jinja2 in /nafs/dtward/intelpython3/lib/python3.9/site-packages (from torch>=1.9->monai) (3.1.4)\n",
      "Requirement already satisfied: fsspec in /nafs/dtward/intelpython3/lib/python3.9/site-packages (from torch>=1.9->monai) (2024.6.1)\n",
      "Requirement already satisfied: nvidia-cuda-nvrtc-cu12==12.1.105 in /nafs/dtward/intelpython3/lib/python3.9/site-packages (from torch>=1.9->monai) (12.1.105)\n",
      "Requirement already satisfied: nvidia-cuda-runtime-cu12==12.1.105 in /nafs/dtward/intelpython3/lib/python3.9/site-packages (from torch>=1.9->monai) (12.1.105)\n",
      "Requirement already satisfied: nvidia-cuda-cupti-cu12==12.1.105 in /nafs/dtward/intelpython3/lib/python3.9/site-packages (from torch>=1.9->monai) (12.1.105)\n",
      "Requirement already satisfied: nvidia-cudnn-cu12==8.9.2.26 in /nafs/dtward/intelpython3/lib/python3.9/site-packages (from torch>=1.9->monai) (8.9.2.26)\n",
      "Requirement already satisfied: nvidia-cublas-cu12==12.1.3.1 in /nafs/dtward/intelpython3/lib/python3.9/site-packages (from torch>=1.9->monai) (12.1.3.1)\n",
      "Requirement already satisfied: nvidia-cufft-cu12==11.0.2.54 in /nafs/dtward/intelpython3/lib/python3.9/site-packages (from torch>=1.9->monai) (11.0.2.54)\n",
      "Requirement already satisfied: nvidia-curand-cu12==10.3.2.106 in /nafs/dtward/intelpython3/lib/python3.9/site-packages (from torch>=1.9->monai) (10.3.2.106)\n",
      "Requirement already satisfied: nvidia-cusolver-cu12==11.4.5.107 in /nafs/dtward/intelpython3/lib/python3.9/site-packages (from torch>=1.9->monai) (11.4.5.107)\n",
      "Requirement already satisfied: nvidia-cusparse-cu12==12.1.0.106 in /nafs/dtward/intelpython3/lib/python3.9/site-packages (from torch>=1.9->monai) (12.1.0.106)\n",
      "Requirement already satisfied: nvidia-nccl-cu12==2.20.5 in /nafs/dtward/intelpython3/lib/python3.9/site-packages (from torch>=1.9->monai) (2.20.5)\n",
      "Requirement already satisfied: nvidia-nvtx-cu12==12.1.105 in /nafs/dtward/intelpython3/lib/python3.9/site-packages (from torch>=1.9->monai) (12.1.105)\n",
      "Requirement already satisfied: triton==2.3.1 in /nafs/dtward/intelpython3/lib/python3.9/site-packages (from torch>=1.9->monai) (2.3.1)\n",
      "Requirement already satisfied: nvidia-nvjitlink-cu12 in /nafs/dtward/intelpython3/lib/python3.9/site-packages (from nvidia-cusolver-cu12==11.4.5.107->torch>=1.9->monai) (12.5.40)\n",
      "Requirement already satisfied: MarkupSafe>=2.0 in /nafs/dtward/intelpython3/lib/python3.9/site-packages (from jinja2->torch>=1.9->monai) (2.1.5)\n",
      "Requirement already satisfied: mpmath<1.4.0,>=1.1.0 in /nafs/dtward/intelpython3/lib/python3.9/site-packages (from sympy->torch>=1.9->monai) (1.3.0)\n",
      "Downloading monai-1.3.2-py3-none-any.whl (1.4 MB)\n",
      "\u001b[2K   \u001b[38;2;114;156;31m━━━━━━━━━━━━━━━━━━━━━━━━━━━━━━━━━━━━━━━━\u001b[0m \u001b[32m1.4/1.4 MB\u001b[0m \u001b[31m60.4 MB/s\u001b[0m eta \u001b[36m0:00:00\u001b[0m\n",
      "\u001b[?25hInstalling collected packages: monai\n",
      "Successfully installed monai-1.3.2\n",
      "Note: you may need to restart the kernel to use updated packages.\n"
     ]
    }
   ],
   "source": [
    "# 3 x 64 x 64 tensor with random stuff\n",
    "# test_tensor = torch.rand(3, 64, 64).unsqueeze(0)\n",
    "# #test_tensor = next(iter(train_loader))[0]   \n",
    "\n",
    "# model = MomentUNet(img_channels=3, n0=16, num_classes=2) \n",
    "# #model = UNet(img_channels=3, n0=64, num_classes=2)\n",
    "# model.eval()\n",
    "\n",
    "# # Forward pass\n",
    "# output = model(test_tensor)\n",
    "# print(output.shape)\n",
    "\n",
    "# plt.imshow(output[0, 1, :, :].detach().numpy())\n",
    "# prin"
   ]
  }
 ],
 "metadata": {
  "kernelspec": {
   "display_name": "Python 3 (ipykernel)",
   "language": "python",
   "name": "python3"
  },
  "language_info": {
   "codemirror_mode": {
    "name": "ipython",
    "version": 3
   },
   "file_extension": ".py",
   "mimetype": "text/x-python",
   "name": "python",
   "nbconvert_exporter": "python",
   "pygments_lexer": "ipython3",
   "version": "3.9.19"
  }
 },
 "nbformat": 4,
 "nbformat_minor": 2
}
