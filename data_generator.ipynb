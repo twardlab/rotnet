{
 "cells": [
  {
   "cell_type": "code",
   "execution_count": 1,
   "metadata": {},
   "outputs": [],
   "source": [
    "import os\n",
    "import sys\n",
    "\n",
    "path = os.getcwd()\n",
    "par_path = os.path.abspath(os.pardir)\n",
    "sys.path.append(par_path)\n",
    "\n",
    "from utils.data import ExtractROI, AtlasDataset\n",
    "\n",
    "import matplotlib.pyplot as plt\n",
    "import numpy as np\n",
    "import torch\n",
    "\n",
    "import csv\n",
    "import math\n",
    "import random as rand\n",
    "from tqdm import tqdm\n",
    "\n",
    "from torch.utils.data import Dataset, DataLoader\n",
    "import torchvision.transforms as transforms\n",
    "\n",
    "from models.unet import UNet\n",
    "from models.moment_unet import *"
   ]
  },
  {
   "cell_type": "markdown",
   "metadata": {},
   "source": [
    "## **Extract ROIs**\n",
    "\n",
    "You will need to manually delete the save directories in order to regenerate to ROIs as a precaution against accidentally running and overwriting. "
   ]
  },
  {
   "cell_type": "code",
   "execution_count": 2,
   "metadata": {},
   "outputs": [
    {
     "name": "stdout",
     "output_type": "stream",
     "text": [
      "/nafs/dtward/allen/rois/64x64_sample_rate_0_5_center/ already exists. If you intend to re-extract the ROIs, please delete the directory first.\n",
      "/nafs/dtward/allen/rois/64x64_sample_rate_0_5_all/ already exists. If you intend to re-extract the ROIs, please delete the directory first.\n",
      "/nafs/dtward/allen/rois/64x64_sample_rate_0_5_mode/ already exists. If you intend to re-extract the ROIs, please delete the directory first.\n"
     ]
    }
   ],
   "source": [
    "# Extract ROIs and ensure the ROIs' assigned label is the center of the ROI\n",
    "ROI_size = (64, 64)\n",
    "sampling_rate = 0.5\n",
    "str_sampling_rate = str(sampling_rate).replace('.', '_')\n",
    "\n",
    "extract_dir = '/nafs/dtward/allen/npz_files/'\n",
    "save_dir = '/nafs/dtward/allen/rois/'\n",
    "sub_save_dir = f\"{ROI_size[0]}x{ROI_size[1]}_sample_rate_{str_sampling_rate}_center/\"\n",
    "abs_save_dir = os.path.join(save_dir, sub_save_dir)\n",
    "\n",
    "if not os.path.exists(abs_save_dir):\n",
    "    os.makedirs(abs_save_dir)\n",
    "    extractor_center = ExtractROI(extract_dir=extract_dir, save_dir=abs_save_dir)\n",
    "    extractor_center.extract_ROI(ROI_size=ROI_size, sampling_rate=sampling_rate, label_mode='center')\n",
    "else:\n",
    "    print(f\"{abs_save_dir} already exists. If you intend to re-extract the ROIs, please delete the directory first.\")\n",
    "\n",
    "# Extract ROIs and ensure the ROIs' assigned labels are maintained as an n x n where each pixel is some label (segmentation)\n",
    "ROI_size = (64, 64)\n",
    "sampling_rate = 0.5\n",
    "str_sampling_rate = str(sampling_rate).replace('.', '_')\n",
    "\n",
    "extract_dir = '/nafs/dtward/allen/npz_files/'\n",
    "save_dir = '/nafs/dtward/allen/rois/'\n",
    "sub_save_dir = f\"{ROI_size[0]}x{ROI_size[1]}_sample_rate_{str_sampling_rate}_all/\"\n",
    "abs_save_dir = os.path.join(save_dir, sub_save_dir)\n",
    "\n",
    "if not os.path.exists(abs_save_dir):\n",
    "    os.makedirs(abs_save_dir)\n",
    "    extractor_all = ExtractROI(extract_dir=extract_dir, save_dir=abs_save_dir)\n",
    "    extractor_all.extract_ROI(ROI_size=ROI_size, sampling_rate=sampling_rate, label_mode='all')\n",
    "else:\n",
    "    print(f\"{abs_save_dir} already exists. If you intend to re-extract the ROIs, please delete the directory first.\")\n",
    "\n",
    "# Extract ROIs and ensure the ROIs' assigned label is the mode of all the labels in the ROI\n",
    "ROI_size = (64, 64)\n",
    "sampling_rate = 0.5\n",
    "str_sampling_rate = str(sampling_rate).replace('.', '_')\n",
    "\n",
    "extract_dir = '/nafs/dtward/allen/npz_files/'\n",
    "save_dir = '/nafs/dtward/allen/rois/'\n",
    "sub_save_dir = f\"{ROI_size[0]}x{ROI_size[1]}_sample_rate_{str_sampling_rate}_mode/\"\n",
    "abs_save_dir = os.path.join(save_dir, sub_save_dir)\n",
    "\n",
    "if not os.path.exists(abs_save_dir):\n",
    "    os.makedirs(abs_save_dir)\n",
    "    extractor_all = ExtractROI(extract_dir=extract_dir, save_dir=abs_save_dir)\n",
    "    extractor_all.extract_ROI(ROI_size=ROI_size, sampling_rate=sampling_rate, label_mode='mode')\n",
    "else:\n",
    "    print(f\"{abs_save_dir} already exists. If you intend to re-extract the ROIs, please delete the directory first.\")"
   ]
  },
  {
   "cell_type": "markdown",
   "metadata": {},
   "source": [
    "## **Dataloader**"
   ]
  },
  {
   "cell_type": "code",
   "execution_count": 3,
   "metadata": {},
   "outputs": [],
   "source": [
    "train_dir = '/nafs/dtward/allen/rois/64x64_sample_rate_0_5_all/train/'\n",
    "test_dir = '/nafs/dtward/allen/rois/64x64_sample_rate_0_5_all/test/'\n",
    "label_map_file = '/nafs/dtward/allen/rois/substructures.csv' # divisions.csv, organs.csv, structures.csv, substructures.csv, categories.csv\n",
    "\n",
    "train_dataset = AtlasDataset(data_dir=train_dir, label_map_file=label_map_file)\n",
    "test_dataset = AtlasDataset(data_dir=test_dir, label_map_file=label_map_file)\n",
    "\n",
    "bs = 16\n",
    "train_loader = DataLoader(train_dataset, batch_size=bs, shuffle=True)\n",
    "test_loader = DataLoader(test_dataset, batch_size=bs, shuffle=True)"
   ]
  },
  {
   "cell_type": "code",
   "execution_count": 18,
   "metadata": {},
   "outputs": [
    {
     "name": "stdout",
     "output_type": "stream",
     "text": [
      "xinc: torch.Size([1, 24, 64, 64])\n",
      "x1: torch.Size([1, 48, 32, 32])\n",
      "x2: torch.Size([1, 96, 16, 16])\n",
      "x3: torch.Size([1, 192, 8, 8])\n",
      "x4: torch.Size([1, 384, 4, 4])\n",
      "x after up1: torch.Size([1, 192, 8, 8])\n",
      "x after up2: torch.Size([1, 96, 16, 16])\n",
      "x after up3: torch.Size([1, 48, 32, 32])\n",
      "x after up4: torch.Size([1, 24, 64, 64])\n",
      "torch.Size([1, 2, 64, 64])\n"
     ]
    },
    {
     "data": {
      "text/plain": [
       "<matplotlib.image.AxesImage at 0x7ff899f27580>"
      ]
     },
     "execution_count": 18,
     "metadata": {},
     "output_type": "execute_result"
    },
    {
     "data": {
      "image/png": "[encoded data removed]",
      "text/plain": [
       "<Figure size 640x480 with 1 Axes>"
      ]
     },
     "metadata": {},
     "output_type": "display_data"
    }
   ],
   "source": [
    "# 3 x 64 x 64 tensor with random stuff\n",
    "test_tensor = torch.rand(3, 64, 64).unsqueeze(0)\n",
    "#test_tensor = next(iter(train_loader))[0]   \n",
    "\n",
    "model = MomentUNet(img_channels=3, n0=16, num_classes=2) \n",
    "#model = UNet(img_channels=3, n0=64, num_classes=2)\n",
    "model.eval()\n",
    "\n",
    "# Forward pass\n",
    "output = model(test_tensor)\n",
    "print(output.shape)\n",
    "\n",
    "plt.imshow(output[0, 1, :, :].detach().numpy())"
   ]
  }
 ],
 "metadata": {
  "kernelspec": {
   "display_name": "Python 3 (ipykernel)",
   "language": "python",
   "name": "python3"
  },
  "language_info": {
   "codemirror_mode": {
    "name": "ipython",
    "version": 3
   },
   "file_extension": ".py",
   "mimetype": "text/x-python",
   "name": "python",
   "nbconvert_exporter": "python",
   "pygments_lexer": "ipython3",
   "version": "3.9.19"
  }
 },
 "nbformat": 4,
 "nbformat_minor": 2
}
