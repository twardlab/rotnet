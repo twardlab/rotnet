{
 "cells": [
  {
   "cell_type": "code",
   "execution_count": null,
   "metadata": {},
   "outputs": [],
   "source": [
    "# /nafs/dtward/allen/npz_files\n",
    "# this a npz file\n",
    "# when you load it you will get a dictionary with two keys\n",
    "# I (for image)\n",
    "# this is a 3D array where the first index is cell density, and all the other indices are gene expression level\n",
    "# so it is 501 x rows x cols big\n",
    "# the other key is L (for label)\n",
    "# this is a 1 x rows x cols sized array\n",
    "# it contains an integer id describing the anatomical structure of interest\n",
    "# the file is really big and is compressed, so almost certainly you'll need to do some preprocessing to extract small ROIs and save them\n",
    "\n",
    "#preprocessing step where I choose ROI per slice and write out and save as separate files\n",
    "\n",
    "#right is 0, left is 1"
   ]
  },
  {
   "cell_type": "code",
   "execution_count": 79,
   "metadata": {},
   "outputs": [],
   "source": [
    "import numpy as np\n",
    "import torch\n",
    "\n",
    "import os\n",
    "\n",
    "import math\n",
    "import random as rand\n",
    "from tqdm import tqdm\n",
    "\n",
    "from torch.utils.data import Dataset, DataLoader"
   ]
  },
  {
   "cell_type": "code",
   "execution_count": 80,
   "metadata": {},
   "outputs": [],
   "source": [
    "extract_dir = '/nafs/dtward/allen/npz_files/'\n",
    "save_dir = '/ifshome/jliem/Repos/rotnet/data/raw/ROIs_64siz_1smp/'"
   ]
  },
  {
   "cell_type": "code",
   "execution_count": 82,
   "metadata": {},
   "outputs": [
    {
     "name": "stderr",
     "output_type": "stream",
     "text": [
      "100%|██████████| 53/53 [01:09<00:00,  1.32s/it]\n"
     ]
    }
   ],
   "source": [
    "class ExtractROI():\n",
    "    def __init__(self, extract_dir, save_dir):\n",
    "        '''\n",
    "        Extracts ROIs from the image data and saves them as npz files in the save_dir. This dataloader was buit for\n",
    "        the Allen Institute Brain Atlas. We separate the data into training and testing data based on the hemisphere.\n",
    "\n",
    "        Args:\n",
    "        extract_dir (str): \n",
    "            The directory containing the npz files with the image data and label data of slices\n",
    "        save_dir (str): \n",
    "            The directory to save the extracted ROIs as npz files\n",
    "        '''\n",
    "        self.extract_dir = extract_dir\n",
    "        self.save_dir = save_dir\n",
    "        self.ROI_size = None\n",
    "        self.sampling_rate = None\n",
    "\n",
    "    def extract_ROI(self, ROI_size, sampling_rate):\n",
    "        '''\n",
    "        Args:\n",
    "        ROI_size (tuple): \n",
    "            The size of the ROI to be extracted from the image\n",
    "        sampling_rate (float):\n",
    "            The sampling rate to be used for the extraction of the ROI for a given slice\n",
    "        '''\n",
    "        # The size of the ROI to be extracted from the image\n",
    "        self.ROI_size = ROI_size\n",
    "\n",
    "        # The sampling rate to be used for the extraction of the ROI for a given slice\n",
    "        self.sampling_rate = sampling_rate\n",
    "\n",
    "        for npz_file in tqdm(os.listdir(self.extract_dir)):\n",
    "            if not npz_file.endswith('.npz'):\n",
    "                continue\n",
    "\n",
    "            # I is the image data, L is the label data\n",
    "            I, L = np.load(os.path.join(self.extract_dir, npz_file)).values()\n",
    "            \n",
    "            # Get the shape of the image data and label data\n",
    "            Ishape = I.shape\n",
    "            Lshape = L.shape\n",
    "\n",
    "            # I is 501 x rows x cols: get the number of ROIs that can be extracted from the image on rows x cols\n",
    "            nrows = Ishape[1]//self.ROI_size[0]\n",
    "            ncols = Ishape[2]//self.ROI_size[1]\n",
    "\n",
    "            # Calculate the total number of ROIs that can be extracted from the image and the number of ROIs to be extracted\n",
    "            total_rois = nrows * ncols\n",
    "            num_samples = math.ceil(total_rois * self.sampling_rate)\n",
    "\n",
    "            # Check if there are ROIs to be extracted from the image and if the number of ROIs to be extracted is less than the total ROIs\n",
    "            assert num_samples > 0, f'No ROIs to be extracted from image {npz_file}'\n",
    "            assert num_samples <= total_rois, f'Number of ROIs to be extracted {num_samples} is greater than total ROIs {total_rois}'\n",
    "            assert nrows > 0 and ncols > 0, f'ROI size {self.ROI_size} is too large for image size {Ishape[1:]}'\n",
    "\n",
    "            # get all possible coordinates for the ROIs and sample from them\n",
    "            all_coords = [(i, j) for i in range(nrows) for j in range(ncols)]\n",
    "            ROI_coords = rand.sample(all_coords, num_samples)\n",
    "\n",
    "            for row, col in ROI_coords:\n",
    "\n",
    "                # get the ROI and label for the given row and column\n",
    "                rois = I[:, row*self.ROI_size[0]:(row+1)*self.ROI_size[0], col*self.ROI_size[1]:(col+1)*self.ROI_size[1]]\n",
    "                lbls = L[:, row*self.ROI_size[0]:(row+1)*self.ROI_size[0], col*self.ROI_size[1]:(col+1)*self.ROI_size[1]]\n",
    "                \n",
    "                # get center pixel coordinates for the ROI\n",
    "                x = row*self.ROI_size[0] + self.ROI_size[0]//2\n",
    "                y = col*self.ROI_size[1] + self.ROI_size[1]//2\n",
    "\n",
    "                # save the extracted ROI as a npz file\n",
    "                self._save_npz(npz_file, rois, lbls, (x, y))\n",
    "\n",
    "    def _save_npz(self, npz_file, rois, lbls, coords):\n",
    "        npz_name = npz_file\n",
    "\n",
    "        # if is left brain, save to train folder\n",
    "        if npz_name.split('_')[2] == '1.npz':\n",
    "            sub_dir = os.path.join(self.save_dir, 'train')\n",
    "            if not os.path.exists(sub_dir):\n",
    "                os.makedirs(sub_dir)\n",
    "\n",
    "        # if is right brain, save to test folder\n",
    "        elif npz_name.split('_')[2] == '0.npz':\n",
    "            sub_dir = os.path.join(self.save_dir, 'test')\n",
    "            if not os.path.exists(sub_dir):\n",
    "                os.makedirs(sub_dir)\n",
    "\n",
    "            # Save the extracted ROI as a npz file\n",
    "            np.savez(os.path.join(sub_dir, f'{npz_file.split(\".\")[0]}_{coords[0]}_{coords[1]}.npz'), I=rois, L=lbls)"
   ]
  },
  {
   "cell_type": "code",
   "execution_count": null,
   "metadata": {},
   "outputs": [],
   "source": [
    "class AtlasLoader(Dataset):\n",
    "    "
   ]
  }
 ],
 "metadata": {
  "kernelspec": {
   "display_name": "Python 3 (ipykernel)",
   "language": "python",
   "name": "python3"
  },
  "language_info": {
   "codemirror_mode": {
    "name": "ipython",
    "version": 3
   },
   "file_extension": ".py",
   "mimetype": "text/x-python",
   "name": "python",
   "nbconvert_exporter": "python",
   "pygments_lexer": "ipython3",
   "version": "3.9.19"
  }
 },
 "nbformat": 4,
 "nbformat_minor": 2
}
